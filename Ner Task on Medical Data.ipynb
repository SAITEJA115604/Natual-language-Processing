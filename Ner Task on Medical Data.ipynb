{
 "cells": [
  {
   "cell_type": "code",
   "execution_count": 25,
   "id": "c120cbb3",
   "metadata": {},
   "outputs": [],
   "source": [
    "! pip install -U spacy -q"
   ]
  },
  {
   "cell_type": "code",
   "execution_count": 26,
   "id": "75dc4be8",
   "metadata": {},
   "outputs": [
    {
     "name": "stdout",
     "output_type": "stream",
     "text": [
      "\u001b[1m\n",
      "============================== Info about spaCy ==============================\u001b[0m\n",
      "\n",
      "spaCy version    3.3.1                         \n",
      "Location         C:\\Users\\User\\anaconda3\\lib\\site-packages\\spacy\n",
      "Platform         Windows-10-10.0.19044-SP0     \n",
      "Python version   3.9.12                        \n",
      "Pipelines        en_core_web_sm (3.3.0)        \n",
      "\n"
     ]
    }
   ],
   "source": [
    "! python -m spacy info"
   ]
  },
  {
   "cell_type": "markdown",
   "id": "c9e78176",
   "metadata": {},
   "source": [
    "tqdm is a library in Python which is used for creating Progress Meters or Progress Bars. tqdm got its name from the Arabic name taqaddum which means ‘progress\n",
    "\n",
    "\n"
   ]
  },
  {
   "cell_type": "code",
   "execution_count": 27,
   "id": "0e05bb3e",
   "metadata": {},
   "outputs": [],
   "source": [
    "import spacy \n",
    "from spacy.tokens import DocBin\n",
    "from tqdm import tqdm \n",
    "nlp = spacy.blank(\"en\")#load a new spacy model \n",
    "db= DocBin()# create a docbin object"
   ]
  },
  {
   "cell_type": "code",
   "execution_count": 28,
   "id": "a0b951dd",
   "metadata": {},
   "outputs": [
    {
     "name": "stdout",
     "output_type": "stream",
     "text": [
      "{'id': '18c2f619-f102-452f-ab81-d26f7e283ffe', 'content': \"While bismuth compounds (Pepto-Bismol) decreased the number of bowel movements in those with travelers' diarrhea, they do not decrease the length of illness.[91] Anti-motility agents like loperamide are also effective at reducing the number of stools but not the duration of disease.[8] These agents should be used only if bloody diarrhea is not present.[92]\\n\\nDiosmectite, a natural aluminomagnesium silicate clay, is effective in alleviating symptoms of acute diarrhea in children,[93] and also has some effects in chronic functional diarrhea, radiation-induced diarrhea, and chemotherapy-induced diarrhea.[45] Another absorbent agent used for the treatment of mild diarrhea is kaopectate.\\n\\nRacecadotril an antisecretory medication may be used to treat diarrhea in children and adults.[86] It has better tolerability than loperamide, as it causes less constipation and flatulence.[94]\", 'metadata': {}, 'annotations': [{'id': '0825a1bf-6a6e-4fa2-be77-8d104701eaed', 'tag_id': 'c06bd022-6ded-44a5-8d90-f17685bb85a1', 'end': 371, 'start': 360, 'example_id': '18c2f619-f102-452f-ab81-d26f7e283ffe', 'tag_name': 'Medicine', 'value': 'Diosmectite', 'correct': None, 'human_annotations': [{'timestamp': '2020-03-21T00:24:32.098000Z', 'annotator_id': 1, 'tagged_token_id': '0825a1bf-6a6e-4fa2-be77-8d104701eaed', 'name': 'Ashpat123', 'reason': 'exploration'}], 'model_annotations': []}, {'id': '145f62b1-bbf5-42f1-8ad5-9c7e08337bf0', 'tag_id': 'c06bd022-6ded-44a5-8d90-f17685bb85a1', 'end': 408, 'start': 383, 'example_id': '18c2f619-f102-452f-ab81-d26f7e283ffe', 'tag_name': 'Medicine', 'value': 'aluminomagnesium silicate', 'correct': None, 'human_annotations': [{'timestamp': '2020-03-21T00:24:43.692000Z', 'annotator_id': 1, 'tagged_token_id': '145f62b1-bbf5-42f1-8ad5-9c7e08337bf0', 'name': 'Ashpat123', 'reason': 'exploration'}], 'model_annotations': []}, {'id': '243efeb2-723f-4be4-933c-fbbf7e0f9903', 'tag_id': '03eb3e50-d4d8-4261-a60b-fa5aee5deb4a', 'end': 112, 'start': 104, 'example_id': '18c2f619-f102-452f-ab81-d26f7e283ffe', 'tag_name': 'MedicalCondition', 'value': 'diarrhea', 'correct': None, 'human_annotations': [{'timestamp': '2020-03-21T00:24:09.423000Z', 'annotator_id': 1, 'tagged_token_id': '243efeb2-723f-4be4-933c-fbbf7e0f9903', 'name': 'Ashpat123', 'reason': 'exploration'}], 'model_annotations': []}, {'id': '281f49d3-879a-4409-b09e-4cfae019af16', 'tag_id': 'c06bd022-6ded-44a5-8d90-f17685bb85a1', 'end': 689, 'start': 679, 'example_id': '18c2f619-f102-452f-ab81-d26f7e283ffe', 'tag_name': 'Medicine', 'value': 'kaopectate', 'correct': None, 'human_annotations': [{'timestamp': '2020-03-21T00:25:38.366000Z', 'annotator_id': 1, 'tagged_token_id': '281f49d3-879a-4409-b09e-4cfae019af16', 'name': 'Ashpat123', 'reason': 'exploration'}], 'model_annotations': []}, {'id': '32fdf9e7-63f7-442a-8e25-f08ea4ad94d5', 'tag_id': 'c06bd022-6ded-44a5-8d90-f17685bb85a1', 'end': 23, 'start': 6, 'example_id': '18c2f619-f102-452f-ab81-d26f7e283ffe', 'tag_name': 'Medicine', 'value': 'bismuth compounds', 'correct': None, 'human_annotations': [{'timestamp': '2020-03-21T00:23:46.721000Z', 'annotator_id': 1, 'tagged_token_id': '32fdf9e7-63f7-442a-8e25-f08ea4ad94d5', 'name': 'Ashpat123', 'reason': 'exploration'}], 'model_annotations': []}, {'id': '392094d2-febf-4074-a2ca-4c0082f4e5b8', 'tag_id': 'c06bd022-6ded-44a5-8d90-f17685bb85a1', 'end': 37, 'start': 25, 'example_id': '18c2f619-f102-452f-ab81-d26f7e283ffe', 'tag_name': 'Medicine', 'value': 'Pepto-Bismol', 'correct': None, 'human_annotations': [{'timestamp': '2020-03-21T00:23:58.861000Z', 'annotator_id': 1, 'tagged_token_id': '392094d2-febf-4074-a2ca-4c0082f4e5b8', 'name': 'Ashpat123', 'reason': 'exploration'}], 'model_annotations': []}, {'id': '450b8c30-cf2e-4774-96d9-58b4160bea38', 'tag_id': '03eb3e50-d4d8-4261-a60b-fa5aee5deb4a', 'end': 470, 'start': 461, 'example_id': '18c2f619-f102-452f-ab81-d26f7e283ffe', 'tag_name': 'MedicalCondition', 'value': 'diarrhea ', 'correct': None, 'human_annotations': [], 'model_annotations': []}, {'id': '6b73f683-7130-4e16-bcc2-e3cc8cf89f4d', 'tag_id': 'c06bd022-6ded-44a5-8d90-f17685bb85a1', 'end': 589, 'start': 577, 'example_id': '18c2f619-f102-452f-ab81-d26f7e283ffe', 'tag_name': 'Medicine', 'value': 'chemotherapy', 'correct': None, 'human_annotations': [{'timestamp': '2020-03-21T00:25:24.179000Z', 'annotator_id': 1, 'tagged_token_id': '6b73f683-7130-4e16-bcc2-e3cc8cf89f4d', 'name': 'Ashpat123', 'reason': 'exploration'}], 'model_annotations': []}, {'id': '74574b7f-d535-48e1-8651-2708adcfe453', 'tag_id': '03eb3e50-d4d8-4261-a60b-fa5aee5deb4a', 'end': 865, 'start': 853, 'example_id': '18c2f619-f102-452f-ab81-d26f7e283ffe', 'tag_name': 'MedicalCondition', 'value': 'constipation', 'correct': None, 'human_annotations': [{'timestamp': '2020-03-21T00:26:31.676000Z', 'annotator_id': 1, 'tagged_token_id': '74574b7f-d535-48e1-8651-2708adcfe453', 'name': 'Ashpat123', 'reason': 'exploration'}], 'model_annotations': []}, {'id': '7572ab8e-ae99-400c-b4ab-ed46fbc9f97e', 'tag_id': 'c06bd022-6ded-44a5-8d90-f17685bb85a1', 'end': 198, 'start': 188, 'example_id': '18c2f619-f102-452f-ab81-d26f7e283ffe', 'tag_name': 'Medicine', 'value': 'loperamide', 'correct': None, 'human_annotations': [{'timestamp': '2020-03-21T00:24:17.680000Z', 'annotator_id': 1, 'tagged_token_id': '7572ab8e-ae99-400c-b4ab-ed46fbc9f97e', 'name': 'Ashpat123', 'reason': 'exploration'}], 'model_annotations': []}, {'id': '800e6c6c-0bfb-4819-a25a-34f759753457', 'tag_id': '03eb3e50-d4d8-4261-a60b-fa5aee5deb4a', 'end': 762, 'start': 754, 'example_id': '18c2f619-f102-452f-ab81-d26f7e283ffe', 'tag_name': 'MedicalCondition', 'value': 'diarrhea', 'correct': None, 'human_annotations': [{'timestamp': '2020-03-21T00:26:07.368000Z', 'annotator_id': 1, 'tagged_token_id': '800e6c6c-0bfb-4819-a25a-34f759753457', 'name': 'Ashpat123', 'reason': 'exploration'}], 'model_annotations': []}, {'id': '8214556a-7584-4d9b-86cd-5e09137ad904', 'tag_id': '03eb3e50-d4d8-4261-a60b-fa5aee5deb4a', 'end': 880, 'start': 870, 'example_id': '18c2f619-f102-452f-ab81-d26f7e283ffe', 'tag_name': 'MedicalCondition', 'value': 'flatulence', 'correct': None, 'human_annotations': [{'timestamp': '2020-03-21T00:26:41.322000Z', 'annotator_id': 1, 'tagged_token_id': '8214556a-7584-4d9b-86cd-5e09137ad904', 'name': 'Ashpat123', 'reason': 'exploration'}], 'model_annotations': []}, {'id': '98968e14-6756-4174-9d3d-7abd58b3aa34', 'tag_id': 'c06bd022-6ded-44a5-8d90-f17685bb85a1', 'end': 833, 'start': 823, 'example_id': '18c2f619-f102-452f-ab81-d26f7e283ffe', 'tag_name': 'Medicine', 'value': 'loperamide', 'correct': None, 'human_annotations': [{'timestamp': '2020-03-21T00:26:12.759000Z', 'annotator_id': 1, 'tagged_token_id': '98968e14-6756-4174-9d3d-7abd58b3aa34', 'name': 'Ashpat123', 'reason': 'exploration'}], 'model_annotations': []}, {'id': 'a0a03c7b-cfad-41ee-9f5c-f8a802475994', 'tag_id': '03eb3e50-d4d8-4261-a60b-fa5aee5deb4a', 'end': 853, 'start': 852, 'example_id': '18c2f619-f102-452f-ab81-d26f7e283ffe', 'tag_name': 'MedicalCondition', 'value': ' ', 'correct': None, 'human_annotations': [], 'model_annotations': []}, {'id': 'bfbddfd4-38aa-43a7-9366-24c95829ac8c', 'tag_id': '03eb3e50-d4d8-4261-a60b-fa5aee5deb4a', 'end': 469, 'start': 461, 'example_id': '18c2f619-f102-452f-ab81-d26f7e283ffe', 'tag_name': 'MedicalCondition', 'value': 'diarrhea', 'correct': None, 'human_annotations': [{'timestamp': '2020-03-21T00:25:06.921000Z', 'annotator_id': 1, 'tagged_token_id': 'bfbddfd4-38aa-43a7-9366-24c95829ac8c', 'name': 'Ashpat123', 'reason': 'exploration'}], 'model_annotations': []}, {'id': 'd7d68c18-0d8e-4547-a2fa-81fdcaf3080e', 'tag_id': '03eb3e50-d4d8-4261-a60b-fa5aee5deb4a', 'end': 543, 'start': 535, 'example_id': '18c2f619-f102-452f-ab81-d26f7e283ffe', 'tag_name': 'MedicalCondition', 'value': 'diarrhea', 'correct': None, 'human_annotations': [{'timestamp': '2020-03-21T00:25:12.203000Z', 'annotator_id': 1, 'tagged_token_id': 'd7d68c18-0d8e-4547-a2fa-81fdcaf3080e', 'name': 'Ashpat123', 'reason': 'exploration'}], 'model_annotations': []}, {'id': 'ee956220-42a4-4a91-b9f0-75019c4f5dd9', 'tag_id': 'c06bd022-6ded-44a5-8d90-f17685bb85a1', 'end': 704, 'start': 692, 'example_id': '18c2f619-f102-452f-ab81-d26f7e283ffe', 'tag_name': 'Medicine', 'value': 'Racecadotril', 'correct': None, 'human_annotations': [{'timestamp': '2020-03-21T00:25:56.503000Z', 'annotator_id': 1, 'tagged_token_id': 'ee956220-42a4-4a91-b9f0-75019c4f5dd9', 'name': 'Ashpat123', 'reason': 'exploration'}], 'model_annotations': []}, {'id': 'f04a6b7e-8904-405c-9301-e4543238b7a5', 'tag_id': '03eb3e50-d4d8-4261-a60b-fa5aee5deb4a', 'end': 571, 'start': 563, 'example_id': '18c2f619-f102-452f-ab81-d26f7e283ffe', 'tag_name': 'MedicalCondition', 'value': 'diarrhea', 'correct': None, 'human_annotations': [{'timestamp': '2020-03-21T00:25:18.043000Z', 'annotator_id': 1, 'tagged_token_id': 'f04a6b7e-8904-405c-9301-e4543238b7a5', 'name': 'Ashpat123', 'reason': 'exploration'}], 'model_annotations': []}], 'classifications': []}\n"
     ]
    }
   ],
   "source": [
    "import json\n",
    " \n",
    "with open('mednlp.json', 'r') as f:\n",
    "    data = json.load(f)\n",
    "    \n",
    "print(data['examples'][0])"
   ]
  },
  {
   "cell_type": "code",
   "execution_count": 29,
   "id": "1321890b",
   "metadata": {},
   "outputs": [
    {
     "name": "stdout",
     "output_type": "stream",
     "text": [
      "{'text': \"While bismuth compounds (Pepto-Bismol) decreased the number of bowel movements in those with travelers' diarrhea, they do not decrease the length of illness.[91] Anti-motility agents like loperamide are also effective at reducing the number of stools but not the duration of disease.[8] These agents should be used only if bloody diarrhea is not present.[92]\\n\\nDiosmectite, a natural aluminomagnesium silicate clay, is effective in alleviating symptoms of acute diarrhea in children,[93] and also has some effects in chronic functional diarrhea, radiation-induced diarrhea, and chemotherapy-induced diarrhea.[45] Another absorbent agent used for the treatment of mild diarrhea is kaopectate.\\n\\nRacecadotril an antisecretory medication may be used to treat diarrhea in children and adults.[86] It has better tolerability than loperamide, as it causes less constipation and flatulence.[94]\", 'entities': [(360, 371, 'MEDICINE'), (383, 408, 'MEDICINE'), (104, 112, 'MEDICALCONDITION'), (679, 689, 'MEDICINE'), (6, 23, 'MEDICINE'), (25, 37, 'MEDICINE'), (461, 470, 'MEDICALCONDITION'), (577, 589, 'MEDICINE'), (853, 865, 'MEDICALCONDITION'), (188, 198, 'MEDICINE'), (754, 762, 'MEDICALCONDITION'), (870, 880, 'MEDICALCONDITION'), (823, 833, 'MEDICINE'), (852, 853, 'MEDICALCONDITION'), (461, 469, 'MEDICALCONDITION'), (535, 543, 'MEDICALCONDITION'), (692, 704, 'MEDICINE'), (563, 571, 'MEDICALCONDITION')]}\n"
     ]
    }
   ],
   "source": [
    "training_data = {'classes' : ['MEDICINE', \"MEDICALCONDITION\", \"PATHOGEN\"], 'annotations' : []}\n",
    "for example in data['examples']:\n",
    "  temp_dict = {}\n",
    "  temp_dict['text'] = example['content']\n",
    "  temp_dict['entities'] = []\n",
    "  for annotation in example['annotations']:\n",
    "    start = annotation['start']\n",
    "    end = annotation['end']\n",
    "    label = annotation['tag_name'].upper()\n",
    "    temp_dict['entities'].append((start, end, label))\n",
    "  training_data['annotations'].append(temp_dict)\n",
    "  \n",
    "print(training_data['annotations'][0])"
   ]
  },
  {
   "cell_type": "code",
   "execution_count": 30,
   "id": "1d25882e",
   "metadata": {},
   "outputs": [],
   "source": [
    "\n",
    "from spacy.tokens import DocBin\n",
    "from tqdm import tqdm\n",
    "\n",
    "nlp = spacy.blank(\"en\") # load a new spacy model\n",
    "doc_bin = DocBin()# create a DocBin object"
   ]
  },
  {
   "cell_type": "code",
   "execution_count": 31,
   "id": "df2df861",
   "metadata": {},
   "outputs": [
    {
     "name": "stderr",
     "output_type": "stream",
     "text": [
      "100%|█████████████████████████████████████████████████████████████████████████████████| 31/31 [00:00<00:00, 576.73it/s]"
     ]
    },
    {
     "name": "stdout",
     "output_type": "stream",
     "text": [
      "Skipping entity\n",
      "Skipping entity\n",
      "Skipping entity\n",
      "Skipping entity\n",
      "Skipping entity\n",
      "Skipping entity\n",
      "Skipping entity\n",
      "Skipping entity\n",
      "Skipping entity\n",
      "Skipping entity\n",
      "Skipping entity\n",
      "Skipping entity\n",
      "Skipping entity\n",
      "Skipping entity\n",
      "Skipping entity\n",
      "Skipping entity\n",
      "Skipping entity\n",
      "Skipping entity\n",
      "Skipping entity\n",
      "Skipping entity\n",
      "Skipping entity\n",
      "Skipping entity\n",
      "Skipping entity\n",
      "Skipping entity\n",
      "Skipping entity\n",
      "Skipping entity\n",
      "Skipping entity\n"
     ]
    },
    {
     "name": "stderr",
     "output_type": "stream",
     "text": [
      "\n"
     ]
    }
   ],
   "source": [
    "# span is a ordered sequence of tokens \n",
    "from spacy.util import filter_spans\n",
    "\n",
    "for training_example  in tqdm(training_data['annotations']): \n",
    "    text = training_example['text']\n",
    "    labels = training_example['entities']\n",
    "    doc = nlp.make_doc(text) \n",
    "    ents = []\n",
    "    for start, end, label in labels:\n",
    "        span = doc.char_span(start, end, label=label, alignment_mode=\"contract\")\n",
    "        if span is None:\n",
    "            print(\"Skipping entity\")\n",
    "        else:\n",
    "            ents.append(span)\n",
    "    filtered_ents = filter_spans(ents)\n",
    "    doc.ents = filtered_ents \n",
    "    doc_bin.add(doc)\n",
    "\n",
    "doc_bin.to_disk(\"C:\\\\Users\\\\User\\\\training_data\\\\training_data.spacy \") # save the docbin object"
   ]
  },
  {
   "cell_type": "code",
   "execution_count": 32,
   "id": "ea106bc0",
   "metadata": {},
   "outputs": [],
   "source": [
    "import os\n",
    "os.environ[\"KMP_DUPLICATE_LIB_OK\"]=\"TRUE\""
   ]
  },
  {
   "cell_type": "code",
   "execution_count": 33,
   "id": "d517aa82",
   "metadata": {},
   "outputs": [
    {
     "name": "stdout",
     "output_type": "stream",
     "text": [
      "\n",
      "[x] The provided output file already exists. To force overwriting the config\n",
      "file, set the --force or -F flag.\n",
      "\n"
     ]
    }
   ],
   "source": [
    "! python -m spacy init config config.cfg --lang en --pipeline ner --optimize efficiency"
   ]
  },
  {
   "cell_type": "code",
   "execution_count": 43,
   "id": "73886c81",
   "metadata": {},
   "outputs": [
    {
     "name": "stdout",
     "output_type": "stream",
     "text": [
      "[i] Saving to output directory: .\n",
      "[i] Using CPU\n",
      "\u001b[1m\n",
      "=========================== Initializing pipeline ===========================\u001b[0m\n",
      "[+] Initialized pipeline\n",
      "\u001b[1m\n",
      "============================= Training pipeline =============================\u001b[0m\n",
      "[i] Pipeline: ['tok2vec', 'ner']\n",
      "[i] Initial learn rate: 0.001\n",
      "E    #       LOSS TOK2VEC  LOSS NER  ENTS_F  ENTS_P  ENTS_R  SCORE \n",
      "---  ------  ------------  --------  ------  ------  ------  ------\n",
      "  0       0          0.00    150.79    0.00    0.00    0.00    0.00\n",
      "  7     200       2763.31   3219.19   77.11   78.24   76.02    0.77\n",
      " 14     400        282.99    567.47   95.56   94.80   96.34    0.96\n",
      " 22     600        204.75    285.75   97.98   97.58   98.37    0.98\n",
      " 30     800        207.53    205.76   98.17   98.37   97.97    0.98\n",
      " 40    1000        212.69    195.07   97.75   98.35   97.15    0.98\n",
      " 52    1200        328.18    200.23   98.38   97.98   98.78    0.98\n",
      " 65    1400        194.97    213.20   98.37   98.77   97.97    0.98\n",
      " 82    1600       2678.38    236.38   98.38   97.98   98.78    0.98\n",
      "103    1800        135.31    207.07   98.37   98.37   98.37    0.98\n",
      "128    2000       6217.45    308.34   97.97   97.97   97.97    0.98\n",
      "160    2200        174.58    286.08   98.57   98.78   98.37    0.99\n",
      "200    2400        211.39    271.12   98.78   99.18   98.37    0.99\n",
      "249    2600        157.07    277.65   98.78   98.78   98.78    0.99\n",
      "298    2800         95.16    265.10   98.78   99.18   98.37    0.99\n",
      "348    3000         88.60    276.55   98.78   98.78   98.78    0.99\n",
      "397    3200        121.22    261.26   98.79   98.39   99.19    0.99\n",
      "447    3400        159.34    264.71   98.79   98.39   99.19    0.99\n",
      "496    3600        139.03    262.88   98.78   98.78   98.78    0.99\n",
      "545    3800        230.04    272.64   98.79   98.39   99.19    0.99\n",
      "595    4000        100.13    260.13   98.78   98.78   98.78    0.99\n",
      "644    4200         90.48    253.19   98.79   98.39   99.19    0.99\n",
      "693    4400         74.63    257.99   98.78   98.78   98.78    0.99\n",
      "742    4600        177.08    250.83   98.78   98.78   98.78    0.99\n",
      "791    4800         82.74    256.17   98.79   98.39   99.19    0.99\n",
      "[+] Saved pipeline to output directory\n",
      "model-last\n"
     ]
    },
    {
     "name": "stderr",
     "output_type": "stream",
     "text": [
      "[2022-07-08 10:23:17,160] [INFO] Set up nlp object from config\n",
      "[2022-07-08 10:23:17,169] [INFO] Pipeline: ['tok2vec', 'ner']\n",
      "[2022-07-08 10:23:17,172] [INFO] Created vocabulary\n",
      "[2022-07-08 10:23:17,174] [INFO] Finished initializing nlp object\n",
      "[2022-07-08 10:23:17,534] [INFO] Initialized pipeline components: ['tok2vec', 'ner']\n"
     ]
    }
   ],
   "source": [
    "! python -m spacy train config.cfg --output ./ --paths.train ./training_data/training_data.spacy --paths.dev ./training_data/training_data.spacy"
   ]
  },
  {
   "cell_type": "code",
   "execution_count": 46,
   "id": "41f20214",
   "metadata": {},
   "outputs": [],
   "source": [
    "nlp_ner = spacy.load(\"model-best\")\n"
   ]
  },
  {
   "cell_type": "code",
   "execution_count": 47,
   "id": "8e85bfd6",
   "metadata": {},
   "outputs": [],
   "source": [
    "doc = nlp_ner('''1)Patient presented with complains of SOB, fast, rapid & shallow breathing, rapid heart rate, \n",
    "cough with phlegm, distress, bluish discolouration, muscle weakness, fever, chest pain, fatigue, confusion, AMS.\n",
    " In setting of pulmonary manifestation, lifestyle habits (alcohol, drugs, smoking), infection \n",
    "(flu, SARS-COVID, pneumonia, sepsis), smoke inhalation, trauma, inflammatory conditions(pancreatitis), \n",
    "blood transfusion, fat embolism, severe burns, injury, family history. Physical examination was evident for Dyspnea, hypoxemia, tachycardia, tachypnoea, hypotension, cyanosis, \n",
    "cough, rales, crackles.\n",
    "\n",
    "2)A 65-year-old female with past medical history of aortic stenosis, HTN, obesity, DM, presented with cough, fever, nausea, loss of taste and smell, and fatigue. Initial vitals were temp at 99.4, HR at 84 per min, RR at 25 breaths per min, BP at 171/79 mmHg. Physical examination was evident for diminished breath sounds bilaterally. During the stay, labs were evident for leukocytosis at 12,200- 14,700, elevated D-Dimer at 774.0, elevated ferritin at 334, and elevated LDH at 211. Patient was tested positive for COVID-19 at primary care physician’s office (page 89). Chest x-ray revealed mild diffuse bilateral lung infiltrates (page 117). During the stay, patient was treated with dexamethasone, IV Remdesivir, enoxaparin SC, IV fluids, IV antibiotics, and other supportive medications. Hence, coding of COVID-19 as principal diagnosis and other viral pneumonia as secondary diagnosis are justified.\n",
    "\n",
    "3)A 42-year-old male with past medical history of HTN, presented to ED after having a syncopal episode. Patient was taking shower, had SOB and dizziness and had lost consciousness. In the ED, vitals were temp at 100.2F, HR at 73 per min, RR at 28 per min, BP at 106/62 mmHg, SpO2 at 92%. Physical examination was evident for bilateral crackles.\n",
    "Patient presented with syncope, SOB, dizziness. During the stay, physical examination was evident for temp at 100.2F, tachypnea at 22-28 breaths per minute, SpO2 at 88-94%, bilateral crackles. Labs were evident for leukocytosis at 13,900/µL, elevated CRP at 11.0, elevated LDH at 992, and elevated D-Dimer at 278- 343, elevated ferritin at 1,753.5. Patient was tested positive for SARS-CoV-2 (page 131). Patient was treated with IV Dexamethasone, IV Remdesivir, IV antibiotics, IV fluids, supplemental oxygen and other supportive measures. Hence, coding of COVID-19 is justified as principal diagnosis\n",
    "\n",
    "4)This is a 13-year-old female with PMHx significant for autism, ADHD and moderate persistent asthma. For this admission, she presents with 3 days of progressive shortness of breath. Mother tested positive for COVID-19 two weeks previously. Patient had 2 days of fever last week, followed by 1 week fatigue and progressive shortness of breath and minimal cough. Patient typically uses bronchodilators occasionally and is currently taking inhaled steroids. On presentation, VITALS T 98.1, HR 133, RR 24, SpOs 93%. PE: “severe respiratory distress,” LABS: “SARS-Cov-2 PCR detected.” Chest X-ray showed crowded markings at lung bases. Patient received albuterol, combos, prednisolone and continuous bronchodilators in the ED, and was admitted to PICU on BiPAP 14/10, FiO2 65%. She did not require intubation. VBGs revealed worsening lactic acidosis. She was started on IV Dexamethasone to complete a 10-day course of steroids, and placed on remdesivir. She remained on BiPAP and was gradually stabilized before weaned to RA prior to discharge after a 10-day hospital stay.\n",
    "\n",
    "5)Type 2 diabetes mellitus with diabetic peripheral angiopathy with gangrene/ Gas gangrene:\n",
    "The patient presented with right foot ulcer with infection. Patient reports that he has had nonhealing ulceration to lateral aspect of his right foot for atleast 1 month. Recently the area has become infected and patient was started=ted on augmentin. Patient reports of the last 3-4 days he is also had intermittent fevers, chills, myalgias. His podiatrist recommended that he came to ED for further evaluation (pgno-11). The physical examination was evident for right foot lateral aspect with large superficial ulceration with moderate surrounding erythema and edema to entire foot and ankle with warmth (pgno-13). The labs are evident for WBC at 14.0, glucose 303- 163. CT showed soft tissue gas/ scattered subcutaneous emphysema same along the plantar aspect of entire foot, predominantly over the second metatarsal. Large foci of air noted posterior to tibia over the ankle joint (pgno-48/52). The right leg CT description says osseous erosive and destructive changes as well as edema and fluids and soft tissue and soft tissue gas seen throughout the foot involving the right lower extremity with gas containing fluid collections fluids concerning for gas gangrene (pgno-52). On 9/27 the patient underwent BKA (pgno-41). On 10/4 continued purulence was observed and wound vac applied. Primary closure was done on right BKA on 10/13/21 (pgno-56). OR cultures positive for pseudomonas (pgno-44). The patient was managed on vancomycin, piperacillin tazobactem, clindamycin, dressing with xeroform, kerlix every 3 days, PT/OT (pgno-43/48/56). Hence, coding of Type 2 diabetes mellitus with diabetic peripheral angiopathy with gangrene was justified as principal diagnosis and Gas gangrene is justified as secondary diagnosis.\n",
    "\n",
    "6)On 9/27/21 the preop/postop diagnosis the abscess gas forming organism right calf from diabetic foot ulcer and abscess of right foot. Operation performed was right below knee guillotine amputation (pgno-458).  As per the description findings was abscess anterior compartment and abscess found also between the soleus and the gastrocnemius muscle. Abscess tracking up from the foot (pgno-458). Based on the operative report the procedure was justified.''')"
   ]
  },
  {
   "cell_type": "code",
   "execution_count": 48,
   "id": "201e0960",
   "metadata": {},
   "outputs": [
    {
     "data": {
      "text/html": [
       "<span class=\"tex2jax_ignore\"><div class=\"entities\" style=\"line-height: 2.5; direction: ltr\">1)Patient presented with complains of SOB, \n",
       "<mark class=\"entity\" style=\"background: #ddd; padding: 0.45em 0.6em; margin: 0 0.25em; line-height: 1; border-radius: 0.35em;\">\n",
       "    fast\n",
       "    <span style=\"font-size: 0.8em; font-weight: bold; line-height: 1; border-radius: 0.35em; vertical-align: middle; margin-left: 0.5rem\">MEDICALCONDITION</span>\n",
       "</mark>\n",
       ", rapid &amp; shallow breathing, rapid \n",
       "<mark class=\"entity\" style=\"background: #ddd; padding: 0.45em 0.6em; margin: 0 0.25em; line-height: 1; border-radius: 0.35em;\">\n",
       "    heart rate\n",
       "    <span style=\"font-size: 0.8em; font-weight: bold; line-height: 1; border-radius: 0.35em; vertical-align: middle; margin-left: 0.5rem\">MEDICALCONDITION</span>\n",
       "</mark>\n",
       ", </br>cough with phlegm, distress, bluish discolouration, muscle weakness, fever, \n",
       "<mark class=\"entity\" style=\"background: #ddd; padding: 0.45em 0.6em; margin: 0 0.25em; line-height: 1; border-radius: 0.35em;\">\n",
       "    chest pain\n",
       "    <span style=\"font-size: 0.8em; font-weight: bold; line-height: 1; border-radius: 0.35em; vertical-align: middle; margin-left: 0.5rem\">MEDICALCONDITION</span>\n",
       "</mark>\n",
       ", fatigue, confusion, AMS.</br> In setting of pulmonary manifestation, lifestyle habits (alcohol, drugs, smoking), infection </br>(flu, SARS-COVID, \n",
       "<mark class=\"entity\" style=\"background: #ddd; padding: 0.45em 0.6em; margin: 0 0.25em; line-height: 1; border-radius: 0.35em;\">\n",
       "    pneumonia\n",
       "    <span style=\"font-size: 0.8em; font-weight: bold; line-height: 1; border-radius: 0.35em; vertical-align: middle; margin-left: 0.5rem\">MEDICALCONDITION</span>\n",
       "</mark>\n",
       ", sepsis), smoke inhalation, trauma, inflammatory conditions(pancreatitis), </br>blood transfusion, fat embolism, severe burns, injury, family history. Physical examination was evident for \n",
       "<mark class=\"entity\" style=\"background: #ddd; padding: 0.45em 0.6em; margin: 0 0.25em; line-height: 1; border-radius: 0.35em;\">\n",
       "    Dyspnea\n",
       "    <span style=\"font-size: 0.8em; font-weight: bold; line-height: 1; border-radius: 0.35em; vertical-align: middle; margin-left: 0.5rem\">MEDICINE</span>\n",
       "</mark>\n",
       ", hypoxemia, tachycardia, \n",
       "<mark class=\"entity\" style=\"background: #ddd; padding: 0.45em 0.6em; margin: 0 0.25em; line-height: 1; border-radius: 0.35em;\">\n",
       "    tachypnoea\n",
       "    <span style=\"font-size: 0.8em; font-weight: bold; line-height: 1; border-radius: 0.35em; vertical-align: middle; margin-left: 0.5rem\">MEDICALCONDITION</span>\n",
       "</mark>\n",
       ", \n",
       "<mark class=\"entity\" style=\"background: #ddd; padding: 0.45em 0.6em; margin: 0 0.25em; line-height: 1; border-radius: 0.35em;\">\n",
       "    hypotension\n",
       "    <span style=\"font-size: 0.8em; font-weight: bold; line-height: 1; border-radius: 0.35em; vertical-align: middle; margin-left: 0.5rem\">MEDICALCONDITION</span>\n",
       "</mark>\n",
       ", \n",
       "<mark class=\"entity\" style=\"background: #ddd; padding: 0.45em 0.6em; margin: 0 0.25em; line-height: 1; border-radius: 0.35em;\">\n",
       "    cyanosis\n",
       "    <span style=\"font-size: 0.8em; font-weight: bold; line-height: 1; border-radius: 0.35em; vertical-align: middle; margin-left: 0.5rem\">MEDICALCONDITION</span>\n",
       "</mark>\n",
       ", </br>cough, rales, crackles.</br></br>2)A 65-year-old female with past medical history of aortic stenosis, HTN, obesity, DM, presented with cough, fever, nausea, loss of taste and smell, and fatigue. Initial vitals were temp at 99.4, HR at 84 per min, RR at 25 breaths per min, BP at 171/79 mmHg. Physical examination was evident for diminished breath sounds bilaterally. During the stay, labs were evident for leukocytosis at 12,200- 14,700, elevated D\n",
       "<mark class=\"entity\" style=\"background: #ddd; padding: 0.45em 0.6em; margin: 0 0.25em; line-height: 1; border-radius: 0.35em;\">\n",
       "    -Dimer\n",
       "    <span style=\"font-size: 0.8em; font-weight: bold; line-height: 1; border-radius: 0.35em; vertical-align: middle; margin-left: 0.5rem\">PATHOGEN</span>\n",
       "</mark>\n",
       " at 774.0, elevated ferritin at \n",
       "<mark class=\"entity\" style=\"background: #ddd; padding: 0.45em 0.6em; margin: 0 0.25em; line-height: 1; border-radius: 0.35em;\">\n",
       "    334\n",
       "    <span style=\"font-size: 0.8em; font-weight: bold; line-height: 1; border-radius: 0.35em; vertical-align: middle; margin-left: 0.5rem\">MEDICALCONDITION</span>\n",
       "</mark>\n",
       ", and elevated LDH at 211. Patient was tested positive for COVID-19 at primary care physician’s office (page 89). Chest x-ray revealed mild diffuse bilateral lung infiltrates (page 117). During the stay, patient was treated with dexamethasone, IV \n",
       "<mark class=\"entity\" style=\"background: #ddd; padding: 0.45em 0.6em; margin: 0 0.25em; line-height: 1; border-radius: 0.35em;\">\n",
       "    Remdesivir\n",
       "    <span style=\"font-size: 0.8em; font-weight: bold; line-height: 1; border-radius: 0.35em; vertical-align: middle; margin-left: 0.5rem\">MEDICINE</span>\n",
       "</mark>\n",
       ", \n",
       "<mark class=\"entity\" style=\"background: #ddd; padding: 0.45em 0.6em; margin: 0 0.25em; line-height: 1; border-radius: 0.35em;\">\n",
       "    enoxaparin SC\n",
       "    <span style=\"font-size: 0.8em; font-weight: bold; line-height: 1; border-radius: 0.35em; vertical-align: middle; margin-left: 0.5rem\">MEDICINE</span>\n",
       "</mark>\n",
       ", IV fluids, IV antibiotics, and other supportive medications. Hence, coding of COVID-19 as principal diagnosis and other viral pneumonia as secondary diagnosis are justified.</br></br>3)A 42-year-old male with past medical history of HTN, presented to ED after having a syncopal episode. Patient was taking shower, had SOB and dizziness and had lost consciousness. In the ED, vitals were temp at 100.2F, HR at 73 per min, RR at 28 per min, BP at 106/62 mmHg, SpO2 at 92%. Physical examination was evident for bilateral crackles.</br>Patient presented with syncope, SOB, dizziness. During the stay, physical examination was evident for temp at 100.2F, tachypnea at 22-28 breaths per minute, SpO2 at 88-94%, bilateral crackles. Labs were evident for leukocytosis at 13,900/µL, elevated CRP at 11.0, elevated LDH at 992, and elevated D\n",
       "<mark class=\"entity\" style=\"background: #ddd; padding: 0.45em 0.6em; margin: 0 0.25em; line-height: 1; border-radius: 0.35em;\">\n",
       "    -Dimer\n",
       "    <span style=\"font-size: 0.8em; font-weight: bold; line-height: 1; border-radius: 0.35em; vertical-align: middle; margin-left: 0.5rem\">PATHOGEN</span>\n",
       "</mark>\n",
       " at 278- 343, elevated ferritin at 1,753.5. Patient was tested positive for \n",
       "<mark class=\"entity\" style=\"background: #ddd; padding: 0.45em 0.6em; margin: 0 0.25em; line-height: 1; border-radius: 0.35em;\">\n",
       "    SARS-CoV-2\n",
       "    <span style=\"font-size: 0.8em; font-weight: bold; line-height: 1; border-radius: 0.35em; vertical-align: middle; margin-left: 0.5rem\">PATHOGEN</span>\n",
       "</mark>\n",
       " (page 131). Patient was treated with IV \n",
       "<mark class=\"entity\" style=\"background: #ddd; padding: 0.45em 0.6em; margin: 0 0.25em; line-height: 1; border-radius: 0.35em;\">\n",
       "    Dexamethasone\n",
       "    <span style=\"font-size: 0.8em; font-weight: bold; line-height: 1; border-radius: 0.35em; vertical-align: middle; margin-left: 0.5rem\">MEDICINE</span>\n",
       "</mark>\n",
       ", IV \n",
       "<mark class=\"entity\" style=\"background: #ddd; padding: 0.45em 0.6em; margin: 0 0.25em; line-height: 1; border-radius: 0.35em;\">\n",
       "    Remdesivir\n",
       "    <span style=\"font-size: 0.8em; font-weight: bold; line-height: 1; border-radius: 0.35em; vertical-align: middle; margin-left: 0.5rem\">MEDICINE</span>\n",
       "</mark>\n",
       ", IV antibiotics, IV fluids, supplemental oxygen and other supportive measures. Hence, coding of COVID-19 is justified as principal diagnosis</br></br>4)This is a 13-year-old female with PMHx significant for autism, ADHD and moderate persistent \n",
       "<mark class=\"entity\" style=\"background: #ddd; padding: 0.45em 0.6em; margin: 0 0.25em; line-height: 1; border-radius: 0.35em;\">\n",
       "    asthma\n",
       "    <span style=\"font-size: 0.8em; font-weight: bold; line-height: 1; border-radius: 0.35em; vertical-align: middle; margin-left: 0.5rem\">MEDICALCONDITION</span>\n",
       "</mark>\n",
       ". For this admission, she presents with 3 days of progressive shortness of breath. Mother tested positive for COVID-19 two weeks previously. Patient had 2 days of fever last week, followed by 1 week fatigue and progressive shortness of breath and minimal cough. Patient typically uses bronchodilators occasionally and is currently taking inhaled \n",
       "<mark class=\"entity\" style=\"background: #ddd; padding: 0.45em 0.6em; margin: 0 0.25em; line-height: 1; border-radius: 0.35em;\">\n",
       "    steroids\n",
       "    <span style=\"font-size: 0.8em; font-weight: bold; line-height: 1; border-radius: 0.35em; vertical-align: middle; margin-left: 0.5rem\">MEDICINE</span>\n",
       "</mark>\n",
       ". On presentation, VITALS T 98.1, HR 133, RR 24, SpOs 93%. PE: “\n",
       "<mark class=\"entity\" style=\"background: #ddd; padding: 0.45em 0.6em; margin: 0 0.25em; line-height: 1; border-radius: 0.35em;\">\n",
       "    severe respiratory distress\n",
       "    <span style=\"font-size: 0.8em; font-weight: bold; line-height: 1; border-radius: 0.35em; vertical-align: middle; margin-left: 0.5rem\">MEDICALCONDITION</span>\n",
       "</mark>\n",
       ",” LABS: “\n",
       "<mark class=\"entity\" style=\"background: #ddd; padding: 0.45em 0.6em; margin: 0 0.25em; line-height: 1; border-radius: 0.35em;\">\n",
       "    SARS-\n",
       "    <span style=\"font-size: 0.8em; font-weight: bold; line-height: 1; border-radius: 0.35em; vertical-align: middle; margin-left: 0.5rem\">PATHOGEN</span>\n",
       "</mark>\n",
       "Cov-2 PCR detected.” \n",
       "<mark class=\"entity\" style=\"background: #ddd; padding: 0.45em 0.6em; margin: 0 0.25em; line-height: 1; border-radius: 0.35em;\">\n",
       "    Chest X\n",
       "    <span style=\"font-size: 0.8em; font-weight: bold; line-height: 1; border-radius: 0.35em; vertical-align: middle; margin-left: 0.5rem\">MEDICALCONDITION</span>\n",
       "</mark>\n",
       "-ray showed crowded markings at lung bases. Patient received albuterol, combos, prednisolone and continuous bronchodilators in the ED, and was admitted to PICU on BiPAP 14/10, FiO2 65%. She did not require intubation. VBGs revealed worsening lactic acidosis. She was started on IV Dexamethasone to complete a 10-day course of \n",
       "<mark class=\"entity\" style=\"background: #ddd; padding: 0.45em 0.6em; margin: 0 0.25em; line-height: 1; border-radius: 0.35em;\">\n",
       "    steroids\n",
       "    <span style=\"font-size: 0.8em; font-weight: bold; line-height: 1; border-radius: 0.35em; vertical-align: middle; margin-left: 0.5rem\">MEDICINE</span>\n",
       "</mark>\n",
       ", and placed on remdesivir. She remained on BiPAP and was gradually stabilized before weaned to RA prior to discharge after a 10-day hospital stay.</br></br>5)Type 2 diabetes mellitus with diabetic peripheral angiopathy with gangrene/ Gas gangrene:</br>The patient presented with right foot ulcer with infection. Patient reports that he has had nonhealing ulceration to lateral aspect of his right foot for atleast 1 month. Recently the area has become infected and patient was started=ted on augmentin. Patient reports of the last 3-4 days he is also had intermittent fevers, chills, myalgias. His podiatrist recommended that he came to ED for further evaluation (pgno-11). The physical examination was evident for right foot lateral aspect with large superficial ulceration with moderate surrounding erythema and edema to entire foot and ankle with warmth (pgno-13). The labs are evident for \n",
       "<mark class=\"entity\" style=\"background: #ddd; padding: 0.45em 0.6em; margin: 0 0.25em; line-height: 1; border-radius: 0.35em;\">\n",
       "    WBC\n",
       "    <span style=\"font-size: 0.8em; font-weight: bold; line-height: 1; border-radius: 0.35em; vertical-align: middle; margin-left: 0.5rem\">MEDICINE</span>\n",
       "</mark>\n",
       " at 14.0, glucose 303- 163. CT showed soft tissue gas/ scattered subcutaneous emphysema same along the plantar aspect of entire foot, predominantly over the second metatarsal. Large foci of air noted posterior to tibia over the ankle \n",
       "<mark class=\"entity\" style=\"background: #ddd; padding: 0.45em 0.6em; margin: 0 0.25em; line-height: 1; border-radius: 0.35em;\">\n",
       "    joint (\n",
       "    <span style=\"font-size: 0.8em; font-weight: bold; line-height: 1; border-radius: 0.35em; vertical-align: middle; margin-left: 0.5rem\">MEDICALCONDITION</span>\n",
       "</mark>\n",
       "pgno-48/52). The right leg CT description says osseous erosive and destructive changes as well as edema and fluids and soft tissue and soft tissue gas seen throughout the foot involving the right lower extremity with gas containing fluid collections fluids concerning for gas gangrene (pgno-52). On 9/27 the patient underwent BKA (pgno-41). On 10/4 continued purulence was observed and wound vac applied. Primary closure was done on right BKA on 10/13/21 (pgno-56). OR cultures positive for \n",
       "<mark class=\"entity\" style=\"background: #ddd; padding: 0.45em 0.6em; margin: 0 0.25em; line-height: 1; border-radius: 0.35em;\">\n",
       "    pseudomonas\n",
       "    <span style=\"font-size: 0.8em; font-weight: bold; line-height: 1; border-radius: 0.35em; vertical-align: middle; margin-left: 0.5rem\">PATHOGEN</span>\n",
       "</mark>\n",
       " (\n",
       "<mark class=\"entity\" style=\"background: #ddd; padding: 0.45em 0.6em; margin: 0 0.25em; line-height: 1; border-radius: 0.35em;\">\n",
       "    pgno-44\n",
       "    <span style=\"font-size: 0.8em; font-weight: bold; line-height: 1; border-radius: 0.35em; vertical-align: middle; margin-left: 0.5rem\">MEDICALCONDITION</span>\n",
       "</mark>\n",
       "). The patient was managed on \n",
       "<mark class=\"entity\" style=\"background: #ddd; padding: 0.45em 0.6em; margin: 0 0.25em; line-height: 1; border-radius: 0.35em;\">\n",
       "    vancomycin\n",
       "    <span style=\"font-size: 0.8em; font-weight: bold; line-height: 1; border-radius: 0.35em; vertical-align: middle; margin-left: 0.5rem\">MEDICINE</span>\n",
       "</mark>\n",
       ", piperacillin tazobactem, \n",
       "<mark class=\"entity\" style=\"background: #ddd; padding: 0.45em 0.6em; margin: 0 0.25em; line-height: 1; border-radius: 0.35em;\">\n",
       "    clindamycin\n",
       "    <span style=\"font-size: 0.8em; font-weight: bold; line-height: 1; border-radius: 0.35em; vertical-align: middle; margin-left: 0.5rem\">MEDICINE</span>\n",
       "</mark>\n",
       ", dressing with xeroform, kerlix every 3 days, PT/OT (pgno-43/48/56). Hence, coding of Type 2 diabetes mellitus with diabetic peripheral angiopathy with gangrene was justified as principal diagnosis and Gas gangrene is justified as secondary diagnosis.</br></br>6)On 9/27/21 the preop/postop diagnosis the abscess gas forming organism right calf from diabetic foot ulcer and abscess of right foot. Operation performed was right below knee guillotine amputation (pgno-458).  As per the description findings was abscess anterior compartment and abscess found also between the soleus and the gastrocnemius muscle. Abscess \n",
       "<mark class=\"entity\" style=\"background: #ddd; padding: 0.45em 0.6em; margin: 0 0.25em; line-height: 1; border-radius: 0.35em;\">\n",
       "    tracking up from the foot\n",
       "    <span style=\"font-size: 0.8em; font-weight: bold; line-height: 1; border-radius: 0.35em; vertical-align: middle; margin-left: 0.5rem\">MEDICALCONDITION</span>\n",
       "</mark>\n",
       " (pgno-458). Based on the operative report the procedure was justified.</div></span>"
      ],
      "text/plain": [
       "<IPython.core.display.HTML object>"
      ]
     },
     "metadata": {},
     "output_type": "display_data"
    }
   ],
   "source": [
    "spacy.displacy.render(doc, style=\"ent\", jupyter=True)"
   ]
  },
  {
   "cell_type": "code",
   "execution_count": 50,
   "id": "544a36b5",
   "metadata": {},
   "outputs": [
    {
     "data": {
      "text/html": [
       "<span class=\"tex2jax_ignore\"><div class=\"entities\" style=\"line-height: 2.5; direction: ltr\">Allowing \n",
       "<mark class=\"entity\" style=\"background: #ddd; padding: 0.45em 0.6em; margin: 0 0.25em; line-height: 1; border-radius: 0.35em;\">\n",
       "    Corbevax\n",
       "    <span style=\"font-size: 0.8em; font-weight: bold; line-height: 1; border-radius: 0.35em; vertical-align: middle; margin-left: 0.5rem\">PATHOGEN</span>\n",
       "</mark>\n",
       " as booster for those vaccinated with Covishield, Covaxin likely to be considered by NTAGI today</br></br></div></span>"
      ],
      "text/plain": [
       "<IPython.core.display.HTML object>"
      ]
     },
     "metadata": {},
     "output_type": "display_data"
    }
   ],
   "source": [
    "doc1 = nlp_ner('''Allowing Corbevax as booster for those vaccinated with Covishield, Covaxin likely to be considered by NTAGI today\n",
    "\n",
    "''')\n",
    "spacy.displacy.render(doc1, style=\"ent\", jupyter=True)"
   ]
  },
  {
   "cell_type": "code",
   "execution_count": null,
   "id": "14fc261b",
   "metadata": {},
   "outputs": [],
   "source": []
  },
  {
   "cell_type": "code",
   "execution_count": null,
   "id": "8bbbd724",
   "metadata": {},
   "outputs": [],
   "source": []
  }
 ],
 "metadata": {
  "kernelspec": {
   "display_name": "Python 3 (ipykernel)",
   "language": "python",
   "name": "python3"
  },
  "language_info": {
   "codemirror_mode": {
    "name": "ipython",
    "version": 3
   },
   "file_extension": ".py",
   "mimetype": "text/x-python",
   "name": "python",
   "nbconvert_exporter": "python",
   "pygments_lexer": "ipython3",
   "version": "3.9.12"
  }
 },
 "nbformat": 4,
 "nbformat_minor": 5
}

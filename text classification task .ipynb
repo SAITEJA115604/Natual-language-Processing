{
 "cells": [
  {
   "cell_type": "code",
   "execution_count": 1,
   "id": "3b726c5f",
   "metadata": {},
   "outputs": [],
   "source": [
    "import pandas as pd\n",
    "import numpy as np \n"
   ]
  },
  {
   "cell_type": "code",
   "execution_count": 2,
   "id": "fd99ead2",
   "metadata": {},
   "outputs": [],
   "source": [
    "df = pd.read_csv(\"3dprinting.csv\")\n"
   ]
  },
  {
   "cell_type": "code",
   "execution_count": 3,
   "id": "76b6b7c5",
   "metadata": {},
   "outputs": [
    {
     "data": {
      "text/html": [
       "<div>\n",
       "<style scoped>\n",
       "    .dataframe tbody tr th:only-of-type {\n",
       "        vertical-align: middle;\n",
       "    }\n",
       "\n",
       "    .dataframe tbody tr th {\n",
       "        vertical-align: top;\n",
       "    }\n",
       "\n",
       "    .dataframe thead th {\n",
       "        text-align: right;\n",
       "    }\n",
       "</style>\n",
       "<table border=\"1\" class=\"dataframe\">\n",
       "  <thead>\n",
       "    <tr style=\"text-align: right;\">\n",
       "      <th></th>\n",
       "      <th>Title</th>\n",
       "      <th>cleaned_desc</th>\n",
       "    </tr>\n",
       "  </thead>\n",
       "  <tbody>\n",
       "    <tr>\n",
       "      <th>0</th>\n",
       "      <td>additive manufacturing ancillary equipment</td>\n",
       "      <td>archisketch interior scanner capable materiali...</td>\n",
       "    </tr>\n",
       "    <tr>\n",
       "      <th>1</th>\n",
       "      <td>additive manufacturing ancillary equipment</td>\n",
       "      <td>whiteclouds dcloud software platform allow com...</td>\n",
       "    </tr>\n",
       "    <tr>\n",
       "      <th>2</th>\n",
       "      <td>additive manufacturing ancillary equipment</td>\n",
       "      <td>mission critical electronics inc represents pl...</td>\n",
       "    </tr>\n",
       "    <tr>\n",
       "      <th>3</th>\n",
       "      <td>additive manufacturing ancillary equipment</td>\n",
       "      <td>xantrex technology engages development manufac...</td>\n",
       "    </tr>\n",
       "    <tr>\n",
       "      <th>4</th>\n",
       "      <td>additive manufacturing ancillary equipment</td>\n",
       "      <td>strategy create unique range sensors solve app...</td>\n",
       "    </tr>\n",
       "    <tr>\n",
       "      <th>...</th>\n",
       "      <td>...</td>\n",
       "      <td>...</td>\n",
       "    </tr>\n",
       "    <tr>\n",
       "      <th>5685</th>\n",
       "      <td>additive manufacturing software solutions</td>\n",
       "      <td>industrial grade printing company providing fu...</td>\n",
       "    </tr>\n",
       "    <tr>\n",
       "      <th>5686</th>\n",
       "      <td>additive manufacturing software solutions</td>\n",
       "      <td>roland dga corporation u based marketing distr...</td>\n",
       "    </tr>\n",
       "    <tr>\n",
       "      <th>5687</th>\n",
       "      <td>additive manufacturing software solutions</td>\n",
       "      <td>sintratec switzerland leading manufacturer pri...</td>\n",
       "    </tr>\n",
       "    <tr>\n",
       "      <th>5688</th>\n",
       "      <td>additive manufacturing software solutions</td>\n",
       "      <td>modio anybody create fun models creations easi...</td>\n",
       "    </tr>\n",
       "    <tr>\n",
       "      <th>5689</th>\n",
       "      <td>additive manufacturing software solutions</td>\n",
       "      <td>cyfuse biomedical develops tissue fabrication ...</td>\n",
       "    </tr>\n",
       "  </tbody>\n",
       "</table>\n",
       "<p>5690 rows × 2 columns</p>\n",
       "</div>"
      ],
      "text/plain": [
       "                                           Title  \\\n",
       "0     additive manufacturing ancillary equipment   \n",
       "1     additive manufacturing ancillary equipment   \n",
       "2     additive manufacturing ancillary equipment   \n",
       "3     additive manufacturing ancillary equipment   \n",
       "4     additive manufacturing ancillary equipment   \n",
       "...                                          ...   \n",
       "5685   additive manufacturing software solutions   \n",
       "5686   additive manufacturing software solutions   \n",
       "5687   additive manufacturing software solutions   \n",
       "5688   additive manufacturing software solutions   \n",
       "5689   additive manufacturing software solutions   \n",
       "\n",
       "                                           cleaned_desc  \n",
       "0     archisketch interior scanner capable materiali...  \n",
       "1     whiteclouds dcloud software platform allow com...  \n",
       "2     mission critical electronics inc represents pl...  \n",
       "3     xantrex technology engages development manufac...  \n",
       "4     strategy create unique range sensors solve app...  \n",
       "...                                                 ...  \n",
       "5685  industrial grade printing company providing fu...  \n",
       "5686  roland dga corporation u based marketing distr...  \n",
       "5687  sintratec switzerland leading manufacturer pri...  \n",
       "5688  modio anybody create fun models creations easi...  \n",
       "5689  cyfuse biomedical develops tissue fabrication ...  \n",
       "\n",
       "[5690 rows x 2 columns]"
      ]
     },
     "execution_count": 3,
     "metadata": {},
     "output_type": "execute_result"
    }
   ],
   "source": [
    "df"
   ]
  },
  {
   "cell_type": "code",
   "execution_count": 4,
   "id": "c7683ed4",
   "metadata": {},
   "outputs": [
    {
     "data": {
      "text/plain": [
       "additive manufucturing services                        2768\n",
       "machining, finish and assembly services                1722\n",
       "additive manufacturing (3d printing) equipment          528\n",
       "additive manufacturing software solutions               415\n",
       "additive manufacturing marketplaces and aggregators     129\n",
       "additive manufacturing ancillary equipment              128\n",
       "Name: Title, dtype: int64"
      ]
     },
     "execution_count": 4,
     "metadata": {},
     "output_type": "execute_result"
    }
   ],
   "source": [
    "df[\"Title\"].value_counts()"
   ]
  },
  {
   "cell_type": "code",
   "execution_count": 5,
   "id": "a68c9aa4",
   "metadata": {},
   "outputs": [],
   "source": [
    "from sklearn.feature_extraction.text import TfidfVectorizer\n",
    "vectorizer = TfidfVectorizer()"
   ]
  },
  {
   "cell_type": "code",
   "execution_count": 6,
   "id": "adba141e",
   "metadata": {},
   "outputs": [
    {
     "name": "stdout",
     "output_type": "stream",
     "text": [
      "['aalborg', 'aarhus', 'aart', 'ab', 'abaad', 'abi', 'abilities', 'ability', 'ablation', 'able', 'abnormalities', 'abreast', 'abroad', 'abs', 'absolute', 'abu', 'academia', 'academic', 'accelerate', 'accelerated', 'accelerator', 'accelity', 'accentondesign', 'accept', 'acceptance', 'accepted', 'accepts', 'access', 'accessed', 'accessible', 'accessiblity', 'accessories', 'accessory', 'accolades', 'accommodate', 'accomodate', 'accompanying', 'accomplish', 'accomplished', 'accordance', 'according', 'account', 'accountability', 'accounting', 'accreditation', 'accredited', 'accudynamics', 'accumulate', 'accumulating', 'accuracy', 'accurate', 'accurately', 'accuron', 'achieve', 'achieved', 'achievement', 'achieving', 'achterkamp', 'acknowledgement', 'acm', 'acquire', 'acquired', 'acquires', 'acquiring', 'acquisition', 'acquisitions', 'acre', 'acron', 'acronym', 'across', 'act', 'actarus', 'acting', 'action', 'actionable', 'actions', 'activated', 'active', 'actively', 'activities', 'activity', 'acton', 'actors', 'acts', 'actual', 'actually', 'actuators', 'ad', 'adam', 'adamation', 'adams', 'adapt', 'adaptable', 'adaptation', 'adapted', 'adapting', 'adaptive', 'add', 'addative', 'added', 'addibot', 'addifab', 'adding', 'addition', 'additional', 'additionally', 'additive', 'additively', 'additivemanufacturingllc', 'additives', 'address', 'addressed', 'addresses', 'addup', 'adhere', 'adhesive', 'adhesives', 'adjustments', 'adjusts', 'admin', 'administration', 'administrative', 'administrators', 'adopt', 'adopted', 'adopter', 'adopting', 'adoption', 'advance', 'advanced', 'advancement', 'advancements', 'advances', 'advancing', 'advantage', 'advantages', 'adventure', 'adventures', 'advertising', 'advice', 'advise', 'advisors', 'advisory', 'aec', 'aerial', 'aernnova', 'aero', 'aerodynamic', 'aerodynamics', 'aeromet', 'aeronautics', 'aerosint', 'aerospace', 'aerosport', 'aerostructures', 'aersopace', 'aesthetic', 'aetrex', 'affairs', 'affiliate', 'affiliated', 'afford', 'affordability', 'affordable', 'affordably', 'afinia', 'africa', 'african', 'aftermarket', 'afterwards', 'ag', 'age', 'aged', 'agencies', 'agent', 'agentdraw', 'agents', 'aggregate', 'aggregated', 'aggregating', 'aggregation', 'aggressively', 'agile', 'agility', 'ago', 'agreement', 'agreements', 'agricultural', 'agriculture', 'ahead', 'ahmedabad', 'ahslara', 'ahu', 'ai', 'aid', 'aided', 'aiding', 'aids', 'aim', 'aimed', 'aiming', 'aims', 'aio', 'air', 'airbus', 'aircraft', 'aircrafts', 'airfoils', 'airframe', 'airframers', 'airframes', 'airwolf', 'aisle', 'aka', 'akron', 'alabama', 'alain', 'alberta', 'alberts', 'albuquerque', 'alces', 'alchemist', 'alcoa', 'aleph', 'alexander', 'alexandria', 'algor', 'algorithm', 'algorithms', 'alias', 'alibre', 'align', 'aligned', 'aligner', 'alignment', 'alike', 'aliso', 'allanic', 'alldp', 'allen', 'allevi', 'alliances', 'allied', 'allmen', 'allocate', 'allow', 'allowed', 'allowing', 'allows', 'alloy', 'alloys', 'allready', 'alm', 'almalarmz', 'almond', 'almost', 'alone', 'along', 'alongside', 'alonso', 'alpes', 'alphacam', 'alphonse', 'already', 'alsace', 'also', 'altem', 'altemate', 'altemates', 'alterations', 'alternate', 'alternative', 'alternatives', 'although', 'alto', 'altogether', 'altschuler', 'alumina', 'aluminium', 'aluminum', 'alunar', 'always', 'alzheimers', 'amalgam', 'amassed', 'amateurs', 'amazing', 'amazingly', 'ambition', 'ambitions', 'ambitious', 'amega', 'amended', 'amer', 'america', 'american', 'americas', 'amersham', 'ames', 'ametek', 'amin', 'amirkabir', 'amit', 'amitek', 'among', 'amorphous', 'amounts', 'amp', 'amphenol', 'amputees', 'ams', 'amsterdam', 'amusement', 'amvian', 'anaesthesiology', 'analog', 'analogues', 'analyse', 'analysis', 'analysts', 'analytical', 'analytics', 'analyze', 'analyzing', 'anatomic', 'anatomical', 'anatomicallyaccurate', 'anatomicals', 'anatomy', 'ancient', 'ancillary', 'andefficient', 'anderson', 'andish', 'andr', 'andreas', 'andreessen', 'andrew', 'android', 'anet', 'angeles', 'angels', 'angle', 'angleton', 'angry', 'animated', 'animation', 'animations', 'anjou', 'annapolis', 'annealing', 'anniversary', 'announce', 'annual', 'annually', 'anodizing', 'anomalies', 'anonymous', 'anonymously', 'another', 'ansen', 'ansonia', 'answer', 'answering', 'answers', 'ansys', 'ant', 'antenna', 'antennas', 'anthropomorphic', 'antioxidants', 'antiquated', 'anton', 'anvil', 'anybody', 'anyone', 'anything', 'anytime', 'anywhere', 'aoibheann', 'aond', 'apac', 'apart', 'apartments', 'api', 'apid', 'apis', 'apm', 'app', 'appaloza', 'apparel', 'appearance', 'appendability', 'appliance', 'appliances', 'applicable', 'applicalion', 'application', 'applications', 'applied', 'applies', 'apply', 'applying', 'appointment', 'appointments', 'appreciate', 'appreciates', 'appreciations', 'approach', 'approachable', 'approaches', 'appropriate', 'approval', 'approved', 'approximately', 'apps', 'aprecia', 'april', 'aps', 'aqh', 'ar', 'aramit', 'arbortext', 'arburg', 'arc', 'arcam', 'arch', 'archaeology', 'archidraw', 'archisketch', 'architect', 'architects', 'architectural', 'architecture', 'architectures', 'arconic', 'arduino', 'area', 'areas', 'arent', 'arevo', 'arfona', 'argon', 'arguably', 'arise', 'aristo', 'arlington', 'arm', 'armed', 'armor', 'arms', 'armstrong', 'arnold', 'around', 'array', 'arrays', 'arrive', 'art', 'artecd', 'artery', 'arthur', 'articles', 'artifacts', 'artis', 'artisans', 'artist', 'artistic', 'artists', 'artlab', 'arts', 'asc', 'ase', 'aseptic', 'ashville', 'asia', 'asian', 'asic', 'asiga', 'ask', 'asked', 'asking', 'asm', 'aspect', 'aspects', 'aspire', 'assembl', 'assemble', 'assembled', 'assembles', 'assemblies', 'assembling', 'assembly', 'assembrix', 'assess', 'asset', 'assets', 'assetwise', 'assignment', 'assignments', 'assimilate', 'assist', 'assistance', 'assisted', 'assisting', 'associated', 'associates', 'association', 'assortment', 'assurance', 'assure', 'assured', 'assuring', 'ast', 'asteelflash', 'astroprint', 'ateliers', 'atg', 'atherstone', 'athletic', 'atl', 'atlanta', 'atlantic', 'atmosphere', 'atomized', 'atop', 'attachment', 'attachments', 'attack', 'attempt', 'attempts', 'attends', 'attention', 'attitude', 'attorneys', 'attract', 'attractive', 'attribute', 'attributed', 'atvs', 'atwater', 'audience', 'audio', 'audiology', 'auditing', 'auditors', 'aug', 'augmented', 'august', 'augustus', 'aulani', 'aurora', 'aurum', 'aus', 'austempered', 'australia', 'austria', 'austrian', 'authorities', 'authorized', 'auto', 'autocad', 'autoclave', 'autodesk', 'autoimmune', 'automate', 'automated', 'automates', 'automatic', 'automatically', 'automating', 'automation', 'automations', 'automatisation', 'automative', 'automobile', 'automobiles', 'automotive', 'automotives', 'autonomous', 'autonomy', 'autronic', 'auxiliary', 'availability', 'available', 'avalign', 'avalon', 'avantax', 'avatars', 'avenue', 'average', 'aviation', 'avio', 'avionic', 'aviv', 'avon', 'award', 'awarded', 'awards', 'aware', 'awareness', 'away', 'awe', 'aweba', 'awesome', 'ax', 'axiald', 'axiom', 'axiomid', 'axis', 'axle', 'axles', 'ay', 'aye', 'baam', 'baby', 'back', 'backed', 'background', 'backing', 'backlight', 'backup', 'bacteria', 'bad', 'baden', 'baena', 'bags', 'bailly', 'bains', 'bakelite', 'bakery', 'baking', 'balanced', 'balancing', 'balazs', 'balfour', 'ball', 'ballistics', 'balsa', 'bands', 'bangalore', 'bank', 'banner', 'banners', 'bar', 'barbie', 'barcelona', 'barcelonatech', 'barcode', 'barnes', 'barr', 'barrie', 'barriers', 'bars', 'barton', 'base', 'based', 'basement', 'bases', 'basf', 'basic', 'basically', 'basis', 'bask', 'bastech', 'bastechs', 'batch', 'batches', 'batteries', 'battery', 'battle', 'bauxite', 'bay', 'bayleys', 'bazaar', 'bb', 'bbb', 'bbc', 'bcnd', 'bcreations', 'beach', 'beam', 'beamforming', 'beamler', 'beams', 'beamsplitters', 'bean', 'bearing', 'bearings', 'beat', 'beatty', 'beautification', 'beautiful', 'beautifully', 'beauty', 'became', 'become', 'becomes', 'becoming', 'bed', 'beeverycreative', 'began', 'begin', 'beginners', 'beginning', 'begins', 'bego', 'behavior', 'beheld', 'behind', 'behr', 'beijing', 'belgium', 'belief', 'beliefs', 'believe', 'believed', 'believes', 'belong', 'belonging', 'bench', 'benchmark', 'benchmarking', 'bending', 'bends', 'benefit', 'benefited', 'benefits', 'benelux', 'bentley', 'bentleys', 'berkshire', 'berlin', 'bert', 'berwyn', 'beside', 'besides', 'bespoke', 'best', 'beta', 'bethesda', 'better', 'betweens', 'beverage', 'beyond', 'beyonics', 'bga', 'bicycles', 'bid', 'bids', 'bielefeld', 'big', 'bigger', 'biggest', 'bigrep', 'bill', 'billet', 'billets', 'billion', 'billions', 'billund', 'bim', 'bin', 'binarynow', 'bins', 'bio', 'biochemical', 'biocompatible', 'biofab', 'biofabrication', 'biological', 'biology', 'biomanufacturing', 'biomaterial', 'biomaterials', 'biomedical', 'biomedicine', 'biometric', 'biometrics', 'biomimetic', 'biomodexis', 'biopharma', 'bioplastic', 'bioprinted', 'bioprinter', 'bioprinters', 'bioprinting', 'bioresorbable', 'biosurgical', 'biosystem', 'biosystems', 'biotech', 'biotechnology', 'bir', 'birds', 'birmingham', 'birth', 'birthday', 'bit', 'bitmap', 'bitonti', 'bits', 'bitty', 'biw', 'biztech', 'black', 'blackbelt', 'blade', 'blank', 'blanking', 'blazed', 'blcher', 'blend', 'blender', 'blending', 'blends', 'blind', 'block', 'blocks', 'blog', 'blogs', 'blood', 'bloom', 'blooms', 'blow', 'blu', 'blucora', 'blue', 'blueprinter', 'bluups', 'bmw', 'board', 'boarding', 'boards', 'boast', 'boasts', 'bodies', 'body', 'boehm', 'boeing', 'bolt', 'bombardier', 'bonding', 'bone', 'bonnet', 'booking', 'books', 'bootstrap', 'borlee', 'born', 'borne', 'bosch', 'boston', 'botfactory', 'botobjects', 'bottleneck', 'bottles', 'bottom', 'bought', 'boulder', 'boundaries', 'bounds', 'boutique', 'bow', 'box', 'boxes', 'bq', 'brace', 'bracelets', 'bradley', 'brahma', 'braided', 'brainchild', 'brakes', 'branch', 'branched', 'brand', 'branded', 'branding', 'brands', 'brass', 'braydon', 'brazil', 'brazilian', 'brazing', 'bre', 'breadth', 'break', 'breakers', 'breaking', 'breakthrough', 'breathtaking', 'brian', 'bricsys', 'bridge', 'bridges', 'bridging', 'brief', 'bright', 'brightest', 'brillion', 'brillions', 'brindisi', 'bring', 'bringing', 'brings', 'bristol', 'british', 'brno', 'broad', 'broadband', 'broadcast', 'broaden', 'broader', 'broadest', 'broker', 'bronchoscopy', 'bronze', 'brooklyn', 'brothers', 'brought', 'browse', 'browser', 'browsers', 'browsing', 'brush', 'brussels', 'bsh', 'bstaonline', 'btwin', 'bu', 'buccaneer', 'buckinghamshire', 'buddy', 'budget', 'buffet', 'buffett', 'build', 'builder', 'builders', 'building', 'buildings', 'builds', 'buildtak', 'built', 'bukito', 'bukobot', 'bulk', 'bulkheads', 'bumblebeast', 'bump', 'bunch', 'bundles', 'burbank', 'bureau', 'bureaus', 'burlington', 'burloak', 'burnaby', 'busbars', 'buses', 'business', 'businesses', 'bust', 'butte', 'button', 'buy', 'buyer', 'buyers', 'buying', 'buyout', 'buzz', 'buzzword', 'bv', 'byers', 'bypass', 'ca', 'cabin', 'cabinet', 'cable', 'cables', 'cad', 'cadblu', 'cadcam', 'cadcrowd', 'cadigo', 'cadindus', 'cadsurf', 'cadventure', 'cae', 'cages', 'cake', 'cakes', 'cal', 'calculating', 'calgary', 'calibrate', 'calibrated', 'calibration', 'calif', 'california', 'call', 'called', 'calls', 'calram', 'calrams', 'cam', 'camaco', 'cambridge', 'camcorders', 'camera', 'cameras', 'cameron', 'campaign', 'campaigns', 'campisano', 'campus', 'cams', 'canada', 'canadas', 'canadian', 'canal', 'cancer', 'candy', 'canon', 'canonsburg', 'canopies', 'cant', 'canton', 'capabilities', 'capability', 'capable', 'capacities', 'capacity', 'capital', 'capsules', 'captive', 'capture', 'captured', 'captures', 'capturing', 'car', 'carbide', 'carbides', 'carbon', 'carbonato', 'card', 'cardiac', 'cardiovascular', 'cards', 'care', 'cared', 'career', 'careers', 'carefully', 'caribbean', 'carima', 'carl', 'carlyon', 'carmaux', 'carmine', 'carolina', 'carpenter', 'carreel', 'carried', 'carrier', 'carry', 'carrying', 'cars', 'cart', 'carte', 'cartilage', 'cartoon', 'cartridges', 'carved', 'carving', 'cary', 'cas', 'cascade', 'case', 'cases', 'cash', 'casing', 'casino', 'cast', 'casting', 'castings', 'castle', 'castparts', 'casual', 'catalog', 'catalogs', 'catalunya', 'catalysts', 'catcher', 'categories', 'categorized', 'category', 'catering', 'caterpillar', 'caters', 'catia', 'cattle', 'caufield', 'cause', 'causes', 'causing', 'cavendish', 'cavity', 'cbct', 'ccd', 'ccr', 'cd', 'ce', 'cec', 'ceiling', 'cel', 'celebrate', 'celebrates', 'celebrating', 'celi', 'cell', 'cells', 'cemtrex', 'center', 'centered', 'centering', 'centers', 'central', 'centralia', 'centralized', 'centrally', 'centre', 'centres', 'centric', 'centrifugal', 'centrum', 'century', 'ceo', 'ceramic', 'ceramics', 'certain', 'certificates', 'certification', 'certifications', 'certified', 'cervantes', 'ces', 'cfd', 'cfm', 'cfrtp', 'cgtrader', 'chain', 'chains', 'chair', 'challenge', 'challenged', 'challenges', 'challenging', 'chamber', 'chambers', 'chamblee', 'champion', 'chance', 'change', 'changed', 'changes', 'changing', 'channel', 'channels', 'character', 'characteristics', 'characterized', 'characterizes', 'characters', 'charbonnires', 'charge', 'charger', 'charles', 'charlie', 'charlotte', 'chassis', 'chatsworth', 'chcolate', 'cheap', 'cheaper', 'cheapest', 'check', 'checking', 'checks', 'chemical', 'chemicals', 'chemistry', 'chemists', 'chemnitz', 'chennai', 'chesapeake', 'chest', 'chesterfield', 'chicago', 'children', 'childrens', 'childress', 'china', 'chinas', 'chine', 'chip', 'chips', 'chishti', 'chizel', 'chloride', 'choc', 'chocedge', 'chocolate', 'chocolates', 'choice', 'choices', 'choose', 'chose', 'chosen', 'chris', 'christian', 'chrome', 'chromium', 'chrysler', 'chuck', 'chun', 'churning', 'cicd', 'cideas', 'cim', 'cimarron', 'cimatron', 'cimatrone', 'cincinnati', 'cinema', 'cini', 'cip', 'circuit', 'circuitronics', 'circuitry', 'circuits', 'circulation', 'circumference', 'cirp', 'cirtec', 'cirtecs', 'cirtes', 'ciscel', 'cities', 'citim', 'city', 'civil', 'cjp', 'claim', 'claims', 'clarita', 'clarity', 'class', 'classes', 'classrooms', 'clean', 'cleaners', 'cleaning', 'clear', 'clerk', 'clerkenwell', 'cleveland', 'click', 'clicks', 'client', 'clientele', 'clients', 'cliever', 'climate', 'clinic', 'clinical', 'clinicians', 'clinics', 'clinkenbeard', 'clinton', 'clip', 'clips', 'clment', 'clogging', 'cloneme', 'close', 'closed', 'closely', 'closer', 'closing', 'clothing', 'clotting', 'cloud', 'clouds', 'club', 'clubs', 'cluzel', 'cma', 'cmm', 'cmrdi', 'cnc', 'co', 'coalition', 'coast', 'coasters', 'coated', 'coating', 'coatings', 'coaxial', 'cobalt', 'cobbler', 'coca', 'code', 'codes', 'coffee', 'coherent', 'cohu', 'coil', 'coils', 'cola', 'cold', 'colgate', 'collaborate', 'collaboration', 'collaborative', 'collaboratively', 'colleagues', 'collected', 'collecting', 'collection', 'collections', 'collective', 'collectively', 'collects', 'college', 'colleges', 'collegiate', 'collegno', 'collider', 'collins', 'collision', 'color', 'colorado', 'colored', 'coloring', 'colors', 'colour', 'columbia', 'columbine', 'columbus', 'com', 'combat', 'combination', 'combinations', 'combine', 'combined', 'combines', 'combining', 'combustion', 'come', 'comes', 'comfort', 'comfortable', 'comic', 'coming', 'command', 'commerce', 'commercial', 'commercialises', 'commercialization', 'commercialize', 'commercializing', 'commercially', 'commercials', 'commission', 'commissioned', 'commissioning', 'commissions', 'commit', 'commitment', 'commitments', 'committed', 'commodities', 'commodity', 'common', 'commonly', 'communicate', 'communication', 'communications', 'communities', 'community', 'compact', 'companie', 'companies', 'company', 'companys', 'compare', 'compared', 'comparison', 'comparisons', 'compatibility', 'compatible', 'compelling', 'compensation', 'compete', 'competence', 'competences', 'competencies', 'competency', 'competent', 'competing', 'competition', 'competitions', 'competitive', 'competitively', 'competitiveness', 'competitor', 'competitors', 'competitve', 'compiling', 'complementary', 'complemented', 'complete', 'completed', 'completely', 'completeness', 'completion', 'complex', 'complexes', 'complexity', 'compliance', 'compliant', 'complicated', 'complies', 'compliment', 'complimentary', 'compliments', 'comply', 'component', 'components', 'compose', 'composed', 'composes', 'composite', 'composites', 'compositing', 'composition', 'compostable', 'compound', 'compounds', 'comprehensive', 'compresses', 'compression', 'comprise', 'comprised', 'comprises', 'comprising', 'compromises', 'compromising', 'computational', 'compute', 'computer', 'computerized', 'computers', 'computing', 'comundi', 'con', 'conceived', 'concentrate', 'concentrating', 'concept', 'conception', 'concepts', 'conceptual', 'conceptualiz', 'conceptualized', 'concern', 'concerning', 'conclusion', 'concord', 'concrete', 'concurrent', 'condition', 'conditioning', 'conditions', 'conducted', 'conducting', 'conductive', 'conductivity', 'conductors', 'cone', 'confectionary', 'confidence', 'confident', 'confidential', 'confidentiality', 'configuration', 'configurators', 'configured', 'confines', 'conflicts', 'conform', 'conformal', 'confusing', 'conglomerate', 'connect', 'connected', 'connecticut', 'connecting', 'connection', 'connections', 'connectivity', 'connector', 'connectors', 'connects', 'connex', 'conor', 'conscience', 'conscious', 'consecutive', 'consequently', 'consider', 'considerably', 'considered', 'considering', 'considers', 'consist', 'consistency', 'consistent', 'consistently', 'consisting', 'consists', 'console', 'consolidated', 'consolidates', 'constant', 'constantly', 'constraints', 'construct', 'constructed', 'constructing', 'construction', 'constructions', 'constructors', 'constructs', 'consult', 'consultancy', 'consultant', 'consultants', 'consultation', 'consultations', 'consulting', 'consumable', 'consumables', 'consume', 'consumer', 'consumers', 'consuming', 'consumption', 'contact', 'contacts', 'contain', 'contained', 'container', 'containers', 'containing', 'contains', 'content', 'context', 'continental', 'continents', 'continously', 'continual', 'continually', 'continue', 'continued', 'continues', 'continuing', 'continuous', 'continuously', 'contract', 'contracting', 'contractors', 'contracts', 'contribute', 'contributed', 'contributions', 'control', 'controllable', 'controlled', 'controllers', 'controlling', 'controls', 'convenience', 'convenient', 'conventional', 'conventionally', 'converged', 'convergence', 'convergent', 'conversion', 'conversions', 'convert', 'converted', 'converter', 'converters', 'converting', 'converts', 'conveyor', 'conveyors', 'convince', 'convincingly', 'coo', 'coobx', 'cookies', 'cookware', 'cool', 'cooling', 'cooperation', 'cooperators', 'coordinate', 'coordinated', 'coordination', 'copenhagen', 'copied', 'copiers', 'copper', 'coproin', 'copy', 'copying', 'copyright', 'copyrights', 'coral', 'corby', 'cord', 'cordless', 'core', 'cored', 'coretechnologie', 'corner', 'corners', 'cornerstone', 'cornerstones', 'coronary', 'corp', 'corporate', 'corporation', 'corporations', 'correct', 'correction', 'correctly', 'corresponding', 'corrosion', 'corwil', 'cosine', 'cosmetic', 'cosmetics', 'cost', 'costing', 'costly', 'costs', 'could', 'couldnt', 'councilor', 'count', 'counter', 'counterfeit', 'counterfeiting', 'countless', 'countries', 'country', 'countrys', 'counts', 'county', 'couple', 'coupled', 'coupler', 'coupling', 'couplings', 'courier', 'couriers', 'course', 'courses', 'cover', 'coverage', 'covered', 'covering', 'covers', 'cp', 'cpa', 'cps', 'cr', 'cracow', 'craft', 'crafted', 'craftmanship', 'crafts', 'craftsman', 'craftsmanship', 'craftsmen', 'craftspeople', 'craftunique', 'craniomaxillofacial', 'craving', 'crdm', 'crdo', 'creaform', 'create', 'createc', 'created', 'creates', 'creating', 'creation', 'creations', 'creative', 'creatively', 'creatives', 'creativity', 'creatixd', 'creator', 'creators', 'creatures', 'credence', 'credible', 'credit', 'creo', 'cresilas', 'crew', 'crimping', 'critical', 'crm', 'crop', 'cross', 'crossover', 'crowd', 'crowdfund', 'crowdfunding', 'crowdsourcing', 'crowns', 'crp', 'crucial', 'crude', 'cruise', 'crunchbase', 'cryptocurrencies', 'crystal', 'ct', 'ctg', 'cto', 'cubibot', 'cubic', 'cubicon', 'cultivates', 'cultural', 'culture', 'cupcake', 'cura', 'curable', 'curaengine', 'curated', 'curbell', 'cures', 'curictus', 'curing', 'curious', 'current', 'currently', 'curriculum', 'cursive', 'curtain', 'curve', 'curved', 'custom', 'customd', 'customer', 'customers', 'customisable', 'customisation', 'customise', 'customised', 'customizable', 'customization', 'customize', 'customized', 'customizing', 'customrelease', 'custpom', 'cut', 'cutaway', 'cuts', 'cutter', 'cutters', 'cutting', 'cv', 'cvd', 'cwaf', 'cyber', 'cyberglove', 'cyberoptics', 'cycle', 'cycles', 'cyfuse', 'cylinder', 'czech', 'd_analyzer', 'd_evolution', 'd_kernel_io', 'da', 'dagogo', 'dagoma', 'daily', 'dallas', 'dalton', 'damage', 'damages', 'dame', 'damvig', 'dan', 'danaher', 'daniel', 'danish', 'dao', 'dapd', 'darco', 'dark', 'das', 'dashboard', 'dassault', 'data', 'database', 'databases', 'dataset', 'datasets', 'date', 'dates', 'dauch', 'davalor', 'dave', 'david', 'davidson', 'davinci', 'davincis', 'day', 'days', 'dayton', 'dazzle', 'db', 'dba', 'dc', 'dcadsoft', 'dceram', 'dcloud', 'ddm', 'de', 'deadlines', 'dealer', 'deals', 'dealy', 'decade', 'decades', 'december', 'decentralized', 'decentralizes', 'decided', 'decision', 'decisions', 'decisive', 'decor', 'decorate', 'decorating', 'decorative', 'decoupling', 'decrease', 'decreases', 'decreasing', 'dedicated', 'dedication', 'dedu', 'deep', 'deepest', 'deer', 'deezmaker', 'defect', 'defects', 'defence', 'defense', 'defensive', 'defined', 'defining', 'definitely', 'definition', 'definitive', 'degrade', 'degrades', 'degree', 'degrees', 'dekker', 'deland', 'delaware', 'delays', 'delcam', 'delcams', 'delevan', 'delhi', 'delight', 'delightful', 'deliver', 'deliverables', 'delivered', 'deliveries', 'delivering', 'delivers', 'delivery', 'delmia', 'delta', 'deltagen', 'deltaview', 'demand', 'demanded', 'demanding', 'demands', 'democratize', 'democratized', 'democratizing', 'demonstrate', 'demonstrated', 'demonstration', 'demonstrations', 'demonstrator', 'denmark', 'dennis', 'dense', 'density', 'dental', 'dentalcad', 'dentistry', 'dentists', 'dentures', 'denver', 'deo', 'deos', 'department', 'departments', 'departure', 'depend', 'dependability', 'dependable', 'depending', 'depict', 'deploy', 'deployed', 'deploying', 'deployments', 'deploys', 'deposit', 'deposited', 'depositing', 'deposition', 'deposits', 'depth', 'depths', 'derived', 'ders', 'des', 'describe', 'describes', 'description', 'design', 'designated', 'designcraft', 'designed', 'designer', 'designers', 'designing', 'designpoint', 'designs', 'designsm', 'designspark', 'designsso', 'desimone', 'desire', 'desired', 'desires', 'desk', 'desktop', 'despite', 'destination', 'detail', 'detailed', 'detailing', 'details', 'detect', 'detecting', 'detection', 'detectors', 'detects', 'determinant', 'determine', 'determined', 'determining', 'detroit', 'deva', 'develop', 'developed', 'developer', 'developers', 'developing', 'development', 'developmental', 'developments', 'develops', 'deveolped', 'device', 'devices', 'devoted', 'dfm', 'dg', 'dga', 'dhabi', 'di', 'diabetes', 'diadema', 'diagnose', 'diagnosis', 'diagnostic', 'diagnostics', 'dial', 'dialight', 'dialogue', 'diamond', 'diamonds', 'dicom', 'die', 'diecast', 'diego', 'dies', 'difference', 'different', 'differential', 'differentiated', 'differentiating', 'differing', 'difficult', 'diffractive', 'diffusers', 'digest', 'digifabster', 'digit', 'digital', 'digitalizing', 'digitally', 'digitization', 'digitize', 'digitizing', 'dijital', 'diligent', 'dimarco', 'dimengel', 'dimension', 'dimensional', 'dimensionalley', 'dimensionally', 'dimensioning', 'dimensions', 'dinsmore', 'diode', 'direct', 'directed', 'direction', 'directional', 'directly', 'director', 'directories', 'disanto', 'disappointed', 'disassembly', 'disaster', 'discharge', 'disciplinary', 'discipline', 'disciplines', 'discover', 'discovered', 'discovering', 'discovery', 'discrete', 'discretion', 'discuss', 'discusses', 'disease', 'diseases', 'disk', 'disney', 'disneyland', 'disorders', 'disparate', 'dispatch', 'dispense', 'dispensing', 'dispersing', 'dispersions', 'display', 'displaying', 'displays', 'disposable', 'disposal', 'dispose', 'disrupt', 'disrupting', 'disruptive', 'disruptively', 'disrupts', 'disseminating', 'dissemination', 'dissimilar', 'distant', 'distech', 'distinct', 'distinctive', 'distinguished', 'distribute', 'distributed', 'distributes', 'distribution', 'distributor', 'distributors', 'district', 'divergence', 'divergent', 'diverse', 'diversely', 'diversified', 'diversify', 'diversity', 'divided', 'dividers', 'division', 'divisions', 'diy', 'dkitbash', 'dla', 'dlp', 'dls', 'dm', 'dmea', 'dmg', 'dmls', 'dmp', 'dms', 'dmt', 'dna', 'dnyadaki', 'doctor', 'doctors', 'document', 'documentation', 'documented', 'dod', 'doe', 'doesnt', 'dogs', 'doll', 'dollar', 'dollars', 'dollhouse', 'dollhouses', 'dolls', 'domaille', 'domain', 'dome', 'domestic', 'domestically', 'donald', 'done', 'dong', 'dongshan', 'dont', 'donzel', 'door', 'doors', 'doorstep', 'dose', 'doses', 'dot', 'dotproduct', 'double', 'doubles', 'doubling', 'doug', 'dover', 'downers', 'downhole', 'download', 'downloadable', 'downloading', 'downstream', 'downtown', 'dozens', 'dp', 'dpf', 'dphacktory', 'dpi', 'dplusme', 'dponics', 'dprint', 'dprintbureau', 'dprinteros', 'dprinters', 'dprinting', 'dprintler', 'dprintuk', 'dprintus', 'dps', 'dpt', 'dpx', 'dr', 'draft', 'drafters', 'drafting', 'draftsman', 'dragonfly', 'dramatically', 'drastically', 'draw', 'drawing', 'drawings', 'dream', 'dreamers', 'dreamhouse', 'dreams', 'dremel', 'dreshaper', 'dress', 'drew', 'drill', 'driller', 'drilling', 'drink', 'drive', 'driveline', 'driven', 'driver', 'drives', 'drivetrain', 'driving', 'drm', 'drone', 'drop', 'droplet', 'droplets', 'dror', 'drug', 'drugs', 'drumlord', 'drums', 'ds', 'dshook', 'dsim', 'dsl', 'dsp', 'dt', 'dtci', 'dti', 'dtm', 'dual', 'dublin', 'dubois', 'ductile', 'dudley', 'due', 'duke', 'dundas', 'duplicate', 'duplicating', 'duplication', 'duplicator', 'durability', 'durable', 'durables', 'durak', 'duration', 'dusher', 'dutch', 'duty', 'dvd', 'dvia', 'dvisual', 'dways', 'dwg', 'dws', 'dynacast', 'dynamet', 'dynamic', 'dynamics', 'dynamo', 'eagle', 'earlier', 'early', 'earn', 'earned', 'earning', 'earns', 'earrings', 'earth', 'ease', 'easier', 'easiest', 'easily', 'east', 'eastern', 'easy', 'eat', 'eating', 'ebay', 'eberhard', 'eberl', 'ebm', 'ec', 'ecam', 'ecg', 'echterdingen', 'eclipse', 'eco', 'ecoline', 'ecological', 'ecology', 'ecommerce', 'economic', 'economical', 'economically', 'economics', 'economy', 'ecosystem', 'ecosystems', 'ecr', 'ed', 'eden', 'edge', 'edgecam', 'edges', 'edibles', 'edinburgh', 'edit', 'edited', 'editing', 'editorial', 'editorials', 'editors', 'edm', 'edrive', 'edtech', 'educate', 'educated', 'education', 'educational', 'educators', 'edward', 'effective', 'effectively', 'effectiveness', 'effects', 'efficiencies', 'efficiency', 'efficient', 'efficiently', 'effort', 'efforts', 'egypt', 'egyptian', 'eight', 'eindhoven', 'either', 'eject', 'el', 'elastic', 'elastomer', 'elastomeric', 'elastomers', 'eldevik', 'electric', 'electrical', 'electrification', 'electrified', 'electro', 'electrochemical', 'electrocomponents', 'electromagnetic', 'electromagnetically', 'electromechanical', 'electron', 'electronic', 'electronically', 'electronics', 'electroplating', 'electrospinning', 'electrospun', 'electrotechnology', 'elegant', 'elektro', 'elektronik', 'element', 'elements', 'elevating', 'elevator', 'elevators', 'eli', 'elias', 'eliminate', 'eliminates', 'eliminating', 'elite', 'elliot', 'else', 'email', 'emailed', 'emailing', 'emanufacturing', 'ematerialise', 'embarked', 'embed', 'embedded', 'embeds', 'embodied', 'embracing', 'embraer', 'emc', 'emcube', 'emea', 'emer', 'emerged', 'emergency', 'emerging', 'emersive', 'emi', 'emil', 'emirati', 'emis', 'emissions', 'emitting', 'emmerson', 'emotional', 'empennages', 'emphasis', 'empire', 'employ', 'employed', 'employees', 'employing', 'employs', 'empower', 'empowering', 'empowers', 'empty', 'ems', 'emulate', 'emulators', 'en', 'enable', 'enabled', 'enabler', 'enables', 'enabling', 'enages', 'encapsulates', 'encapsulation', 'enclosed', 'enclosing', 'enclosure', 'enclosures', 'encoder', 'encompass', 'encompassing', 'encountered', 'encourage', 'encouraged', 'encouragement', 'encrypted', 'end', 'endless', 'endorsed', 'endoscope', 'endoscopic', 'endouroloy', 'endovascular', 'energies', 'energy', 'enfield', 'enforcement', 'eng', 'engage', 'engaged', 'engagement', 'engages', 'engaging', 'engine', 'engineer', 'engineered', 'engineering', 'engineers', 'engines', 'engl', 'england', 'english', 'engraver', 'engraving', 'enhance', 'enhanced', 'enhances', 'enhancing', 'enjoy', 'enjoyable', 'enjoying', 'enjoyment', 'enlargement', 'ennen', 'enormous', 'enough', 'enovia', 'enrich', 'enriches', 'ensure', 'ensures', 'ensuring', 'ent', 'enter', 'entering', 'enterprise', 'enterprises', 'entertainment', 'enthusiasm', 'enthusiastic', 'enthusiasts', 'entire', 'entirely', 'entities', 'entrances', 'entrepreneur', 'entrepreneurial', 'entrepreneurs', 'entrepreneurship', 'entrusted', 'entry', 'envelope', 'enviable', 'environment', 'environmental', 'environmentally', 'environments', 'envisiontec', 'envisiontecs', 'eo', 'eoir', 'eoirs', 'eos', 'epfl', 'epic', 'epo', 'epoxy', 'eps', 'equal', 'equip', 'equipment', 'equipments', 'equipped', 'equips', 'equity', 'er', 'era', 'erapid', 'erection', 'ergonomics', 'ergotron', 'eric', 'eroding', 'erosion', 'erp', 'erpro', 'error', 'errors', 'escalators', 'escan', 'escape', 'escrow', 'esd', 'esi', 'especially', 'espen', 'espescially', 'essen', 'essence', 'essential', 'essentially', 'essentium', 'essentiums', 'establish', 'established', 'establishment', 'estate', 'esteemed', 'estimating', 'estonia', 'eswin', 'etbaly', 'etc', 'etching', 'eth', 'ethernet', 'ethical', 'ethics', 'etienne', 'etten', 'eugene', 'eulers', 'eureka', 'euromold', 'europe', 'european', 'europes', 'euros', 'evaluate', 'evaluated', 'evaluates', 'evaluating', 'evaluation', 'evaluations', 'evan', 'evans', 'evco', 'evelopment', 'even', 'evendale', 'event', 'events', 'ever', 'everett', 'every', 'everybody', 'everyday', 'everyone', 'everything', 'evidenced', 'evident', 'evolution', 'evolutions', 'evolve', 'evolved', 'evolving', 'evonik', 'exact', 'exacting', 'exactly', 'exalead', 'examining', 'example', 'examples', 'exceed', 'exceeding', 'exceeds', 'excel', 'excellence', 'excellent', 'excellently', 'exceptional', 'exceptionally', 'exchange', 'exchangers', 'excited', 'exciting', 'exclusive', 'exclusively', 'execute', 'executed', 'executing', 'execution', 'exhibition', 'exhibitors', 'exist', 'existed', 'existent', 'existing', 'exmet', 'exocad', 'exone', 'exosols', 'exotic', 'expand', 'expandable', 'expanded', 'expanding', 'expands', 'expansion', 'expect', 'expectations', 'expected', 'expedite', 'expediting', 'expedition', 'expensive', 'experi', 'experience', 'experienced', 'experiences', 'experiment', 'experimental', 'experiments', 'expert', 'expertise', 'experts', 'explicit', 'exploded', 'exploitation', 'exploiting', 'exploration', 'explore', 'exploring', 'explosion', 'exponentially', 'export', 'exported', 'exports', 'exposed', 'exposing', 'express', 'expression', 'expressions', 'exquisite', 'extend', 'extended', 'extends', 'extension', 'extensions', 'extensive', 'extensively', 'extent', 'external', 'extra', 'extract', 'extraction', 'extraordinary', 'extreme', 'extremely', 'extruded', 'extruder', 'extruders', 'extrudes', 'extrusion', 'extrusions', 'eye', 'eyes', 'eyewear', 'ezd', 'fab', 'fabbeo', 'fabbing', 'fablab', 'fabless', 'fabnami', 'fabric', 'fabricate', 'fabricated', 'fabricates', 'fabricating', 'fabrication', 'fabrications', 'fabricator', 'fabricators', 'fabriclabs', 'fabrika', 'fabrisonic', 'fabrisonics', 'fabritrak', 'fabtory', 'fabtotum', 'face', 'facebook', 'faceted', 'facial', 'facilitate', 'facilitates', 'facilitating', 'facilities', 'facility', 'facilties', 'facing', 'fact', 'factories', 'factoring', 'factors', 'factory', 'fail', 'failed', 'fain', 'fairfield', 'fake', 'fall', 'fame', 'familiarity', 'family', 'famous', 'fan', 'fans', 'fantastic', 'far', 'farber', 'fargo', 'farhoomand', 'farm', 'farmington', 'faro', 'farsoon', 'fascinated', 'fascination', 'fashion', 'fast', 'fastener', 'fasteners', 'fastening', 'faster', 'fastest', 'fastsaving', 'fat', 'fathom', 'fault', 'faurecia', 'favero', 'favorably', 'favorite', 'fax', 'fcubic', 'fda', 'fdm', 'fea', 'feasibility', 'feasible', 'feature', 'featured', 'features', 'featuring', 'feb', 'february', 'federal', 'fee', 'feed', 'feedback', 'feedstocks', 'feel', 'feeling', 'feelings', 'feels', 'fees', 'feet', 'fehrman', 'feldkirchen', 'felt', 'femto', 'femtoprint', 'ferrari', 'ferriot', 'ferriots', 'ferro', 'ferrous', 'ferrules', 'ferster', 'fertilizer', 'fertilizers', 'festival', 'fetched', 'fff', 'ffl', 'fi', 'fiard', 'fiat', 'fiber', 'fiberglass', 'fiberoptic', 'fibers', 'fibracon', 'fibre', 'fibres', 'fictiv', 'fictivs', 'fidelity', 'field', 'fields', 'fifteen', 'figaro', 'figure', 'figures', 'figurines', 'fikir', 'filaflex', 'filament', 'filaments', 'file', 'filed', 'files', 'filing', 'fill', 'filled', 'filling', 'film', 'films', 'filter', 'filtration', 'final', 'finally', 'finance', 'financed', 'financial', 'find', 'finding', 'finds', 'fine', 'fineline', 'finest', 'finger', 'finish', 'finished', 'finishes', 'finishing', 'finland', 'fins', 'fire', 'firearm', 'firearms', 'fireproof', 'firm', 'firmly', 'firms', 'firmware', 'first', 'firstly', 'fisher', 'fishing', 'fit', 'fitchburg', 'fitd', 'fitness', 'fits', 'fitted', 'fitting', 'five', 'fives', 'fix', 'fixed', 'fixing', 'fixings', 'fixture', 'fixtures', 'fkm', 'fl', 'flagship', 'flame', 'flammable', 'flashforge', 'flashfusetm', 'flat', 'flatpyramid', 'fle', 'fleet', 'flex', 'flexan', 'flexibility', 'flexible', 'fleximatter', 'flexure', 'flexy', 'flight', 'flights', 'flint', 'flip', 'flo', 'floefd', 'floor', 'floors', 'floorstands', 'florida', 'floris', 'flow', 'fluid', 'fluidic', 'fluids', 'fly', 'fmcg', 'fn', 'foam', 'focus', 'focused', 'focuses', 'focusing', 'focussed', 'foldable', 'folded', 'folger', 'follow', 'followers', 'following', 'fonderie', 'fonon', 'fontaine', 'food', 'foodini', 'foods', 'foot', 'football', 'footprint', 'footwear', 'forbes', 'force', 'forced', 'forcedimension', 'forces', 'ford', 'forde', 'forecast', 'forefront', 'foreign', 'foremost', 'forensics', 'forerunner', 'forever', 'forge', 'forged', 'forges', 'forget', 'forging', 'forkey', 'forklift', 'form', 'forma', 'format', 'formation', 'formats', 'formatted', 'formed', 'former', 'formerly', 'forming', 'formlabs', 'formon', 'forms', 'formula', 'formulated', 'fort', 'fortification', 'fortune', 'fortus', 'forum', 'forums', 'forward', 'foster', 'fotofab', 'found', 'foundation', 'founded', 'founder', 'founders', 'founding', 'foundries', 'foundry', 'four', 'fpc', 'fr', 'fraction', 'fractometer', 'fraitag', 'frame', 'frames', 'framework', 'france', 'franchises', 'francis', 'francisco', 'frank', 'frankfurt', 'frankish', 'fraser', 'fraunhofer', 'fredericksburg', 'fredrik', 'free', 'freedom', 'freedoms', 'freeform', 'freelance', 'frei', 'fremont', 'french', 'frequency', 'fresh', 'freshfiber', 'freshness', 'freyburger', 'friction', 'fried', 'friedrich', 'friend', 'friendly', 'friends', 'friendship', 'front', 'frp', 'fruit', 'fruition', 'frustrations', 'frydman', 'ft', 'fti', 'fu', 'fudan', 'fuel', 'fueld', 'fuelds', 'fueled', 'fueling', 'fujifilm', 'fulfil', 'fulfill', 'fulfillment', 'full', 'fullest', 'fully', 'fume', 'fun', 'function', 'functional', 'functionality', 'functioning', 'functions', 'fund', 'fundamental', 'funded', 'funding', 'funds', 'fungicides', 'furnishing', 'furnishings', 'furniture', 'furthermore', 'fused', 'fuselage', 'fuselages', 'fuses', 'fusion', 'future', 'futurist', 'futuristics', 'gadgets', 'gadsden', 'gages', 'gain', 'gained', 'gaining', 'gaithersburg', 'galleries', 'gallery', 'galloway', 'gamble', 'gambody', 'game', 'gamebody', 'gamers', 'games', 'gaming', 'gap', 'garage', 'garden', 'gardening', 'gardner', 'gas', 'gases', 'gate', 'gathered', 'gatos', 'gauges', 'gauging', 'gave', 'gazelle', 'gbits', 'gcreate', 'gdp', 'ge', 'geae', 'gear', 'geared', 'gears', 'geico', 'gel', 'gelsight', 'general', 'generalized', 'generate', 'generated', 'generates', 'generating', 'generation', 'generations', 'generative', 'generators', 'generic', 'genes', 'genicad', 'gentex', 'gentle', 'genuine', 'geographical', 'geographies', 'geology', 'geomagic', 'geometric', 'geometrical', 'geometries', 'geometry', 'georg', 'george', 'georgia', 'geospatial', 'gerais', 'gerekletirir', 'gerken', 'german', 'germantown', 'germany', 'get', 'gets', 'getting', 'geus', 'gianfranco', 'giant', 'gibbscam', 'giesserei', 'gift', 'gifts', 'giftware', 'gigabot', 'gigabyte', 'gildemeister', 'girl', 'gis', 'github', 'giv', 'give', 'given', 'gives', 'giving', 'gkn', 'gladly', 'glass', 'glaxosmithkline', 'global', 'globally', 'globe', 'glorifying', 'gloss', 'glove', 'glowforge', 'glucose', 'gmax', 'gmbh', 'go', 'goal', 'goals', 'goengineer', 'goeppingen', 'going', 'gold', 'golden', 'golds', 'golf', 'gom', 'gone', 'good', 'goods', 'goofy', 'google', 'gorgeous', 'got', 'gothenburg', 'gouden', 'government', 'governmental', 'governments', 'gpi', 'gpl', 'gps', 'grabcad', 'gracefully', 'grad', 'grade', 'graduate', 'graduated', 'graduates', 'grafts', 'graitec', 'gram', 'grammer', 'gran', 'granada', 'gransson', 'granted', 'granulate', 'graphic', 'graphical', 'graphics', 'gratings', 'gratz', 'gravity', 'gray', 'great', 'greater', 'greatest', 'greatly', 'green', 'gregg', 'gregory', 'grew', 'grid', 'gridlock', 'grooming', 'ground', 'groundbreaking', 'group', 'groups', 'grove', 'grow', 'growing', 'grown', 'growth', 'grrf', 'grumman', 'grundahl', 'grune', 'gruppe', 'gsfc', 'gsr', 'gt', 'guan', 'guarantee', 'guaranteed', 'guaranteeing', 'guarantees', 'guarantor', 'gubesch', 'guelph', 'guidance', 'guide', 'guided', 'guidemia', 'guides', 'gulf', 'guns', 'guo', 'guys', 'gym', 'ha', 'habig', 'hackers', 'hacking', 'hagan', 'half', 'hall', 'hallmark', 'halloran', 'halma', 'halperin', 'halske', 'hamamatsu', 'hamburg', 'hamleys', 'hampshire', 'hand', 'handcraft', 'handful', 'handheld', 'handicraft', 'handle', 'handled', 'handler', 'handles', 'handling', 'handmade', 'hands', 'handy', 'handyprobe', 'handyscan', 'hankook', 'hans', 'happen', 'happiness', 'happy', 'happylab', 'haptic', 'haptically', 'haptics', 'hapto', 'harald', 'harbec', 'hard', 'hardened', 'hardi', 'hardness', 'hardware', 'harlan', 'harley', 'harness', 'harnesses', 'harold', 'harry', 'harvard', 'hasenauer', 'hasenfratz', 'hasley', 'hasseln', 'hassle', 'hathaway', 'haug', 'haus', 'hausgerate', 'hawaii', 'hawk', 'haydock', 'haystack', 'hazard', 'hazardous', 'hbinger', 'hbw', 'hd', 'hdapi', 'head', 'headed', 'headquarter', 'headquartered', 'headquarters', 'heads', 'healing', 'health', 'healthcare', 'healthier', 'hearing', 'heart', 'heartbeat', 'heat', 'heated', 'heating', 'heavily', 'heavy', 'heerbrugg', 'height', 'heimsheim', 'hek', 'held', 'heli', 'helicopters', 'helix', 'hello', 'helmets', 'helmstedt', 'help', 'helped', 'helping', 'helps', 'helzberg', 'hemodialysis', 'hemophilia', 'hence', 'henner', 'henry', 'hepa', 'hepatocyte', 'heralded', 'herbert', 'herbicides', 'heritage', 'hermetic', 'hero', 'hersheypark', 'herzog', 'hesser', 'hewlett', 'hexagon', 'hhi', 'hi', 'hich', 'hidden', 'hide', 'hides', 'high', 'highend', 'higher', 'highest', 'highlighting', 'highlights', 'highly', 'hill', 'hills', 'hinges', 'hintsteiner', 'hip', 'hire', 'hired', 'hiring', 'historical', 'history', 'hizmet', 'hizmetleri', 'hlu', 'hobby', 'hobbyist', 'hobbyists', 'hobs', 'hodson', 'hoff', 'hofmann', 'hoganas', 'hold', 'holding', 'holdings', 'holds', 'hole', 'holistic', 'hollows', 'holographic', 'home', 'homeowners', 'homes', 'homogeneous', 'homogenizers', 'honest', 'honesty', 'hong', 'honored', 'hoops', 'hope', 'hopes', 'horizon', 'horowitz', 'hosing', 'hospitality', 'hospitals', 'host', 'hostile', 'hosting', 'hosts', 'hot', 'hotel', 'hotels', 'houbertz', 'hour', 'hourly', 'hours', 'house', 'household', 'houses', 'housing', 'housings', 'houston', 'hovercraft', 'however', 'howmet', 'hp', 'hpl', 'hr', 'hrdler', 'hrs', 'hse', 'hti', 'http', 'https', 'huard', 'hub', 'hubs', 'hudson', 'huge', 'huitianwei', 'hull', 'human', 'humanitys', 'humans', 'hunan', 'hundred', 'hundreds', 'hungary', 'hunter', 'huntingdon', 'hurdles', 'husband', 'hvac', 'hybrid', 'hyderabad', 'hydraulic', 'hydraulics', 'hydro', 'hydroforming', 'hydroponics', 'hygienic', 'hype', 'hyprd', 'hyrel', 'ib', 'ibm', 'ic', 'ice', 'ichimura', 'ichor', 'icing', 'ico', 'iconic', 'iconic_d', 'iconicd', 'id', 'idc', 'idea', 'ideal', 'ideally', 'ideas', 'ideation', 'identical', 'identified', 'identify', 'identifying', 'identity', 'idex', 'ido', 'idols', 'ie', 'iec', 'iei', 'ies', 'iesa', 'igd', 'iges', 'ignited', 'ihde', 'ihu', 'iii', 'iin', 'il', 'ilicon', 'ilk', 'illinois', 'illumination', 'illustrates', 'ilmenau', 'image', 'imager', 'images', 'imaginable', 'imaginarium', 'imagination', 'imaginative', 'imagine', 'imaging', 'imakr', 'imaterialize', 'img', 'imirp', 'immediate', 'immediately', 'immersive', 'impact', 'impacted', 'impaired', 'impartial', 'impeccable', 'imperative', 'implant', 'implantable', 'implantadose', 'implants', 'implement', 'implementation', 'implementations', 'implementing', 'impm', 'importance', 'important', 'importantly', 'impossible', 'impregnation', 'impressive', 'imprimere', 'improve', 'improved', 'improvement', 'improvements', 'improving', 'impulse', 'ims', 'inaccessible', 'inc', 'inception', 'inch', 'include', 'included', 'includes', 'including', 'includingpopular', 'inclusive', 'incodema', 'incoherent', 'income', 'inconel', 'incorporate', 'incorporated', 'incorporates', 'incorporating', 'incorproated', 'increase', 'increased', 'increases', 'increasing', 'increasingly', 'incredible', 'incredibly', 'incriptions', 'incubated', 'incubation', 'incubator', 'incubators', 'incurred', 'independent', 'index', 'india', 'indian', 'indiana', 'indianapolis', 'indication', 'indiegogo', 'indirect', 'individual', 'individualise', 'individuality', 'individualized', 'individuals', 'indoor', 'indrek', 'induced', 'induction', 'indus', 'industrial', 'industrialization', 'industrialize', 'industrialized', 'industrials', 'industridesign', 'industrie', 'industries', 'industry', 'industrys', 'ineo', 'inexperience', 'infant', 'infarction', 'infections', 'infinite', 'inflexible', 'influence', 'influenced', 'influencers', 'influential', 'info', 'infocomm', 'infopro', 'information', 'informed', 'informing', 'informs', 'infrastructure', 'infrastructures', 'ingenious', 'ingenuity', 'ingot', 'ingredients', 'inhabitants', 'inhalation', 'inherent', 'inherently', 'inhibition', 'inhouse', 'iniciativas', 'initial', 'initially', 'initiate', 'initiated', 'initiative', 'injected', 'injection', 'injuries', 'injury', 'ink', 'inkjet', 'inks', 'inman', 'inner', 'innovate', 'innovates', 'innovating', 'innovation', 'innovations', 'innovative', 'innovator', 'innovators', 'innovmetric', 'inorganic', 'input', 'inquiries', 'ins', 'inscription', 'insecticides', 'insert', 'inserts', 'inside', 'insight', 'insights', 'insoles', 'insource', 'inspect', 'inspecting', 'inspection', 'inspectors', 'inspiration', 'inspirations', 'inspire', 'inspired', 'inspires', 'inspiring', 'instagram', 'install', 'installation', 'installations', 'installed', 'installs', 'instant', 'instantaneous', 'instantly', 'instead', 'instilled', 'institute', 'institutes', 'institution', 'institutional', 'institutions', 'instruction', 'instructors', 'instrument', 'instrumentation', 'instruments', 'instrumentts', 'insulating', 'insulin', 'insurance', 'insurances', 'insures', 'intake', 'intakes', 'intech', 'integra', 'integral', 'integras', 'integrate', 'integrated', 'integrates', 'integrating', 'integration', 'integrations', 'integrator', 'integrators', 'integrity', 'intel', 'intellctual', 'intellectual', 'intelligence', 'intelligent', 'intelligently', 'intended', 'intends', 'intensity', 'intent', 'intention', 'intentional', 'intentions', 'interact', 'interaction', 'interactions', 'interactive', 'interactively', 'interchangeable', 'interconnect', 'interconnects', 'interdisciplinary', 'interest', 'interested', 'interesting', 'interests', 'interface', 'interfaces', 'intergraph', 'interior', 'interiors', 'interlocks', 'intermediates', 'intern', 'internal', 'internally', 'international', 'internationally', 'internationals', 'internet', 'interoperability', 'interoperable', 'interpro', 'interrelated', 'intersection', 'intervenes', 'interventionists', 'interviews', 'intra', 'intraoral', 'intricate', 'introduce', 'introduced', 'introduces', 'introducing', 'introduction', 'intuitive', 'invaluable', 'invar', 'invariably', 'invasive', 'invent', 'invented', 'inventor', 'inventors', 'inventory', 'invents', 'invest', 'invested', 'investing', 'investment', 'investments', 'investor', 'investors', 'invests', 'invisalign', 'invisible', 'invista', 'invite', 'inviting', 'invoicing', 'involve', 'involved', 'involvement', 'involves', 'involving', 'io', 'ion', 'ionic', 'ios', 'iot', 'iowa', 'ip', 'ipad', 'ipf', 'iphone', 'ipod', 'ipp', 'ipro', 'iq', 'ir', 'iraj', 'ireland', 'irketlere', 'irkettir', 'iron', 'irving', 'isa', 'isisd', 'iso', 'isocyanates', 'ispace', 'israel', 'israeli', 'issues', 'istanbul', 'istep', 'isv', 'italian', 'italy', 'itar', 'item', 'items', 'iteration', 'iterations', 'iterative', 'jabil', 'jacob', 'jacques', 'jaguar', 'jain', 'jake', 'james', 'janicki', 'january', 'japan', 'jared', 'jasen', 'jasper', 'javelin', 'jb', 'jealous', 'jeremie', 'jerry', 'jersey', 'jerseys', 'jessen', 'jet', 'jetting', 'jewelery', 'jewellers', 'jewellery', 'jewelry', 'jh', 'jica', 'jigs', 'joachim', 'job', 'jobs', 'john', 'johnson', 'join', 'joined', 'joining', 'joint', 'joints', 'jon', 'jonatek', 'jorrit', 'jose', 'josef', 'joseph', 'journey', 'jr', 'jrg', 'jsc', 'juggerbot', 'juggerbots', 'juice', 'july', 'jump', 'junction', 'june', 'jure', 'justin', 'jwt', 'jyllinge', 'kaarta', 'kaartas', 'kab', 'kabili', 'kaiserd', 'kalitesi', 'kamp', 'kamprelations', 'kansas', 'kaohsiung', 'kapfenberg', 'kapton', 'kate', 'kateeva', 'katie', 'kayak', 'kazzata', 'keep', 'keeping', 'keeps', 'kegelmann', 'keith', 'keiths', 'kellogg', 'kelsey', 'kemo', 'kennametal', 'kept', 'kevin', 'kevlar', 'key', 'keyboard', 'keycreator', 'keyed', 'keyence', 'keymachinist', 'keynote', 'keystone', 'kg', 'khemisset', 'khosla', 'kickstarter', 'kidd', 'kids', 'kimball', 'kind', 'kinds', 'kingdom', 'kinpo', 'kiosks', 'kirschner', 'kisslicer', 'kit', 'kitchen', 'kitchens', 'kits', 'kitting', 'kiwid', 'kiyoshi', 'kksp', 'kl', 'klaus', 'kleiner', 'km', 'knew', 'knit', 'knives', 'know', 'knowing', 'knowledge', 'knowledgeable', 'known', 'knuckles', 'koch', 'kodama', 'kolkata', 'kong', 'konica', 'konusunda', 'koo', 'koppaz', 'korea', 'korean', 'kosovar', 'kotthaus', 'kraftwurx', 'krakw', 'krenn', 'kreutzburg', 'kreuznach', 'krieger', 'ks', 'kubotek', 'kudod', 'kullanlmas', 'kumar', 'kumpf', 'kunststoffen', 'kunststoffstofftechnik', 'kunststofftechnik', 'kurtaran', 'kurtis', 'kurumsal', 'kw', 'ky', 'kyle', 'la', 'lab', 'label', 'labeled', 'laboratories', 'laboratory', 'labour', 'labs', 'ladder', 'lae', 'laird', 'lajoinie', 'lake', 'laminated', 'laminates', 'laminating', 'lampand', 'lamps', 'land', 'landscape', 'langhorne', 'language', 'laparoscopic', 'laptop', 'laptops', 'large', 'largely', 'larger', 'largest', 'laser', 'lasercusing', 'lasers', 'lasertec', 'lasertechnik', 'lasse', 'last', 'lastest', 'lasting', 'lasts', 'latches', 'late', 'later', 'lateral', 'latest', 'latesting', 'latex', 'lathe', 'lathes', 'latin', 'latrobe', 'lattice', 'launch', 'launched', 'launching', 'laurence', 'laurent', 'lausanne', 'law', 'lawrence', 'lawyers', 'layer', 'layered', 'layering', 'layerlabz', 'layers', 'layerwise', 'laying', 'layout', 'layr', 'layup', 'lcd', 'le', 'lead', 'leader', 'leaders', 'leadership', 'leading', 'leads', 'leaguer', 'lean', 'leandro', 'leans', 'leap', 'leapfrog', 'leaps', 'leaptod', 'learjet', 'learn', 'learned', 'learners', 'learning', 'lease', 'leases', 'leasing', 'leather', 'leaves', 'leaving', 'lecco', 'lecturer', 'led', 'leds', 'left', 'legacy', 'legendary', 'legitimate', 'leica', 'leigh', 'leinfelden', 'lem', 'lending', 'length', 'lenovo', 'lens', 'lenses', 'leonard', 'les', 'leslie', 'less', 'lessening', 'lesson', 'lessons', 'let', 'lets', 'letter', 'letting', 'leur', 'leuven', 'level', 'leveling', 'levels', 'leverage', 'leverages', 'leveraging', 'lewis', 'lexington', 'lgm', 'li', 'liang', 'libraries', 'library', 'libre', 'licensable', 'license', 'licensed', 'licenses', 'licensing', 'lichtenfels', 'lidar', 'lies', 'life', 'lifecycle', 'lifelike', 'lifestyle', 'lifestyles', 'lifesync', 'lifetime', 'lifetimes', 'lifts', 'light', 'lighter', 'lighting', 'lights', 'lightweight', 'lightweighting', 'like', 'likes', 'limb', 'limbs', 'limitation', 'limitations', 'limited', 'limiting', 'limitless', 'limits', 'linamar', 'line', 'linear', 'liners', 'lines', 'link', 'linkd', 'linkedin', 'links', 'linux', 'lionhead', 'lior', 'lips', 'liquid', 'liquids', 'lisa', 'list', 'listed', 'listening', 'lit', 'liteon', 'literally', 'literary', 'lithium', 'lithography', 'lithoprofd', 'lithosoftd', 'lithostreamd', 'lithoz', 'lithuania', 'little', 'littoral', 'live', 'lives', 'living', 'livonia', 'liz', 'llc', 'lmi', 'load', 'loans', 'local', 'localities', 'locality', 'localized', 'locally', 'locate', 'located', 'location', 'locations', 'lock', 'locked', 'lockheed', 'locking', 'lod', 'logged', 'logic', 'logistical', 'logistics', 'logos', 'lois', 'lollipop', 'london', 'long', 'longer', 'longest', 'longevity', 'longmont', 'longstanding', 'longtime', 'look', 'looking', 'loom', 'loop', 'lori', 'los', 'lose', 'loses', 'loss', 'losses', 'lost', 'lot', 'louis', 'lounge', 'love', 'loved', 'loveland', 'lovely', 'lovers', 'low', 'lower', 'lowering', 'lowes', 'lowest', 'loyal', 'loyalty', 'lpe', 'lphaform', 'lq', 'ls', 'lsr', 'lt', 'ltd', 'ltx', 'lubeck', 'luc', 'lucasfilm', 'luck', 'lucky', 'ludwigshafen', 'lugano', 'luggage', 'lukis', 'lulzbot', 'luma', 'lumifold', 'lumireact', 'lure', 'lures', 'luther', 'lux', 'luxcreo', 'luxexcel', 'luxury', 'lvis', 'lyon', 'maastricht', 'mac', 'maches', 'machinability', 'machine', 'machinebuilder', 'machined', 'machinery', 'machines', 'machining', 'machinist', 'machinists', 'macintosh', 'mack', 'made', 'madrid', 'maelzer', 'mafra', 'magazine', 'magazines', 'magelaan', 'magento', 'magic', 'magics', 'magnesium', 'magnetic', 'magnetism', 'magneto', 'magnetojet', 'magnetojets', 'magnitude', 'mahdevi', 'mahendra', 'mail', 'mailed', 'main', 'mainboard', 'mainboards', 'maine', 'mainly', 'mainstream', 'maintain', 'maintained', 'maintaining', 'maintains', 'maintenance', 'major', 'majority', 'make', 'makeblock', 'makefast', 'maker', 'makerarm', 'makerbot', 'makerelay', 'makergear', 'makeros', 'makers', 'makerstage', 'makes', 'maketime', 'maketimes', 'makeup', 'makexyz', 'makielab', 'makies', 'making', 'makings', 'malaysia', 'malcolm', 'mall', 'malocclusion', 'man', 'manage', 'managed', 'management', 'manager', 'managers', 'manages', 'managing', 'manchester', 'mandate', 'manifolds', 'manipulated', 'manipulates', 'manipulation', 'manipulative', 'manitowoc', 'mankati', 'manmade', 'manned', 'manner', 'mantis', 'mantisvision', 'manu', 'manuafacturing', 'manual', 'manufactory', 'manufacturability', 'manufacturable', 'manufacture', 'manufactured', 'manufacturer', 'manufacturers', 'manufactures', 'manufacturing', 'manufacturingto', 'manulith', 'many', 'map', 'maple', 'mapping', 'maps', 'maquettes', 'march', 'marchant', 'mareco', 'maria', 'marine', 'maritime', 'mark', 'markasdr', 'market', 'marketable', 'marketer', 'marketing', 'marketplace', 'marketplaces', 'marketplacethe', 'markets', 'marketshare', 'markforged', 'marking', 'marks', 'markups', 'markus', 'marmax', 'mart', 'martello', 'martijn', 'martin', 'martinrea', 'martinsville', 'marvel', 'mary', 'maryland', 'marysville', 'maschine', 'masking', 'mass', 'massachusetts', 'massive', 'massivit', 'massivitd', 'master', 'mastercard', 'mastering', 'masterpieces', 'masters', 'mastery', 'matador', 'match', 'matched', 'matches', 'matching', 'material', 'materialise', 'materialization', 'materialize', 'materializing', 'materials', 'materialsputting', 'math', 'mathcad', 'mathematics', 'mathias', 'mathieu', 'matic', 'matrix', 'matson', 'mattel', 'matter', 'mattercontrol', 'matterfab', 'matterform', 'matterhackers', 'matters', 'maturation', 'mature', 'maura', 'max', 'maxillofacial', 'maximize', 'maximizes', 'maximizing', 'maximum', 'may', 'maya', 'mayville', 'mc', 'mcad', 'mcdonald', 'mcginley', 'mckenna', 'mcm', 'mcmurtry', 'mcor', 'mcors', 'mcp', 'md', 'mdf', 'mead', 'mean', 'means', 'meant', 'meantime', 'measurable', 'measure', 'measurement', 'measurements', 'measuring', 'mebotics', 'meccatronicore', 'mech', 'mechanic', 'mechanical', 'mechanically', 'mechanics', 'mechanicsoverall', 'mechanism', 'mechanisms', 'mechatronics', 'mecuris', 'med', 'medaphor', 'media', 'medias', 'medical', 'medicine', 'medisize', 'medium', 'medtronic', 'meern', 'meet', 'meeting', 'meets', 'mega', 'melamine', 'melotte', 'melrose', 'melted', 'melting', 'melts', 'member', 'members', 'membrane', 'memorabilia', 'memory', 'mems', 'men', 'mendel', 'mensch', 'mention', 'mentor', 'menu', 'merchandise', 'merchandising', 'merely', 'merger', 'merges', 'merrell', 'mes', 'mesh', 'meshing', 'message', 'messaging', 'met', 'metabolic', 'metabolism', 'metabolites', 'metal', 'metalcraft', 'metaldyne', 'metalformed', 'metallic', 'metallization', 'metallurgical', 'metallurgy', 'metalmorpher', 'metals', 'metalworking', 'metamquina', 'metering', 'meters', 'method', 'methode', 'methodologies', 'methodology', 'methods', 'metrascan', 'metrologists', 'metrology', 'metropolis', 'mevcut', 'mexico', 'meybaum', 'mfc', 'mfds', 'mfg', 'mfgfind', 'mfps', 'mgs', 'mhd', 'mi', 'mich', 'michael', 'michelin', 'michigan', 'micro', 'microboards', 'microelectronics', 'microfluidic', 'microlens', 'microlenses', 'micromac', 'micrometers', 'micron', 'microns', 'microprecision', 'microprint', 'microprocessor', 'microscopes', 'microsoft', 'microstation', 'microstereolithography', 'microsystems', 'microwave', 'mid', 'middle', 'midi', 'midland', 'midway', 'midwest', 'might', 'miguel', 'mike', 'mil', 'milan', 'milestones', 'milford', 'military', 'milk', 'mill', 'millebot', 'millebots', 'millimetre', 'milling', 'million', 'millions', 'mills', 'millwrighting', 'milwaukee', 'mim', 'min', 'minas', 'mind', 'mindlessly', 'mindset', 'mine', 'minecraft', 'minerals', 'mini', 'miniature', 'miniatures', 'miniaturization', 'minimal', 'minimally', 'minimize', 'minimizing', 'minimum', 'mining', 'ministery', 'mink', 'minneapolis', 'minolta', 'minority', 'mins', 'minute', 'minutes', 'mis', 'miscellaneous', 'missile', 'missiles', 'mission', 'missions', 'missouri', 'misunderstandings', 'mit', 'mitchell', 'mitigate', 'mix', 'mixed', 'mixee', 'mixing', 'mizars', 'mjf', 'mjm', 'mjp', 'mjsa', 'mk', 'ml', 'mm', 'mn', 'mnl', 'mnls', 'mobile', 'mobility', 'mobilt', 'mock', 'mode', 'model', 'modeler', 'modelers', 'modeling', 'modelling', 'modelmakers', 'modelmaking', 'models', 'modelshop', 'moderated', 'modern', 'modernizations', 'modernize', 'modernizes', 'moderntech', 'modes', 'modification', 'modified', 'modify', 'modifying', 'modio', 'modular', 'module', 'modules', 'moeller', 'mog', 'mold', 'molded', 'molder', 'molders', 'moldexd', 'moldflow', 'moldflowplastic', 'moldform', 'molding', 'moldings', 'moldless', 'moldmaker', 'moldmaking', 'molds', 'molecular', 'molecule', 'molex', 'molten', 'moment', 'monetization', 'monetize', 'money', 'monition', 'monitor', 'monitoring', 'monitors', 'monkeyfab', 'monoprice', 'month', 'monthly', 'months', 'montreal', 'moog', 'morals', 'morean', 'moreau', 'moreno', 'moreover', 'mori', 'morocco', 'morpheus', 'mortar', 'mosaic', 'moscow', 'mostly', 'motherboard', 'motion', 'motivate', 'motivated', 'motivating', 'motor', 'motorcycle', 'motorola', 'motors', 'motorsport', 'motorway', 'motto', 'mould', 'moulded', 'moulding', 'moulds', 'mount', 'mountability', 'mountain', 'mounting', 'mounts', 'mouth', 'mouthpiece', 'mouthpieces', 'move', 'moved', 'movement', 'movements', 'moves', 'movie', 'movies', 'moving', 'mpa', 'mpg', 'mpi', 'mpm', 'mr', 'mri', 'mris', 'mro', 'mrp', 'mrs', 'msc', 'msds', 'msla', 'msoe', 'mt', 'mtm', 'mtt', 'much', 'mult', 'multec', 'multek', 'multi', 'multicellular', 'multicultural', 'multidisciplinary', 'multifaceted', 'multifunction', 'multilayered', 'multimaterial', 'multimedia', 'multimodal', 'multinational', 'multinationals', 'multiphoton', 'multiple', 'multiples', 'multipurpose', 'multislide', 'multitest', 'multitude', 'munich', 'mure', 'murphy', 'mursix', 'musculoskeletal', 'museum', 'music', 'musical', 'musician', 'must', 'mvd', 'mw', 'mydea', 'myers', 'myminifactory', 'myocardial', 'mypine', 'myriad', 'mystery', 'nab', 'nable', 'nadcap', 'nagy', 'nail', 'namaste', 'name', 'named', 'namely', 'names', 'nancy', 'nano', 'nanocrystalline', 'nanodose', 'nanofabrica', 'nanofibre', 'nanoparticle', 'nanoparticles', 'nanosoft', 'nanosofts', 'nanostructures', 'nantong', 'naples', 'narrow', 'narrower', 'narusk', 'nasa', 'nasdaq', 'naso', 'natel', 'nathan', 'nation', 'national', 'nationally', 'nations', 'nationwide', 'native', 'natural', 'nature', 'naval', 'naveen', 'navigate', 'nc', 'ncore', 'ncsimul', 'ndt', 'nea', 'near', 'nearly', 'necessarily', 'necessary', 'necessities', 'neck', 'necklace', 'necklaces', 'neco', 'need', 'needed', 'needing', 'needlessly', 'needs', 'neenah', 'neighborhood', 'neighborhoods', 'nemetschek', 'neo', 'neometrix', 'nepa', 'nephrology', 'nerds', 'nerve', 'ness', 'nesting', 'net', 'netfabb', 'netherlands', 'netting', 'network', 'networkable', 'networking', 'networks', 'neumann', 'neurological', 'neuromodulation', 'neurosurgery', 'neutral', 'nevada', 'never', 'new', 'newark', 'newbury', 'newburyport', 'newer', 'newest', 'newly', 'news', 'nexd', 'next', 'nextdent', 'nextdents', 'nextengine', 'ng', 'nhat', 'nice', 'niche', 'niches', 'nicholls', 'nick', 'nickel', 'nidwald', 'niederberger', 'nigbor', 'nikao', 'niklasdorf', 'nil', 'niles', 'nilt', 'nine', 'ninth', 'nj', 'nl', 'nn', 'nobitec', 'nodes', 'noi', 'noise', 'nokia', 'non', 'none', 'nonprofit', 'norcross', 'nord', 'nordson', 'norge', 'norm', 'norma', 'normal', 'normally', 'norman', 'norsk', 'nortech', 'nortek', 'north', 'northern', 'northgate', 'northrop', 'northwest', 'northype', 'norway', 'norwegian', 'notch', 'notebook', 'notebooks', 'nothing', 'notice', 'noticed', 'notified', 'notion', 'notre', 'nova', 'novabeans', 'novel', 'november', 'novice', 'novint', 'novogen', 'nozzle', 'nozzles', 'np', 'npi', 'nsf', 'nuclear', 'nugent', 'nuhill', 'nuhills', 'nuloch', 'number', 'numerical', 'numerous', 'nupak', 'nupaks', 'nuremberg', 'nurses', 'nurture', 'nussbaum', 'nutrition', 'nutritious', 'nutshell', 'nv', 'nvbots', 'nvidia', 'nvlabs', 'nvpro', 'nw', 'ny', 'nybakke', 'nyc', 'nylon', 'nypro', 'nyse', 'nyu', 'oaks', 'object', 'objectifiers', 'objective', 'objectives', 'objects', 'objet', 'observe', 'obtain', 'obtained', 'obvious', 'oc', 'occasion', 'occasionally', 'occasions', 'occipital', 'occupied', 'occur', 'oct', 'october', 'ocular', 'odaly', 'odm', 'oem', 'oems', 'oerlikon', 'offer', 'offered', 'offering', 'offerings', 'offers', 'office', 'offices', 'official', 'officially', 'offs', 'offshore', 'offshoring', 'offsite', 'ofitscustomers', 'often', 'ogle', 'oh', 'ohio', 'ohrstrom', 'oil', 'ok', 'okdo', 'oklahoma', 'old', 'oldest', 'oldfashioned', 'oled', 'oleds', 'olsztyn', 'olympus', 'omega', 'omnid', 'onboard', 'oncore', 'one', 'ones', 'ongoing', 'online', 'ons', 'onshape', 'onshore', 'onsite', 'ontario', 'onto', 'open', 'opencreators', 'opened', 'openers', 'opengl', 'opening', 'opens', 'openscad', 'opentrons', 'operate', 'operated', 'operates', 'operating', 'operation', 'operational', 'operations', 'operative', 'operatively', 'operator', 'operators', 'opg', 'ophthalmic', 'opinion', 'opinions', 'opm', 'opportunities', 'opportunity', 'ops', 'opss', 'opt', 'optic', 'optical', 'optics', 'optimal', 'optimised', 'optimization', 'optimizations', 'optimize', 'optimized', 'optimizes', 'optimizing', 'optimum', 'option', 'optionally', 'options', 'optix', 'opto', 'optoelectronic', 'optoelectronics', 'optofluidics', 'optoid', 'optomec', 'oral', 'orally', 'orange', 'orbital', 'orcad', 'orchestrate', 'orchid', 'ord', 'order', 'ordering', 'orders', 'ordinary', 'ore', 'oregon', 'orem', 'org', 'organ', 'organic', 'organisation', 'organisations', 'organization', 'organizations', 'organize', 'organized', 'organovo', 'organs', 'orges', 'orient', 'oriented', 'origin', 'original', 'originally', 'origins', 'orion', 'orlando', 'orthodontic', 'orthodontics', 'orthodontist', 'orthodontists', 'orthopaedic', 'orthopaedics', 'orthopeadics', 'orthopedic', 'orthoses', 'orthotics', 'orthotists', 'orthoview', 'os', 'osaka', 'oscillating', 'osd', 'osram', 'ossa', 'osseointegration', 'oth', 'others', 'otherwise', 'oulu', 'outcome', 'outcomes', 'outdoor', 'outdoors', 'outfitted', 'outgoing', 'outlay', 'outlets', 'outperform', 'output', 'outputs', 'outs', 'outset', 'outside', 'outsource', 'outsourced', 'outsourcing', 'outstanding', 'oven', 'overall', 'overbook', 'overcome', 'overcomes', 'overhangs', 'overhaul', 'overhead', 'overlooking', 'overnight', 'overpromise', 'oversea', 'overseas', 'oversees', 'oversize', 'overturning', 'overview', 'owl', 'owned', 'owner', 'owners', 'ownership', 'owning', 'owns', 'oxford', 'oxsybio', 'pa', 'pace', 'paced', 'pacific', 'pack', 'package', 'packaged', 'packages', 'packaging', 'packard', 'packed', 'packing', 'padding', 'padt', 'page', 'pain', 'painless', 'paint', 'painted', 'painting', 'pair', 'paired', 'pairing', 'palladium', 'palmolive', 'palo', 'panel', 'panels', 'panorama', 'panoramas', 'paper', 'paperless', 'par', 'paradigm', 'paragon', 'paraguay', 'parallel', 'paramate', 'paramates', 'parameterization', 'parameters', 'parametric', 'paramit', 'paramount', 'parasolid', 'parent', 'paris', 'park', 'parkinsons', 'parks', 'part', 'partec', 'partial', 'participate', 'participated', 'participation', 'particle', 'particular', 'particularly', 'partner', 'partnered', 'partnering', 'partners', 'partnership', 'partnerships', 'parts', 'party', 'pasadena', 'passenger', 'passing', 'passion', 'passionate', 'passionately', 'passivation', 'passive', 'past', 'paste', 'pastes', 'patent', 'patented', 'patents', 'path', 'pathologies', 'pathology', 'patient', 'patients', 'pattern', 'patterning', 'patternless', 'patterns', 'paulo', 'pay', 'payment', 'payments', 'paypal', 'pays', 'pazarlama', 'pazarlamas', 'pc', 'pcb', 'pcba', 'pcbs', 'pd', 'pdm', 'pdu', 'peace', 'peak', 'pearce', 'pecialization', 'pedorthists', 'peek', 'peerless', 'peers', 'pekk', 'pella', 'pendant', 'pendants', 'pending', 'penn', 'pennsylvania', 'penny', 'pens', 'people', 'peoples', 'peps', 'peptides', 'per', 'percent', 'perf', 'perfactory', 'perfect', 'perfected', 'perfecting', 'perfection', 'perfectly', 'perform', 'performance', 'performances', 'performed', 'performing', 'perfume', 'perfumery', 'perhaps', 'peridot', 'period', 'peripheral', 'peripherals', 'periphery', 'perkins', 'permit', 'permits', 'perreault', 'persistently', 'person', 'personal', 'personalisation', 'personality', 'personalization', 'personalize', 'personalized', 'personally', 'personlize', 'personnel', 'persons', 'perspective', 'pertinent', 'pet', 'peter', 'petersburg', 'petrochemical', 'petrochemicals', 'petroleum', 'pettis', 'pfaffikon', 'pforzheim', 'pham', 'pharmaceutical', 'pharmaceuticals', 'phase', 'phaseplates', 'phases', 'phd', 'phenix', 'phenolic', 'phi', 'philadelphia', 'philip', 'philips', 'phillips', 'philosophy', 'phoenix', 'phone', 'phones', 'photo', 'photochemical', 'photofinishing', 'photogrammetric', 'photogrammetry', 'photographic', 'photography', 'photometric', 'photonics', 'photorealistic', 'photos', 'photosensitive', 'phyisical', 'physical', 'physician', 'physics', 'pi', 'pick', 'pico', 'picture', 'pictures', 'piece', 'pieces', 'piezoelectric', 'pigments', 'pilot', 'pin', 'pine', 'pinion', 'pioneer', 'pioneered', 'pioneering', 'pioneers', 'pipe', 'pipeline', 'pipelines', 'piper', 'pipetting', 'piping', 'pirated', 'pirx', 'pittsburgh', 'pivoted', 'pixar', 'pixel', 'pla', 'place', 'placed', 'placement', 'places', 'placing', 'plain', 'plan', 'planar', 'plane', 'planes', 'planet', 'planning', 'planplatform', 'plans', 'plant', 'plants', 'plasma', 'plassotech', 'plaster', 'plastic', 'plastics', 'plasturgy', 'plate', 'plates', 'platform', 'platforms', 'plating', 'platinum', 'play', 'player', 'players', 'playing', 'plays', 'playspace', 'plc', 'please', 'pleasure', 'plenty', 'plethora', 'plexus', 'plm', 'plotters', 'plotting', 'ployamide', 'plug', 'pluggable', 'plugin', 'plugins', 'plumbing', 'plunge', 'plunkett', 'plus', 'plyable', 'pmc', 'pmp', 'pneumatics', 'po', 'pocket', 'pod', 'podiatrists', 'point', 'points', 'poised', 'polak', 'poland', 'polar', 'polarimetric', 'polarimetry', 'policy', 'polish', 'polishing', 'politcnica', 'politics', 'pollen', 'polyamides', 'polycarbonate', 'polygraphy', 'polyjet', 'polymaker', 'polymakers', 'polymer', 'polymers', 'polymorpher', 'polytechnic', 'polyurethane', 'polyvinyl', 'polyworks', 'pomigliano', 'pompano', 'ponoko', 'pools', 'pop', 'popular', 'porcelain', 'pornographic', 'porqueras', 'port', 'portable', 'portal', 'portals', 'portec', 'portfolio', 'portfolios', 'portions', 'portland', 'portugal', 'portuguese', 'pose', 'posibility', 'position', 'positioned', 'positioning', 'positions', 'positive', 'possess', 'possessed', 'possibilites', 'possibilities', 'possibility', 'possibilty', 'possible', 'possibly', 'post', 'postal', 'postea', 'posting', 'postnord', 'postprocess', 'posture', 'potash', 'potential', 'potentially', 'poulina', 'poway', 'powder', 'powdered', 'powders', 'power', 'powered', 'powerful', 'powering', 'powerphotonic', 'powersports', 'powertrain', 'powerwall', 'poznan', 'pr', 'pra', 'practical', 'practicality', 'practically', 'practice', 'practices', 'practicing', 'practise', 'practitioners', 'prairie', 'praised', 'pratt', 'pre', 'precast', 'precious', 'precise', 'precisely', 'precision', 'precisioned', 'precription', 'predecessor', 'predictability', 'predictive', 'predominantly', 'preeminent', 'prefer', 'preferences', 'preferred', 'premier', 'premiere', 'premise', 'premises', 'premium', 'preparation', 'prepare', 'prepared', 'preparers', 'preparing', 'preschool', 'prescription', 'presence', 'present', 'presentation', 'presentations', 'presently', 'presents', 'preservation', 'preserving', 'preset', 'president', 'press', 'pressed', 'presses', 'pressing', 'pressure', 'pressures', 'prestashop', 'prestigious', 'pretty', 'preumont', 'prevent', 'previously', 'prf', 'prg', 'price', 'priced', 'prices', 'pricing', 'pride', 'prideful', 'prides', 'prima', 'primarily', 'primary', 'primayer', 'prime', 'primesense', 'principal', 'principle', 'principles', 'print', 'printability', 'printable', 'printeable', 'printed', 'printelize', 'printer', 'printers', 'printing', 'printings', 'printinweg', 'printivate', 'printmate', 'prints', 'printshopand', 'printsmith', 'printsnot', 'printstronglikemetal', 'printtaste', 'printtopeer', 'prior', 'priority', 'prismier', 'privacy', 'private', 'privately', 'privileged', 'prizmiq', 'pro', 'probably', 'probe', 'probes', 'probing', 'problem', 'problematic', 'problems', 'procast', 'procedimientos', 'procedure', 'procedures', 'process', 'processed', 'processes', 'processing', 'procter', 'procurement', 'prod', 'prodeskd', 'produce', 'produced', 'producer', 'producers', 'produces', 'producing', 'product', 'production', 'productive', 'productivity', 'products', 'productstheir', 'produform', 'prodways', 'proengineer', 'prof', 'profession', 'professional', 'professionalism', 'professionally', 'professionals', 'professions', 'professor', 'professors', 'proficient', 'profile', 'profiles', 'profit', 'profitability', 'profitable', 'profitably', 'proform', 'profound', 'program', 'programmable', 'programme', 'programming', 'programs', 'progres', 'progress', 'progression', 'progressive', 'prohibitive', 'proje', 'project', 'projected', 'projectescher', 'projectors', 'projects', 'projectwise', 'projet', 'prolific', 'promau', 'prominent', 'promise', 'promising', 'promod', 'promote', 'promoting', 'promotion', 'promotional', 'prompt', 'proof', 'properly', 'properties', 'property', 'proportionally', 'proposes', 'proprietary', 'propulsion', 'prospect', 'prosperity', 'prosperous', 'prostheses', 'prosthesis', 'prosthetic', 'prosthetics', 'prosthetists', 'prosumer', 'prosumers', 'protect', 'protected', 'protecting', 'protection', 'protects', 'protein', 'proteins', 'protek', 'proto', 'protocad', 'protocafe', 'protocam', 'protogenic', 'protomatic', 'protos', 'prototal', 'prototec', 'prototek', 'prototipos', 'prototypage', 'prototype', 'prototyped', 'prototypen', 'prototypenbau', 'prototypenzentrum', 'prototyper', 'prototypers', 'prototypes', 'prototyping', 'prototypists', 'prototypy', 'protypage', 'proud', 'proudly', 'prove', 'provel', 'proven', 'provenance', 'provide', 'provided', 'provider', 'providers', 'provides', 'providing', 'proving', 'provision', 'provisional', 'prox', 'prusa', 'psg', 'psi', 'ptc', 'ptfe', 'public', 'publication', 'publications', 'publish', 'publishers', 'publishes', 'publishing', 'pull', 'pulling', 'pulp', 'pulsed', 'pumpkin', 'pumps', 'punch', 'punching', 'pune', 'purchase', 'purchased', 'purdue', 'pure', 'purity', 'purpose', 'purposes', 'pursued', 'pursuit', 'push', 'pushes', 'pushing', 'put', 'puts', 'putting', 'putty', 'pvd', 'python', 'qc', 'qmc', 'qs', 'qsit', 'qsr', 'quad', 'quagmire', 'qualification', 'qualifications', 'qualified', 'qualify', 'qualitative', 'qualities', 'quality', 'quantities', 'quantity', 'quarry', 'quartered', 'quebec', 'queens', 'quest', 'question', 'questions', 'queueing', 'queues', 'quick', 'quicker', 'quickest', 'quickly', 'quickparts', 'quicktools', 'quidient', 'quidients', 'quinn', 'quite', 'quo', 'quote', 'quotes', 'quoting', 'raab', 'rabbit', 'racing', 'racist', 'rack', 'racks', 'radan', 'radar', 'radiant', 'radical', 'radio', 'radiography', 'radiospares', 'radius', 'rafael', 'raft', 'rail', 'railway', 'rainer', 'raise', 'raised', 'raising', 'rales', 'ralph', 'ramin', 'ran', 'ranching', 'randy', 'range', 'ranged', 'ranges', 'rangevision', 'ranging', 'ranked', 'rankings', 'ranks', 'rapid', 'rapider', 'rapidly', 'rapidnylon', 'rapidobject', 'rapidpro', 'rapidprotocasting', 'rapidprototyping', 'rapidpsi', 'rapitypes', 'raspberry', 'raster', 'rate', 'rates', 'rather', 'rating', 'rattle', 'raw', 'ray', 'raymond', 'rca', 'rco', 'rd', 'reach', 'reaches', 'reaching', 'reactive', 'reactivity', 'read', 'readers', 'readily', 'readiness', 'ready', 'reagents', 'real', 'realisation', 'realised', 'realism', 'realistic', 'realities', 'reality', 'realitys', 'realization', 'realize', 'realized', 'realizing', 'really', 'realtime', 'reap', 'rear', 'reason', 'reasonable', 'reasons', 'rebooting', 'rebuilt', 'receipt', 'receive', 'receiving', 'recent', 'recently', 'recoater', 'recoating', 'recognise', 'recognised', 'recognition', 'recognize', 'recognized', 'recognizing', 'recommend', 'recommendations', 'reconfigurable', 'reconstruction', 'record', 'recording', 'recordings', 'recovery', 'recreation', 'recreational', 'recreus', 'rectify', 'recyclability', 'recyclable', 'recycled', 'recycles', 'recycling', 'red', 'reddot', 'redefine', 'redefines', 'redefining', 'redesigned', 'redirecting', 'redlaser', 'reduce', 'reduced', 'reduces', 'reducing', 'reduction', 'reductions', 'reference', 'references', 'referrals', 'referred', 'refers', 'refine', 'refined', 'refinement', 'refining', 'reflect', 'reflected', 'reflection', 'reflow', 'refractive', 'refractory', 'refreshed', 'refrigeration', 'refurbish', 'refurbishment', 'regarded', 'regardless', 'regards', 'regemat', 'regematd', 'regenerative', 'regenhu', 'region', 'regional', 'regionally', 'regions', 'registered', 'registrar', 'regular', 'regulation', 'regulations', 'regulatory', 'rehabilitation', 'rehearsal', 'rehovot', 'reifyd', 'reimagining', 'reimbursement', 'rein', 'reinforced', 'reinvent', 'reinvented', 'reinventing', 'reklam', 'relate', 'related', 'relates', 'relating', 'relations', 'relationship', 'relationships', 'relatively', 'relays', 'release', 'released', 'releases', 'releasing', 'relentless', 'relentlessly', 'relevant', 'relex', 'reliability', 'reliable', 'reliably', 'relied', 'relief', 'relies', 'relocation', 'rely', 'remain', 'remains', 'remap', 'remarkable', 'remarkably', 'remodeled', 'remote', 'remotely', 'removable', 'removal', 'remove', 'removes', 'rendered', 'rendering', 'renderings', 'renders', 'rendor', 'renewable', 'renishaw', 'renovate', 'renown', 'renowned', 'rental', 'rentals', 'repair', 'repeat', 'repeatability', 'repeatedly', 'repetier', 'replacement', 'replacements', 'replacing', 'replica', 'replicate', 'replication', 'reported', 'reporting', 'reports', 'repository', 'reprap', 'represent', 'representation', 'representations', 'represented', 'representing', 'represents', 'repro', 'reproduce', 'reproduced', 'reproducibility', 'reproductions', 'reprographic', 'reprographics', 'republic', 'reputable', 'reputation', 'reputations', 'request', 'requested', 'requesting', 'requests', 'require', 'required', 'requirement', 'requirements', 'requires', 'requiring', 'resale', 'research', 'researchers', 'researches', 'researching', 'reseller', 'resellers', 'reserved', 'reshape', 'residential', 'resilient', 'resin', 'resins', 'resistance', 'resistant', 'resize', 'resolution', 'resolutions', 'resort', 'resorts', 'resource', 'resourceful', 'resources', 'respect', 'respected', 'respective', 'respects', 'respond', 'response', 'responses', 'responsibility', 'responsible', 'responsive', 'rest', 'restaurant', 'restaurants', 'restoration', 'restorations', 'restorative', 'restricted', 'restrictions', 'result', 'resulted', 'resulting', 'results', 'retail', 'retailer', 'retailers', 'retailing', 'retain', 'retained', 'retainers', 'retaining', 'retention', 'retir', 'retirement', 'retrieval', 'retsag', 'return', 'returns', 'reusable', 'rev', 'revenue', 'revenues', 'reverse', 'reverseengineeringoutsourcing', 'review', 'reviews', 'revision', 'revit', 'revolution', 'revolutionary', 'revolutionise', 'revolutionize', 'revolutionizes', 'revolutionizing', 'rewarded', 'rewrites', 'rf', 'rfqs', 'rhein', 'rhone', 'rhythm', 'rialto', 'ribbon', 'ribbons', 'rich', 'richard', 'rick', 'ricoh', 'ride', 'ridiculous', 'riester', 'rig', 'rigdon', 'rigging', 'right', 'rights', 'rigid', 'rigorous', 'rigs', 'rijder', 'rim', 'ring', 'rings', 'rising', 'risk', 'risks', 'rison', 'rival', 'rivalta', 'riveting', 'rize', 'rm', 'rms', 'rn', 'rnek', 'road', 'robert', 'roberto', 'roberts', 'robins', 'robo', 'robobrain', 'roboguru', 'robot', 'roboteam', 'robotic', 'robotics', 'robots', 'robox', 'roboze', 'robtec', 'robust', 'rock', 'rod', 'rods', 'roduct', 'roger', 'rohs', 'roi', 'roland', 'role', 'roletto', 'rolled', 'roller', 'rolling', 'rolls', 'rom', 'romain', 'romero', 'ron', 'roof', 'room', 'roommates', 'rooms', 'rooted', 'roots', 'roper', 'roscoe', 'rosemont', 'rotalac', 'rotary', 'rotating', 'rotational', 'rotocasting', 'rotorcraft', 'round', 'roush', 'route', 'routinely', 'routing', 'rouvray', 'rover', 'row', 'royal', 'royalties', 'royce', 'rp', 'rpc', 'rpd', 'rpm', 'rps', 'rrim', 'rs', 'rt', 'rti', 'rtt', 'rtv', 'rubber', 'rubbery', 'rudell', 'rugged', 'ruggedness', 'run', 'runner', 'running', 'runs', 'russia', 'ruth', 'ryf', 'sa', 'saas', 'saatchi', 'sabadash', 'sabadell', 'sacrifice', 'sacrificing', 'safe', 'safely', 'safeq', 'safety', 'sahiptir', 'saint', 'sale', 'sales', 'salina', 'salt', 'sam', 'samples', 'san', 'sand', 'sandal', 'sandboxr', 'sanded', 'sandvik', 'sanmina', 'santa', 'saphium', 'saphiums', 'sapphire', 'sarasota', 'sas', 'satellite', 'satellites', 'satisfaction', 'satisfied', 'satisfy', 'satisfying', 'sauerproduct', 'save', 'saved', 'saves', 'saving', 'savings', 'savory', 'saw', 'sawing', 'saxophone', 'sba', 'sc', 'scaffolding', 'scalability', 'scalable', 'scale', 'scaleable', 'scales', 'scaling', 'scan', 'scandinavia', 'scanlab', 'scanned', 'scanner', 'scanners', 'scanning', 'scans', 'scanstudio', 'scantrainer', 'scape', 'scare', 'scene', 'scenes', 'schedule', 'scheduled', 'scheduling', 'schenker', 'schiftner', 'schiller', 'schmit', 'schmitt', 'schneborn', 'schneider', 'school', 'schools', 'schop', 'schuler', 'schultheiss', 'sciaky', 'scicast', 'scicon', 'scicons', 'science', 'sciences', 'sciencesproduct', 'scientific', 'scientists', 'scimitar', 'scoliosis', 'scope', 'scott', 'scratch', 'screen', 'screening', 'screw', 'scrutiny', 'sculpteo', 'sculptify', 'sculpting', 'sculpture', 'sd', 'sdd', 'sdds', 'sdk', 'se', 'sea', 'seacast', 'seacasts', 'seal', 'sealants', 'sealed', 'sealing', 'seamless', 'seamlessly', 'search', 'searched', 'searching', 'sears', 'seas', 'seasoned', 'seat', 'seating', 'seats', 'seattle', 'sebestyen', 'second', 'secondary', 'secondly', 'seconds', 'section', 'sectioned', 'sections', 'sector', 'sectors', 'secure', 'secured', 'securedd', 'securely', 'securitization', 'security', 'sedat', 'see', 'seed', 'seeds', 'seek', 'seeking', 'seeks', 'seen', 'segment', 'segments', 'segundo', 'seikowave', 'select', 'selected', 'selecting', 'selection', 'selective', 'selectively', 'selects', 'self', 'selfridges', 'sell', 'seller', 'selling', 'sells', 'semi', 'semiconductor', 'semiconductors', 'send', 'sending', 'seng', 'senior', 'sensapex', 'sense', 'senseable', 'sensegraphics', 'sensing', 'sensitive', 'sensor', 'sensorial', 'sensors', 'sent', 'senvol', 'seo', 'seoul', 'separate', 'separates', 'september', 'sequences', 'sequencing', 'sequential', 'serbot', 'serial', 'series', 'serious', 'seriously', 'sermayeli', 'sermersheim', 'serve', 'served', 'server', 'servers', 'serves', 'service', 'services', 'servicing', 'serving', 'set', 'seth', 'sets', 'setting', 'settings', 'setup', 'seven', 'seventy', 'several', 'seybert', 'sfs', 'shades', 'shafts', 'shake', 'shanghai', 'shape', 'shaped', 'shapediver', 'shapefactory', 'shapelize', 'shaper', 'shapers', 'shapes', 'shapeways', 'shaping', 'share', 'sharebot', 'shared', 'shareholder', 'shares', 'sharif', 'sharing', 'sharp', 'shaw', 'shears', 'shed', 'sheet', 'sheets', 'shelf', 'shell', 'shelves', 'shenzhen', 'shepherd', 'sherpa', 'shield', 'shielding', 'shift', 'shifting', 'shifts', 'shiloh', 'shining', 'shiny', 'ship', 'shipbuilding', 'shipment', 'shipped', 'shipping', 'ships', 'shirani', 'shmuel', 'shoe', 'shoot', 'shoots', 'shop', 'shoppers', 'shopping', 'shops', 'shore', 'short', 'shortage', 'shortages', 'shorten', 'shortened', 'shortening', 'shorter', 'shortest', 'shortly', 'shouldnt', 'show', 'shown', 'showroom', 'showrooms', 'shows', 'shrinks', 'shrunk', 'shut', 'siavash', 'sicam', 'sicnova', 'sida', 'side', 'sides', 'sidewalks', 'siemens', 'sierra', 'sights', 'sigma', 'sign', 'signage', 'signal', 'signalling', 'signals', 'signature', 'significant', 'significantly', 'significate', 'signing', 'silicon', 'silicone', 'silicones', 'silver', 'silvio', 'simbionix', 'similar', 'simodont', 'simon', 'simple', 'simpler', 'simplest', 'simpleware', 'simplicity', 'simplification', 'simplifies', 'simplify', 'simplifyd', 'simplifying', 'simply', 'simulate', 'simulated', 'simulation', 'simulations', 'simulators', 'simulia', 'simultaneous', 'simultaneously', 'since', 'sincerely', 'singapore', 'single', 'singular', 'sinter', 'sinterd', 'sintered', 'sintering', 'sinterit', 'sinterits', 'sinterstation', 'sintertechnik', 'sintratec', 'sip', 'sister', 'sit', 'site', 'sites', 'situated', 'sivertsen', 'six', 'size', 'sized', 'sizes', 'skeinforge', 'sketch', 'sketchfab', 'sketching', 'sketchup', 'skill', 'skilled', 'skills', 'skin', 'skovlunde', 'skriware', 'sky', 'skyjack', 'sla', 'slab', 'slant', 'slanted', 'slate', 'slats', 'sle', 'slettenhaar', 'slezak', 'slice', 'sliced', 'slicers', 'slices', 'slicing', 'slicr', 'slidas', 'slide', 'sliding', 'slight', 'sligo', 'slim', 'slm', 'slotting', 'sls', 'sludge', 'sma', 'small', 'smaller', 'smallest', 'smart', 'smartdesk', 'smartphone', 'smartphones', 'smartray', 'smarts', 'smashing', 'sme', 'smell', 'smelting', 'smes', 'smirt', 'smoke', 'smooth', 'smoothly', 'smt', 'snap', 'snapchat', 'snderborg', 'snecma', 'snowboards', 'soc', 'social', 'society', 'sockets', 'socks', 'soft', 'softdesk', 'software', 'soil', 'sola', 'solar', 'sold', 'solder', 'sole', 'soles', 'solid', 'solidexpress', 'solidface', 'solidification', 'solidiform', 'solidifying', 'solidmakers', 'solidoodle', 'solidworks', 'solize', 'sols', 'solsrx', 'solus', 'solution', 'solutions', 'solve', 'solved', 'solvers', 'solves', 'solving', 'someone', 'somerville', 'something', 'sometimes', 'somewhat', 'sonaca', 'soon', 'sophisticated', 'sorted', 'sorts', 'sought', 'sound', 'source', 'sourced', 'sources', 'sourcing', 'south', 'southeast', 'southern', 'southwest', 'spa', 'space', 'spacea', 'spaceclaim', 'spaces', 'spaceships', 'spacex', 'spacious', 'spain', 'span', 'spanish', 'spanning', 'spans', 'spare', 'spark', 'sparta', 'spatial', 'spatially', 'spc', 'spe', 'speak', 'speaking', 'speaks', 'spec', 'special', 'specialise', 'specialised', 'specialises', 'specialising', 'specialist', 'specialists', 'specialistyou', 'speciality', 'specialize', 'specialized', 'specializes', 'specializing', 'specially', 'specialties', 'specialty', 'specific', 'specifically', 'specification', 'specifications', 'specimen', 'spectacular', 'spectrum', 'speeches', 'speed', 'speeding', 'speedpart', 'speeds', 'spelled', 'spend', 'spending', 'spin', 'spinal', 'spine', 'spinning', 'spinoff', 'spinout', 'spirit', 'splints', 'split', 'spoil', 'spokane', 'sport', 'sports', 'spot', 'spray', 'sprays', 'spread', 'spring', 'springs', 'sprint', 'spro', 'sq', 'sqft', 'sqm', 'square', 'squeezable', 'squibb', 'sr', 'srartup', 'src', 'srensen', 'srl', 'ssys', 'st', 'staal', 'stability', 'stable', 'stacey', 'stack', 'stacking', 'stacks', 'stadium', 'staff', 'staffed', 'stage', 'stages', 'staining', 'stainless', 'stair', 'stakeholders', 'stamped', 'stamping', 'stampings', 'stand', 'standalone', 'standard', 'standardisation', 'standardization', 'standardized', 'standardizes', 'standards', 'standing', 'stands', 'stanley', 'staples', 'stapling', 'star', 'starfish', 'start', 'started', 'starter', 'starting', 'starts', 'startup', 'startups', 'state', 'states', 'statesville', 'static', 'station', 'stationary', 'stations', 'statues', 'stature', 'status', 'staudinger', 'stay', 'staying', 'stays', 'std', 'steadily', 'steady', 'steam', 'steel', 'steels', 'steep', 'steering', 'stem', 'stemify', 'stencil', 'step', 'stephan', 'steps', 'stereo', 'stereolithography', 'stereoscopic', 'stereotactic', 'sterile', 'sterilization', 'sterling', 'steve', 'steven', 'stiff', 'still', 'stillwater', 'stimulate', 'stimulation', 'stitches', 'stl', 'stochastic', 'stock', 'stockholm', 'stocks', 'stone', 'stood', 'stop', 'storage', 'store', 'stored', 'storefronts', 'stores', 'story', 'straight', 'straightforward', 'strandwitz', 'strapping', 'strat', 'stratasys', 'strategic', 'strategically', 'strategies', 'strategist', 'strategy', 'stratoconception', 'stream', 'streamed', 'streaming', 'streamline', 'streamlined', 'streamlining', 'street', 'strength', 'strengthen', 'strengthened', 'strengths', 'stresses', 'stretch', 'strict', 'strictly', 'strike', 'stringent', 'strip', 'strive', 'strived', 'strives', 'striving', 'stroke', 'strong', 'stronger', 'strongly', 'structo', 'structural', 'structurd', 'structure', 'structured', 'structures', 'structuring', 'struggle', 'struggles', 'stryker', 'stuart', 'students', 'studies', 'studio', 'studios', 'study', 'stuff', 'stuffs', 'stumble', 'sturdy', 'stuttgart', 'styku', 'style', 'styles', 'styling', 'stylish', 'stylishly', 'stylus', 'styrian', 'sub', 'subassemblies', 'subcontracting', 'subcontractors', 'subject', 'subjects', 'submarine', 'submarines', 'submilligram', 'submission', 'submit', 'subscription', 'subsequent', 'subsequently', 'subsidiaries', 'subsidiary', 'substantial', 'substantially', 'substitute', 'substrate', 'subsystem', 'subsystems', 'subtractive', 'suburb', 'suburban', 'succesfully', 'success', 'successful', 'successfully', 'successively', 'sucessfull', 'sugar', 'suit', 'suitable', 'suite', 'suited', 'suites', 'suits', 'sullivan', 'sum', 'suman', 'sumitomo', 'sunar', 'super', 'superalloys', 'superb', 'supercar', 'supercomputer', 'superheromaybe', 'superior', 'supermarket', 'supplemental', 'supplemented', 'supplied', 'supplier', 'suppliers', 'supplies', 'supply', 'supplying', 'support', 'supported', 'supporting', 'supportive', 'supports', 'suppression', 'supreme', 'sur', 'surd', 'sure', 'surely', 'surface', 'surfaces', 'surfacing', 'surfcam', 'surgeons', 'surgeries', 'surgery', 'surgical', 'surpass', 'surround', 'surrounding', 'survey', 'surveying', 'surveyor', 'surveyors', 'suspended', 'suspension', 'sustainability', 'sustainable', 'sustaining', 'sustainment', 'sustains', 'suyu', 'suzhou', 'swanson', 'swarmbuild', 'sweden', 'sweet', 'swiftly', 'swiss', 'swissto', 'switches', 'switzerland', 'sy', 'sydney', 'sylvain', 'symmetry', 'synced', 'synergeering', 'synergies', 'synergise', 'synergistic', 'synergy', 'synonymous', 'synopsys', 'syntactic', 'syntheses', 'synthesis', 'synthesizers', 'synthetic', 'syos', 'system', 'systematic', 'systemes', 'systems', 'table', 'tablet', 'tabletop', 'tablets', 'tableware', 'tac', 'tackled', 'tackles', 'tactical', 'tactile', 'tactotek', 'tag', 'tagged', 'tailor', 'tailorable', 'tailored', 'tailoredend', 'tainan', 'taipei', 'taiwan', 'take', 'takemitsu', 'taken', 'takers', 'takes', 'taking', 'takizaki', 'talent', 'talented', 'talents', 'talon', 'tangible', 'tangled', 'tank', 'tape', 'tapered', 'tapes', 'tarama', 'target', 'targeted', 'targeting', 'targets', 'tasarim', 'task', 'tasks', 'taste', 'tatra', 'taught', 'tax', 'teachers', 'teaches', 'teaching', 'team', 'teamed', 'teammates', 'teams', 'teamwork', 'teaneck', 'tec', 'tech', 'technica', 'technical', 'technically', 'technician', 'technicians', 'technik', 'technique', 'techniques', 'technolgies', 'technological', 'technologically', 'technologies', 'technologiestm', 'technology', 'technophiles', 'techs', 'techstars', 'tecomet', 'tedious', 'tee', 'teen', 'teenagers', 'teeth', 'tegra', 'tehran', 'tek', 'tekes', 'teknolojisinin', 'tektond', 'tel', 'telecom', 'telecommunication', 'telecommunications', 'telehandlers', 'television', 'televisions', 'temperature', 'templates', 'templating', 'ten', 'tenaya', 'tender', 'tenere', 'tennessee', 'tens', 'tera', 'terahertz', 'term', 'terminals', 'terms', 'terrain', 'terrassa', 'terrific', 'tertiary', 'test', 'tested', 'tester', 'testers', 'testing', 'tests', 'tethon', 'teufel', 'texas', 'texel', 'textile', 'texture', 'textured', 'textures', 'texturing', 'texys', 'th', 'thailand', 'thanks', 'thats', 'theater', 'theft', 'theirselves', 'therapeutic', 'therapies', 'therapy', 'thereafter', 'thereby', 'therefore', 'thereof', 'thermal', 'thermic', 'thermo', 'thermoforming', 'thermoplastic', 'thermoplastics', 'theyd', 'theyll', 'theyre', 'theyve', 'thfirst', 'thickness', 'thierry', 'thin', 'thing', 'thingarage', 'thingarages', 'thingiverse', 'things', 'think', 'thinking', 'thinks', 'third', 'thirty', 'thomas', 'though', 'thought', 'thoughtful', 'thousand', 'thousands', 'thread', 'threaded', 'threading', 'three', 'threeding', 'thriving', 'throughout', 'throughput', 'thru', 'thus', 'thyen', 'thyssenkrupp', 'thz', 'tie', 'tier', 'tiered', 'tiertime', 'ties', 'tight', 'tightly', 'tiles', 'tim', 'timberland', 'time', 'timeframe', 'timeless', 'timeline', 'timelines', 'timely', 'timepieces', 'times', 'timescales', 'timing', 'timken', 'tinkercad', 'tinkerine', 'tinkering', 'tiny', 'tips', 'tire', 'tires', 'tiresome', 'tissue', 'tissues', 'tital', 'titan', 'titanium', 'tjet', 'tmd', 'tmds', 'tno', 'toast', 'tobeca', 'today', 'todays', 'toddler', 'together', 'tokyo', 'toledo', 'tolerance', 'toleranced', 'tolerances', 'tom', 'tomorrow', 'toms', 'tonnes', 'took', 'tool', 'toolhubs', 'tooling', 'toolkits', 'toolmaker', 'toolmakers', 'toolmaking', 'tools', 'toolsets', 'tooteko', 'toothbrush', 'top', 'topolabs', 'topologies', 'topology', 'topper', 'torabi', 'torch', 'torino', 'toronto', 'torontos', 'total', 'totaling', 'touch', 'touched', 'touching', 'touchscreen', 'touchstone', 'tough', 'toughest', 'tour', 'toward', 'towards', 'town', 'toxic', 'toxicology', 'toy', 'toybox', 'toyota', 'toys', 'tp', 'tpe', 'tr', 'trace', 'traceable', 'traces', 'track', 'tracking', 'tracks', 'trade', 'trademark', 'trading', 'tradional', 'tradition', 'traditional', 'traditionally', 'traffic', 'trail', 'trailblazing', 'trailer', 'train', 'trained', 'trainer', 'training', 'trains', 'transactions', 'transcendent', 'transfer', 'transferring', 'transfers', 'transform', 'transformation', 'transformational', 'transformers', 'transforming', 'transforms', 'transition', 'transitions', 'translate', 'translates', 'translation', 'translucent', 'transmission', 'transmissions', 'transparency', 'transparent', 'transport', 'transportation', 'transpose', 'trap', 'trauma', 'travel', 'tray', 'trays', 'treasure', 'treasury', 'treat', 'treated', 'treating', 'treatment', 'treatments', 'tremendous', 'trend', 'trends', 'tri', 'trial', 'triangle', 'tricas', 'trideo', 'trideosoft', 'tridom', 'tried', 'trifusion', 'trigger', 'trim', 'trimble', 'trimech', 'trimensional', 'trimming', 'trinckle', 'trinkets', 'trinus', 'trio', 'trip', 'triple', 'trips', 'trk', 'trolleys', 'tronic', 'trove', 'troy', 'truck', 'trucking', 'trucks', 'true', 'trulife', 'truly', 'trumpf', 'trunk', 'trust', 'trusted', 'try', 'trying', 'ts', 'tt', 'tu', 'tube', 'tubes', 'tukatech', 'tumaker', 'tune', 'tungsten', 'tunnel', 'turbine', 'turbines', 'turbo', 'turboprop', 'turkey', 'turkish', 'turn', 'turnaround', 'turnarounds', 'turned', 'turning', 'turnkey', 'turnover', 'turns', 'turntable', 'tuscany', 'tut', 'tutorials', 'tv', 'tvs', 'twenty', 'twin', 'twins', 'twitter', 'two', 'twp', 'tx', 'type', 'types', 'typical', 'typically', 'typing', 'uae', 'uas', 'uav', 'uberblox', 'ufp', 'ugd', 'uh', 'ui', 'uk', 'uks', 'ultem', 'ultimaker', 'ultimate', 'ultimately', 'ultra', 'ultralight', 'ultrasonic', 'ultrasound', 'unable', 'unachievable', 'unbeatable', 'unbelievable', 'unboxing', 'unchallenged', 'uncompromised', 'uncompromising', 'uncovered', 'und', 'understand', 'understandable', 'understanding', 'understands', 'understood', 'underutilized', 'underway', 'undisclosed', 'unearthing', 'unequal', 'unicad', 'unicorn', 'unigraphics', 'union', 'unions', 'unique', 'uniquely', 'unit', 'unitary', 'unite', 'united', 'unites', 'units', 'universal', 'universitat', 'universities', 'university', 'unix', 'uniz', 'unknown', 'unleash', 'unleashing', 'unlicensed', 'unlike', 'unlimited', 'unlock', 'unmakeable', 'unmanned', 'unmatched', 'unmet', 'unnoticed', 'uno', 'unparalleled', 'unparralled', 'unpleasant', 'unprecedented', 'unremitting', 'unrivaled', 'unrivalled', 'unsolved', 'unused', 'unyq', 'upc', 'upcoming', 'update', 'updated', 'updates', 'upfront', 'upgrade', 'upgraded', 'upgrades', 'upgrading', 'uphold', 'upholding', 'upload', 'uploading', 'upon', 'upper', 'uprocessor', 'ups', 'upstream', 'upwards', 'urethane', 'urethanes', 'urgency', 'urgent', 'us', 'usa', 'usability', 'usable', 'usage', 'usd', 'use', 'used', 'useful', 'useless', 'user', 'users', 'uses', 'usher', 'usi', 'using', 'usual', 'usually', 'utah', 'utilise', 'utility', 'utilization', 'utilize', 'utilized', 'utilizes', 'utilizing', 'utmost', 'utrecht', 'uv', 'uygulamasn', 'va', 'vacation', 'vaccines', 'vaccuum', 'vacuum', 'vader', 'vaders', 'valence', 'valencia', 'validate', 'validated', 'validation', 'valla', 'valley', 'valplast', 'valuable', 'value', 'valued', 'values', 'valves', 'vancouver', 'vancraen', 'vangogh', 'vanguard', 'vantron', 'var', 'variable', 'variables', 'variations', 'varied', 'variety', 'various', 'vascular', 'vast', 'vaughan', 'vaupell', 'vc', 'vector', 'vectorworks', 'vectra', 'vehicle', 'vehicles', 'velleman', 'velocity', 'velod', 'vending', 'vendor', 'vendors', 'ventilation', 'vention', 'ventions', 'ventricular', 'venture', 'venturebeats', 'ventures', 'veren', 'verification', 'verified', 'verifies', 'verify', 'vermont', 'vero', 'versadyne', 'versatile', 'versatility', 'version', 'versions', 'versus', 'vertical', 'vertically', 'verticals', 'verus', 'vessel', 'vessels', 'veteran', 'veterinary', 'vexos', 'vg', 'via', 'viable', 'viametris', 'vibrant', 'vibration', 'vicale', 'vice', 'vicenza', 'vicon', 'video', 'videophone', 'videos', 'viejo', 'vienna', 'vietnam', 'view', 'viewable', 'viewer', 'viewpoint', 'views', 'vigilant', 'vigo', 'villanova', 'villas', 'vinacademy', 'vinci', 'vingroup', 'vinmec', 'vinschool', 'vinyl', 'violence', 'virginia', 'virtual', 'virtualhand', 'virtualizes', 'virtually', 'visa', 'visi', 'visiativ', 'visibility', 'visible', 'vision', 'visionaries', 'visionproto', 'visions', 'visit', 'visron', 'vistatek', 'visual', 'visualization', 'visualize', 'visually', 'visualtao', 'vivera', 'vivo', 'viz', 'viztu', 'vocabulary', 'vocation', 'voice', 'volt', 'voltera', 'volteras', 'volumarket', 'volumatik', 'volume', 'volumental', 'volumes', 'volumic', 'voluminous', 'volunteer', 'von', 'voodoo', 'voovo', 'vosges', 'voxel', 'voxeljet', 'voxels', 'vr', 'vrt', 'vse', 'vtt', 'vu', 'vulcan', 'vultus', 'vuong', 'wa', 'wafer', 'wafers', 'waist', 'wait', 'waiting', 'walk', 'walker', 'walks', 'wall', 'wallace', 'walled', 'wallets', 'wallingford', 'wallpapers', 'walls', 'walt', 'walter', 'waltham', 'wamungo', 'wang', 'wanhao', 'want', 'wanted', 'wants', 'war', 'warehouse', 'warehouses', 'warehousing', 'wares', 'waring', 'warrant', 'warren', 'warsaw', 'warwickshire', 'washer', 'washington', 'wasp', 'waste', 'wasted', 'wasting', 'watch', 'water', 'waterjet', 'waterloo', 'waterproof', 'waukesha', 'wave', 'waveguides', 'wavered', 'wax', 'way', 'ways', 'wcm', 'weaknesses', 'wealth', 'weapon', 'weapons', 'wear', 'wearable', 'wearables', 'wearers', 'wearing', 'weaver', 'web', 'webpage', 'website', 'websites', 'wedding', 'week', 'weekly', 'weeks', 'weight', 'weihbrecht', 'welcome', 'welding', 'weldments', 'welfare', 'well', 'welliewishers', 'wellness', 'wells', 'wematter', 'wemolding', 'went', 'werkzeugbau', 'west', 'western', 'westlake', 'westrum', 'weststar', 'weve', 'weybridge', 'whatever', 'whats', 'wheel', 'wheels', 'whenever', 'whereby', 'wherever', 'whether', 'whilst', 'white', 'whiteclouds', 'whitney', 'whole', 'wholesale', 'wholesaler', 'wholly', 'whos', 'whose', 'wi', 'wichita', 'wide', 'widely', 'wider', 'widespread', 'widest', 'widia', 'width', 'widths', 'wife', 'wihthin', 'wild', 'wildeboer', 'wilfried', 'william', 'wilmington', 'win', 'wind', 'windchill', 'windform', 'window', 'windows', 'windsor', 'wing', 'wings', 'winner', 'winning', 'winter', 'wire', 'wireless', 'wires', 'wirth', 'wisconsin', 'wisdom', 'wish', 'wishes', 'wistron', 'within', 'without', 'wizegem', 'wolfgang', 'wolpertshausen', 'woman', 'women', 'wonders', 'wood', 'woodbridge', 'wooden', 'woods', 'woodworking', 'wooten', 'word', 'wordplay', 'words', 'work', 'workable', 'workbench', 'worked', 'worker', 'workers', 'workflow', 'workflows', 'workforce', 'workhorses', 'working', 'worknc', 'works', 'workshop', 'workshops', 'workspace', 'workstations', 'world', 'worlds', 'worldwide', 'worries', 'worry', 'worth', 'worthy', 'wosb', 'wotton', 'would', 'wouldnt', 'wounds', 'wrap', 'written', 'wrttemberg', 'wurzburg', 'www', 'wyatt', 'wycombe', 'xaar', 'xactiv', 'xactivs', 'xantrex', 'xcentric', 'xcerra', 'xcerras', 'xd', 'xerox', 'ximedica', 'xjet', 'xjets', 'xometry', 'xtreme', 'xx', 'xxl', 'xyz', 'xyzprinting', 'xyzprintings', 'yacht', 'year', 'years', 'yes', 'yet', 'yield', 'yields', 'yik', 'yksek', 'yokohama', 'york', 'youll', 'youmagine', 'young', 'youre', 'yourmind', 'youtube', 'youve', 'ysoft', 'zandt', 'zaxe', 'zazoun', 'zazzy', 'zcorp', 'zealand', 'zeebl', 'zeepro', 'zero', 'zeus', 'zeuseye', 'zhongshan', 'zia', 'zilog', 'zinc', 'ziona', 'zipdose', 'zirconium', 'zirkle', 'zmler', 'zmorph', 'znrle', 'znrlkl', 'zollner', 'zone', 'zones', 'zortrax', 'zrich', 'zu', 'zucchetti', 'zuriff', 'zverse', 'zwcad', 'zwd', 'zwlct', 'zwsoft', 'zyci', 'zyyx']\n"
     ]
    },
    {
     "name": "stderr",
     "output_type": "stream",
     "text": [
      "C:\\Users\\User\\anaconda3\\lib\\site-packages\\sklearn\\utils\\deprecation.py:87: FutureWarning: Function get_feature_names is deprecated; get_feature_names is deprecated in 1.0 and will be removed in 1.2. Please use get_feature_names_out instead.\n",
      "  warnings.warn(msg, category=FutureWarning)\n"
     ]
    }
   ],
   "source": [
    "X = vectorizer.fit_transform(df.cleaned_desc).toarray()\n",
    "print(vectorizer.get_feature_names())"
   ]
  },
  {
   "cell_type": "code",
   "execution_count": 7,
   "id": "686be2b3",
   "metadata": {},
   "outputs": [],
   "source": [
    "from sklearn.preprocessing import LabelEncoder"
   ]
  },
  {
   "cell_type": "code",
   "execution_count": 8,
   "id": "9798583a",
   "metadata": {},
   "outputs": [],
   "source": [
    "Labelencoder = LabelEncoder()"
   ]
  },
  {
   "cell_type": "code",
   "execution_count": 9,
   "id": "21a5f0b7",
   "metadata": {},
   "outputs": [
    {
     "data": {
      "text/html": [
       "<div>\n",
       "<style scoped>\n",
       "    .dataframe tbody tr th:only-of-type {\n",
       "        vertical-align: middle;\n",
       "    }\n",
       "\n",
       "    .dataframe tbody tr th {\n",
       "        vertical-align: top;\n",
       "    }\n",
       "\n",
       "    .dataframe thead th {\n",
       "        text-align: right;\n",
       "    }\n",
       "</style>\n",
       "<table border=\"1\" class=\"dataframe\">\n",
       "  <thead>\n",
       "    <tr style=\"text-align: right;\">\n",
       "      <th></th>\n",
       "      <th>Title</th>\n",
       "      <th>cleaned_desc</th>\n",
       "      <th>y</th>\n",
       "    </tr>\n",
       "  </thead>\n",
       "  <tbody>\n",
       "    <tr>\n",
       "      <th>0</th>\n",
       "      <td>additive manufacturing ancillary equipment</td>\n",
       "      <td>archisketch interior scanner capable materiali...</td>\n",
       "      <td>1</td>\n",
       "    </tr>\n",
       "    <tr>\n",
       "      <th>1</th>\n",
       "      <td>additive manufacturing ancillary equipment</td>\n",
       "      <td>whiteclouds dcloud software platform allow com...</td>\n",
       "      <td>1</td>\n",
       "    </tr>\n",
       "    <tr>\n",
       "      <th>2</th>\n",
       "      <td>additive manufacturing ancillary equipment</td>\n",
       "      <td>mission critical electronics inc represents pl...</td>\n",
       "      <td>1</td>\n",
       "    </tr>\n",
       "    <tr>\n",
       "      <th>3</th>\n",
       "      <td>additive manufacturing ancillary equipment</td>\n",
       "      <td>xantrex technology engages development manufac...</td>\n",
       "      <td>1</td>\n",
       "    </tr>\n",
       "    <tr>\n",
       "      <th>4</th>\n",
       "      <td>additive manufacturing ancillary equipment</td>\n",
       "      <td>strategy create unique range sensors solve app...</td>\n",
       "      <td>1</td>\n",
       "    </tr>\n",
       "    <tr>\n",
       "      <th>...</th>\n",
       "      <td>...</td>\n",
       "      <td>...</td>\n",
       "      <td>...</td>\n",
       "    </tr>\n",
       "    <tr>\n",
       "      <th>5685</th>\n",
       "      <td>additive manufacturing software solutions</td>\n",
       "      <td>industrial grade printing company providing fu...</td>\n",
       "      <td>3</td>\n",
       "    </tr>\n",
       "    <tr>\n",
       "      <th>5686</th>\n",
       "      <td>additive manufacturing software solutions</td>\n",
       "      <td>roland dga corporation u based marketing distr...</td>\n",
       "      <td>3</td>\n",
       "    </tr>\n",
       "    <tr>\n",
       "      <th>5687</th>\n",
       "      <td>additive manufacturing software solutions</td>\n",
       "      <td>sintratec switzerland leading manufacturer pri...</td>\n",
       "      <td>3</td>\n",
       "    </tr>\n",
       "    <tr>\n",
       "      <th>5688</th>\n",
       "      <td>additive manufacturing software solutions</td>\n",
       "      <td>modio anybody create fun models creations easi...</td>\n",
       "      <td>3</td>\n",
       "    </tr>\n",
       "    <tr>\n",
       "      <th>5689</th>\n",
       "      <td>additive manufacturing software solutions</td>\n",
       "      <td>cyfuse biomedical develops tissue fabrication ...</td>\n",
       "      <td>3</td>\n",
       "    </tr>\n",
       "  </tbody>\n",
       "</table>\n",
       "<p>5690 rows × 3 columns</p>\n",
       "</div>"
      ],
      "text/plain": [
       "                                           Title  \\\n",
       "0     additive manufacturing ancillary equipment   \n",
       "1     additive manufacturing ancillary equipment   \n",
       "2     additive manufacturing ancillary equipment   \n",
       "3     additive manufacturing ancillary equipment   \n",
       "4     additive manufacturing ancillary equipment   \n",
       "...                                          ...   \n",
       "5685   additive manufacturing software solutions   \n",
       "5686   additive manufacturing software solutions   \n",
       "5687   additive manufacturing software solutions   \n",
       "5688   additive manufacturing software solutions   \n",
       "5689   additive manufacturing software solutions   \n",
       "\n",
       "                                           cleaned_desc  y  \n",
       "0     archisketch interior scanner capable materiali...  1  \n",
       "1     whiteclouds dcloud software platform allow com...  1  \n",
       "2     mission critical electronics inc represents pl...  1  \n",
       "3     xantrex technology engages development manufac...  1  \n",
       "4     strategy create unique range sensors solve app...  1  \n",
       "...                                                 ... ..  \n",
       "5685  industrial grade printing company providing fu...  3  \n",
       "5686  roland dga corporation u based marketing distr...  3  \n",
       "5687  sintratec switzerland leading manufacturer pri...  3  \n",
       "5688  modio anybody create fun models creations easi...  3  \n",
       "5689  cyfuse biomedical develops tissue fabrication ...  3  \n",
       "\n",
       "[5690 rows x 3 columns]"
      ]
     },
     "execution_count": 9,
     "metadata": {},
     "output_type": "execute_result"
    }
   ],
   "source": [
    "df[\"y\"] = Labelencoder.fit_transform(df[\"Title\"])\n",
    "df\n"
   ]
  },
  {
   "cell_type": "code",
   "execution_count": 10,
   "id": "a668a5be",
   "metadata": {},
   "outputs": [],
   "source": [
    "from sklearn.model_selection import train_test_split\n",
    "X_train, X_test, y_train, y_test = train_test_split(X, df.y, test_size=0.20, random_state=42)"
   ]
  },
  {
   "cell_type": "code",
   "execution_count": 11,
   "id": "444877b7",
   "metadata": {},
   "outputs": [
    {
     "data": {
      "text/plain": [
       "array([[0., 0., 0., ..., 0., 0., 0.],\n",
       "       [0., 0., 0., ..., 0., 0., 0.],\n",
       "       [0., 0., 0., ..., 0., 0., 0.],\n",
       "       ...,\n",
       "       [0., 0., 0., ..., 0., 0., 0.],\n",
       "       [0., 0., 0., ..., 0., 0., 0.],\n",
       "       [0., 0., 0., ..., 0., 0., 0.]])"
      ]
     },
     "execution_count": 11,
     "metadata": {},
     "output_type": "execute_result"
    }
   ],
   "source": [
    "X_train"
   ]
  },
  {
   "cell_type": "code",
   "execution_count": 12,
   "id": "c12bd096",
   "metadata": {},
   "outputs": [
    {
     "data": {
      "text/plain": [
       "array([[0., 0., 0., ..., 0., 0., 0.],\n",
       "       [0., 0., 0., ..., 0., 0., 0.],\n",
       "       [0., 0., 0., ..., 0., 0., 0.],\n",
       "       ...,\n",
       "       [0., 0., 0., ..., 0., 0., 0.],\n",
       "       [0., 0., 0., ..., 0., 0., 0.],\n",
       "       [0., 0., 0., ..., 0., 0., 0.]])"
      ]
     },
     "execution_count": 12,
     "metadata": {},
     "output_type": "execute_result"
    }
   ],
   "source": [
    "X_test"
   ]
  },
  {
   "cell_type": "code",
   "execution_count": 13,
   "id": "76ced902",
   "metadata": {},
   "outputs": [
    {
     "data": {
      "text/plain": [
       "2855    0\n",
       "43      1\n",
       "3567    4\n",
       "3838    4\n",
       "3944    4\n",
       "       ..\n",
       "3772    4\n",
       "5191    5\n",
       "5226    5\n",
       "5390    5\n",
       "860     4\n",
       "Name: y, Length: 4552, dtype: int32"
      ]
     },
     "execution_count": 13,
     "metadata": {},
     "output_type": "execute_result"
    }
   ],
   "source": [
    "y_train"
   ]
  },
  {
   "cell_type": "code",
   "execution_count": 14,
   "id": "fbddcfd2",
   "metadata": {},
   "outputs": [
    {
     "data": {
      "text/plain": [
       "3435    4\n",
       "5154    5\n",
       "4209    4\n",
       "3957    4\n",
       "5471    3\n",
       "       ..\n",
       "3655    4\n",
       "219     0\n",
       "1869    5\n",
       "1115    4\n",
       "582     4\n",
       "Name: y, Length: 1138, dtype: int32"
      ]
     },
     "execution_count": 14,
     "metadata": {},
     "output_type": "execute_result"
    }
   ],
   "source": [
    "y_test"
   ]
  },
  {
   "cell_type": "code",
   "execution_count": 15,
   "id": "1daf1272",
   "metadata": {},
   "outputs": [
    {
     "data": {
      "text/plain": [
       "GaussianNB()"
      ]
     },
     "execution_count": 15,
     "metadata": {},
     "output_type": "execute_result"
    }
   ],
   "source": [
    "from sklearn.naive_bayes import GaussianNB  \n",
    "classifier = GaussianNB()  \n",
    "classifier.fit(X_train, y_train) "
   ]
  },
  {
   "cell_type": "code",
   "execution_count": 16,
   "id": "b36a071d",
   "metadata": {},
   "outputs": [],
   "source": [
    "y_pred = classifier.predict(X_test)  "
   ]
  },
  {
   "cell_type": "code",
   "execution_count": 17,
   "id": "41b85607",
   "metadata": {},
   "outputs": [
    {
     "data": {
      "text/plain": [
       "array([4, 4, 5, ..., 5, 5, 3])"
      ]
     },
     "execution_count": 17,
     "metadata": {},
     "output_type": "execute_result"
    }
   ],
   "source": [
    "y_pred"
   ]
  },
  {
   "cell_type": "code",
   "execution_count": 18,
   "id": "21b71def",
   "metadata": {},
   "outputs": [],
   "source": [
    "from sklearn.metrics import confusion_matrix  \n",
    "cm = confusion_matrix(y_test, y_pred)  "
   ]
  },
  {
   "cell_type": "code",
   "execution_count": 19,
   "id": "6d929855",
   "metadata": {},
   "outputs": [
    {
     "data": {
      "text/plain": [
       "array([[ 48,  12,   1,  26,  15,   6],\n",
       "       [  4,   6,   2,   2,   6,   3],\n",
       "       [  0,   1,  15,   2,   4,   2],\n",
       "       [ 15,   7,   5,  33,   8,   6],\n",
       "       [ 44,   9,  18,  30, 116, 349],\n",
       "       [ 11,   4,   4,  12,  43, 269]], dtype=int64)"
      ]
     },
     "execution_count": 19,
     "metadata": {},
     "output_type": "execute_result"
    }
   ],
   "source": [
    "cm\n"
   ]
  },
  {
   "cell_type": "code",
   "execution_count": 20,
   "id": "a5450a71",
   "metadata": {},
   "outputs": [
    {
     "data": {
      "text/plain": [
       "<AxesSubplot:>"
      ]
     },
     "execution_count": 20,
     "metadata": {},
     "output_type": "execute_result"
    },
    {
     "data": {
      "image/png": "[encoded data removed]",
      "text/plain": [
       "<Figure size 432x288 with 2 Axes>"
      ]
     },
     "metadata": {
      "needs_background": "light"
     },
     "output_type": "display_data"
    }
   ],
   "source": [
    "import seaborn as sns\n",
    "sns.heatmap(cm, annot=True)"
   ]
  },
  {
   "cell_type": "code",
   "execution_count": 21,
   "id": "c0551cca",
   "metadata": {},
   "outputs": [
    {
     "name": "stdout",
     "output_type": "stream",
     "text": [
      "              precision    recall  f1-score   support\n",
      "\n",
      "           0       0.39      0.44      0.42       108\n",
      "           1       0.15      0.26      0.19        23\n",
      "           2       0.33      0.62      0.43        24\n",
      "           3       0.31      0.45      0.37        74\n",
      "           4       0.60      0.20      0.31       566\n",
      "           5       0.42      0.78      0.55       343\n",
      "\n",
      "    accuracy                           0.43      1138\n",
      "   macro avg       0.37      0.46      0.38      1138\n",
      "weighted avg       0.50      0.43      0.39      1138\n",
      "\n"
     ]
    }
   ],
   "source": [
    "from sklearn.metrics import classification_report\n",
    "print(classification_report(y_test, y_pred))"
   ]
  },
  {
   "cell_type": "code",
   "execution_count": 22,
   "id": "f1850d81",
   "metadata": {},
   "outputs": [
    {
     "data": {
      "text/plain": [
       "LogisticRegression(random_state=42)"
      ]
     },
     "execution_count": 22,
     "metadata": {},
     "output_type": "execute_result"
    }
   ],
   "source": [
    "from sklearn.linear_model import LogisticRegression  \n",
    "classifier= LogisticRegression(random_state=42)  \n",
    "classifier.fit(X_train, y_train)  "
   ]
  },
  {
   "cell_type": "code",
   "execution_count": 23,
   "id": "42a0367d",
   "metadata": {},
   "outputs": [],
   "source": [
    "y_pred = classifier.predict(X_test)  "
   ]
  },
  {
   "cell_type": "code",
   "execution_count": 24,
   "id": "9cc69f25",
   "metadata": {},
   "outputs": [
    {
     "data": {
      "text/plain": [
       "array([4, 4, 5, ..., 4, 4, 4])"
      ]
     },
     "execution_count": 24,
     "metadata": {},
     "output_type": "execute_result"
    }
   ],
   "source": [
    "y_pred"
   ]
  },
  {
   "cell_type": "code",
   "execution_count": 25,
   "id": "6d73de32",
   "metadata": {},
   "outputs": [],
   "source": [
    "from sklearn.metrics import confusion_matrix  \n",
    "cm = confusion_matrix(y_test, y_pred)  "
   ]
  },
  {
   "cell_type": "code",
   "execution_count": 26,
   "id": "b26be661",
   "metadata": {},
   "outputs": [
    {
     "data": {
      "text/plain": [
       "array([[ 44,   0,   1,  16,  38,   9],\n",
       "       [  3,   0,   0,   5,  14,   1],\n",
       "       [  1,   0,   4,   2,  16,   1],\n",
       "       [ 22,   0,   0,  23,  27,   2],\n",
       "       [ 14,   0,   0,   2, 438, 112],\n",
       "       [  1,   0,   0,   1, 204, 137]], dtype=int64)"
      ]
     },
     "execution_count": 26,
     "metadata": {},
     "output_type": "execute_result"
    }
   ],
   "source": [
    "cm"
   ]
  },
  {
   "cell_type": "code",
   "execution_count": 27,
   "id": "cd6d833d",
   "metadata": {},
   "outputs": [
    {
     "data": {
      "text/plain": [
       "<AxesSubplot:>"
      ]
     },
     "execution_count": 27,
     "metadata": {},
     "output_type": "execute_result"
    },
    {
     "data": {
      "image/png": "[encoded data removed]",
      "text/plain": [
       "<Figure size 432x288 with 2 Axes>"
      ]
     },
     "metadata": {
      "needs_background": "light"
     },
     "output_type": "display_data"
    }
   ],
   "source": [
    "import seaborn as sns\n",
    "sns.heatmap(cm, annot=True)"
   ]
  },
  {
   "cell_type": "code",
   "execution_count": 28,
   "id": "70bd78c7",
   "metadata": {},
   "outputs": [
    {
     "name": "stdout",
     "output_type": "stream",
     "text": [
      "              precision    recall  f1-score   support\n",
      "\n",
      "           0       0.52      0.41      0.46       108\n",
      "           1       0.00      0.00      0.00        23\n",
      "           2       0.80      0.17      0.28        24\n",
      "           3       0.47      0.31      0.37        74\n",
      "           4       0.59      0.77      0.67       566\n",
      "           5       0.52      0.40      0.45       343\n",
      "\n",
      "    accuracy                           0.57      1138\n",
      "   macro avg       0.48      0.34      0.37      1138\n",
      "weighted avg       0.55      0.57      0.54      1138\n",
      "\n"
     ]
    },
    {
     "name": "stderr",
     "output_type": "stream",
     "text": [
      "C:\\Users\\User\\anaconda3\\lib\\site-packages\\sklearn\\metrics\\_classification.py:1318: UndefinedMetricWarning: Precision and F-score are ill-defined and being set to 0.0 in labels with no predicted samples. Use `zero_division` parameter to control this behavior.\n",
      "  _warn_prf(average, modifier, msg_start, len(result))\n",
      "C:\\Users\\User\\anaconda3\\lib\\site-packages\\sklearn\\metrics\\_classification.py:1318: UndefinedMetricWarning: Precision and F-score are ill-defined and being set to 0.0 in labels with no predicted samples. Use `zero_division` parameter to control this behavior.\n",
      "  _warn_prf(average, modifier, msg_start, len(result))\n",
      "C:\\Users\\User\\anaconda3\\lib\\site-packages\\sklearn\\metrics\\_classification.py:1318: UndefinedMetricWarning: Precision and F-score are ill-defined and being set to 0.0 in labels with no predicted samples. Use `zero_division` parameter to control this behavior.\n",
      "  _warn_prf(average, modifier, msg_start, len(result))\n"
     ]
    }
   ],
   "source": [
    "from sklearn.metrics import classification_report\n",
    "print(classification_report(y_test, y_pred))"
   ]
  },
  {
   "cell_type": "code",
   "execution_count": 29,
   "id": "b3bf5cb7",
   "metadata": {},
   "outputs": [
    {
     "data": {
      "text/plain": [
       "RandomForestClassifier(criterion='entropy', n_estimators=10)"
      ]
     },
     "execution_count": 29,
     "metadata": {},
     "output_type": "execute_result"
    }
   ],
   "source": [
    "from sklearn.ensemble import RandomForestClassifier  \n",
    "classifier= RandomForestClassifier(n_estimators= 10, criterion=\"entropy\")  \n",
    "classifier.fit(X_train, y_train)  "
   ]
  },
  {
   "cell_type": "code",
   "execution_count": 30,
   "id": "8f5f3208",
   "metadata": {},
   "outputs": [],
   "source": [
    "y_pred= classifier.predict(X_test)  "
   ]
  },
  {
   "cell_type": "code",
   "execution_count": 31,
   "id": "15a25a78",
   "metadata": {},
   "outputs": [
    {
     "data": {
      "text/plain": [
       "array([4, 4, 5, ..., 4, 5, 4])"
      ]
     },
     "execution_count": 31,
     "metadata": {},
     "output_type": "execute_result"
    }
   ],
   "source": [
    "y_pred"
   ]
  },
  {
   "cell_type": "code",
   "execution_count": 32,
   "id": "eab47353",
   "metadata": {},
   "outputs": [],
   "source": [
    "from sklearn.metrics import confusion_matrix  \n",
    "cm= confusion_matrix(y_test, y_pred)  "
   ]
  },
  {
   "cell_type": "code",
   "execution_count": 33,
   "id": "0fbdebe3",
   "metadata": {},
   "outputs": [
    {
     "data": {
      "text/plain": [
       "array([[ 37,   4,   1,  28,  27,  11],\n",
       "       [  3,   2,   0,   7,  11,   0],\n",
       "       [  1,   0,   8,   3,  11,   1],\n",
       "       [ 22,   3,   3,  27,  15,   4],\n",
       "       [ 22,   2,   1,   5, 399, 137],\n",
       "       [  3,   0,   0,   1, 207, 132]], dtype=int64)"
      ]
     },
     "execution_count": 33,
     "metadata": {},
     "output_type": "execute_result"
    }
   ],
   "source": [
    "cm"
   ]
  },
  {
   "cell_type": "code",
   "execution_count": 34,
   "id": "dfdb44bb",
   "metadata": {},
   "outputs": [
    {
     "data": {
      "text/plain": [
       "<AxesSubplot:>"
      ]
     },
     "execution_count": 34,
     "metadata": {},
     "output_type": "execute_result"
    },
    {
     "data": {
      "image/png": "[encoded data removed]",
      "text/plain": [
       "<Figure size 432x288 with 2 Axes>"
      ]
     },
     "metadata": {
      "needs_background": "light"
     },
     "output_type": "display_data"
    }
   ],
   "source": [
    "sns.heatmap(cm, annot=True)"
   ]
  },
  {
   "cell_type": "code",
   "execution_count": 35,
   "id": "155dd046",
   "metadata": {},
   "outputs": [
    {
     "name": "stdout",
     "output_type": "stream",
     "text": [
      "              precision    recall  f1-score   support\n",
      "\n",
      "           0       0.42      0.34      0.38       108\n",
      "           1       0.18      0.09      0.12        23\n",
      "           2       0.62      0.33      0.43        24\n",
      "           3       0.38      0.36      0.37        74\n",
      "           4       0.60      0.70      0.65       566\n",
      "           5       0.46      0.38      0.42       343\n",
      "\n",
      "    accuracy                           0.53      1138\n",
      "   macro avg       0.44      0.37      0.39      1138\n",
      "weighted avg       0.52      0.53      0.52      1138\n",
      "\n"
     ]
    }
   ],
   "source": [
    "from sklearn.metrics import classification_report\n",
    "print(classification_report(y_test, y_pred))"
   ]
  },
  {
   "cell_type": "code",
   "execution_count": 36,
   "id": "fc8be789",
   "metadata": {},
   "outputs": [
    {
     "data": {
      "text/plain": [
       "KNeighborsClassifier()"
      ]
     },
     "execution_count": 36,
     "metadata": {},
     "output_type": "execute_result"
    }
   ],
   "source": [
    "from sklearn.neighbors import KNeighborsClassifier  \n",
    "classifier= KNeighborsClassifier(n_neighbors=5, metric='minkowski', p=2 )  \n",
    "classifier.fit(X_train, y_train)  "
   ]
  },
  {
   "cell_type": "code",
   "execution_count": 37,
   "id": "a9071531",
   "metadata": {},
   "outputs": [],
   "source": [
    "y_pred= classifier.predict(X_test)  "
   ]
  },
  {
   "cell_type": "code",
   "execution_count": 38,
   "id": "dddc8eb3",
   "metadata": {},
   "outputs": [
    {
     "data": {
      "text/plain": [
       "array([3, 4, 5, ..., 4, 4, 4])"
      ]
     },
     "execution_count": 38,
     "metadata": {},
     "output_type": "execute_result"
    }
   ],
   "source": [
    "y_pred"
   ]
  },
  {
   "cell_type": "code",
   "execution_count": 39,
   "id": "043e3352",
   "metadata": {},
   "outputs": [],
   "source": [
    "from sklearn.metrics import confusion_matrix  \n",
    "cm= confusion_matrix(y_test, y_pred)"
   ]
  },
  {
   "cell_type": "code",
   "execution_count": 40,
   "id": "039d9a7a",
   "metadata": {},
   "outputs": [
    {
     "data": {
      "text/plain": [
       "array([[ 54,   4,   1,  17,  28,   4],\n",
       "       [  5,   9,   0,   2,   7,   0],\n",
       "       [  2,   0,  10,   0,   8,   4],\n",
       "       [ 21,   3,   4,  24,  20,   2],\n",
       "       [ 28,   0,   1,   5, 397, 135],\n",
       "       [  8,   0,   0,   2, 209, 124]], dtype=int64)"
      ]
     },
     "execution_count": 40,
     "metadata": {},
     "output_type": "execute_result"
    }
   ],
   "source": [
    "cm"
   ]
  },
  {
   "cell_type": "code",
   "execution_count": 41,
   "id": "9dbc1069",
   "metadata": {},
   "outputs": [
    {
     "data": {
      "text/plain": [
       "<AxesSubplot:>"
      ]
     },
     "execution_count": 41,
     "metadata": {},
     "output_type": "execute_result"
    },
    {
     "data": {
      "image/png": "[encoded data removed]",
      "text/plain": [
       "<Figure size 432x288 with 2 Axes>"
      ]
     },
     "metadata": {
      "needs_background": "light"
     },
     "output_type": "display_data"
    }
   ],
   "source": [
    "sns.heatmap(cm, annot=True)"
   ]
  },
  {
   "cell_type": "code",
   "execution_count": 42,
   "id": "fd5abdb9",
   "metadata": {},
   "outputs": [
    {
     "name": "stdout",
     "output_type": "stream",
     "text": [
      "              precision    recall  f1-score   support\n",
      "\n",
      "           0       0.46      0.50      0.48       108\n",
      "           1       0.56      0.39      0.46        23\n",
      "           2       0.62      0.42      0.50        24\n",
      "           3       0.48      0.32      0.39        74\n",
      "           4       0.59      0.70      0.64       566\n",
      "           5       0.46      0.36      0.41       343\n",
      "\n",
      "    accuracy                           0.54      1138\n",
      "   macro avg       0.53      0.45      0.48      1138\n",
      "weighted avg       0.53      0.54      0.53      1138\n",
      "\n"
     ]
    }
   ],
   "source": [
    "from sklearn.metrics import classification_report\n",
    "print(classification_report(y_test, y_pred))"
   ]
  },
  {
   "cell_type": "code",
   "execution_count": 43,
   "id": "ee9270e1",
   "metadata": {},
   "outputs": [],
   "source": [
    "from xgboost import XGBClassifier"
   ]
  },
  {
   "cell_type": "code",
   "execution_count": 44,
   "id": "777914dc",
   "metadata": {},
   "outputs": [],
   "source": [
    "classifier= XGBClassifier()"
   ]
  },
  {
   "cell_type": "code",
   "execution_count": 45,
   "id": "36ae476d",
   "metadata": {},
   "outputs": [
    {
     "data": {
      "text/plain": [
       "XGBClassifier(base_score=0.5, booster='gbtree', callbacks=None,\n",
       "              colsample_bylevel=1, colsample_bynode=1, colsample_bytree=1,\n",
       "              early_stopping_rounds=None, enable_categorical=False,\n",
       "              eval_metric=None, gamma=0, gpu_id=-1, grow_policy='depthwise',\n",
       "              importance_type=None, interaction_constraints='',\n",
       "              learning_rate=0.300000012, max_bin=256, max_cat_to_onehot=4,\n",
       "              max_delta_step=0, max_depth=6, max_leaves=0, min_child_weight=1,\n",
       "              missing=nan, monotone_constraints='()', n_estimators=100,\n",
       "              n_jobs=0, num_parallel_tree=1, objective='multi:softprob',\n",
       "              predictor='auto', random_state=0, reg_alpha=0, ...)"
      ]
     },
     "execution_count": 45,
     "metadata": {},
     "output_type": "execute_result"
    }
   ],
   "source": [
    "classifier.fit(X_train, y_train)"
   ]
  },
  {
   "cell_type": "code",
   "execution_count": 46,
   "id": "dcec6e9c",
   "metadata": {},
   "outputs": [],
   "source": [
    "y_pred= classifier.predict(X_test)  "
   ]
  },
  {
   "cell_type": "code",
   "execution_count": 47,
   "id": "b2148686",
   "metadata": {},
   "outputs": [
    {
     "data": {
      "text/plain": [
       "array([4, 4, 5, ..., 4, 4, 4], dtype=int64)"
      ]
     },
     "execution_count": 47,
     "metadata": {},
     "output_type": "execute_result"
    }
   ],
   "source": [
    "y_pred"
   ]
  },
  {
   "cell_type": "code",
   "execution_count": 48,
   "id": "287658f6",
   "metadata": {},
   "outputs": [],
   "source": [
    "from sklearn.metrics import confusion_matrix  \n",
    "cm= confusion_matrix(y_test, y_pred)"
   ]
  },
  {
   "cell_type": "code",
   "execution_count": 49,
   "id": "6cc26e5a",
   "metadata": {},
   "outputs": [
    {
     "data": {
      "text/plain": [
       "array([[ 43,   3,   1,  21,  27,  13],\n",
       "       [  3,   2,   0,   6,   9,   3],\n",
       "       [  2,   0,  12,   3,   5,   2],\n",
       "       [ 23,   3,   3,  31,  11,   3],\n",
       "       [ 22,   2,   0,   4, 435, 103],\n",
       "       [  3,   0,   0,   1, 205, 134]], dtype=int64)"
      ]
     },
     "execution_count": 49,
     "metadata": {},
     "output_type": "execute_result"
    }
   ],
   "source": [
    "cm"
   ]
  },
  {
   "cell_type": "code",
   "execution_count": 50,
   "id": "b1fbde76",
   "metadata": {},
   "outputs": [
    {
     "data": {
      "text/plain": [
       "<AxesSubplot:>"
      ]
     },
     "execution_count": 50,
     "metadata": {},
     "output_type": "execute_result"
    },
    {
     "data": {
      "image/png": "[encoded data removed]",
      "text/plain": [
       "<Figure size 432x288 with 2 Axes>"
      ]
     },
     "metadata": {
      "needs_background": "light"
     },
     "output_type": "display_data"
    }
   ],
   "source": [
    "sns.heatmap(cm, annot=True)"
   ]
  },
  {
   "cell_type": "code",
   "execution_count": 51,
   "id": "866d519c",
   "metadata": {},
   "outputs": [
    {
     "name": "stdout",
     "output_type": "stream",
     "text": [
      "              precision    recall  f1-score   support\n",
      "\n",
      "           0       0.45      0.40      0.42       108\n",
      "           1       0.20      0.09      0.12        23\n",
      "           2       0.75      0.50      0.60        24\n",
      "           3       0.47      0.42      0.44        74\n",
      "           4       0.63      0.77      0.69       566\n",
      "           5       0.52      0.39      0.45       343\n",
      "\n",
      "    accuracy                           0.58      1138\n",
      "   macro avg       0.50      0.43      0.45      1138\n",
      "weighted avg       0.56      0.58      0.56      1138\n",
      "\n"
     ]
    }
   ],
   "source": [
    "from sklearn.metrics import classification_report\n",
    "print(classification_report(y_test, y_pred))"
   ]
  },
  {
   "cell_type": "code",
   "execution_count": 52,
   "id": "00711599",
   "metadata": {},
   "outputs": [],
   "source": [
    "from sklearn.metrics import accuracy_score\n",
    "from sklearn.tree import DecisionTreeClassifier"
   ]
  },
  {
   "cell_type": "code",
   "execution_count": 53,
   "id": "076c5c45",
   "metadata": {},
   "outputs": [],
   "source": [
    "params_1 = {'criterion': 'gini', 'splitter': 'best', 'max_depth': 50}\n",
    "params_2 = {'criterion': 'entropy', 'splitter': 'random', 'max_depth': 70}\n",
    "params_3 = {'criterion': 'gini', 'splitter': 'random', 'max_depth': 60}\n",
    "params_4 = {'criterion': 'entropy', 'splitter': 'best', 'max_depth': 80}\n",
    "params_5 = {'criterion': 'gini', 'splitter': 'best', 'max_depth': 40}"
   ]
  },
  {
   "cell_type": "code",
   "execution_count": 54,
   "id": "8128a1f1",
   "metadata": {},
   "outputs": [
    {
     "name": "stdout",
     "output_type": "stream",
     "text": [
      "Accuracy on Model 1: 0.548\n",
      "Accuracy on Model 2: 0.549\n",
      "Accuracy on Model 3: 0.549\n",
      "Accuracy on Model 4: 0.544\n",
      "Accuracy on Model 5: 0.538\n"
     ]
    }
   ],
   "source": [
    "model_1 = DecisionTreeClassifier(**params_1)\n",
    "model_2 = DecisionTreeClassifier(**params_2)\n",
    "model_3 = DecisionTreeClassifier(**params_3)\n",
    "model_4 = DecisionTreeClassifier(**params_4)\n",
    "model_5 = DecisionTreeClassifier(**params_5)\n",
    "model_1.fit(X_train, y_train)\n",
    "model_2.fit(X_train, y_train)\n",
    "model_3.fit(X_train, y_train)\n",
    "model_4.fit(X_train, y_train)\n",
    "model_5.fit(X_train, y_train)\n",
    "# Prediction sets\n",
    "preds_1 = model_1.predict(X_test)\n",
    "preds_2 = model_3.predict(X_test)\n",
    "preds_3 = model_3.predict(X_test)\n",
    "preds_4 = model_4.predict(X_test)\n",
    "preds_5 = model_5.predict(X_test)\n",
    "print(f'Accuracy on Model 1: {round(accuracy_score(y_test, preds_1), 3)}')\n",
    "print(f'Accuracy on Model 2: {round(accuracy_score(y_test, preds_2), 3)}')\n",
    "print(f'Accuracy on Model 3: {round(accuracy_score(y_test, preds_3), 3)}')\n",
    "print(f'Accuracy on Model 4: {round(accuracy_score(y_test, preds_4), 3)}')\n",
    "print(f'Accuracy on Model 5: {round(accuracy_score(y_test, preds_5), 3)}')"
   ]
  },
  {
   "cell_type": "code",
   "execution_count": 55,
   "id": "2767d361",
   "metadata": {},
   "outputs": [],
   "source": [
    "from sklearn.model_selection import GridSearchCV\n",
    "from sklearn.neighbors import KNeighborsClassifier"
   ]
  },
  {
   "cell_type": "code",
   "execution_count": 56,
   "id": "ad31126b",
   "metadata": {},
   "outputs": [
    {
     "data": {
      "text/plain": [
       "GridSearchCV(cv=10, estimator=KNeighborsClassifier(),\n",
       "             param_grid={'n_neighbors': [1, 2, 3, 4, 5, 6, 7, 8, 9, 10, 11, 12,\n",
       "                                         13, 14, 15, 16, 17, 18, 19, 20, 21, 22,\n",
       "                                         23, 24, 25, 26, 27, 28, 29, 30]})"
      ]
     },
     "execution_count": 56,
     "metadata": {},
     "output_type": "execute_result"
    }
   ],
   "source": [
    "knn_clf = KNeighborsClassifier()\n",
    "knn_clf.fit(X_train, y_train)\n",
    "KNeighborsClassifier()\n",
    "k_range = list(range(1, 31))\n",
    "param_grid = dict(n_neighbors=k_range)\n",
    "gs = GridSearchCV(knn_clf,param_grid,cv=10)\n",
    "gs.fit(X_train, y_train)"
   ]
  },
  {
   "cell_type": "code",
   "execution_count": 57,
   "id": "e9bbf747",
   "metadata": {},
   "outputs": [
    {
     "data": {
      "text/plain": [
       "[{'n_neighbors': 1},\n",
       " {'n_neighbors': 2},\n",
       " {'n_neighbors': 3},\n",
       " {'n_neighbors': 4},\n",
       " {'n_neighbors': 5},\n",
       " {'n_neighbors': 6},\n",
       " {'n_neighbors': 7},\n",
       " {'n_neighbors': 8},\n",
       " {'n_neighbors': 9},\n",
       " {'n_neighbors': 10},\n",
       " {'n_neighbors': 11},\n",
       " {'n_neighbors': 12},\n",
       " {'n_neighbors': 13},\n",
       " {'n_neighbors': 14},\n",
       " {'n_neighbors': 15},\n",
       " {'n_neighbors': 16},\n",
       " {'n_neighbors': 17},\n",
       " {'n_neighbors': 18},\n",
       " {'n_neighbors': 19},\n",
       " {'n_neighbors': 20},\n",
       " {'n_neighbors': 21},\n",
       " {'n_neighbors': 22},\n",
       " {'n_neighbors': 23},\n",
       " {'n_neighbors': 24},\n",
       " {'n_neighbors': 25},\n",
       " {'n_neighbors': 26},\n",
       " {'n_neighbors': 27},\n",
       " {'n_neighbors': 28},\n",
       " {'n_neighbors': 29},\n",
       " {'n_neighbors': 30}]"
      ]
     },
     "execution_count": 57,
     "metadata": {},
     "output_type": "execute_result"
    }
   ],
   "source": [
    "gs.cv_results_['params']"
   ]
  },
  {
   "cell_type": "code",
   "execution_count": 58,
   "id": "a7e8ff6b",
   "metadata": {},
   "outputs": [
    {
     "data": {
      "text/plain": [
       "{'n_neighbors': 2}"
      ]
     },
     "execution_count": 58,
     "metadata": {},
     "output_type": "execute_result"
    }
   ],
   "source": [
    "gs.best_params_"
   ]
  },
  {
   "cell_type": "code",
   "execution_count": 59,
   "id": "8364537b",
   "metadata": {},
   "outputs": [
    {
     "data": {
      "text/plain": [
       "array([0.56107914, 0.58743686, 0.55426595, 0.57974889, 0.56635338,\n",
       "       0.58656111, 0.57777376, 0.58062753, 0.58502265, 0.58062849,\n",
       "       0.57535762, 0.57513688, 0.57227877, 0.57008001, 0.56480721,\n",
       "       0.56436524, 0.56480528, 0.56568392, 0.5656791 , 0.56172932,\n",
       "       0.56282822, 0.56502892, 0.56634808, 0.56107721, 0.56217226,\n",
       "       0.5597566 , 0.55778051, 0.55689946, 0.5566792 , 0.55558174])"
      ]
     },
     "execution_count": 59,
     "metadata": {},
     "output_type": "execute_result"
    }
   ],
   "source": [
    "gs.cv_results_['mean_test_score']"
   ]
  },
  {
   "cell_type": "code",
   "execution_count": 60,
   "id": "4b160602",
   "metadata": {},
   "outputs": [
    {
     "name": "stdout",
     "output_type": "stream",
     "text": [
      "0.5852372583479789\n"
     ]
    }
   ],
   "source": [
    "print(gs.score(X_test,y_test))"
   ]
  },
  {
   "cell_type": "code",
   "execution_count": 61,
   "id": "7bfb016a",
   "metadata": {},
   "outputs": [],
   "source": [
    "classifier = RandomForestClassifier(n_estimators=50)"
   ]
  },
  {
   "cell_type": "code",
   "execution_count": 62,
   "id": "bea1321a",
   "metadata": {},
   "outputs": [],
   "source": [
    "from sklearn.model_selection import RandomizedSearchCV\n",
    "from sklearn.ensemble import RandomForestClassifier\n",
    "from scipy.stats import randint as sp_randint\n",
    "param_dist = {\"max_depth\": [3, None],\n",
    "              \"max_features\": sp_randint(1, 11),\n",
    "              \"min_samples_split\": sp_randint(2, 11),\n",
    "              \"min_samples_leaf\": sp_randint(1, 11),\n",
    "              \"bootstrap\": [True, False],\n",
    "              \"criterion\": [\"gini\", \"entropy\"]}"
   ]
  },
  {
   "cell_type": "code",
   "execution_count": 64,
   "id": "900e7dcf",
   "metadata": {},
   "outputs": [],
   "source": [
    "samples = 8  # number of random samples \n",
    "randomCV = RandomizedSearchCV(classifier, param_distributions=param_dist, n_iter=samples,cv=3)"
   ]
  },
  {
   "cell_type": "code",
   "execution_count": 65,
   "id": "b923435e",
   "metadata": {},
   "outputs": [
    {
     "name": "stdout",
     "output_type": "stream",
     "text": [
      "{'bootstrap': True, 'criterion': 'gini', 'max_depth': None, 'max_features': 5, 'min_samples_leaf': 1, 'min_samples_split': 5}\n"
     ]
    }
   ],
   "source": [
    "randomCV.fit(X_train, y_train)\n",
    "print(randomCV.best_params_)"
   ]
  },
  {
   "cell_type": "code",
   "execution_count": null,
   "id": "3c65294f",
   "metadata": {},
   "outputs": [],
   "source": [
    "randomCV.cv_results_['mean_test_score']"
   ]
  },
  {
   "cell_type": "code",
   "execution_count": null,
   "id": "b0acc36f",
   "metadata": {},
   "outputs": [],
   "source": [
    "print(randomCV.score(X_test,y_test))"
   ]
  },
  {
   "cell_type": "code",
   "execution_count": 69,
   "id": "b6b673de",
   "metadata": {},
   "outputs": [],
   "source": [
    "loss = ['hinge', 'log', 'modified_huber', 'squared_hinge',  'perceptron'] \n",
    "penalty = ['l1', 'l2', 'elasticnet'] \n",
    "alpha = [0.0001, 0.001, 0.01, 0.1, 1, 10, 100, 1000] \n",
    "learning_rate = ['constant', 'optimal', 'invscaling', 'adaptive'] \n",
    "class_weight = [{1:0.5, 0:0.5}, {1:0.4, 0:0.6}, {1:0.6, 0:0.4}, {1:0.7, 0:0.3}]\n",
    "eta0 = [1, 10, 100] \n",
    "param_distributions = dict(loss=loss, penalty=penalty, alpha=alpha, learning_rate=learning_rate, class_weight=class_weight, eta0=eta0) "
   ]
  },
  {
   "cell_type": "code",
   "execution_count": 70,
   "id": "d8c94f47",
   "metadata": {},
   "outputs": [],
   "source": [
    "from sklearn.linear_model import SGDClassifier "
   ]
  },
  {
   "cell_type": "code",
   "execution_count": null,
   "id": "5129e531",
   "metadata": {},
   "outputs": [
    {
     "name": "stdout",
     "output_type": "stream",
     "text": [
      "Fitting 5 folds for each of 1000 candidates, totalling 5000 fits\n"
     ]
    }
   ],
   "source": [
    "sgd = SGDClassifier(loss=\"hinge\", penalty=\"l2\", max_iter=1000) \n",
    "random = RandomizedSearchCV(estimator=sgd, \n",
    "param_distributions=param_distributions, \n",
    "scoring='roc_auc', \n",
    "verbose=1, n_jobs=-1, \n",
    "n_iter=1000) \n",
    "random_result = random.fit(X_train, y_train) \n",
    "print('Best Score: ', random_result.best_score_) \n",
    "print('Best Params: ', random_result.best_params_) "
   ]
  },
  {
   "cell_type": "markdown",
   "id": "d2c2eb5f",
   "metadata": {},
   "source": []
  }
 ],
 "metadata": {
  "kernelspec": {
   "display_name": "Python 3 (ipykernel)",
   "language": "python",
   "name": "python3"
  },
  "language_info": {
   "codemirror_mode": {
    "name": "ipython",
    "version": 3
   },
   "file_extension": ".py",
   "mimetype": "text/x-python",
   "name": "python",
   "nbconvert_exporter": "python",
   "pygments_lexer": "ipython3",
   "version": "3.9.12"
  }
 },
 "nbformat": 4,
 "nbformat_minor": 5
}

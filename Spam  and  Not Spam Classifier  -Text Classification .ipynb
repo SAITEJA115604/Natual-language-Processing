{
 "cells": [
  {
   "cell_type": "code",
   "execution_count": 1,
   "id": "66c26149",
   "metadata": {},
   "outputs": [
    {
     "data": {
      "text/html": [
       "<div>\n",
       "<style scoped>\n",
       "    .dataframe tbody tr th:only-of-type {\n",
       "        vertical-align: middle;\n",
       "    }\n",
       "\n",
       "    .dataframe tbody tr th {\n",
       "        vertical-align: top;\n",
       "    }\n",
       "\n",
       "    .dataframe thead th {\n",
       "        text-align: right;\n",
       "    }\n",
       "</style>\n",
       "<table border=\"1\" class=\"dataframe\">\n",
       "  <thead>\n",
       "    <tr style=\"text-align: right;\">\n",
       "      <th></th>\n",
       "      <th>S. No.</th>\n",
       "      <th>Message_body</th>\n",
       "      <th>Label</th>\n",
       "    </tr>\n",
       "  </thead>\n",
       "  <tbody>\n",
       "    <tr>\n",
       "      <th>0</th>\n",
       "      <td>1</td>\n",
       "      <td>Rofl. Its true to its name</td>\n",
       "      <td>Non-Spam</td>\n",
       "    </tr>\n",
       "    <tr>\n",
       "      <th>1</th>\n",
       "      <td>2</td>\n",
       "      <td>The guy did some bitching but I acted like i'd...</td>\n",
       "      <td>Non-Spam</td>\n",
       "    </tr>\n",
       "    <tr>\n",
       "      <th>2</th>\n",
       "      <td>3</td>\n",
       "      <td>Pity, * was in mood for that. So...any other s...</td>\n",
       "      <td>Non-Spam</td>\n",
       "    </tr>\n",
       "    <tr>\n",
       "      <th>3</th>\n",
       "      <td>4</td>\n",
       "      <td>Will � b going to esplanade fr home?</td>\n",
       "      <td>Non-Spam</td>\n",
       "    </tr>\n",
       "    <tr>\n",
       "      <th>4</th>\n",
       "      <td>5</td>\n",
       "      <td>This is the 2nd time we have tried 2 contact u...</td>\n",
       "      <td>Spam</td>\n",
       "    </tr>\n",
       "    <tr>\n",
       "      <th>...</th>\n",
       "      <td>...</td>\n",
       "      <td>...</td>\n",
       "      <td>...</td>\n",
       "    </tr>\n",
       "    <tr>\n",
       "      <th>952</th>\n",
       "      <td>953</td>\n",
       "      <td>hows my favourite person today? r u workin har...</td>\n",
       "      <td>Non-Spam</td>\n",
       "    </tr>\n",
       "    <tr>\n",
       "      <th>953</th>\n",
       "      <td>954</td>\n",
       "      <td>How much you got for cleaning</td>\n",
       "      <td>Non-Spam</td>\n",
       "    </tr>\n",
       "    <tr>\n",
       "      <th>954</th>\n",
       "      <td>955</td>\n",
       "      <td>Sorry da. I gone mad so many pending works wha...</td>\n",
       "      <td>Non-Spam</td>\n",
       "    </tr>\n",
       "    <tr>\n",
       "      <th>955</th>\n",
       "      <td>956</td>\n",
       "      <td>Wat time � finish?</td>\n",
       "      <td>Non-Spam</td>\n",
       "    </tr>\n",
       "    <tr>\n",
       "      <th>956</th>\n",
       "      <td>957</td>\n",
       "      <td>Just glad to be talking to you.</td>\n",
       "      <td>Non-Spam</td>\n",
       "    </tr>\n",
       "  </tbody>\n",
       "</table>\n",
       "<p>957 rows × 3 columns</p>\n",
       "</div>"
      ],
      "text/plain": [
       "     S. No.                                       Message_body     Label\n",
       "0         1                         Rofl. Its true to its name  Non-Spam\n",
       "1         2  The guy did some bitching but I acted like i'd...  Non-Spam\n",
       "2         3  Pity, * was in mood for that. So...any other s...  Non-Spam\n",
       "3         4               Will � b going to esplanade fr home?  Non-Spam\n",
       "4         5  This is the 2nd time we have tried 2 contact u...      Spam\n",
       "..      ...                                                ...       ...\n",
       "952     953  hows my favourite person today? r u workin har...  Non-Spam\n",
       "953     954                      How much you got for cleaning  Non-Spam\n",
       "954     955  Sorry da. I gone mad so many pending works wha...  Non-Spam\n",
       "955     956                                 Wat time � finish?  Non-Spam\n",
       "956     957                    Just glad to be talking to you.  Non-Spam\n",
       "\n",
       "[957 rows x 3 columns]"
      ]
     },
     "execution_count": 1,
     "metadata": {},
     "output_type": "execute_result"
    }
   ],
   "source": [
    "import pandas as pd \n",
    "import numpy as np \n",
    "data = pd.read_csv(\"SMS_train.csv\")\n",
    "data"
   ]
  },
  {
   "cell_type": "code",
   "execution_count": 2,
   "id": "d66f07c8",
   "metadata": {},
   "outputs": [
    {
     "data": {
      "text/plain": [
       "(957, 3)"
      ]
     },
     "execution_count": 2,
     "metadata": {},
     "output_type": "execute_result"
    }
   ],
   "source": [
    "data.shape"
   ]
  },
  {
   "cell_type": "code",
   "execution_count": 3,
   "id": "ea061c8f",
   "metadata": {},
   "outputs": [
    {
     "data": {
      "text/plain": [
       "2871"
      ]
     },
     "execution_count": 3,
     "metadata": {},
     "output_type": "execute_result"
    }
   ],
   "source": [
    "data.size"
   ]
  },
  {
   "cell_type": "code",
   "execution_count": 4,
   "id": "7394b9d2",
   "metadata": {},
   "outputs": [
    {
     "data": {
      "text/plain": [
       "<bound method NDFrame.head of      S. No.                                       Message_body     Label\n",
       "0         1                         Rofl. Its true to its name  Non-Spam\n",
       "1         2  The guy did some bitching but I acted like i'd...  Non-Spam\n",
       "2         3  Pity, * was in mood for that. So...any other s...  Non-Spam\n",
       "3         4               Will � b going to esplanade fr home?  Non-Spam\n",
       "4         5  This is the 2nd time we have tried 2 contact u...      Spam\n",
       "..      ...                                                ...       ...\n",
       "952     953  hows my favourite person today? r u workin har...  Non-Spam\n",
       "953     954                      How much you got for cleaning  Non-Spam\n",
       "954     955  Sorry da. I gone mad so many pending works wha...  Non-Spam\n",
       "955     956                                 Wat time � finish?  Non-Spam\n",
       "956     957                    Just glad to be talking to you.  Non-Spam\n",
       "\n",
       "[957 rows x 3 columns]>"
      ]
     },
     "execution_count": 4,
     "metadata": {},
     "output_type": "execute_result"
    }
   ],
   "source": [
    "data.head"
   ]
  },
  {
   "cell_type": "code",
   "execution_count": 7,
   "id": "902f2bfd",
   "metadata": {},
   "outputs": [
    {
     "data": {
      "text/plain": [
       "<bound method NDFrame.tail of      S. No.                                       Message_body     Label\n",
       "0         1                         Rofl. Its true to its name  Non-Spam\n",
       "1         2  The guy did some bitching but I acted like i'd...  Non-Spam\n",
       "2         3  Pity, * was in mood for that. So...any other s...  Non-Spam\n",
       "3         4               Will � b going to esplanade fr home?  Non-Spam\n",
       "4         5  This is the 2nd time we have tried 2 contact u...      Spam\n",
       "..      ...                                                ...       ...\n",
       "952     953  hows my favourite person today? r u workin har...  Non-Spam\n",
       "953     954                      How much you got for cleaning  Non-Spam\n",
       "954     955  Sorry da. I gone mad so many pending works wha...  Non-Spam\n",
       "955     956                                 Wat time � finish?  Non-Spam\n",
       "956     957                    Just glad to be talking to you.  Non-Spam\n",
       "\n",
       "[957 rows x 3 columns]>"
      ]
     },
     "execution_count": 7,
     "metadata": {},
     "output_type": "execute_result"
    }
   ],
   "source": [
    "data.tail"
   ]
  },
  {
   "cell_type": "code",
   "execution_count": 8,
   "id": "be5182f5",
   "metadata": {},
   "outputs": [
    {
     "data": {
      "text/plain": [
       "0      Non-Spam\n",
       "1      Non-Spam\n",
       "2      Non-Spam\n",
       "3      Non-Spam\n",
       "4          Spam\n",
       "         ...   \n",
       "952    Non-Spam\n",
       "953    Non-Spam\n",
       "954    Non-Spam\n",
       "955    Non-Spam\n",
       "956    Non-Spam\n",
       "Name: Label, Length: 957, dtype: object"
      ]
     },
     "execution_count": 8,
     "metadata": {},
     "output_type": "execute_result"
    }
   ],
   "source": [
    "data['Label']"
   ]
  },
  {
   "cell_type": "code",
   "execution_count": 13,
   "id": "8906d1ed",
   "metadata": {},
   "outputs": [
    {
     "data": {
      "text/plain": [
       "Non-Spam    835\n",
       "Spam        122\n",
       "Name: Label, dtype: int64"
      ]
     },
     "execution_count": 13,
     "metadata": {},
     "output_type": "execute_result"
    }
   ],
   "source": [
    "data['Label'].value_counts()"
   ]
  },
  {
   "cell_type": "code",
   "execution_count": 14,
   "id": "4af68e2c",
   "metadata": {},
   "outputs": [
    {
     "data": {
      "image/png": "[encoded data removed]",
      "text/plain": [
       "<Figure size 432x288 with 1 Axes>"
      ]
     },
     "metadata": {},
     "output_type": "display_data"
    }
   ],
   "source": [
    "import seaborn as sns\n",
    "sns.set_theme(style=\"darkgrid\")\n",
    "#titanic = sns.load_dataset(\"Dataset_for_NLP\")\n",
    "ax = sns.countplot(x=\"Label\", data=data)"
   ]
  },
  {
   "cell_type": "code",
   "execution_count": 20,
   "id": "b872360b",
   "metadata": {},
   "outputs": [
    {
     "name": "stdout",
     "output_type": "stream",
     "text": [
      "(835, 3)\n",
      "(122, 3)\n"
     ]
    }
   ],
   "source": [
    "non_spam_data = data[data[\"Label\"] == \"Non-Spam\"]\n",
    "spam_data  = data[data[\"Label\"] == \"Spam\"]\n",
    "print(non_spam_data.shape)\n",
    "print(spam_data.shape)"
   ]
  },
  {
   "cell_type": "code",
   "execution_count": 21,
   "id": "555de76e",
   "metadata": {},
   "outputs": [
    {
     "name": "stdout",
     "output_type": "stream",
     "text": [
      "(835, 3)\n"
     ]
    }
   ],
   "source": [
    "from sklearn.utils import resample\n",
    "Spam_upsample = resample(spam_data,\n",
    "             replace=True,\n",
    "             n_samples=len(non_spam_data),\n",
    "             random_state=42)\n",
    "\n",
    "print(Spam_upsample.shape)"
   ]
  },
  {
   "cell_type": "code",
   "execution_count": 25,
   "id": "53152b21",
   "metadata": {},
   "outputs": [
    {
     "name": "stdout",
     "output_type": "stream",
     "text": [
      "Non-Spam    835\n",
      "Spam        835\n",
      "Name: Label, dtype: int64\n"
     ]
    },
    {
     "data": {
      "text/plain": [
       "<AxesSubplot:xlabel='Label'>"
      ]
     },
     "execution_count": 25,
     "metadata": {},
     "output_type": "execute_result"
    },
    {
     "data": {
      "image/png": "[encoded data removed]",
      "text/plain": [
       "<Figure size 432x288 with 1 Axes>"
      ]
     },
     "metadata": {},
     "output_type": "display_data"
    }
   ],
   "source": [
    "data_upsampled = pd.concat([non_spam_data, Spam_upsample])\n",
    "\n",
    "print(data_upsampled[\"Label\"].value_counts())\n",
    "\n",
    "data_upsampled.groupby('Label').size().plot(kind='bar',\n",
    "                                       y = \"Label\",\n",
    "                                       label = \"Type\")"
   ]
  },
  {
   "cell_type": "code",
   "execution_count": 26,
   "id": "b6ca90dc",
   "metadata": {},
   "outputs": [
    {
     "data": {
      "text/plain": [
       "'!\"#$%&\\'()*+,-./:;<=>?@[\\\\]^_`{|}~'"
      ]
     },
     "execution_count": 26,
     "metadata": {},
     "output_type": "execute_result"
    }
   ],
   "source": [
    "import string\n",
    "string.punctuation"
   ]
  },
  {
   "cell_type": "code",
   "execution_count": 30,
   "id": "b910575d",
   "metadata": {},
   "outputs": [
    {
     "data": {
      "text/html": [
       "<div>\n",
       "<style scoped>\n",
       "    .dataframe tbody tr th:only-of-type {\n",
       "        vertical-align: middle;\n",
       "    }\n",
       "\n",
       "    .dataframe tbody tr th {\n",
       "        vertical-align: top;\n",
       "    }\n",
       "\n",
       "    .dataframe thead th {\n",
       "        text-align: right;\n",
       "    }\n",
       "</style>\n",
       "<table border=\"1\" class=\"dataframe\">\n",
       "  <thead>\n",
       "    <tr style=\"text-align: right;\">\n",
       "      <th></th>\n",
       "      <th>S. No.</th>\n",
       "      <th>Message_body</th>\n",
       "      <th>Label</th>\n",
       "      <th>clean_punc</th>\n",
       "      <th>msg_lower</th>\n",
       "    </tr>\n",
       "  </thead>\n",
       "  <tbody>\n",
       "    <tr>\n",
       "      <th>0</th>\n",
       "      <td>1</td>\n",
       "      <td>Rofl. Its true to its name</td>\n",
       "      <td>Non-Spam</td>\n",
       "      <td>Rofl Its true to its name</td>\n",
       "      <td>rofl its true to its name</td>\n",
       "    </tr>\n",
       "    <tr>\n",
       "      <th>1</th>\n",
       "      <td>2</td>\n",
       "      <td>The guy did some bitching but I acted like i'd...</td>\n",
       "      <td>Non-Spam</td>\n",
       "      <td>The guy did some bitching but I acted like id ...</td>\n",
       "      <td>the guy did some bitching but i acted like id ...</td>\n",
       "    </tr>\n",
       "    <tr>\n",
       "      <th>2</th>\n",
       "      <td>3</td>\n",
       "      <td>Pity, * was in mood for that. So...any other s...</td>\n",
       "      <td>Non-Spam</td>\n",
       "      <td>Pity  was in mood for that Soany other suggest...</td>\n",
       "      <td>pity  was in mood for that soany other suggest...</td>\n",
       "    </tr>\n",
       "    <tr>\n",
       "      <th>3</th>\n",
       "      <td>4</td>\n",
       "      <td>Will � b going to esplanade fr home?</td>\n",
       "      <td>Non-Spam</td>\n",
       "      <td>Will � b going to esplanade fr home</td>\n",
       "      <td>will � b going to esplanade fr home</td>\n",
       "    </tr>\n",
       "    <tr>\n",
       "      <th>4</th>\n",
       "      <td>5</td>\n",
       "      <td>This is the 2nd time we have tried 2 contact u...</td>\n",
       "      <td>Spam</td>\n",
       "      <td>This is the 2nd time we have tried 2 contact u...</td>\n",
       "      <td>this is the 2nd time we have tried 2 contact u...</td>\n",
       "    </tr>\n",
       "    <tr>\n",
       "      <th>...</th>\n",
       "      <td>...</td>\n",
       "      <td>...</td>\n",
       "      <td>...</td>\n",
       "      <td>...</td>\n",
       "      <td>...</td>\n",
       "    </tr>\n",
       "    <tr>\n",
       "      <th>952</th>\n",
       "      <td>953</td>\n",
       "      <td>hows my favourite person today? r u workin har...</td>\n",
       "      <td>Non-Spam</td>\n",
       "      <td>hows my favourite person today r u workin hard...</td>\n",
       "      <td>hows my favourite person today r u workin hard...</td>\n",
       "    </tr>\n",
       "    <tr>\n",
       "      <th>953</th>\n",
       "      <td>954</td>\n",
       "      <td>How much you got for cleaning</td>\n",
       "      <td>Non-Spam</td>\n",
       "      <td>How much you got for cleaning</td>\n",
       "      <td>how much you got for cleaning</td>\n",
       "    </tr>\n",
       "    <tr>\n",
       "      <th>954</th>\n",
       "      <td>955</td>\n",
       "      <td>Sorry da. I gone mad so many pending works wha...</td>\n",
       "      <td>Non-Spam</td>\n",
       "      <td>Sorry da I gone mad so many pending works what...</td>\n",
       "      <td>sorry da i gone mad so many pending works what...</td>\n",
       "    </tr>\n",
       "    <tr>\n",
       "      <th>955</th>\n",
       "      <td>956</td>\n",
       "      <td>Wat time � finish?</td>\n",
       "      <td>Non-Spam</td>\n",
       "      <td>Wat time � finish</td>\n",
       "      <td>wat time � finish</td>\n",
       "    </tr>\n",
       "    <tr>\n",
       "      <th>956</th>\n",
       "      <td>957</td>\n",
       "      <td>Just glad to be talking to you.</td>\n",
       "      <td>Non-Spam</td>\n",
       "      <td>Just glad to be talking to you</td>\n",
       "      <td>just glad to be talking to you</td>\n",
       "    </tr>\n",
       "  </tbody>\n",
       "</table>\n",
       "<p>957 rows × 5 columns</p>\n",
       "</div>"
      ],
      "text/plain": [
       "     S. No.                                       Message_body     Label  \\\n",
       "0         1                         Rofl. Its true to its name  Non-Spam   \n",
       "1         2  The guy did some bitching but I acted like i'd...  Non-Spam   \n",
       "2         3  Pity, * was in mood for that. So...any other s...  Non-Spam   \n",
       "3         4               Will � b going to esplanade fr home?  Non-Spam   \n",
       "4         5  This is the 2nd time we have tried 2 contact u...      Spam   \n",
       "..      ...                                                ...       ...   \n",
       "952     953  hows my favourite person today? r u workin har...  Non-Spam   \n",
       "953     954                      How much you got for cleaning  Non-Spam   \n",
       "954     955  Sorry da. I gone mad so many pending works wha...  Non-Spam   \n",
       "955     956                                 Wat time � finish?  Non-Spam   \n",
       "956     957                    Just glad to be talking to you.  Non-Spam   \n",
       "\n",
       "                                            clean_punc  \\\n",
       "0                            Rofl Its true to its name   \n",
       "1    The guy did some bitching but I acted like id ...   \n",
       "2    Pity  was in mood for that Soany other suggest...   \n",
       "3                  Will � b going to esplanade fr home   \n",
       "4    This is the 2nd time we have tried 2 contact u...   \n",
       "..                                                 ...   \n",
       "952  hows my favourite person today r u workin hard...   \n",
       "953                      How much you got for cleaning   \n",
       "954  Sorry da I gone mad so many pending works what...   \n",
       "955                                  Wat time � finish   \n",
       "956                     Just glad to be talking to you   \n",
       "\n",
       "                                             msg_lower  \n",
       "0                            rofl its true to its name  \n",
       "1    the guy did some bitching but i acted like id ...  \n",
       "2    pity  was in mood for that soany other suggest...  \n",
       "3                  will � b going to esplanade fr home  \n",
       "4    this is the 2nd time we have tried 2 contact u...  \n",
       "..                                                 ...  \n",
       "952  hows my favourite person today r u workin hard...  \n",
       "953                      how much you got for cleaning  \n",
       "954  sorry da i gone mad so many pending works what...  \n",
       "955                                  wat time � finish  \n",
       "956                     just glad to be talking to you  \n",
       "\n",
       "[957 rows x 5 columns]"
      ]
     },
     "execution_count": 30,
     "metadata": {},
     "output_type": "execute_result"
    }
   ],
   "source": [
    "def remove_punctuation(text):\n",
    "    punctuationfree=\"\".join([i for i in text if i not in string.punctuation])\n",
    "    return punctuationfree\n",
    "#storing the puntuation free text\n",
    "data['clean_punc']= data['Message_body'].apply(lambda x:remove_punctuation(x))\n",
    "data"
   ]
  },
  {
   "cell_type": "code",
   "execution_count": 28,
   "id": "784ebdd6",
   "metadata": {},
   "outputs": [],
   "source": [
    "data['msg_lower']= data['clean_punc'].apply(lambda x: x.lower())"
   ]
  },
  {
   "cell_type": "code",
   "execution_count": 29,
   "id": "585b3c4c",
   "metadata": {},
   "outputs": [
    {
     "data": {
      "text/html": [
       "<div>\n",
       "<style scoped>\n",
       "    .dataframe tbody tr th:only-of-type {\n",
       "        vertical-align: middle;\n",
       "    }\n",
       "\n",
       "    .dataframe tbody tr th {\n",
       "        vertical-align: top;\n",
       "    }\n",
       "\n",
       "    .dataframe thead th {\n",
       "        text-align: right;\n",
       "    }\n",
       "</style>\n",
       "<table border=\"1\" class=\"dataframe\">\n",
       "  <thead>\n",
       "    <tr style=\"text-align: right;\">\n",
       "      <th></th>\n",
       "      <th>S. No.</th>\n",
       "      <th>Message_body</th>\n",
       "      <th>Label</th>\n",
       "      <th>clean_punc</th>\n",
       "      <th>msg_lower</th>\n",
       "    </tr>\n",
       "  </thead>\n",
       "  <tbody>\n",
       "    <tr>\n",
       "      <th>0</th>\n",
       "      <td>1</td>\n",
       "      <td>Rofl. Its true to its name</td>\n",
       "      <td>Non-Spam</td>\n",
       "      <td>Rofl Its true to its name</td>\n",
       "      <td>rofl its true to its name</td>\n",
       "    </tr>\n",
       "    <tr>\n",
       "      <th>1</th>\n",
       "      <td>2</td>\n",
       "      <td>The guy did some bitching but I acted like i'd...</td>\n",
       "      <td>Non-Spam</td>\n",
       "      <td>The guy did some bitching but I acted like id ...</td>\n",
       "      <td>the guy did some bitching but i acted like id ...</td>\n",
       "    </tr>\n",
       "    <tr>\n",
       "      <th>2</th>\n",
       "      <td>3</td>\n",
       "      <td>Pity, * was in mood for that. So...any other s...</td>\n",
       "      <td>Non-Spam</td>\n",
       "      <td>Pity  was in mood for that Soany other suggest...</td>\n",
       "      <td>pity  was in mood for that soany other suggest...</td>\n",
       "    </tr>\n",
       "    <tr>\n",
       "      <th>3</th>\n",
       "      <td>4</td>\n",
       "      <td>Will � b going to esplanade fr home?</td>\n",
       "      <td>Non-Spam</td>\n",
       "      <td>Will � b going to esplanade fr home</td>\n",
       "      <td>will � b going to esplanade fr home</td>\n",
       "    </tr>\n",
       "    <tr>\n",
       "      <th>4</th>\n",
       "      <td>5</td>\n",
       "      <td>This is the 2nd time we have tried 2 contact u...</td>\n",
       "      <td>Spam</td>\n",
       "      <td>This is the 2nd time we have tried 2 contact u...</td>\n",
       "      <td>this is the 2nd time we have tried 2 contact u...</td>\n",
       "    </tr>\n",
       "    <tr>\n",
       "      <th>...</th>\n",
       "      <td>...</td>\n",
       "      <td>...</td>\n",
       "      <td>...</td>\n",
       "      <td>...</td>\n",
       "      <td>...</td>\n",
       "    </tr>\n",
       "    <tr>\n",
       "      <th>952</th>\n",
       "      <td>953</td>\n",
       "      <td>hows my favourite person today? r u workin har...</td>\n",
       "      <td>Non-Spam</td>\n",
       "      <td>hows my favourite person today r u workin hard...</td>\n",
       "      <td>hows my favourite person today r u workin hard...</td>\n",
       "    </tr>\n",
       "    <tr>\n",
       "      <th>953</th>\n",
       "      <td>954</td>\n",
       "      <td>How much you got for cleaning</td>\n",
       "      <td>Non-Spam</td>\n",
       "      <td>How much you got for cleaning</td>\n",
       "      <td>how much you got for cleaning</td>\n",
       "    </tr>\n",
       "    <tr>\n",
       "      <th>954</th>\n",
       "      <td>955</td>\n",
       "      <td>Sorry da. I gone mad so many pending works wha...</td>\n",
       "      <td>Non-Spam</td>\n",
       "      <td>Sorry da I gone mad so many pending works what...</td>\n",
       "      <td>sorry da i gone mad so many pending works what...</td>\n",
       "    </tr>\n",
       "    <tr>\n",
       "      <th>955</th>\n",
       "      <td>956</td>\n",
       "      <td>Wat time � finish?</td>\n",
       "      <td>Non-Spam</td>\n",
       "      <td>Wat time � finish</td>\n",
       "      <td>wat time � finish</td>\n",
       "    </tr>\n",
       "    <tr>\n",
       "      <th>956</th>\n",
       "      <td>957</td>\n",
       "      <td>Just glad to be talking to you.</td>\n",
       "      <td>Non-Spam</td>\n",
       "      <td>Just glad to be talking to you</td>\n",
       "      <td>just glad to be talking to you</td>\n",
       "    </tr>\n",
       "  </tbody>\n",
       "</table>\n",
       "<p>957 rows × 5 columns</p>\n",
       "</div>"
      ],
      "text/plain": [
       "     S. No.                                       Message_body     Label  \\\n",
       "0         1                         Rofl. Its true to its name  Non-Spam   \n",
       "1         2  The guy did some bitching but I acted like i'd...  Non-Spam   \n",
       "2         3  Pity, * was in mood for that. So...any other s...  Non-Spam   \n",
       "3         4               Will � b going to esplanade fr home?  Non-Spam   \n",
       "4         5  This is the 2nd time we have tried 2 contact u...      Spam   \n",
       "..      ...                                                ...       ...   \n",
       "952     953  hows my favourite person today? r u workin har...  Non-Spam   \n",
       "953     954                      How much you got for cleaning  Non-Spam   \n",
       "954     955  Sorry da. I gone mad so many pending works wha...  Non-Spam   \n",
       "955     956                                 Wat time � finish?  Non-Spam   \n",
       "956     957                    Just glad to be talking to you.  Non-Spam   \n",
       "\n",
       "                                            clean_punc  \\\n",
       "0                            Rofl Its true to its name   \n",
       "1    The guy did some bitching but I acted like id ...   \n",
       "2    Pity  was in mood for that Soany other suggest...   \n",
       "3                  Will � b going to esplanade fr home   \n",
       "4    This is the 2nd time we have tried 2 contact u...   \n",
       "..                                                 ...   \n",
       "952  hows my favourite person today r u workin hard...   \n",
       "953                      How much you got for cleaning   \n",
       "954  Sorry da I gone mad so many pending works what...   \n",
       "955                                  Wat time � finish   \n",
       "956                     Just glad to be talking to you   \n",
       "\n",
       "                                             msg_lower  \n",
       "0                            rofl its true to its name  \n",
       "1    the guy did some bitching but i acted like id ...  \n",
       "2    pity  was in mood for that soany other suggest...  \n",
       "3                  will � b going to esplanade fr home  \n",
       "4    this is the 2nd time we have tried 2 contact u...  \n",
       "..                                                 ...  \n",
       "952  hows my favourite person today r u workin hard...  \n",
       "953                      how much you got for cleaning  \n",
       "954  sorry da i gone mad so many pending works what...  \n",
       "955                                  wat time � finish  \n",
       "956                     just glad to be talking to you  \n",
       "\n",
       "[957 rows x 5 columns]"
      ]
     },
     "execution_count": 29,
     "metadata": {},
     "output_type": "execute_result"
    }
   ],
   "source": [
    "data"
   ]
  },
  {
   "cell_type": "code",
   "execution_count": 31,
   "id": "c3aeb77c",
   "metadata": {},
   "outputs": [],
   "source": [
    "import re\n",
    "def tokenization(text):\n",
    "    tokens = re.split('W+',text)\n",
    "    return tokens\n",
    "#applying function to the column\n",
    "data['msg_tokenied']= data['msg_lower'].apply(lambda x: tokenization(x))"
   ]
  },
  {
   "cell_type": "code",
   "execution_count": 32,
   "id": "94248256",
   "metadata": {},
   "outputs": [
    {
     "data": {
      "text/html": [
       "<div>\n",
       "<style scoped>\n",
       "    .dataframe tbody tr th:only-of-type {\n",
       "        vertical-align: middle;\n",
       "    }\n",
       "\n",
       "    .dataframe tbody tr th {\n",
       "        vertical-align: top;\n",
       "    }\n",
       "\n",
       "    .dataframe thead th {\n",
       "        text-align: right;\n",
       "    }\n",
       "</style>\n",
       "<table border=\"1\" class=\"dataframe\">\n",
       "  <thead>\n",
       "    <tr style=\"text-align: right;\">\n",
       "      <th></th>\n",
       "      <th>S. No.</th>\n",
       "      <th>Message_body</th>\n",
       "      <th>Label</th>\n",
       "      <th>clean_punc</th>\n",
       "      <th>msg_lower</th>\n",
       "      <th>msg_tokenied</th>\n",
       "    </tr>\n",
       "  </thead>\n",
       "  <tbody>\n",
       "    <tr>\n",
       "      <th>0</th>\n",
       "      <td>1</td>\n",
       "      <td>Rofl. Its true to its name</td>\n",
       "      <td>Non-Spam</td>\n",
       "      <td>Rofl Its true to its name</td>\n",
       "      <td>rofl its true to its name</td>\n",
       "      <td>[rofl its true to its name]</td>\n",
       "    </tr>\n",
       "    <tr>\n",
       "      <th>1</th>\n",
       "      <td>2</td>\n",
       "      <td>The guy did some bitching but I acted like i'd...</td>\n",
       "      <td>Non-Spam</td>\n",
       "      <td>The guy did some bitching but I acted like id ...</td>\n",
       "      <td>the guy did some bitching but i acted like id ...</td>\n",
       "      <td>[the guy did some bitching but i acted like id...</td>\n",
       "    </tr>\n",
       "    <tr>\n",
       "      <th>2</th>\n",
       "      <td>3</td>\n",
       "      <td>Pity, * was in mood for that. So...any other s...</td>\n",
       "      <td>Non-Spam</td>\n",
       "      <td>Pity  was in mood for that Soany other suggest...</td>\n",
       "      <td>pity  was in mood for that soany other suggest...</td>\n",
       "      <td>[pity  was in mood for that soany other sugges...</td>\n",
       "    </tr>\n",
       "    <tr>\n",
       "      <th>3</th>\n",
       "      <td>4</td>\n",
       "      <td>Will � b going to esplanade fr home?</td>\n",
       "      <td>Non-Spam</td>\n",
       "      <td>Will � b going to esplanade fr home</td>\n",
       "      <td>will � b going to esplanade fr home</td>\n",
       "      <td>[will � b going to esplanade fr home]</td>\n",
       "    </tr>\n",
       "    <tr>\n",
       "      <th>4</th>\n",
       "      <td>5</td>\n",
       "      <td>This is the 2nd time we have tried 2 contact u...</td>\n",
       "      <td>Spam</td>\n",
       "      <td>This is the 2nd time we have tried 2 contact u...</td>\n",
       "      <td>this is the 2nd time we have tried 2 contact u...</td>\n",
       "      <td>[this is the 2nd time we have tried 2 contact ...</td>\n",
       "    </tr>\n",
       "    <tr>\n",
       "      <th>...</th>\n",
       "      <td>...</td>\n",
       "      <td>...</td>\n",
       "      <td>...</td>\n",
       "      <td>...</td>\n",
       "      <td>...</td>\n",
       "      <td>...</td>\n",
       "    </tr>\n",
       "    <tr>\n",
       "      <th>952</th>\n",
       "      <td>953</td>\n",
       "      <td>hows my favourite person today? r u workin har...</td>\n",
       "      <td>Non-Spam</td>\n",
       "      <td>hows my favourite person today r u workin hard...</td>\n",
       "      <td>hows my favourite person today r u workin hard...</td>\n",
       "      <td>[hows my favourite person today r u workin har...</td>\n",
       "    </tr>\n",
       "    <tr>\n",
       "      <th>953</th>\n",
       "      <td>954</td>\n",
       "      <td>How much you got for cleaning</td>\n",
       "      <td>Non-Spam</td>\n",
       "      <td>How much you got for cleaning</td>\n",
       "      <td>how much you got for cleaning</td>\n",
       "      <td>[how much you got for cleaning]</td>\n",
       "    </tr>\n",
       "    <tr>\n",
       "      <th>954</th>\n",
       "      <td>955</td>\n",
       "      <td>Sorry da. I gone mad so many pending works wha...</td>\n",
       "      <td>Non-Spam</td>\n",
       "      <td>Sorry da I gone mad so many pending works what...</td>\n",
       "      <td>sorry da i gone mad so many pending works what...</td>\n",
       "      <td>[sorry da i gone mad so many pending works wha...</td>\n",
       "    </tr>\n",
       "    <tr>\n",
       "      <th>955</th>\n",
       "      <td>956</td>\n",
       "      <td>Wat time � finish?</td>\n",
       "      <td>Non-Spam</td>\n",
       "      <td>Wat time � finish</td>\n",
       "      <td>wat time � finish</td>\n",
       "      <td>[wat time � finish]</td>\n",
       "    </tr>\n",
       "    <tr>\n",
       "      <th>956</th>\n",
       "      <td>957</td>\n",
       "      <td>Just glad to be talking to you.</td>\n",
       "      <td>Non-Spam</td>\n",
       "      <td>Just glad to be talking to you</td>\n",
       "      <td>just glad to be talking to you</td>\n",
       "      <td>[just glad to be talking to you]</td>\n",
       "    </tr>\n",
       "  </tbody>\n",
       "</table>\n",
       "<p>957 rows × 6 columns</p>\n",
       "</div>"
      ],
      "text/plain": [
       "     S. No.                                       Message_body     Label  \\\n",
       "0         1                         Rofl. Its true to its name  Non-Spam   \n",
       "1         2  The guy did some bitching but I acted like i'd...  Non-Spam   \n",
       "2         3  Pity, * was in mood for that. So...any other s...  Non-Spam   \n",
       "3         4               Will � b going to esplanade fr home?  Non-Spam   \n",
       "4         5  This is the 2nd time we have tried 2 contact u...      Spam   \n",
       "..      ...                                                ...       ...   \n",
       "952     953  hows my favourite person today? r u workin har...  Non-Spam   \n",
       "953     954                      How much you got for cleaning  Non-Spam   \n",
       "954     955  Sorry da. I gone mad so many pending works wha...  Non-Spam   \n",
       "955     956                                 Wat time � finish?  Non-Spam   \n",
       "956     957                    Just glad to be talking to you.  Non-Spam   \n",
       "\n",
       "                                            clean_punc  \\\n",
       "0                            Rofl Its true to its name   \n",
       "1    The guy did some bitching but I acted like id ...   \n",
       "2    Pity  was in mood for that Soany other suggest...   \n",
       "3                  Will � b going to esplanade fr home   \n",
       "4    This is the 2nd time we have tried 2 contact u...   \n",
       "..                                                 ...   \n",
       "952  hows my favourite person today r u workin hard...   \n",
       "953                      How much you got for cleaning   \n",
       "954  Sorry da I gone mad so many pending works what...   \n",
       "955                                  Wat time � finish   \n",
       "956                     Just glad to be talking to you   \n",
       "\n",
       "                                             msg_lower  \\\n",
       "0                            rofl its true to its name   \n",
       "1    the guy did some bitching but i acted like id ...   \n",
       "2    pity  was in mood for that soany other suggest...   \n",
       "3                  will � b going to esplanade fr home   \n",
       "4    this is the 2nd time we have tried 2 contact u...   \n",
       "..                                                 ...   \n",
       "952  hows my favourite person today r u workin hard...   \n",
       "953                      how much you got for cleaning   \n",
       "954  sorry da i gone mad so many pending works what...   \n",
       "955                                  wat time � finish   \n",
       "956                     just glad to be talking to you   \n",
       "\n",
       "                                          msg_tokenied  \n",
       "0                          [rofl its true to its name]  \n",
       "1    [the guy did some bitching but i acted like id...  \n",
       "2    [pity  was in mood for that soany other sugges...  \n",
       "3                [will � b going to esplanade fr home]  \n",
       "4    [this is the 2nd time we have tried 2 contact ...  \n",
       "..                                                 ...  \n",
       "952  [hows my favourite person today r u workin har...  \n",
       "953                    [how much you got for cleaning]  \n",
       "954  [sorry da i gone mad so many pending works wha...  \n",
       "955                                [wat time � finish]  \n",
       "956                   [just glad to be talking to you]  \n",
       "\n",
       "[957 rows x 6 columns]"
      ]
     },
     "execution_count": 32,
     "metadata": {},
     "output_type": "execute_result"
    }
   ],
   "source": [
    "data"
   ]
  },
  {
   "cell_type": "code",
   "execution_count": 33,
   "id": "a75c8f83",
   "metadata": {},
   "outputs": [
    {
     "name": "stderr",
     "output_type": "stream",
     "text": [
      "[nltk_data] Downloading package stopwords to\n",
      "[nltk_data]     C:\\Users\\pc\\AppData\\Roaming\\nltk_data...\n",
      "[nltk_data]   Package stopwords is already up-to-date!\n"
     ]
    }
   ],
   "source": [
    "import nltk\n",
    "nltk.download('stopwords')\n",
    "#Stop words present in the library\n",
    "stopwords = nltk.corpus.stopwords.words('english')"
   ]
  },
  {
   "cell_type": "code",
   "execution_count": 34,
   "id": "79067d9c",
   "metadata": {},
   "outputs": [],
   "source": [
    "def remove_stopwords(text):\n",
    "    output= [i for i in text if i not in stopwords]\n",
    "    return output"
   ]
  },
  {
   "cell_type": "code",
   "execution_count": 35,
   "id": "36156b0d",
   "metadata": {},
   "outputs": [],
   "source": [
    "data['no_stopwords']= data['msg_tokenied'].apply(lambda x:remove_stopwords(x))"
   ]
  },
  {
   "cell_type": "code",
   "execution_count": 36,
   "id": "4741f277",
   "metadata": {},
   "outputs": [
    {
     "data": {
      "text/html": [
       "<div>\n",
       "<style scoped>\n",
       "    .dataframe tbody tr th:only-of-type {\n",
       "        vertical-align: middle;\n",
       "    }\n",
       "\n",
       "    .dataframe tbody tr th {\n",
       "        vertical-align: top;\n",
       "    }\n",
       "\n",
       "    .dataframe thead th {\n",
       "        text-align: right;\n",
       "    }\n",
       "</style>\n",
       "<table border=\"1\" class=\"dataframe\">\n",
       "  <thead>\n",
       "    <tr style=\"text-align: right;\">\n",
       "      <th></th>\n",
       "      <th>S. No.</th>\n",
       "      <th>Message_body</th>\n",
       "      <th>Label</th>\n",
       "      <th>clean_punc</th>\n",
       "      <th>msg_lower</th>\n",
       "      <th>msg_tokenied</th>\n",
       "      <th>no_stopwords</th>\n",
       "    </tr>\n",
       "  </thead>\n",
       "  <tbody>\n",
       "    <tr>\n",
       "      <th>0</th>\n",
       "      <td>1</td>\n",
       "      <td>Rofl. Its true to its name</td>\n",
       "      <td>Non-Spam</td>\n",
       "      <td>Rofl Its true to its name</td>\n",
       "      <td>rofl its true to its name</td>\n",
       "      <td>[rofl its true to its name]</td>\n",
       "      <td>[rofl its true to its name]</td>\n",
       "    </tr>\n",
       "    <tr>\n",
       "      <th>1</th>\n",
       "      <td>2</td>\n",
       "      <td>The guy did some bitching but I acted like i'd...</td>\n",
       "      <td>Non-Spam</td>\n",
       "      <td>The guy did some bitching but I acted like id ...</td>\n",
       "      <td>the guy did some bitching but i acted like id ...</td>\n",
       "      <td>[the guy did some bitching but i acted like id...</td>\n",
       "      <td>[the guy did some bitching but i acted like id...</td>\n",
       "    </tr>\n",
       "    <tr>\n",
       "      <th>2</th>\n",
       "      <td>3</td>\n",
       "      <td>Pity, * was in mood for that. So...any other s...</td>\n",
       "      <td>Non-Spam</td>\n",
       "      <td>Pity  was in mood for that Soany other suggest...</td>\n",
       "      <td>pity  was in mood for that soany other suggest...</td>\n",
       "      <td>[pity  was in mood for that soany other sugges...</td>\n",
       "      <td>[pity  was in mood for that soany other sugges...</td>\n",
       "    </tr>\n",
       "    <tr>\n",
       "      <th>3</th>\n",
       "      <td>4</td>\n",
       "      <td>Will � b going to esplanade fr home?</td>\n",
       "      <td>Non-Spam</td>\n",
       "      <td>Will � b going to esplanade fr home</td>\n",
       "      <td>will � b going to esplanade fr home</td>\n",
       "      <td>[will � b going to esplanade fr home]</td>\n",
       "      <td>[will � b going to esplanade fr home]</td>\n",
       "    </tr>\n",
       "    <tr>\n",
       "      <th>4</th>\n",
       "      <td>5</td>\n",
       "      <td>This is the 2nd time we have tried 2 contact u...</td>\n",
       "      <td>Spam</td>\n",
       "      <td>This is the 2nd time we have tried 2 contact u...</td>\n",
       "      <td>this is the 2nd time we have tried 2 contact u...</td>\n",
       "      <td>[this is the 2nd time we have tried 2 contact ...</td>\n",
       "      <td>[this is the 2nd time we have tried 2 contact ...</td>\n",
       "    </tr>\n",
       "    <tr>\n",
       "      <th>...</th>\n",
       "      <td>...</td>\n",
       "      <td>...</td>\n",
       "      <td>...</td>\n",
       "      <td>...</td>\n",
       "      <td>...</td>\n",
       "      <td>...</td>\n",
       "      <td>...</td>\n",
       "    </tr>\n",
       "    <tr>\n",
       "      <th>952</th>\n",
       "      <td>953</td>\n",
       "      <td>hows my favourite person today? r u workin har...</td>\n",
       "      <td>Non-Spam</td>\n",
       "      <td>hows my favourite person today r u workin hard...</td>\n",
       "      <td>hows my favourite person today r u workin hard...</td>\n",
       "      <td>[hows my favourite person today r u workin har...</td>\n",
       "      <td>[hows my favourite person today r u workin har...</td>\n",
       "    </tr>\n",
       "    <tr>\n",
       "      <th>953</th>\n",
       "      <td>954</td>\n",
       "      <td>How much you got for cleaning</td>\n",
       "      <td>Non-Spam</td>\n",
       "      <td>How much you got for cleaning</td>\n",
       "      <td>how much you got for cleaning</td>\n",
       "      <td>[how much you got for cleaning]</td>\n",
       "      <td>[how much you got for cleaning]</td>\n",
       "    </tr>\n",
       "    <tr>\n",
       "      <th>954</th>\n",
       "      <td>955</td>\n",
       "      <td>Sorry da. I gone mad so many pending works wha...</td>\n",
       "      <td>Non-Spam</td>\n",
       "      <td>Sorry da I gone mad so many pending works what...</td>\n",
       "      <td>sorry da i gone mad so many pending works what...</td>\n",
       "      <td>[sorry da i gone mad so many pending works wha...</td>\n",
       "      <td>[sorry da i gone mad so many pending works wha...</td>\n",
       "    </tr>\n",
       "    <tr>\n",
       "      <th>955</th>\n",
       "      <td>956</td>\n",
       "      <td>Wat time � finish?</td>\n",
       "      <td>Non-Spam</td>\n",
       "      <td>Wat time � finish</td>\n",
       "      <td>wat time � finish</td>\n",
       "      <td>[wat time � finish]</td>\n",
       "      <td>[wat time � finish]</td>\n",
       "    </tr>\n",
       "    <tr>\n",
       "      <th>956</th>\n",
       "      <td>957</td>\n",
       "      <td>Just glad to be talking to you.</td>\n",
       "      <td>Non-Spam</td>\n",
       "      <td>Just glad to be talking to you</td>\n",
       "      <td>just glad to be talking to you</td>\n",
       "      <td>[just glad to be talking to you]</td>\n",
       "      <td>[just glad to be talking to you]</td>\n",
       "    </tr>\n",
       "  </tbody>\n",
       "</table>\n",
       "<p>957 rows × 7 columns</p>\n",
       "</div>"
      ],
      "text/plain": [
       "     S. No.                                       Message_body     Label  \\\n",
       "0         1                         Rofl. Its true to its name  Non-Spam   \n",
       "1         2  The guy did some bitching but I acted like i'd...  Non-Spam   \n",
       "2         3  Pity, * was in mood for that. So...any other s...  Non-Spam   \n",
       "3         4               Will � b going to esplanade fr home?  Non-Spam   \n",
       "4         5  This is the 2nd time we have tried 2 contact u...      Spam   \n",
       "..      ...                                                ...       ...   \n",
       "952     953  hows my favourite person today? r u workin har...  Non-Spam   \n",
       "953     954                      How much you got for cleaning  Non-Spam   \n",
       "954     955  Sorry da. I gone mad so many pending works wha...  Non-Spam   \n",
       "955     956                                 Wat time � finish?  Non-Spam   \n",
       "956     957                    Just glad to be talking to you.  Non-Spam   \n",
       "\n",
       "                                            clean_punc  \\\n",
       "0                            Rofl Its true to its name   \n",
       "1    The guy did some bitching but I acted like id ...   \n",
       "2    Pity  was in mood for that Soany other suggest...   \n",
       "3                  Will � b going to esplanade fr home   \n",
       "4    This is the 2nd time we have tried 2 contact u...   \n",
       "..                                                 ...   \n",
       "952  hows my favourite person today r u workin hard...   \n",
       "953                      How much you got for cleaning   \n",
       "954  Sorry da I gone mad so many pending works what...   \n",
       "955                                  Wat time � finish   \n",
       "956                     Just glad to be talking to you   \n",
       "\n",
       "                                             msg_lower  \\\n",
       "0                            rofl its true to its name   \n",
       "1    the guy did some bitching but i acted like id ...   \n",
       "2    pity  was in mood for that soany other suggest...   \n",
       "3                  will � b going to esplanade fr home   \n",
       "4    this is the 2nd time we have tried 2 contact u...   \n",
       "..                                                 ...   \n",
       "952  hows my favourite person today r u workin hard...   \n",
       "953                      how much you got for cleaning   \n",
       "954  sorry da i gone mad so many pending works what...   \n",
       "955                                  wat time � finish   \n",
       "956                     just glad to be talking to you   \n",
       "\n",
       "                                          msg_tokenied  \\\n",
       "0                          [rofl its true to its name]   \n",
       "1    [the guy did some bitching but i acted like id...   \n",
       "2    [pity  was in mood for that soany other sugges...   \n",
       "3                [will � b going to esplanade fr home]   \n",
       "4    [this is the 2nd time we have tried 2 contact ...   \n",
       "..                                                 ...   \n",
       "952  [hows my favourite person today r u workin har...   \n",
       "953                    [how much you got for cleaning]   \n",
       "954  [sorry da i gone mad so many pending works wha...   \n",
       "955                                [wat time � finish]   \n",
       "956                   [just glad to be talking to you]   \n",
       "\n",
       "                                          no_stopwords  \n",
       "0                          [rofl its true to its name]  \n",
       "1    [the guy did some bitching but i acted like id...  \n",
       "2    [pity  was in mood for that soany other sugges...  \n",
       "3                [will � b going to esplanade fr home]  \n",
       "4    [this is the 2nd time we have tried 2 contact ...  \n",
       "..                                                 ...  \n",
       "952  [hows my favourite person today r u workin har...  \n",
       "953                    [how much you got for cleaning]  \n",
       "954  [sorry da i gone mad so many pending works wha...  \n",
       "955                                [wat time � finish]  \n",
       "956                   [just glad to be talking to you]  \n",
       "\n",
       "[957 rows x 7 columns]"
      ]
     },
     "execution_count": 36,
     "metadata": {},
     "output_type": "execute_result"
    }
   ],
   "source": [
    "data"
   ]
  },
  {
   "cell_type": "code",
   "execution_count": 37,
   "id": "0f67ea23",
   "metadata": {},
   "outputs": [],
   "source": [
    "from nltk.stem.porter import PorterStemmer\n",
    "#defining the object for stemming\n",
    "porter_stemmer = PorterStemmer()"
   ]
  },
  {
   "cell_type": "code",
   "execution_count": 38,
   "id": "d2a7ad57",
   "metadata": {},
   "outputs": [
    {
     "name": "stdout",
     "output_type": "stream",
     "text": [
      "['rofl its true to its nam']\n",
      "['the guy did some bitching but i acted like id be interested in buying something else next week and he gave it to us for fre']\n",
      "['pity  was in mood for that soany other suggest']\n",
      "['will � b going to esplanade fr hom']\n",
      "['this is the 2nd time we have tried 2 contact u u have won the �750 pound prize 2 claim is easy call 087187272008 now1 only 10p per minute btnationalr']\n",
      "['reminder from o2 to get 250 pounds free call credit and details of great offers pls reply 2 this text with your valid name house no and postcod']\n",
      "['huh y lei']\n",
      "['why dont you wait til at least wednesday to see if you get your ']\n",
      "['ard 6 like dat lor']\n",
      "['ok lor sony ericsson salesman i ask shuhui then she say quite gd 2 use so i consid']\n",
      "['get me out of this dump heap my mom decided to come to lowes bor']\n",
      "['anything lor juz both of us lor']\n",
      "['if you arent here in the next  ltgt  hours imma flip my shit']\n",
      "['sorry ill call lat']\n",
      "['no i meant the calculation is the same that  ltgt units at  ltgt  this school is really expensive have you started practicing your accent because its important and have you decided if you are doing 4years of dental school or if youll just do the nmde exam']\n",
      "['yes i have so thats why u texted pshewmissing you so much']\n",
      "['yeh indians was nice tho it did kane me off a bit he he we shud go out 4 a drink sometime soon mite hav 2 go 2 da works 4 a laugh soon love pete x x']\n",
      "['well keep in mind ive only got enough gas for one more round trip barring a sudden influx of cash']\n",
      "['hahahause your brain dear']\n",
      "['have a safe trip to nigeria wish you happiness and very soon company to share moments with']\n",
      "['wen did you get so spiritual and deep thats great']\n",
      "['cool what time you think you can get her']\n",
      "['you know wot people wear t shirts jumpers hat belt is all we know we r at cribb']\n",
      "['no i was trying it all weekend v']\n",
      "['ic there are a lotta childporn cars then']\n",
      "['hi its in durban are you still on this numb']\n",
      "['im taking derek amp taylor to walmart if im not back by the time youre done just leave the mouse on my desk and ill text you when priscillas readi']\n",
      "['u still havent got urself a jacket ah']\n",
      "['armand says get your ass over to epsilon']\n",
      "['yeah its jus rit']\n",
      "['asked 3mobile if 0870 chatlines inclu in free mins india cust servs sed yes l8er got mega bill 3 dont giv a shit bailiff due in days i o �250 3 want �800']\n",
      "['just sleepingand surf']\n",
      "['i cant believe how attached i am to seeing you every day i know you will do the best you can to get to me babe i will go to teach my class at your midnight']\n",
      "['want explicit sex in 30 secs ring 02073162414 now costs 20pmin gsex pobox 2667 wc1n 3xx']\n",
      "['aiyah ok wat as long as got improve can already wat']\n",
      "['i know you are thinkin malaria but relax children cant handle malaria she would have been worse and its gastroenteritis if she takes enough to replace her loss her temp will reduce and if you give her malaria meds now she will just vomit its a self limiting illness she has which means in a few days it will completely stop']\n",
      "['ok which your another numb']\n",
      "['hey chief can you give me a bell when you get this need to talk to you about this royal visit on the 1st june ']\n",
      "['happened here while you were adventur']\n",
      "['compliments to you was away from the system how your sid']\n",
      "['i think that tantrums finished so yeah ill be by at some point']\n",
      "['what about this one then']\n",
      "['its just the effect of irritation just ignore it']\n",
      "['total disappointment when i texted you was the craziest shit got ']\n",
      "['private your 2003 account statement for shows 800 unredeemed sim points call 08718738001 identifier code 49557 expires 261104']\n",
      "['i want to tell you how bad i feel that basically the only times i text you lately are when i need drug']\n",
      "['you are awarded a sipix digital camera call 09061221061 from landline delivery within 28days t cs box177 m221bp 2yr warranty 150ppm 16  p p�399']\n",
      "['going to join tomorrow']\n",
      "['thats cool i want to please y']\n",
      "['you are a big chic common declar']\n",
      "['no i dont want to hear anyth']\n",
      "['can you pls send me that company name in saibaba colani']\n",
      "['by the way ive put a skip right outside the front of the house so you can see which house it is just pull up before it']\n",
      "['miles and smiles r made frm same letters but do u know d difference smile on ur face keeps me happy even though i am miles away from u keep smiling good nyt']\n",
      "['ya im referin to meis ex wat no ah waitin 4 u to treat somebody shld b rich liaoso gd den u dun have to work frm tmr onward']\n",
      "['you are a great role model you are giving so much and i really wish each day for a miracle but god as a reason for everything and i must say i wish i knew why but i dont ive looked up to you since i was young and i still do have a great day']\n",
      "['oh okie lorwe go on sat ']\n",
      "['yes please leave at  ltgt  so that at  ltgt  we can leav']\n",
      "['just making dinner you ']\n",
      "['it�s reassuring in this crazy world']\n",
      "['i went to project centr']\n",
      "['lol they were mad at first but then they woke up and gave in']\n",
      "['machan you go to gym tomorrow  i wil come late goodnight']\n",
      "['i want to be inside you every night']\n",
      "['gods love has no limit gods grace has no measure gods power has no boundaries may u have gods endless blessings always in ur life gud ni8']\n",
      "['what i told before i tell stupid hear after i wont tell anything to you you dad called to my brother and spoken not with m']\n",
      "['wait  i will msg after  ltgt  min']\n",
      "['perhaps  is much easy give your account identification so i will tomorrow at uni']\n",
      "['apo all other are mokka players onli']\n",
      "['private your 2003 account statement for 07808247860 shows 800 unredeemed s i m points call 08719899229 identifier code 40411 expires 061104']\n",
      "['love has one law make happy the person you love in the same way friendship has one law never make ur friend feel alone until you are alive gud night']\n",
      "['now get step 2 outta the way congrats again']\n",
      "['why did i wake up on my own gt']\n",
      "['sms services for your inclusive text credits pls goto wwwcomuknet login 3qxj9 unsubscribe with stop no extra charge help 08702840625comuk 220cm2 9a']\n",
      "['yes i trust u to buy new stuff asap so i can try it out']\n",
      "['good afternoon my love  how goes your day  how did you sleep  i hope your well my boytoy  i think of you ']\n",
      "['cool we shall go and see have to go to tip anyway are you at home got something to drop in later so lets go to town tonight maybe mum can take us in']\n",
      "['i think if he rule tamilnaduthen its very tough for our peopl']\n",
      "['marvel mobile play the official ultimate spiderman game �450 on ur mobile right now text spider to 83338 for the game  we ll send u a free 8ball wallpap']\n",
      "['u studying in sch or going home anyway ill b going 2 sch lat']\n",
      "['k i will sent it again']\n",
      "['oh thanks a loti already bought 2 eggs ']\n",
      "['k i will sent it again']\n",
      "['2p per min to call germany 08448350055 from your bt line just 2p per min check planettalkinstantcom for info  ts  cs text stop to opt out']\n",
      "['ofcourse i also upload some song']\n",
      "['also fuck you and your family for going to rhode island or wherever the fuck and leaving me all alone the week i have a new bong gt']\n",
      "['   and  picking them up from various points  going 2 yeovil  and they will do the motor project 4 3 hours  and then u take them home  12 2 530 max  very easi']\n",
      "['so li hai me bored now da lecturer repeating last weeks stuff waste time ']\n",
      "['urgent we are trying to contact you last weekends draw shows u have won a �1000 prize guaranteed call 09064017295 claim code k52 valid 12hrs 150p pm']\n",
      "['shall call now dear having food']\n",
      "['have you seen whos back at holbi']\n",
      "['really do hope the work doesnt get stressful have a gr8 day']\n",
      "['no probably  ltgt ']\n",
      "['what todaysundaysunday is holidayso no work']\n",
      "['yes princess i want to please you every night your wish is my command']\n",
      "['dhoni have luck to win some big titleso we will win']\n",
      "['wheres mummys boy  is he being good or bad  is he being positive or negative  why is mummy being made to wait hmmmm']\n",
      "['ok lor � reaching then message m']\n",
      "['well obviously not because all the people in my cool college life went home ']\n",
      "['yup']\n",
      "['i thought slide is enough']\n",
      "['ok lor']\n",
      "['urgent last weekends draw shows that you have won �1000 cash or a spanish holiday call now 09050000332 to claim tc rstm sw7 3ss 150ppm']\n",
      "['get your garden ready for summer with a free selection of summer bulbs and seeds worth �3350 only with the scotsman this saturday to stop go2 notxtcouk']\n",
      "['httptms widelivecomindex wmlid820554ad0a1705572711firsttrue�c c ringtone�']\n",
      "['shall i bring us a bottle of wine to keep us amused only joking i�ll bring one anyway']\n",
      "['i will treasure every moment we spend togeth']\n",
      "['u goin out 2nit']\n",
      "['txt call to no 86888  claim your reward of 3 hours talk time to use from your phone now subscribe6gbpmnth inc 3hrs 16 stoptxtstop wwwgambtv']\n",
      "['ok i thk i got it then u wan me 2 come now or wat']\n",
      "['december only had your mobile 11mths you are entitled to update to the latest colour camera mobile for free call the mobile update co free on 08002986906']\n",
      "['if you hear a loud scream in about ltgt minutes its cause my gyno will be shoving things up me that dont belong ']\n",
      "['sorry ill call lat']\n",
      "['arun can u transfr me d amt']\n",
      "['for the most sparkling shopping breaks from 45 per person call 0121 2025050 or visit wwwshortbreaksorguk']\n",
      "['wishing you a beautiful day each moment revealing even more things to keep you smiling do enjoy it']\n",
      "['im just wondering what your doing right now']\n",
      "['except theres a chick with huge boob']\n",
      "['what hello wats talks email address']\n",
      "['just sing hu i think its also important to find someone female that know the place well preferably a citizen that is also smart to help you navigate through even things like choosing a phone plan require guidance when in doubt ask especially girl']\n",
      "['sac needs to carry on']\n",
      "['latest news police station toilet stolen cops have nothing to go on']\n",
      "['aight we can pick some up you open before tonight']\n",
      "['so that takes away some money worri']\n",
      "['i am back good journey let me know if you need any of the receipts shall i tell you like the pend']\n",
      "['and thats fine i got enough bud to last most of the night at least']\n",
      "['good morning at the repair shopthe only reason im up at this hour']\n",
      "['you have won a guaranteed 32000 award or maybe even �1000 cash to claim ur award call free on 0800  18 its a legitimat efreefone number wat do u think']\n",
      "['i thought id get him a watch just cos thats the kind of thing u get4an18th and he loves so much']\n",
      "['by the way make sure u get train to worc foregate street not shrub hill have fun night x']\n",
      "['thank you do you generally date the brotha']\n",
      "['hey ive booked the 2 lessons on sun liao']\n",
      "['what are youdoing later sar xxx']\n",
      "['am slow in using biolas fn']\n",
      "['mode men or have you left']\n",
      "['im wif him now buying tix lar']\n",
      "['jesus armand really is trying to tell everybody he can find']\n",
      "['youre gonna have to be way more specific than that']\n",
      "['thanx a lot 4 ur help']\n",
      "['if i was i wasnt paying attent']\n",
      "['if you can make it any time tonight or whenever you can its cool just text me whenever youre around']\n",
      "['er yeah i will b there at 1526 sorry just tell me which pubcafe to sit in and come wen u can']\n",
      "['you didnt complete your gist oh']\n",
      "['santa calling would your little ones like a call from santa xmas eve call 09058094583 to book your tim']\n",
      "['oh yeah and my diet just flew out the window']\n",
      "['otherwise had part time job natuit']\n",
      "['u horrible gal u knew dat i was going out wif him yest n u still come n ask m']\n",
      "['sorry ill call lat']\n",
      "['ok ksry i knw 2 sivatats y i askd']\n",
      "['hi elaine is todays meeting confirm']\n",
      "['i dont know oh hopefully this month']\n",
      "['im at bruce amp fowler now but im in my moms car so i cant park long stori']\n",
      "['so how are you really what are you up to hows the masters and so on']\n",
      "['nope i just forgot will show next week']\n",
      "['my slave i want you to take 2 or 3 pictures of yourself today in bright light on your cell phone bright light']\n",
      "['you should get more chicken broth if you want ramen unless theres some i dont know about']\n",
      "['east coast']\n",
      "['nite nite pocay wocay luv u more than n e thing 4eva i promise ring u 2morrowxxxx']\n",
      "['gr8 so how do you handle the victoria island traffic plus whens the album du']\n",
      "['i ask if u meeting da ge tmr nit']\n",
      "['daddy shu shu is looking 4 u u wan me 2 tell him ure not in singapore or wat']\n",
      "['there is a first time for everything ']\n",
      "[' are you in the pub']\n",
      "['yup he msg me is tat yijue then i tot its my group mate cos we meeting today mah im askin if � leaving earlier or wat mah cos mayb � haf to walk v far']\n",
      "['dear are you angry i was busy dear']\n",
      "['so how many days since then']\n",
      "['pls give her prometazine syrup 5mls then  ltgt mins later fe']\n",
      "['so gd got free ice cream i oso wan']\n",
      "['hi babe its me thanks for coming even though it didnt go that welli just wanted my bed hope to see you soon love and kisses xxx']\n",
      "['babes i think i got ur brolly i left it in english wil bring it in 2mrw 4 u luv franxx']\n",
      "['hard but true how much you show amp  express your love to someonethat much it will hurt when they leave you or you get seperatedud even']\n",
      "['and hes apparently bffs with carly quick now']\n",
      "['hi hope you had a good day have a better night']\n",
      "['thats necessarily respect']\n",
      "['as in i want custom officer discount oh']\n",
      "['dunno lei shd b driving lor cos i go sch 1 hr oni']\n",
      "['i dont know exactly could you ask chechi']\n",
      "['all done all handed in dont know if mega shop in asda counts as celebration but thats what im do']\n",
      "['ooooooh i forgot to tell u i can get on yoville on my phon']\n",
      "['watching ajith film ah']\n",
      "['nt joking seriously i told']\n",
      "['okok okthenwhats ur todays plan']\n",
      "['not much no fights it was a good nit']\n",
      "['i will be gentle baby soon you will be taking all  ltgt  inches deep inside your tight pussi']\n",
      "['im at work please cal']\n",
      "['how do friends help us in problems they give the most stupid suggestion that lands us into another problem and helps us forgt the previous problem']\n",
      "['how are you babes hope your doing ok i had a shit nights sleep i fell asleep at 5i�m knackered and i�m dreading work tonight what are thou upto tonight x']\n",
      "['good day to you toopray for meremove the teeth as its painful maintaining other stuff']\n",
      "['i can make it up there squeezed  ltgt  bucks out of my dad']\n",
      "['you have 1 new message call 02070836089']\n",
      "['its sunny in california the weathers just cool']\n",
      "['somebody set up a website where you can play hold em using eve online spacebuck']\n",
      "['free entry to the gr8prizes wkly comp 4 a chance to win the latest nokia 8800 psp or �250 cash every wktxt great to 80878 httpwwwgr8prizescom 08715705022']\n",
      "['the current leading bid is 151 to pause this auction send out customer care 08718726270']\n",
      "['i dont want you to leave but im barely doing what i can to stay sane fighting with you constantly isnt help']\n",
      "['i cant pick the phone right now pls send a messag']\n",
      "['do u konw waht is rael friendship im gving yuo an exmpel jsut ese tihs msg evrey splleing of tihs msg is wrnog bt sitll yuo can raed it wihtuot ayn mitsake goodnight amp have a nice sleepsweet dream']\n",
      "['k ill head out in a few mins see you ther']\n",
      "['ok is any problem to u frm him wats matt']\n",
      "['lol oh you got a friend for the dog ']\n",
      "['datingi have had two of these only started after i sent a text to talk sport radio last week any connection do you think or coincid']\n",
      "['hi mom we might be back later than  ltgt ']\n",
      "['important message this is a final contact attempt you have important messages waiting out our customer claims dept expires 13404 call 08717507382 now']\n",
      "['just trying to figure out when im suppose to see a couple different people this week we said wed get together but i didnt set d']\n",
      "['a �400 xmas reward is waiting for you our computer has randomly picked you from our loyal mobile customers to receive a �400 reward just call 09066380611']\n",
      "['call 09095350301 and send our girls into erotic ecstacy just 60pmin to stop texts call 08712460324 nat r']\n",
      "['i think your mentor is  but not 100 percent sur']\n",
      "['im in inside officestill filling formsdon know when they leave m']\n",
      "['yep get with the program youre slack']\n",
      "['hey iouri gave me your number im wylie ryans friend']\n",
      "['this is ur face test  1 2 3 4 5 6 7 8 9  ltgt   select any number i will tell ur face astrology am waiting quick repli']\n",
      "['hmm shall i bring a bottle of wine to keep us amused just joking ill still bring a bottle red or white see you tomorrow']\n",
      "['ok']\n",
      "['tell me something thats okay']\n",
      "['living is very simple loving is also simple laughing is too simple winning is tooo simple but being simple is very difficult ']\n",
      "['aiyo cos i sms � then � neva reply so i wait 4 � to reply lar i tot � havent finish ur lab wat']\n",
      "['guai � shd haf seen him when hes naughty � so free today can go jog']\n",
      "['good morning princess have a great day']\n",
      "['yup its at paragon i havent decided whether 2 cut yet he']\n",
      "['no one interested may be some business plan']\n",
      "['im hom']\n",
      "['do i i thought i put it back in the box']\n",
      "['no sir thats why i had an 8hr trip on the bus last week have another audition next wednesday but i think i might drive this tim']\n",
      "['my parents my kidz my friends n my colleagues all screaming surprise  and i was waiting on the sofa    nak']\n",
      "['wat � doing now']\n",
      "['when you guys planning on coming ov']\n",
      "['no go no openings for that room til after thanksgiving without an upcharg']\n",
      "['u r subscribed 2 textcomp 250 wkly comp 1st wks free question follows subsequent wks charged150pmsg2 unsubscribe txt stop 2 84128custcare 08712405020']\n",
      "['and of course you should make a stink']\n",
      "['are u awake is there snow ther']\n",
      "['youd like that wouldnt you jerk']\n",
      "['so when do you wanna gym']\n",
      "['my birthday is on feb  ltgt  da ']\n",
      "['sounds better than my evening im just doing my costume im not sure what time i finish tomorrow but i will txt you at the end']\n",
      "['no its not pride im almost  ltgt  years old and shouldnt be takin money from my kid youre not supposed to have to deal with this stuff this is grownup stuffwhy i dont tell y']\n",
      "['garbage bags eggs jam bread hannaford wheat chex']\n",
      "['neither in sterm voice  im studying all fine with me not sure the  thing will be resolved tho anyway have a fab hol']\n",
      "['i think steyn surely get one wicket']\n",
      "['x course it 2yrs just so her messages on messenger lik you r sending m']\n",
      "['dude im no longer a pisces im an aquarius now']\n",
      "['sir waiting for your lett']\n",
      "['sweet heart how are y']\n",
      "['wishing you a wonderful week']\n",
      "['what makes you most happi']\n",
      "['gal n boy walking in d park galcan i hold ur hand boyy do u think i would run away galno jst wana c how it feels walking in heaven with an princegn']\n",
      "['dear sirsalam alaikkumpride and pleasure meeting you today at the tea shopwe are pleased to send you our contact number at qatarrakhesh an indianpls save our numberrespectful regard']\n",
      "['aah bless hows your arm']\n",
      "['thanks ill keep that in mind']\n",
      "['ok no problem yup im going to sch at 4 if i rem correctli']\n",
      "['but we havent got da topic yet rit']\n",
      "['kothi print out marandratha']\n",
      "['good morning my love  i go to sleep now and wish you a great day full of feeling better and opportunity  you are my last thought babe i love you kiss']\n",
      "['k fyi im back in my parents place in south tampa so i might need to do the deal somewhere els']\n",
      "['jus finish watching tv u']\n",
      "['hahahause your brain dear']\n",
      "['get the official england poly ringtone or colour flag on yer mobile for tonights game text tone or flag to 84199 optout txt eng stop box39822 w111wx �150']\n",
      "['my sister going to earn more than me da']\n",
      "['here got ur favorite oyster n got my favorite sashimi ok lar i dun say already wait ur stomach start rumbl']\n",
      "['kkim going to tirunelvali this week to see my uncle i already spend the amount by taking dress so only i want moneyi will give it on feb 1']\n",
      "['yeah thats what i was think']\n",
      "['jolly good by the way  will give u tickets for sat eve 730 speak before then x']\n",
      "['im coming back on thursday yay is it gonna be ok to get the money cheers oh yeah and how are you everything alright hows school or do you call it work now']\n",
      "['what you did in  leav']\n",
      "['ill be at yours in about 3 mins but look out for m']\n",
      "['hi missed your call and my mumhas beendropping red wine all over theplace what is your adress']\n",
      "['pls ask macho how much is budget for bb bold 2 is cos i saw a new one for  ltgt  dollar']\n",
      "['i can but it will tell quite long cos i havent finish my film yet']\n",
      "['about  ltgt bucks the banks fees are fixed better to call the bank and find out']\n",
      "['at what time should i come tomorrow']\n",
      "['i cant make it tonight']\n",
      "['well good morning mr  hows london treatin ya treacl']\n",
      "['ill hand her my phone to chat wit u']\n",
      "['my darling sister how are you doing whens school resuming is there a minimum wait period before you reapply do take car']\n",
      "['are u coming to the funeral hom']\n",
      "['alex says hes not ok with you not being ok with it']\n",
      "['xmas iscoming  ur awarded either �500 cd gift vouchers  free entry 2 r �100 weekly draw txt music to 87066 tnc wwwldewcom1win150ppmx3age16subscription ']\n",
      "['i donno its in your genes or someth']\n",
      "['urgent please call 09061213237 from landline �5000 cash or a luxury 4 canary islands holiday await collection tcs sae po box 177 m227xy 150ppm 16']\n",
      "['xy trying smth now u eat already we hav']\n",
      "['dear where you call m']\n",
      "['hey congrats 2u2 id luv 2 but ive had 2 go hom']\n",
      "['an excellent thought by a misundrstud frnd i knw u hate me bt the day wen ull knw the truth ull hate urself gn']\n",
      "['hey  dont forget  you are mine  for me  my possession  my property  mmm  childish smile ']\n",
      "['im still pretty weak today  bad day ']\n",
      "['urgent you have won a 1 week free membership in our �100000 prize jackpot txt the word claim to no 81010 tc wwwdbuknet lccltd pobox 4403ldnw1a7rw18']\n",
      "['sent me ur email id soon']\n",
      "['yeah probably here for a whil']\n",
      "['i have gone into get info bt dont know what to do']\n",
      "['and how you will do that princess ']\n",
      "['vikky come around  lttimegt ']\n",
      "['helloooo wake up sweet morning welcomes you enjoy this day with full of joy gud mrng']\n",
      "['urgent your mobile number has been awarded with a �2000 prize guaranteed call 09061790126 from land line claim 3030 valid 12hrs only 150ppm']\n",
      "['best msg its hard to be with a person when u know that one more step foward will make u fall in love amp one step back can ruin ur friendship good night ']\n",
      "['dunno leh cant remember mayb lor so wat time r we meeting tmr']\n",
      "['oh yeah clearly its my fault']\n",
      "['hi hope ur day  good back from walk table booked for half eight let me know when ur coming ov']\n",
      "['its too latebut its kwish you the sam']\n",
      "['hellohow u doingwhat u been up 2when will u b moving out of the flat cos i will need to arrange to pick up the lamp etc take care hello carolin']\n",
      "['so u wan 2 come for our dinner tonight a not']\n",
      "['did u fix the teethif not do it asapok take car']\n",
      "['if you dont your prize will go to another customer tc at wwwtcbiz 18 150pmin polo ltd suite 373 london w1j 6hl please call back if busy ']\n",
      "['er enjoyin indians at the moyep sall good hehe  hows bout u shexy pete xx']\n",
      "['anything lar then � not going home 4 dinn']\n",
      "['hi darlin its kate are u up for doin somethin tonight im going to a pub called the swan or something with my parents for one drink so phone me if u can']\n",
      "['gud ni8swt drmstake car']\n",
      "['storming msg wen u lift d phne u say hello do u knw wt is d real meaning of hello    its d name of a girl    yes and u knw who is dat girl margaret hello she is d girlfrnd f grahmbell who invnted telphone     moralone can 4get d name of a person bt not his girlfrnd g o o d n i g h t   ']\n",
      "['pls speak with me i wont ask anything other then you friendship']\n",
      "['did you see that film']\n",
      "['i absolutely love south park i only recently started watching the offic']\n",
      "['if anyone calls for a treadmill say youll buy it make sure its working i found an ad on craigslist selling for  ltgt ']\n",
      "['can help u swoop by picking u up from wherever ur other birds r meeting if u w']\n",
      "['1 in cbe 2 in chennai']\n",
      "['as usualiam fine happy amp doing wel']\n",
      "['well shes in for a big surpris']\n",
      "['ok sweet dream']\n",
      "['i didnt get anything da']\n",
      "['please tell me not all of my car keys are in your purs']\n",
      "['you do your studies alone without anyones help if you cant no need to studi']\n",
      "['yeah work is fine started last week all the same stuff as before dull but easy and guys are fun']\n",
      "['urgent please call 09061213237 from a landline �5000 cash or a 4 holiday await collection t cs sae po box 177 m227xy 16']\n",
      "['k im leaving soon be there a little after 9']\n",
      "['u come n search tat vidnot finishd']\n",
      "['gud ni8 dearslp welltake careswt dreamsmuah']\n",
      "['havent eaten all day im sitting here staring at this juicy pizza and i cant eat it these meds are ruining my lif']\n",
      "['thank you princess i want to see your nice juicy booti']\n",
      "['thanks for the temales it was wonderful thank have a great week']\n",
      "['of course  dont tease me  you know i simply must see  grins  do keep me posted my prey  loving smile devouring kiss']\n",
      "['hmm thinking lor']\n",
      "['its a part of checking iq']\n",
      "['gud gudk chikku tke care sleep well gud nyt']\n",
      "['jay wants to work out first hows 4 sound']\n",
      "['yeah i can still give you a rid']\n",
      "['someonone you know is trying to contact you via our dating service to find out who it could be call from your mobile or landline 09064015307 box334sk38ch ']\n",
      "['am on the uworld site am i buying the qbank only or am i buying it with the self assessment also']\n",
      "['ok cool see ya then']\n",
      "['hey what how about your project started aha da']\n",
      "['you are chosen to receive a �350 award pls call claim number 09066364311 to collect your award which you are selected to receive as a valued mobile custom']\n",
      "['i realise you are a busy guy and im trying not to be a bother i have to get some exams outta the way and then try the cars do have a gr8 day']\n",
      "['nope im still in the market']\n",
      "['it means u could not keep ur word']\n",
      "['private your 2003 account statement for fone no shows 800 unredeemed s i m points call 08715203656 identifier code 42049 expires 261004']\n",
      "['i remet alex nichols from middle school and it turns out hes d']\n",
      "['prabhaim sorydarealyfrm heart im sori']\n",
      "['smile in pleasure smile in pain smile when trouble pours like rain smile when sum1 hurts u smile becoz someone still loves to see u smil']\n",
      "['oh fuck juswoke up in a bed on a boatin the docks slept wid 25 year old spinout giv u da gossip l8r xxx']\n",
      "['if i die i want u to have all my stuff']\n",
      "['5 nightswe nt staying at port step liaotoo ex']\n",
      "['jane babes not goin 2 wrk feel ill after lst nite foned in already cover 4 me chuck']\n",
      "['i have to take exam with in march 3']\n",
      "['pls she needs to dat slowly or she will vomit mor']\n",
      "['i accidentally brought em home in the box']\n",
      "['well thats nice too bad i cant eat it']\n",
      "['i am late i will be there at']\n",
      "['i keep ten rs in my shelf buy two egg']\n",
      "['natalja 25f is inviting you to be her friend reply yes440 or no440 see her wwwsmsacunat27081980 stop send stop frnd to 62468']\n",
      "['3 pa but not select']\n",
      "['kkhow is your business now']\n",
      "['it is only yesterday true tru']\n",
      "['dai i downloaded but there is only exe file which i can only run that exe after instal']\n",
      "['i know you are thinkin malaria but relax children cant handle malaria she would have been worse and its gastroenteritis if she takes enough to replace her loss her temp will reduce and if you give her malaria meds now she will just vomit its a self limiting illness she has which means in a few days it will completely stop']\n",
      "['hiwhat you think about match']\n",
      "['babe im answering you cant you see me  maybe youd better reboot ym  i got the photo  its great ']\n",
      "['i will reach ur home in  ltgt  minut']\n",
      "['had your mobile 11mths  update for free to oranges latest colour camera mobiles  unlimited weekend calls call mobile upd8 on freefone 08000839402 or 2stoptxt']\n",
      "['how come she can get it should b quite diff to guess rit']\n",
      "['me fineabsolutly fin']\n",
      "['wot student discount can u get on book']\n",
      "['you ve won your 4 costa del sol holiday or �5000 await collection call 09050090044 now toclaim sae tc s pobox334 stockport sk38xh cost�150pm max10min']\n",
      "['call germany for only 1 pence per minute call from a fixed line via access number 0844 861 85 85 no prepayment direct access wwwtelediscountcouk']\n",
      "['ugh my leg hurts musta overdid it on mon']\n",
      "['shes fine i have had difficulties with her phone it works with mine can you pls send her another friend request']\n",
      "['i like cheap but i�m happy to splash out on the wine if it makes you feel bett']\n",
      "['spook up your mob with a halloween collection of a logo  pic message plus a free eerie tone txt card spook to 8007 zed 08701417012150p per logopic ']\n",
      "['darren was saying dat if u meeting da ge den we dun meet 4 dinner cos later u leave xy will feel awkward den u meet him 4 lunch lor']\n",
      "['ok take ur time n enjoy ur dinn']\n",
      "['its wylie you in tampa or sarasota']\n",
      "['oh oh den muz change plan liao go back have to yan jiu again']\n",
      "['sorry ill call lat']\n",
      "['our records indicate u maybe entitled to 5000 pounds in compensation for the accident you had to claim 4 free reply with claim to this msg 2 stop txt stop']\n",
      "['ree entry in 2 a weekly comp for a chance to win an ipod txt pod to 80182 to get entry std txt rate tcs apply 08452810073 for details 18']\n",
      "['oki']\n",
      "['what time u wrkin']\n",
      "['i uploaded mine to facebook']\n",
      "['i just cooked a rather nice salmon a la y']\n",
      "['im in town now so ill jus take mrt down lat']\n",
      "['fuuuuck i need to stop sleepin sup']\n",
      "['i sent them do you lik']\n",
      "['k sure am in my relatives home sms me de pl']\n",
      "['babe i fucking love you too  you know fuck it was so good to hear your voice i so need that i crave it i cant get enough i adore you ahmad kiss']\n",
      "['hi hope u r both ok he said he would text and he hasnt have u seen him let me down gently please ']\n",
      "['sms auction  a brand new nokia 7250 is up 4 auction today auction is free 2 join  take part txt nokia to 86021 now']\n",
      "['very strange  and  are watching the 2nd one now but im in bed sweet dreams miss u ']\n",
      "['company is very goodenvironment is terrific and food is really nic']\n",
      "['rajipls do me a favour pls convey my birthday wishes to nimya pls today is her birthday']\n",
      "['water logging in desert geoenvironmental impl']\n",
      "['u 2']\n",
      "['aight text me tonight and well see whats up']\n",
      "['oh k  i will come tomorrow']\n",
      "['im in school now n ill be in da lab doing some stuff give me a call when � r don']\n",
      "['now im going for lunch']\n",
      "['i�ve got some salt you can rub it in my open wounds if you lik']\n",
      "['oh did you charge camera']\n",
      "['y she dun believe leh i tot i told her its true already i thk she muz c us tog then she believ']\n",
      "['� still got lessons  � in sch']\n",
      "['congrats 2 mobile 3g videophones r yours call 09063458130 now videochat wid ur mates play java games dload polyph music noline rentl bx420 ip4 5we 150p']\n",
      "['ok leave no need to ask']\n",
      "['just send a text well skype lat']\n",
      "['lol no i just need to cash in my nitros hurry come on before i crash out']\n",
      "['ok then r we meeting lat']\n",
      "['no but the bluray player can']\n",
      "['i will come with karnan car please wait till 6pm will directly goto doctor']\n",
      "['k k sms chat with m']\n",
      "['sir i need velusamy sirs date of birth and company bank facilities detail']\n",
      "['my new years eve was ok i went to a party with my boyfriend who is this si then hey']\n",
      "['like  ltgt  same quest']\n",
      "['havent left yet so probably gonna be here til dinn']\n",
      "['idk im sitting here in a stop and shop parking lot right now bawling my eyes out because i feel like im a failure in everything nobody wants me and now i feel like im failing y']\n",
      "['no problem with the renewal ill do it right away but i dont know his detail']\n",
      "['happy new year to u and ur familymay this new year bring happiness  stability and tranquility to ur vibrant colourful lif']\n",
      "['pls call me da what happen']\n",
      "['kthen come wenever u lik to come and also tel vikky to come by getting free tim']\n",
      "['get your garden ready for summer with a free selection of summer bulbs and seeds worth �3350 only with the scotsman this saturday to stop go2 notxtcouk']\n",
      "['oh unintentionally not bad timing great fingers  the trains play along will give fifteen min warn']\n",
      "['aiyar u so poor thing i give u my support k jia you ill think of u']\n",
      "['im in office now dawhere are y']\n",
      "['hi darlin im on helens fone im gonna b up the princes 2 nite please come up tb love k']\n",
      "['now that you have started dont stop just pray for more good ideas and anything i see that can help you guys ill forward you a link']\n",
      "['free for 1st week no1 nokia tone 4 ur mobile every week just txt nokia to 8077 get txting and tell ur mates wwwgetzedcouk pobox 36504 w45wq 16 norm150pton']\n",
      "['yeah i imagine he would be really gentle unlike the other docs who treat their patients like turkey']\n",
      "['oh shut it omg yesterday i had a dream that i had 2 kids both boys i was so pissed not only about the kids but them being boys i even told mark in my dream that he was changing diapers cause im not getting owed in the fac']\n",
      "['yup i havent been there before you want to go for the yoga i can call up to book ']\n",
      "['you ve won your 4 costa del sol holiday or �5000 await collection call 09050090044 now toclaim sae tc s pobox334 stockport sk38xh cost�150pm max10min']\n",
      "['there are some nice pubs near here or there is frankie n bennys near the warner cinema']\n",
      "['sorry  was at the groc']\n",
      "['sday only joinedso training we started today']\n",
      "['hmm dunno leh mayb a bag 4 goigng out dat is not too small or jus anything except perfume smth dat i can keep']\n",
      "['its still not working and this time i also tried adding zeros that was the savings the checking is  ltgt ']\n",
      "['that sucks ill go over so u can do my hair youll do it free right']\n",
      "['any way where are you and what do']\n",
      "['rose for redred for bloodblood for heartheart for u but u for me send tis to all ur friends including me if u like me if u get back 1u r poor in relation 2u need some 1 to support 3u r frnd 2 many 4some1 luvs u 5 some1 is praying god to marry u try it']\n",
      "['wot about on wed nite i am 3 then but only til 9']\n",
      "['cuz ibored and don wanna studi']\n",
      "['to the wonderful okors have a great month we cherish you guys and wish you well each day mojibiola']\n",
      "['after my work ah den 6 plus lor u workin oso rite den go orchard lor no other place to go liao']\n",
      "['he is impossible to argue with and he always treats me like his sub like he never released me  which he did and i will remind him of that if necessari']\n",
      "['hi chikku send some nice msg']\n",
      "['not enufcredeit tocallshall ileave uni at 6 get a bus to yor hous']\n",
      "['oops i did have it  ltgt ']\n",
      "['private your 2003 account statement for 078']\n",
      "['lol for real she told my dad i have canc']\n",
      "['are you driving or train']\n",
      "['aslamalaikkuminsha allah tohar beeen muht albi mufti mahfuuzmeaning same her']\n",
      "['thanks fills me with complete calm and reassurance ']\n",
      "['get 3 lions england tone reply lionm 4 mono or lionp 4 poly 4 more go 2 wwwringtonescouk the original n best tones 3gbp network operator rates appli']\n",
      "['argh why the fuck is nobody in town ']\n",
      "['u definitely need a module from e humanities dis sem izzit u wan 2 take other modules 1st']\n",
      "['december only had your mobile 11mths you are entitled to update to the latest colour camera mobile for free call the mobile update vco free on 08002986906 ']\n",
      "['ive reached sch alreadi']\n",
      "['you have 1 new message please call 08715205273']\n",
      "['oh you got many respons']\n",
      "['the sign of maturity is not when we start saying big things but actually it is when we start understanding small things have a nice evening bslvyl']\n",
      "['i really need 2 kiss u i miss u my baby from ur baby 4eva']\n",
      "['ding me on ya break fassyole blacko from londn']\n",
      "['i wnt to buy a bmw car urgentlyits vry urgentbut hv a shortage of  ltgt lacsthere is no source to arng dis amt ltgt lacsthats my prob']\n",
      "['a boy loved a gal he propsd bt she didnt mind he gv lv lttrs bt her frnds threw thm again d boy decided 2 aproach d gal  dt time a truck was speeding towards d gal wn it was about 2 hit d girld boy ran like hell n saved her she asked hw cn u run so fast d boy replied boost is d secret of my energy n instantly d girl shouted our energy n thy lived happily 2gthr drinking boost evrydy moral of d story i hv free msgsd gud ni8']\n",
      "['in other news after hassling me to get him weed for a week andres has no money haughaighgtujhyguj']\n",
      "['this msg is for your mobile content order it has been resent as previous attempt failed due to network error queries to customersqueriesnetvisionukcom']\n",
      "['nope thats fine i might have a nap tho ']\n",
      "['aight call me once youre clos']\n",
      "['ah well that confuses things doesnt it i thought was friends with now maybe i did the wrong thing but i already sort of invited tho he may not come cos of money']\n",
      "['themobhit the link to get a premium pink panther game the new no 1 from sugababes a crazy zebra animation or a badass hoody wallpaperall 4 fre']\n",
      "['sorry about that this is my mates phone and i didnt write it love k']\n",
      "['but im really really broke oh no amount is too small even  ltgt ']\n",
      "['kkthis month kotees birthday know']\n",
      "['hi shanilrakhesh herethanksi have exchanged the uncut diamond stuffleaving back excellent service by dino and prem']\n",
      "['gokila is talking with you aha']\n",
      "['my fri ah okie lorgoin 4 my drivin den go shoppin after tt']\n",
      "['no no i will check all rooms befor act']\n",
      "['st andre virgils cream']\n",
      "['what type of stuff do you s']\n",
      "['i wont do anything d']\n",
      "['good morning im suffering from fever and dysentry will not be able to come to office today']\n",
      "['omg if its not one thing its another my cat has worms  when does this bad day end']\n",
      "['sorry i missed your call can you please call back']\n",
      "['hey happy birthday']\n",
      "['aiya we discuss later lar pick � up at 4 is it']\n",
      "['amazing  if you rearrange these letters it gives the same meaning dormitory  dirty room astronomer  moon starer the eyes  they see election results  lies lets recount motherinlaw  woman hitler eleven plus two twelve plus one its amazing ']\n",
      "['keep ur problems in ur heart bcoz nobody will fight for u only u amp u have to fight for ur self amp win the battle vivekanand g 9t sd\\nham\\tyeah give me a call if youve got a minute\\nham\\thi babe uawakefeellikw shitjustfound out via aletter thatmum gotmarried 4thnovbehind ourbacks � fuckinniceselfishdeviousbitchanywayi�l call u']\n",
      "['mark works tomorrow he gets out at 5 his work is by your house so he can meet u afterward']\n",
      "['do you want a new nokia 3510i colour phone deliveredtomorrow with 300 free minutes to any mobile  100 free texts  free camcorder reply or call 08000930705']\n",
      "['guy no flash me now if you go call me call me how madam take care oh']\n",
      "['well im glad you didnt find it totally disagreeable  lol']\n",
      "['this is the 2nd attempt to contract u you have won this weeks top prize of either �1000 cash or �200 prize just call 09066361921']\n",
      "['i want to sent  ltgt mesages today thats y sorry if i hurt']\n",
      "['gud ni8 dearslp welltake careswt dreamsmuah']\n",
      "['win a �200 shopping spree every week starting now 2 play text store to 88039 skilgme tscs08714740323 1winawk age16 �150perweeksub']\n",
      "['as in different styl']\n",
      "['5p 4 alfie moons children in need song on ur mob tell ur m8s txt tone charity to 8007 for nokias or poly charity for polys zed 08701417012 profit 2 char']\n",
      "['hai dear friends this is my new amp present number by rajitha raj ranju']\n",
      "['talk to g and x about that']\n",
      "['83039 62735�450 uk break accommodationvouchers terms  conditions apply 2 claim you mustprovide your claim number which is 15541 ']\n",
      "['i calls you later afternoon onwords mtnl service get problem in south mumbai i can hear you but you cannt listen m']\n",
      "['but your brother transfered only  ltgt    ltgt  pa']\n",
      "['i dunno lei like dun haf']\n",
      "['ok i also wan 2 watch e 9 pm show']\n",
      "['havent stuck at orchard in my dads car going 4 dinner now u leh so r they free tonight']\n",
      "['sorry ill call you  later i am in meeting sir']\n",
      "['i think i am disturbing her da']\n",
      "['free video camera phones with half price line rental for 12 mths and 500 cross ntwk mins 100 txts call mobileupd8 08001950382 or call2optout674']\n",
      "['geeeee  your internet is really bad today eh ']\n",
      "['hey next sun 1030 theres a basic yoga course at bugis we can go for that pilates intro next sat tell me what time you r fre']\n",
      "['goodnight da thangam i really miss u dear']\n",
      "['am on a train back from northampton so im afraid not im staying skyving off today ho ho will be around wednesday though do you fancy the comedy club this week by the way']\n",
      "['double mins  double txt  12 price linerental on latest orange bluetooth mobiles call mobileupd8 for the very latest offers 08000839402 or call2optoutlf56']\n",
      "['lmao you know me so wel']\n",
      "['tick tick tick  where are you  i could die of loneliness you know  pouts stomps feet i need you ']\n",
      "['with my sis lor we juz watched italian job']\n",
      "['i will vote for wherever my heart guides m']\n",
      "['yeah so basically any time next week you can get away from your mom amp get up before 3']\n",
      "['hmmmstill we dont have open']\n",
      "['desires u going to doctor 4 liver and get a bit stylish get ur hair managed thats it']\n",
      "['we have sent jd for customer service cum accounts executive to ur mail id for details contact u']\n",
      "['dunno my dad said he coming home 2 bring us out 4 lunch yup i go w u lor i call u when i reach school lor']\n",
      "['o ic lol should play 9 doors sometime yo']\n",
      "['jamster to get your free wallpaper text heart to 88888 now tc apply 16 only need help call 08701213186']\n",
      "['she ran off with a younger man we will make pretty babies together ']\n",
      "['natalie 20f is inviting you to be her friend reply yes165 or no165 see her wwwsmsacunatalie2k9 stop send stop frnd to 62468']\n",
      "['pls clarify back if an open return ticket that i have can be preponed for me to go back to kerala']\n",
      "['thanks for being there for me just to talk to on saturday you are very dear to me i cherish having you as a brother and role model']\n",
      "['you didnt hear it from m']\n",
      "['you wont believe it but its true its incredible txts reply g now to learn truly amazing things that will blow your mind from o2fwd only 18ptxt']\n",
      "['how many times i told in the stage all use to laugh you not listen aha']\n",
      "['i want to go to perumbavoor']\n",
      "[' was really good to see you the other day dudette been missing y']\n",
      "['ok i vldo u know i got adsense approv']\n",
      "['hey very inconvenient for your sis a not huh']\n",
      "['is there coming friday is leave for pongaldo you get any news from your work plac']\n",
      "['id like to tell you my deepest darkest fantasies call me 09094646631 just 60pmin to stop texts call 08712460324 nat r']\n",
      "['go chase after her and run her over while shes crossing the street']\n",
      "['private your 2003 account statement for shows 800 unredeemed sim points call 08715203685 identifier code4xx26 expires 131004']\n",
      "['ur cashbalance is currently 500 pounds  to maximize ur cashin now send go to 86688 only 150pmeg cc 08718720201 hgsuite3422lands roww1j6hl']\n",
      "['i was gonna ask you lol but i think its at 7']\n",
      "['where you what happen']\n",
      "['anyway holla at me whenever youre around because i need an excuse to go creep on people in sarasota']\n",
      "['yes its possible but dint try pls dont tell to any one k']\n",
      "[' sad puppy nois']\n",
      "['its cool we can last a little while getting more any time soon']\n",
      "['great how is the office today']\n",
      "['babe  what are you doing  where are you  who are you talking to  do you think of me  are you being a good boy are you missing me do you love me ']\n",
      "['dear 0776xxxxxxx uve been invited to xchat this is our final attempt to contact u txt chat to 86688 150pmsgrcvdhgsuite3422landsroww1j6hl ldn 18yr']\n",
      "['hey galsu all wanna meet 4 dinner at n�te ']\n",
      "['i think the other two still need to get cash but we can def be ready by 9']\n",
      "['hello boytoy  geeee  im missing you today i like to send you a tm and remind you im thinking of you  and you are loved  loving kiss']\n",
      "['uncle g just checking up on you do have a rewarding month']\n",
      "['u attend ur driving lesson how many times a wk n which day']\n",
      "['you have won a guaranteed �1000 cash or a �2000 prize to claim yr prize call our customer service representative on 08714712412 between 10am7pm cost 10p']\n",
      "['by the way rencontre is to meet again mountains dont']\n",
      "['my mobile numberpls sms ur mail idconvey regards to achanammarakheshqatar']\n",
      "['go fool dont cheat others ok']\n",
      "['oh k  i will come tomorrow']\n",
      "['ill b down soon']\n",
      "['guess which pub im in im as happy as a pig in clover or whatever the saying is ']\n",
      "['theres someone here that has a year  ltgt  toyota camry like mr olayiwolas own mileage is  ltgt kits clean but i need to know how much will it sell for if i can raise the dough for it how soon after landing will it sell holla back']\n",
      "['cds 4u congratulations ur awarded �500 of cd gift vouchers or �125 gift guaranteed  freeentry 2 �100 wkly draw xt music to 87066 tncs wwwldewcom1win150ppmx3age16 ']\n",
      "['you still around looking to pick up lat']\n",
      "['nope since ayo travelled he has forgotten his guy']\n",
      "['well its not like you actually called someone a punto that woulda been wors']\n",
      "['hmph go head big bal']\n",
      "['can you talk with m']\n",
      "['esplanade lor where els']\n",
      "['happy new year hope you are having a good semest']\n",
      "['just looked it up and addie goes back monday sucks to be h']\n",
      "['my drive can only be read i need to writ']\n",
      "['hey kate hope ur ok will give u a buz wedlunch go outsomewhere 4 adrink in towncud go 2watershd 4 a bit ppl fromwrk will bthere love petexxx']\n",
      "['im hungry buy smth hom']\n",
      "['we made it eta at taunton is 1230 as planned hope that�s still okday good to see you xx']\n",
      "['phony �350 award  todays voda numbers ending xxxx are selected to receive a �350 award if you have a match please call 08712300220 quoting claim code 3100 standard rates app']\n",
      "['so your telling me i coulda been your real valentine and i wasnt u never pick me for noth']\n",
      "['which channel']\n",
      "['no rushing im not working im in school so if we rush we go hungri']\n",
      "['thats y u haf 2 keep me busi']\n",
      "['dont let studying stress you out l8r']\n",
      "['goldviking 29m is inviting you to be his friend reply yes762 or no762 see him wwwsmsacugoldviking stop send stop frnd to 62468']\n",
      "['networking job is ther']\n",
      "['slept i thinkthis time  ltgt  pm is not danger']\n",
      "['i said its okay sorri']\n",
      "['so what u doing today']\n",
      "['spending new years with my brother and his family lets plan to meet next week are you ready to be spoiled ']\n",
      "['jade its paul y didn�t u txt me do u remember me from barmed i want 2 talk 2 u txt m']\n",
      "['a boy was late 2 home his father power of frndship']\n",
      "['you are gorgeous keep those pix cumming  thank y']\n",
      "['yar i tot u knew dis would happen long ago alreadi']\n",
      "['aiyo u so poor thing then u dun wan 2 eat u bathe alreadi']\n",
      "['oops i was in the shower when u called hey a parking garage collapsed at university hospital see im not crazy stuff like that does happen']\n",
      "['im fine hope you are good do take car']\n",
      "['hey come online use msn we are all ther']\n",
      "['we are supposed to meet to discuss abt our trip thought xuhui told you in the afternoon thought we can go for lesson after that']\n",
      "['i will cme i want to go to hos 2morow after that i wil cme this what i got from her dear what to do she didnt say any tim']\n",
      "['future is not what we planned for tomorrow it is the result of what we do today do the best in present enjoy the futur']\n",
      "['you can donate �250 to unicefs asian tsunami disaster support fund by texting donate to 864233 �250 will be added to your next bil']\n",
      "['urgent we are trying to contact u todays draw shows that you have won a �2000 prize guaranteed call 09058094507 from land line claim 3030 valid 12hrs onli']\n",
      "['a few people are at the game im at the mall with iouri and kaila']\n",
      "['dear voucher holder have your next meal on us use the following link on your pc 2 enjoy a 2 4 1 dining experiencehttpwwwvouch4mecometlpdiningasp']\n",
      "['i want to see your pretty pussi']\n",
      "['yup ok']\n",
      "['a bit of ur smile is my hppnss a drop of ur tear is my sorrow a part of ur heart is my life a heart like mine wil care for u forevr as my goodfriend']\n",
      "['i want  ltgt  rs dado you have it']\n",
      "['what i mean was i left too early to check cos im working a 96']\n",
      "['why didnt u call on your lunch']\n",
      "['im viveki got call from your numb']\n",
      "['ahhhhjust woken uphad a bad dream about u thoso i dont like u right now  i didnt know anything about comedy night but i guess im up for it']\n",
      "['doing my masters when will you buy a bb cos i have for sale and hows bf']\n",
      "['u coming back 4 dinner rite dad ask me so i re confirm wif u']\n",
      "['i lost 4 pounds since my doc visit last week woot woot now im gonna celebrate by stuffing my fac']\n",
      "['welcome to select an o2 service with added benefits you can now call our specially trained advisors free from your mobile by dialling 402']\n",
      "['hi baby im sat on the bloody bus at the mo and i wont be home until about 730 wanna do somethin later call me later ortxt back jess xx']\n",
      "['hi its me you are probably having too much fun to get this message but i thought id txt u cos im bored and james has been farting at me all night']\n",
      "['i am in bus on the way to calicut']\n",
      "['hi this is amy we will be sending you a free phone number in a couple of days which will give you an access to all the adult parti']\n",
      "['great news call freefone 08006344447 to claim your guaranteed �1000 cash or �2000 gift speak to a live operator now']\n",
      "['im already back home so no probably not']\n",
      "['anyway i dont think i can secure anything up here lemme know if you want me to drive down south and chil']\n",
      "['wrong phone this phone i answer this one but assume the other is people i dont wel']\n",
      "['check maili have mailed varma and kept copy to you regarding membershiptake careinsha allah']\n",
      "['im eatin now lor but goin back to work soon e mountain deer show huh i watch b4 liao very nic']\n",
      "['omg you can make a wedding chapel in frontierville why do they get all the good stuff']\n",
      "['� go home liao ask dad to pick me up at 6']\n",
      "['tomarrow i want to got to court at  ltdecimalgt  so you come to bus stand at 9']\n",
      "['no it was cancelled yeah baby well that sounds important so i understand my darlin give me a ring later on this fone love kate x']\n",
      "['g wants to know where the fuck you ar']\n",
      "['kkcongratulation ']\n",
      "['hey babe hows it going  did you ever figure out where your going for new years ']\n",
      "['hey do you want anything to buy']\n",
      "['once free call me sir']\n",
      "['match startedindia  ltgt  for 2']\n",
      "['good morning my boytoy hows those yummy lips  wheres my sexy buns now  what do you do  do you think of me  do you crave me  do you need me ']\n",
      "['hi the sexychat girls are waiting for you to text them text now for a great night chatting send stop to stop this servic']\n",
      "['got what it takes 2 take part in the wrc rally in oz u can with lucozade energy text rally le to 61200 25p see packs or lucozadecoukwrc  itcould be u']\n",
      "['just hopeing that wasn�t too pissed up to remember and has gone off to his sisters or someth']\n",
      "['wanna do some art d']\n",
      "['oh yes why is it like torture watching england']\n",
      "['ok let u noe when i leave my hous']\n",
      "['we can go 4 e normal pilates after our intro  ']\n",
      "['oh yah we never cancel leh haha ']\n",
      "['hi dear call me its urgnt i dont know whats your problem you dont want to work or if you have any other problem at least tell me wating for your repli']\n",
      "['its so common hearin how r u wat r u doing how was ur day so let me ask u something different did u smile today if not do it now gud evng']\n",
      "['g says you never answer your texts confirmdeni']\n",
      "['re your call you didnt see my facebook huh']\n",
      "['sitting in mu waiting for everyone to get out of my suite so i can take a show']\n",
      "['this is the 2nd time we have tried 2 contact u u have won the 750 pound prize 2 claim is easy call 08712101358 now only 10p per min btnationalr']\n",
      "['just dropped em off omw back now']\n",
      "['we took hooch for a walk toaday and i fell over splat grazed my knees and everything should have stayed at home see you tomorrow ']\n",
      "['youve already got a flaky parent itsnot supposed to be the childs job to support the parentnot until theyre the ride age anyway im supposed to be there to support you and now ive hurt you unintentional but hurt nonetheless']\n",
      "['goal arsenal 4 henry 7 v liverpool 2 henry scores with a simple shot from 6 yards from a pass by bergkamp to give arsenal a 2 goal margin after 78 min']\n",
      "['i am on the way to tirupur']\n",
      "['love that holiday monday feeling even if i have to go to the dentists in an hour']\n",
      "['we regret to inform u that the nhs has made a mistakeu were never actually bornplease report 2 yor local hospital 2b terminatedwe r sorry 4 the inconveni']\n",
      "['will do have a good day']\n",
      "['im in solihull  do you want anyth']\n",
      "['then anything speci']\n",
      "['will you come online today night']\n",
      "['warner village 83118 c colin farrell in swat this wkend warner village  get 1 free med popcornjust show msgticketkioskvalid 4712 c tc kiosk reply sony 4 mre film off']\n",
      "['no i didnt mean to post it i wrote it and like so many other times ive ritten stuff to you i let it sit there it was what i was feeling at the time i was angry before i left i hit send then stop it wasnt there i checked on my phone when i got to my car it wasnt there you said you didnt sleep you were bored so why wouldnt that be the time to clean fold laundry etc at least make the b']\n",
      "['im reaching in another 2 stop']\n",
      "[' free polyphonic ringtone text super to 87131 to get your free poly tone of the week now 16 sn pobox202 nr31 7zs subscription 450pw']\n",
      "['taka lor wat time u wan 2 come n look 4 u']\n",
      "['ou are guaranteed the latest nokia phone a 40gb ipod mp3 player or a �500 prize txt word collect to no 83355 ibhltd ldnw15h 150pmtmsgrcvd18']\n",
      "['haha that was the first person i was gonna ask']\n",
      "['oh for fucks sake shes in like tallahasse']\n",
      "['i cant pick the phone right now pls send a messag']\n",
      "['2 and half years i missed your friendship']\n",
      "['want the latest video handset 750 anytime any network mins half price line rental reply or call 08000930705 for delivery tomorrow']\n",
      "['convey my regards to him']\n",
      "['send me the new numb']\n",
      "['miserable they dont tell u that the side effects of birth control are massive gut wrenching cramps for the first 2 months i didnt sleep at all last night']\n",
      "['its worse if if uses half way then stops its better for him to complete it']\n",
      "['sounds like there could be a lot of time spent in that chastity device boy  grins  or take your beatings like a good dog going to lounge in a nice long bath now ']\n",
      "['japanese proverb if one can do it u too can do it if none can do itu must do it indian version if one can do it let him do it if none can do itleave it and finally kerala version if one can do it stop him doing it if none can do it make a strike against it ']\n",
      "['you have to pls make a note of all shes exposed to also find out from her school if anyone else was vomiting is there a dog or cat in the house let me know lat']\n",
      "['todays vodafone numbers ending with 4882 are selected to a receive a �350 award if your number matches call 09064019014 to receive your �350 award']\n",
      "['or just do that 6tim']\n",
      "['poor girl cant go one day lmao']\n",
      "['for many things its an antibiotic and it can be used for chest abdomen and gynae infections even bone infect']\n",
      "['new theory argument wins d situation but loses the person so dont argue with ur friends just    kick them amp say im always correct']\n",
      "['as usual u can call me ard 10 smth']\n",
      "['whenwhere do i pick you up']\n",
      "['alright tylers got a minor crisis and has to be home sooner than he thought so be here asap']\n",
      "['yeah just open chat and click friend lists then make the list easy as pi']\n",
      "['no 1 polyphonic tone 4 ur mob every week just txt pt2 to 87575 1st tone free  so get txtin now and tell ur friends 150ptone 16 reply hl 4info']\n",
      "['the worlds most happiest frnds never have the same characters dey just have the best understanding of their differ']\n",
      "['lyricalladie21f is inviting you to be her friend reply yes910 or no910 see her wwwsmsacuhmmross stop send stop frnd to 62468']\n",
      "['i know dat feelin had it with pete wuld get with em  nuther place nuther time mayb']\n",
      "['wat happened to the cruise th']\n",
      "['lol oops sorry have fun ']\n",
      "['hi dis is yijue i would be happy to work wif � all for gek1510']\n",
      "['well you know what i mean text']\n",
      "['dips cell dead so i m coming with him u better respond else we shall come back']\n",
      "['1 tension face 2 smiling face 3 waste face 4 innocent face 5terror face 6cruel face 7romantic face 8lovable face 9decent face  ltgt joker fac']\n",
      "['watching cartoon listening music amp at eve had to go temple amp church what about u']\n",
      "['okey dokey swashbuckling stuff what oh']\n",
      "['oh shit i thought that was your trip loooooool  that just makes so much more sense now  grins and the sofa reference was  the sleep on a couch link you sent me  wasnt that how you went on your trip  oh  and didnt your babe go with you for that celebration with your r']\n",
      "['im really sorry i lit your hair on fir']\n",
      "['sorry datoday i wont come to playi have driving cla']\n",
      "['bored housewives chat n date now 08717507711 btnational rate 10pmin only from landlin']\n",
      "['free messagethanks for using the auction subscription service 18  150pmsgrcvd 2 skip an auction txt out 2 unsubscribe txt stop customercare 08718726270']\n",
      "['nokia phone is lovli']\n",
      "['response is one of d powerful weapon 2 occupy a place in others heart so always give response 2 who cares 4 u gud nightswt dreamstake car']\n",
      "['hey a guy i know is breathing down my neck to get him some bud anyway youd be able to get a half track to usf tonight']\n",
      "['ok']\n",
      "['thanks  and  or bomb and date as my phone wanted to say ']\n",
      "['yes baby i need to stretch open your pussi']\n",
      "['same to u']\n",
      "['also north carolina and texas atm you would just go to the gre site and pay for the test results to be s']\n",
      "['im fine hope you are also']\n",
      "['i liked your new hous']\n",
      "['gain the rights of a wifedont demand iti am trying as husband toolets se']\n",
      "['maybe you should find something else to do instead']\n",
      "['either way works for me i am  ltgt  years old hope that doesnt bother y']\n",
      "['sthis will increase the chance of win']\n",
      "['i am in escape theatre now  going to watch kavalan in a few minut']\n",
      "['pls help me tell ashley that i cant find her number oh']\n",
      "['missing you toopray inshah allah']\n",
      "['you have won as a valued vodafone customer our computer has picked you to win a �150 prize to collect is easy just call 09061743386 ']\n",
      "['i need details about that online job']\n",
      "['awesome that gonna be soon or later tonight']\n",
      "['hmmm mayb can try e shoppin area one but forgot e name of hotel']\n",
      "['private your 2003 account statement for shows 800 unredeemed s i m points call 08715203652 identifier code 42810 expires 29100']\n",
      "['thats one of the issues but california is okay no snow so its manag']\n",
      "['all boys made fun of me today ok i have no problem i just sent one message just for fun']\n",
      "['photoshop makes my computer shut down']\n",
      "['yay cant wait to party togeth']\n",
      "['oh rite well im with my best mate pete who i went out with 4 a week now were 2geva again its been longer than a week']\n",
      "['i hope your pee burns tonit']\n",
      "['new mobiles from 2004 must go txt nokia to no 89545  collect yours today from only �1 www4tcbiz 2optout 08718726270150gbpmtmsg18 txtauct']\n",
      "['rats hey did u ever vote for the next them']\n",
      "['po de  no need job aha']\n",
      "['the word checkmate in chess comes from the persian phrase shah maat which means the king is dead goodmorning have a good day']\n",
      "['how long before you get reply just defer admission til next semest']\n",
      "['lol no just trying to make your day a little more interest']\n",
      "['yup but its not giving me problems now so mayb ill jus leave it']\n",
      "['haha just what i was thinkin']\n",
      "['i am going to sleep i am tired of travel']\n",
      "['not thought bout it  drink in tap  spile at seven  is that pub on gas st off broad st by canal  ok']\n",
      "[' ']\n",
      "['u r a winner u ave been specially selected 2 receive �1000 cash or a 4 holiday flights inc speak to a live operator 2 claim 0871277810710pmin 18 ']\n",
      "['im good i have been thinking about y']\n",
      "['check out choose your babe videos  smsshsexnetun fgkslpopw fgkslpo']\n",
      "['got smaller capacity one quite ex']\n",
      "['hows ur pap']\n",
      "['me too mark is taking forever to pick up my prescription and the pain is coming back']\n",
      "['anything is valuable in only 2 situations first before getting it second after loosing it']\n",
      "['� no home work to do meh ']\n",
      "['ummmmmaah many many happy returns of d day my dear sweet heart happy birthday dear']\n",
      "['i can call in  ltgt  min if thats ok']\n",
      "['fyi im at usf now swing by the room whenev']\n",
      "['e admin building there i might b slightly earlier ill call u when im reach']\n",
      "['honey can you pls find out how much they sell predicte in nigeria and how many times can it be used its very important to have a reply before monday']\n",
      "['dont worry though i understand how important it is that i be put in my place with a poorly thought out punishment in the face of the worst thing that has ever happened to me brb gonna go kill myself']\n",
      "['whats up my own oga left my phone at home and just saw ur messages hope you are good have a great weekend']\n",
      "['private your 2004 account statement for 0784987 shows 786 unredeemed bonus points to claim call 08719180219 identifier code 45239 expires 060505']\n",
      "['call me when u finish then i come n pick u']\n",
      "['sorry for the delay yes mast']\n",
      "['er hello things didn�t quite go to plan � is limping slowly home followed by aa and with exhaust hanging off']\n",
      "['how do you plan to manage that']\n",
      "['reverse is cheating that is not mathemat']\n",
      "['the guy at the car shop who was flirting with me got my phone number from the paperwork and called and texted me im nervous because of course now he may have my address should i call his boss and tell him knowing this may get him fir']\n",
      "['its cool but tyler had to take off so were gonna buy for him and drop it off at his place later tonight our total order is a quarter you got enough']\n",
      "['i dont know why shes not getting your messag']\n",
      "['just come home i dont want u to be miser']\n",
      "['santa calling would your little ones like a call from santa xmas eve call 09077818151 to book you time calls150ppm last 3mins 30s tc wwwsantacallingcom']\n",
      "['urgent this is our 2nd attempt to contact u your �900 prize from yesterday is still awaiting collection to claim call now 09061702893']\n",
      "['saw guys and dolls last night with patrick swayze it was great']\n",
      "['sorry that was my uncle ill keep in touch']\n",
      "['or u ask they all if next sat can a not if all of them can make it then im ok lor']\n",
      "['gd luck 4 ur exams ']\n",
      "['send me your resum']\n",
      "['yup izzit still raining heavily cos im in e mrt i cant c outsid']\n",
      "['were on the opposite side from where we dropped you off']\n",
      "['thanx yup we coming back on sun finish dinner going back 2 hotel now time flies were tog 4 exactly a mth today hope well haf many more mths to com']\n",
      "['� thk of wat to eat tonight']\n",
      "['holy living christ what is taking you so long']\n",
      "['urgent call 09066649731from landline your complimentary 4 ibiza holiday or �10000 cash await collection sae tcs po box 434 sk3 8wp 150ppm 18']\n",
      "['indeed and by the way it was either or  not both ']\n",
      "['especially since i talk about boston all up in my personal statement lol i woulda changed that if i had realized it said nyc it says boston now']\n",
      "['call me i am senthil from hsbc']\n",
      "['yup hey then one day on fri we can ask miwa and jiayin take leave go karaoke ']\n",
      "['sen told that he is going to join his uncle finance in cb']\n",
      "['o we cant see if we can join denis and mina or does denis want alone tim']\n",
      "['u r the most beautiful girl ive ever seen u r my baby come and c me in the common room']\n",
      "['sorry completely forgot  will pop em round this week if your still her']\n",
      "['quite lor but dun tell him wait he get complac']\n",
      "['so many people seems to be special at first sight but only very few will remain special to you till your last sight maintain them till life ends shja']\n",
      "['u repeat e instructions again wats e road name of ur hous']\n",
      "['ok then u tell me wat time u coming later lor']\n",
      "['hi mobile no  ltgt  has added you in their contact list on wwwfullonsmscom it s a great place to send free sms to people for more visit fullonsmscom']\n",
      "['hii got the money da']\n",
      "['cheers lou yeah was a goodnite shame u neva came c ya gailxx']\n",
      "['watever relation u built up in dis world only thing which remains atlast iz lonlines with lotz n lot memories feel']\n",
      "['im not sure if its still available though']\n",
      "['your unique user id is 1172 for removal send stop to 87239 customer services 08708034412']\n",
      "['whens your radio show']\n",
      "['if you text on your way to cup stop that should work and that should be bu']\n",
      "['hitechnical supportproviding assistance to us customer through call and email']\n",
      "['prepare to be pleasured ']\n",
      "['me too have a lovely night xxx']\n",
      "['its � only 140 ard� rest all ard 180 at leastwhich is � price 4 � 2 bedrm 900']\n",
      "['im home doc gave me pain meds says everything is fin']\n",
      "['thanks 4 your continued support your question this week will enter u in2 our draw 4 �100 cash name the new us president txt ans to 80082']\n",
      "['urgent your mobile number has been awarded with a �2000 prize guaranteed call 09061790121 from land line claim 3030 valid 12hrs only 150ppm']\n",
      "['hey looks like i was wrong and one of the kappa guys numbers is still on my phone if you want i can text him and see if hes around']\n",
      "['dont make life too stressfull always find time to laugh it may not add years to your life but surely adds more life to ur years gud ni8swt dream']\n",
      "['u wan 2 haf lunch im in da canteen now']\n",
      "['ok lor or u wan me go look 4 u']\n",
      "['cashbincouk get lots of cash this weekend wwwcashbincouk dear welcome to the weekend we have got our biggest and best ever cash give away thes']\n",
      "['well boy am i glad g wasted all night at applebees for noth']\n",
      "['your weekly coolmob tones are ready to download this weeks new tones include 1 crazy frogaxel f 2 akonlonely 3 black eyeddont p more info in n']\n",
      "['if youre still up maybe leave the credit card so i can get gas when i get back like he told me to']\n",
      "['thanx u darlinim cool thanx a few bday drinks 2 nite 2morrow off take care c u soonxxx']\n",
      "['the beauty of life is in next second which hides thousands of secrets i wish every second will be wonderful in ur life gud n8']\n",
      "['when you just put in the  sign choose my number and the pin will show right']\n",
      "['orh i tot u say she now still dun believ']\n",
      "['camera  you are awarded a sipix digital camera call 09061221066 fromm landline delivery within 28 day']\n",
      "['thinking of u  x']\n",
      "['i am in hospital da  i will return home in even']\n",
      "['ya very nice  be ready on thursday']\n",
      "['many more happy returns of the day i wish you happy birthday']\n",
      "['i keep seeing weird shit and bein all woah then realising its actually reasonable and im all oh']\n",
      "['we have pizza if u w']\n",
      "['i bought the test yesterday its something that lets you know the exact day u ovulatewhen will get 2u in about 2 to 3wks but pls pls dont fret i know u r worried pls relax also is there anything in ur past history u need to tell m']\n",
      "['nt only for driving even for many reasons she is called bbdthts it chikku then hw abt dvg coldheard tht vinobanagar violence hw is the conditionand hw ru  any problem']\n",
      "['not for possession especially not first offens']\n",
      "['oh kafter that placement there ah']\n",
      "['buy space invaders 4 a chance 2 win orig arcade game console press 0 for games arcade std wap charge see o2coukgames 4 terms  settings no purchas']\n",
      "['good morning my dear shijutta have a great amp successful day']\n",
      "['wat time r � going to xins hostel']\n",
      "['keng rocking in ash']\n",
      "['i dont know ask to my brother nothing problem some thing that just i told ']\n",
      "['ive reached alreadi']\n",
      "['i career tel have added u as a contact on indyarockscom to send free sms to remove from phonebook  sms no to  ltgt']\n",
      "['had your mobile 10 mths update to the latest cameravideo phones for free keep ur same number get extra free minstexts text yes for a cal']\n",
      "['jason says its cool if we pick some up from his place in like an hour']\n",
      "['therell be a minor shindig at my place later tonight you interest']\n",
      "['free game get rayman golf 4 free from the o2 games arcade 1st get ur games settings reply post then save  activ8 press 0 key for arcade termsappli']\n",
      "['hello peach my cake tasts lush']\n",
      "['im home my love  if your still awake  loving kiss']\n",
      "['yup anything lor if u dun wan its ok']\n",
      "['forgot to tell � smth can � like number the sections so that its clear']\n",
      "['aiyo her lesson so early im still sleepin haha okie u go home liao den confirm w me lor']\n",
      "['my uncles in atlanta wish you guys a great semest']\n",
      "['k will do addie amp i are doing some art so ill be here when you get hom']\n",
      "['hey what happened u switch off ur cell d whole day this isnt good now if u do care give me a call tomorrow']\n",
      "['s8 min to go for lunch']\n",
      "['oops i thk i dun haf enuff i go check then tell �']\n",
      "['big brother�s really scraped the barrel with this shower of social misfit']\n",
      "['thats cool princess i will cover your face in hot sticky cum ']\n",
      "['huh so slow i tot u reach long ago liao u 2 more days only i 4 more leh']\n",
      "['ya i knw u vl givits ok thanks kanoanyway enjoy wit ur family wit 1st salari']\n",
      "['haha awesome i might need to take you up on that what you doin tonight']\n",
      "['did you say bold then torch later or one torch and 2bold']\n",
      "['wif my family booking tour packag']\n",
      "['wow so healthy old airport rd lor cant thk of anything else but ill b bathing my dog lat']\n",
      "['hey anyway i have to ']\n",
      "['yar but they say got some error']\n",
      "['mmmmmmm snuggles into you deep contented sigh  whispers  i fucking love you so much i can barely stand it ']\n",
      "['anytim']\n",
      "['i liked the new mobil']\n",
      "['win we have a winner mr t foley won an ipod more exciting prizes soon so keep an eye on ur mobile or visit wwwwin82050couk']\n",
      "['yes fine ']\n",
      "['don no dawhats you plan']\n",
      "['okey dokey i�ll be over in a bit just sorting some stuff out']\n",
      "['a guy who gets used but is too dumb to realize it']\n",
      "['urgent your mobile no 07808726822 was awarded a �2000 bonus caller prize on 020903 this is our 2nd attempt to contact you call 08718729758 box95qu']\n",
      "['pls give her the food preferably pap very slowly with loads of sugar you can take up to an hour to give it and then some water very very slowli']\n",
      "['tessypls do me a favor pls convey my birthday wishes to nimyapls dnt forget it today is her birthday shija']\n",
      "['by march ending i should be ready but will call you for sure the problem is that my capital never complete how far with you hows work and the ladi']\n",
      "['surly ill give it to you while coming to review']\n",
      "['ok no prob']\n",
      "['didnt try g and i decided not to head out']\n",
      "['hmmmbut you should give it on one day']\n",
      "['eatin my lunch']\n",
      "['but pls dont play in others lif']\n",
      "['alright well bring it to you see you in like  ltgt  min']\n",
      "['my life means a lot to me not because i love my life but because i love the people in my life the world calls them friends i call them my world g']\n",
      "['ok u can take me shopping when u get paid d']\n",
      "['haha yeah 2 oz is kind of a shitload']\n",
      "['are you staying in town ']\n",
      "['thats cool hell be here all night lemme know when youre around']\n",
      "['sry dajst nw only i came to hom']\n",
      "['it is a good thing im now getting the connection to bw']\n",
      "['wewa is 130 iriver 255 all 128 mb']\n",
      "['� ready then call m']\n",
      "['hi babe its chloe how r u i was smashed on saturday night it was great how was your weekend u been missing me sp visionsmscom text stop to stop 150ptext']\n",
      "['im leaving my house now']\n",
      "['i forgot 2 ask � all smth theres a card on da present lei how � all want 2 write smth or sign on it']\n",
      "['customer service announcement we recently tried to make a delivery to you but were unable to do so please call 07099833605 to reschedule ref9280114']\n",
      "['probably not im almost out of gas and i get some cash tomorrow']\n",
      "['i didnt get ur full msgsometext is missing send it again']\n",
      "['when i was born god said oh no another idiot when you were born god said oh no competition who knew one day these two will become freinds forev']\n",
      "['im realy soz imat my mums 2nite what about 2moro ']\n",
      "['i send the print  outs da']\n",
      "['nottel software nam']\n",
      "['ok set let u noe e details lat']\n",
      "['mum not going robinson alreadi']\n",
      "['no yes please been swim']\n",
      "['ladies first and genus second k ']\n",
      "['ok no prob']\n",
      "['you call him and tell now infront of them call him now']\n",
      "['i cant pick the phone right now pls send a messag']\n",
      "['this message is from a great doctor in india 1 do not drink appy fizz it contains cancer causing ag']\n",
      "['private your 2003 account statement for shows 800 unredeemed s i m points call 08718738002 identifier code 48922 expires 211104']\n",
      "['k ill work something out']\n",
      "['our prasanth ettans mother passed away last night just pray for her and famili']\n",
      "['hope you are having a great day']\n",
      "['lol yes but it will add some spice to your day']\n",
      "['where r e meeting tmr']\n",
      "['a �400 xmas reward is waiting for you our computer has randomly picked you from our loyal mobile customers to receive a �400 reward just call 09066380611 ']\n",
      "['finally it has happened aftr decades beer is now cheaper than petrol the goverment expects us to drink   but dont drive ']\n",
      "['please protect yourself from ethreats sib never asks for sensitive information like passwordsatmsms pin thru email never share your password with anybodi']\n",
      "['we are okay going to sleep now lat']\n",
      "['god created gap btwn ur fingers so dat sum1 vry special will fill those gaps by holding ur hands now plz dont ask y he created so much gap between legs ']\n",
      "['we tried to contact you re your reply to our offer of a video phone 750 anytime any network mins half price line rental camcorder reply or call 08000930705']\n",
      "['are you planning to come chennai']\n",
      "['did u got that persons stori']\n",
      "['sorry i din lock my keypad']\n",
      "['you are being ripped off get your mobile content from wwwclubmobycom call 08717509990 polytruepixringtonesgames six downloads for only 3']\n",
      "['havent']\n",
      "['do you hide anythiing or keeping distance from m']\n",
      "['of course i guess gods just got me on hold right now']\n",
      "['captain vijaykanth is doing comedy in captain tvhe is drunken ']\n",
      "['oh ho is this the first time u use these type of word']\n",
      "['k k pa had your lunch aha']\n",
      "['how come i din c � yup i cut my hair']\n",
      "['these wont do have to move on to morphin']\n",
      "['oh wow thats gay will firmware update help']\n",
      "['im in a meeting call me later at']\n",
      "['got hella gas money want to go on a grand nature adventure with galileo in a little bit']\n",
      "['everybody had fun this evening miss y']\n",
      "['only saturday and sunday holiday so its very difficult']\n",
      "['todays voda numbers ending with 7634 are selected to receive a �350 reward if you have a match please call 08712300220 quoting claim code 7684 standard rates appli']\n",
      "['please call our customer service representative on 0800 169 6031 between 10am9pm as you have won a guaranteed �1000 cash or �5000 pr']\n",
      "['lol  i knew that  i saw him in the dollar stor']\n",
      "['im on the bus love y']\n",
      "['jus finish blowing my hair u finish dinner alreadi']\n",
      "['u need my presnts always bcz u cant mis love jeevithathile irulinae neekunna prakasamanu sneham prakasam ennal prabha that mns prabha islove got it dont mis m']\n",
      "['they finally came to fix the ceil']\n",
      "['received understood n acted upon']\n",
      "['this is a long fuckin showr']\n",
      "['sorry ill call later in meet']\n",
      "['nvm im going to wear my sport shoes anyway im going to be late leh']\n",
      "['good do you think you could send me some pix i would love to see your top and bottom']\n",
      "['� called dad oredi']\n",
      "['sunshine quiz win a super sony dvd recorder if you canname the capital of australia text mquiz to 82277 b']\n",
      "['hows my favourite person today r u workin hard couldnt sleep again last nite nearly rang u at 430']\n",
      "['how much you got for clean']\n",
      "['sorry da i gone mad so many pending works what to do']\n",
      "['wat time � finish']\n",
      "['just glad to be talking to y']\n"
     ]
    }
   ],
   "source": [
    "def stemming(text):\n",
    "\n",
    "    stem_text = [porter_stemmer.stem(word) for word in text]\n",
    "    print(stem_text)\n",
    "    return stem_text\n",
    "data['msg_stemmed']=data['no_stopwords'].apply(lambda x: stemming(x))"
   ]
  },
  {
   "cell_type": "code",
   "execution_count": 39,
   "id": "bbf7419e",
   "metadata": {},
   "outputs": [
    {
     "data": {
      "text/html": [
       "<div>\n",
       "<style scoped>\n",
       "    .dataframe tbody tr th:only-of-type {\n",
       "        vertical-align: middle;\n",
       "    }\n",
       "\n",
       "    .dataframe tbody tr th {\n",
       "        vertical-align: top;\n",
       "    }\n",
       "\n",
       "    .dataframe thead th {\n",
       "        text-align: right;\n",
       "    }\n",
       "</style>\n",
       "<table border=\"1\" class=\"dataframe\">\n",
       "  <thead>\n",
       "    <tr style=\"text-align: right;\">\n",
       "      <th></th>\n",
       "      <th>S. No.</th>\n",
       "      <th>Message_body</th>\n",
       "      <th>Label</th>\n",
       "      <th>clean_punc</th>\n",
       "      <th>msg_lower</th>\n",
       "      <th>msg_tokenied</th>\n",
       "      <th>no_stopwords</th>\n",
       "      <th>msg_stemmed</th>\n",
       "    </tr>\n",
       "  </thead>\n",
       "  <tbody>\n",
       "    <tr>\n",
       "      <th>0</th>\n",
       "      <td>1</td>\n",
       "      <td>Rofl. Its true to its name</td>\n",
       "      <td>Non-Spam</td>\n",
       "      <td>Rofl Its true to its name</td>\n",
       "      <td>rofl its true to its name</td>\n",
       "      <td>[rofl its true to its name]</td>\n",
       "      <td>[rofl its true to its name]</td>\n",
       "      <td>[rofl its true to its nam]</td>\n",
       "    </tr>\n",
       "    <tr>\n",
       "      <th>1</th>\n",
       "      <td>2</td>\n",
       "      <td>The guy did some bitching but I acted like i'd...</td>\n",
       "      <td>Non-Spam</td>\n",
       "      <td>The guy did some bitching but I acted like id ...</td>\n",
       "      <td>the guy did some bitching but i acted like id ...</td>\n",
       "      <td>[the guy did some bitching but i acted like id...</td>\n",
       "      <td>[the guy did some bitching but i acted like id...</td>\n",
       "      <td>[the guy did some bitching but i acted like id...</td>\n",
       "    </tr>\n",
       "    <tr>\n",
       "      <th>2</th>\n",
       "      <td>3</td>\n",
       "      <td>Pity, * was in mood for that. So...any other s...</td>\n",
       "      <td>Non-Spam</td>\n",
       "      <td>Pity  was in mood for that Soany other suggest...</td>\n",
       "      <td>pity  was in mood for that soany other suggest...</td>\n",
       "      <td>[pity  was in mood for that soany other sugges...</td>\n",
       "      <td>[pity  was in mood for that soany other sugges...</td>\n",
       "      <td>[pity  was in mood for that soany other suggest]</td>\n",
       "    </tr>\n",
       "    <tr>\n",
       "      <th>3</th>\n",
       "      <td>4</td>\n",
       "      <td>Will � b going to esplanade fr home?</td>\n",
       "      <td>Non-Spam</td>\n",
       "      <td>Will � b going to esplanade fr home</td>\n",
       "      <td>will � b going to esplanade fr home</td>\n",
       "      <td>[will � b going to esplanade fr home]</td>\n",
       "      <td>[will � b going to esplanade fr home]</td>\n",
       "      <td>[will � b going to esplanade fr hom]</td>\n",
       "    </tr>\n",
       "    <tr>\n",
       "      <th>4</th>\n",
       "      <td>5</td>\n",
       "      <td>This is the 2nd time we have tried 2 contact u...</td>\n",
       "      <td>Spam</td>\n",
       "      <td>This is the 2nd time we have tried 2 contact u...</td>\n",
       "      <td>this is the 2nd time we have tried 2 contact u...</td>\n",
       "      <td>[this is the 2nd time we have tried 2 contact ...</td>\n",
       "      <td>[this is the 2nd time we have tried 2 contact ...</td>\n",
       "      <td>[this is the 2nd time we have tried 2 contact ...</td>\n",
       "    </tr>\n",
       "    <tr>\n",
       "      <th>...</th>\n",
       "      <td>...</td>\n",
       "      <td>...</td>\n",
       "      <td>...</td>\n",
       "      <td>...</td>\n",
       "      <td>...</td>\n",
       "      <td>...</td>\n",
       "      <td>...</td>\n",
       "      <td>...</td>\n",
       "    </tr>\n",
       "    <tr>\n",
       "      <th>952</th>\n",
       "      <td>953</td>\n",
       "      <td>hows my favourite person today? r u workin har...</td>\n",
       "      <td>Non-Spam</td>\n",
       "      <td>hows my favourite person today r u workin hard...</td>\n",
       "      <td>hows my favourite person today r u workin hard...</td>\n",
       "      <td>[hows my favourite person today r u workin har...</td>\n",
       "      <td>[hows my favourite person today r u workin har...</td>\n",
       "      <td>[hows my favourite person today r u workin har...</td>\n",
       "    </tr>\n",
       "    <tr>\n",
       "      <th>953</th>\n",
       "      <td>954</td>\n",
       "      <td>How much you got for cleaning</td>\n",
       "      <td>Non-Spam</td>\n",
       "      <td>How much you got for cleaning</td>\n",
       "      <td>how much you got for cleaning</td>\n",
       "      <td>[how much you got for cleaning]</td>\n",
       "      <td>[how much you got for cleaning]</td>\n",
       "      <td>[how much you got for clean]</td>\n",
       "    </tr>\n",
       "    <tr>\n",
       "      <th>954</th>\n",
       "      <td>955</td>\n",
       "      <td>Sorry da. I gone mad so many pending works wha...</td>\n",
       "      <td>Non-Spam</td>\n",
       "      <td>Sorry da I gone mad so many pending works what...</td>\n",
       "      <td>sorry da i gone mad so many pending works what...</td>\n",
       "      <td>[sorry da i gone mad so many pending works wha...</td>\n",
       "      <td>[sorry da i gone mad so many pending works wha...</td>\n",
       "      <td>[sorry da i gone mad so many pending works wha...</td>\n",
       "    </tr>\n",
       "    <tr>\n",
       "      <th>955</th>\n",
       "      <td>956</td>\n",
       "      <td>Wat time � finish?</td>\n",
       "      <td>Non-Spam</td>\n",
       "      <td>Wat time � finish</td>\n",
       "      <td>wat time � finish</td>\n",
       "      <td>[wat time � finish]</td>\n",
       "      <td>[wat time � finish]</td>\n",
       "      <td>[wat time � finish]</td>\n",
       "    </tr>\n",
       "    <tr>\n",
       "      <th>956</th>\n",
       "      <td>957</td>\n",
       "      <td>Just glad to be talking to you.</td>\n",
       "      <td>Non-Spam</td>\n",
       "      <td>Just glad to be talking to you</td>\n",
       "      <td>just glad to be talking to you</td>\n",
       "      <td>[just glad to be talking to you]</td>\n",
       "      <td>[just glad to be talking to you]</td>\n",
       "      <td>[just glad to be talking to y]</td>\n",
       "    </tr>\n",
       "  </tbody>\n",
       "</table>\n",
       "<p>957 rows × 8 columns</p>\n",
       "</div>"
      ],
      "text/plain": [
       "     S. No.                                       Message_body     Label  \\\n",
       "0         1                         Rofl. Its true to its name  Non-Spam   \n",
       "1         2  The guy did some bitching but I acted like i'd...  Non-Spam   \n",
       "2         3  Pity, * was in mood for that. So...any other s...  Non-Spam   \n",
       "3         4               Will � b going to esplanade fr home?  Non-Spam   \n",
       "4         5  This is the 2nd time we have tried 2 contact u...      Spam   \n",
       "..      ...                                                ...       ...   \n",
       "952     953  hows my favourite person today? r u workin har...  Non-Spam   \n",
       "953     954                      How much you got for cleaning  Non-Spam   \n",
       "954     955  Sorry da. I gone mad so many pending works wha...  Non-Spam   \n",
       "955     956                                 Wat time � finish?  Non-Spam   \n",
       "956     957                    Just glad to be talking to you.  Non-Spam   \n",
       "\n",
       "                                            clean_punc  \\\n",
       "0                            Rofl Its true to its name   \n",
       "1    The guy did some bitching but I acted like id ...   \n",
       "2    Pity  was in mood for that Soany other suggest...   \n",
       "3                  Will � b going to esplanade fr home   \n",
       "4    This is the 2nd time we have tried 2 contact u...   \n",
       "..                                                 ...   \n",
       "952  hows my favourite person today r u workin hard...   \n",
       "953                      How much you got for cleaning   \n",
       "954  Sorry da I gone mad so many pending works what...   \n",
       "955                                  Wat time � finish   \n",
       "956                     Just glad to be talking to you   \n",
       "\n",
       "                                             msg_lower  \\\n",
       "0                            rofl its true to its name   \n",
       "1    the guy did some bitching but i acted like id ...   \n",
       "2    pity  was in mood for that soany other suggest...   \n",
       "3                  will � b going to esplanade fr home   \n",
       "4    this is the 2nd time we have tried 2 contact u...   \n",
       "..                                                 ...   \n",
       "952  hows my favourite person today r u workin hard...   \n",
       "953                      how much you got for cleaning   \n",
       "954  sorry da i gone mad so many pending works what...   \n",
       "955                                  wat time � finish   \n",
       "956                     just glad to be talking to you   \n",
       "\n",
       "                                          msg_tokenied  \\\n",
       "0                          [rofl its true to its name]   \n",
       "1    [the guy did some bitching but i acted like id...   \n",
       "2    [pity  was in mood for that soany other sugges...   \n",
       "3                [will � b going to esplanade fr home]   \n",
       "4    [this is the 2nd time we have tried 2 contact ...   \n",
       "..                                                 ...   \n",
       "952  [hows my favourite person today r u workin har...   \n",
       "953                    [how much you got for cleaning]   \n",
       "954  [sorry da i gone mad so many pending works wha...   \n",
       "955                                [wat time � finish]   \n",
       "956                   [just glad to be talking to you]   \n",
       "\n",
       "                                          no_stopwords  \\\n",
       "0                          [rofl its true to its name]   \n",
       "1    [the guy did some bitching but i acted like id...   \n",
       "2    [pity  was in mood for that soany other sugges...   \n",
       "3                [will � b going to esplanade fr home]   \n",
       "4    [this is the 2nd time we have tried 2 contact ...   \n",
       "..                                                 ...   \n",
       "952  [hows my favourite person today r u workin har...   \n",
       "953                    [how much you got for cleaning]   \n",
       "954  [sorry da i gone mad so many pending works wha...   \n",
       "955                                [wat time � finish]   \n",
       "956                   [just glad to be talking to you]   \n",
       "\n",
       "                                           msg_stemmed  \n",
       "0                           [rofl its true to its nam]  \n",
       "1    [the guy did some bitching but i acted like id...  \n",
       "2     [pity  was in mood for that soany other suggest]  \n",
       "3                 [will � b going to esplanade fr hom]  \n",
       "4    [this is the 2nd time we have tried 2 contact ...  \n",
       "..                                                 ...  \n",
       "952  [hows my favourite person today r u workin har...  \n",
       "953                       [how much you got for clean]  \n",
       "954  [sorry da i gone mad so many pending works wha...  \n",
       "955                                [wat time � finish]  \n",
       "956                     [just glad to be talking to y]  \n",
       "\n",
       "[957 rows x 8 columns]"
      ]
     },
     "execution_count": 39,
     "metadata": {},
     "output_type": "execute_result"
    }
   ],
   "source": [
    "data"
   ]
  },
  {
   "cell_type": "code",
   "execution_count": 40,
   "id": "35fcfb56",
   "metadata": {},
   "outputs": [
    {
     "name": "stderr",
     "output_type": "stream",
     "text": [
      "[nltk_data] Downloading package wordnet to\n",
      "[nltk_data]     C:\\Users\\pc\\AppData\\Roaming\\nltk_data...\n",
      "[nltk_data]   Package wordnet is already up-to-date!\n"
     ]
    }
   ],
   "source": [
    "from nltk.stem import WordNetLemmatizer\n",
    "nltk.download('wordnet')\n",
    "#defining the object for Lemmatization\n",
    "wordnet_lemmatizer = WordNetLemmatizer()"
   ]
  },
  {
   "cell_type": "code",
   "execution_count": 41,
   "id": "b1ab08d3",
   "metadata": {},
   "outputs": [],
   "source": [
    "def lemmatizer(text):\n",
    "    lemm_text = [wordnet_lemmatizer.lemmatize(word) for word in text]\n",
    "    return lemm_text\n",
    "data['msg_lemmatized']=data['msg_stemmed'].apply(lambda x:lemmatizer(x))"
   ]
  },
  {
   "cell_type": "code",
   "execution_count": 42,
   "id": "44d1216f",
   "metadata": {},
   "outputs": [
    {
     "data": {
      "text/html": [
       "<div>\n",
       "<style scoped>\n",
       "    .dataframe tbody tr th:only-of-type {\n",
       "        vertical-align: middle;\n",
       "    }\n",
       "\n",
       "    .dataframe tbody tr th {\n",
       "        vertical-align: top;\n",
       "    }\n",
       "\n",
       "    .dataframe thead th {\n",
       "        text-align: right;\n",
       "    }\n",
       "</style>\n",
       "<table border=\"1\" class=\"dataframe\">\n",
       "  <thead>\n",
       "    <tr style=\"text-align: right;\">\n",
       "      <th></th>\n",
       "      <th>S. No.</th>\n",
       "      <th>Message_body</th>\n",
       "      <th>Label</th>\n",
       "      <th>clean_punc</th>\n",
       "      <th>msg_lower</th>\n",
       "      <th>msg_tokenied</th>\n",
       "      <th>no_stopwords</th>\n",
       "      <th>msg_stemmed</th>\n",
       "      <th>msg_lemmatized</th>\n",
       "    </tr>\n",
       "  </thead>\n",
       "  <tbody>\n",
       "    <tr>\n",
       "      <th>0</th>\n",
       "      <td>1</td>\n",
       "      <td>Rofl. Its true to its name</td>\n",
       "      <td>Non-Spam</td>\n",
       "      <td>Rofl Its true to its name</td>\n",
       "      <td>rofl its true to its name</td>\n",
       "      <td>[rofl its true to its name]</td>\n",
       "      <td>[rofl its true to its name]</td>\n",
       "      <td>[rofl its true to its nam]</td>\n",
       "      <td>[rofl its true to its nam]</td>\n",
       "    </tr>\n",
       "    <tr>\n",
       "      <th>1</th>\n",
       "      <td>2</td>\n",
       "      <td>The guy did some bitching but I acted like i'd...</td>\n",
       "      <td>Non-Spam</td>\n",
       "      <td>The guy did some bitching but I acted like id ...</td>\n",
       "      <td>the guy did some bitching but i acted like id ...</td>\n",
       "      <td>[the guy did some bitching but i acted like id...</td>\n",
       "      <td>[the guy did some bitching but i acted like id...</td>\n",
       "      <td>[the guy did some bitching but i acted like id...</td>\n",
       "      <td>[the guy did some bitching but i acted like id...</td>\n",
       "    </tr>\n",
       "    <tr>\n",
       "      <th>2</th>\n",
       "      <td>3</td>\n",
       "      <td>Pity, * was in mood for that. So...any other s...</td>\n",
       "      <td>Non-Spam</td>\n",
       "      <td>Pity  was in mood for that Soany other suggest...</td>\n",
       "      <td>pity  was in mood for that soany other suggest...</td>\n",
       "      <td>[pity  was in mood for that soany other sugges...</td>\n",
       "      <td>[pity  was in mood for that soany other sugges...</td>\n",
       "      <td>[pity  was in mood for that soany other suggest]</td>\n",
       "      <td>[pity  was in mood for that soany other suggest]</td>\n",
       "    </tr>\n",
       "    <tr>\n",
       "      <th>3</th>\n",
       "      <td>4</td>\n",
       "      <td>Will � b going to esplanade fr home?</td>\n",
       "      <td>Non-Spam</td>\n",
       "      <td>Will � b going to esplanade fr home</td>\n",
       "      <td>will � b going to esplanade fr home</td>\n",
       "      <td>[will � b going to esplanade fr home]</td>\n",
       "      <td>[will � b going to esplanade fr home]</td>\n",
       "      <td>[will � b going to esplanade fr hom]</td>\n",
       "      <td>[will � b going to esplanade fr hom]</td>\n",
       "    </tr>\n",
       "    <tr>\n",
       "      <th>4</th>\n",
       "      <td>5</td>\n",
       "      <td>This is the 2nd time we have tried 2 contact u...</td>\n",
       "      <td>Spam</td>\n",
       "      <td>This is the 2nd time we have tried 2 contact u...</td>\n",
       "      <td>this is the 2nd time we have tried 2 contact u...</td>\n",
       "      <td>[this is the 2nd time we have tried 2 contact ...</td>\n",
       "      <td>[this is the 2nd time we have tried 2 contact ...</td>\n",
       "      <td>[this is the 2nd time we have tried 2 contact ...</td>\n",
       "      <td>[this is the 2nd time we have tried 2 contact ...</td>\n",
       "    </tr>\n",
       "    <tr>\n",
       "      <th>...</th>\n",
       "      <td>...</td>\n",
       "      <td>...</td>\n",
       "      <td>...</td>\n",
       "      <td>...</td>\n",
       "      <td>...</td>\n",
       "      <td>...</td>\n",
       "      <td>...</td>\n",
       "      <td>...</td>\n",
       "      <td>...</td>\n",
       "    </tr>\n",
       "    <tr>\n",
       "      <th>952</th>\n",
       "      <td>953</td>\n",
       "      <td>hows my favourite person today? r u workin har...</td>\n",
       "      <td>Non-Spam</td>\n",
       "      <td>hows my favourite person today r u workin hard...</td>\n",
       "      <td>hows my favourite person today r u workin hard...</td>\n",
       "      <td>[hows my favourite person today r u workin har...</td>\n",
       "      <td>[hows my favourite person today r u workin har...</td>\n",
       "      <td>[hows my favourite person today r u workin har...</td>\n",
       "      <td>[hows my favourite person today r u workin har...</td>\n",
       "    </tr>\n",
       "    <tr>\n",
       "      <th>953</th>\n",
       "      <td>954</td>\n",
       "      <td>How much you got for cleaning</td>\n",
       "      <td>Non-Spam</td>\n",
       "      <td>How much you got for cleaning</td>\n",
       "      <td>how much you got for cleaning</td>\n",
       "      <td>[how much you got for cleaning]</td>\n",
       "      <td>[how much you got for cleaning]</td>\n",
       "      <td>[how much you got for clean]</td>\n",
       "      <td>[how much you got for clean]</td>\n",
       "    </tr>\n",
       "    <tr>\n",
       "      <th>954</th>\n",
       "      <td>955</td>\n",
       "      <td>Sorry da. I gone mad so many pending works wha...</td>\n",
       "      <td>Non-Spam</td>\n",
       "      <td>Sorry da I gone mad so many pending works what...</td>\n",
       "      <td>sorry da i gone mad so many pending works what...</td>\n",
       "      <td>[sorry da i gone mad so many pending works wha...</td>\n",
       "      <td>[sorry da i gone mad so many pending works wha...</td>\n",
       "      <td>[sorry da i gone mad so many pending works wha...</td>\n",
       "      <td>[sorry da i gone mad so many pending works wha...</td>\n",
       "    </tr>\n",
       "    <tr>\n",
       "      <th>955</th>\n",
       "      <td>956</td>\n",
       "      <td>Wat time � finish?</td>\n",
       "      <td>Non-Spam</td>\n",
       "      <td>Wat time � finish</td>\n",
       "      <td>wat time � finish</td>\n",
       "      <td>[wat time � finish]</td>\n",
       "      <td>[wat time � finish]</td>\n",
       "      <td>[wat time � finish]</td>\n",
       "      <td>[wat time � finish]</td>\n",
       "    </tr>\n",
       "    <tr>\n",
       "      <th>956</th>\n",
       "      <td>957</td>\n",
       "      <td>Just glad to be talking to you.</td>\n",
       "      <td>Non-Spam</td>\n",
       "      <td>Just glad to be talking to you</td>\n",
       "      <td>just glad to be talking to you</td>\n",
       "      <td>[just glad to be talking to you]</td>\n",
       "      <td>[just glad to be talking to you]</td>\n",
       "      <td>[just glad to be talking to y]</td>\n",
       "      <td>[just glad to be talking to y]</td>\n",
       "    </tr>\n",
       "  </tbody>\n",
       "</table>\n",
       "<p>957 rows × 9 columns</p>\n",
       "</div>"
      ],
      "text/plain": [
       "     S. No.                                       Message_body     Label  \\\n",
       "0         1                         Rofl. Its true to its name  Non-Spam   \n",
       "1         2  The guy did some bitching but I acted like i'd...  Non-Spam   \n",
       "2         3  Pity, * was in mood for that. So...any other s...  Non-Spam   \n",
       "3         4               Will � b going to esplanade fr home?  Non-Spam   \n",
       "4         5  This is the 2nd time we have tried 2 contact u...      Spam   \n",
       "..      ...                                                ...       ...   \n",
       "952     953  hows my favourite person today? r u workin har...  Non-Spam   \n",
       "953     954                      How much you got for cleaning  Non-Spam   \n",
       "954     955  Sorry da. I gone mad so many pending works wha...  Non-Spam   \n",
       "955     956                                 Wat time � finish?  Non-Spam   \n",
       "956     957                    Just glad to be talking to you.  Non-Spam   \n",
       "\n",
       "                                            clean_punc  \\\n",
       "0                            Rofl Its true to its name   \n",
       "1    The guy did some bitching but I acted like id ...   \n",
       "2    Pity  was in mood for that Soany other suggest...   \n",
       "3                  Will � b going to esplanade fr home   \n",
       "4    This is the 2nd time we have tried 2 contact u...   \n",
       "..                                                 ...   \n",
       "952  hows my favourite person today r u workin hard...   \n",
       "953                      How much you got for cleaning   \n",
       "954  Sorry da I gone mad so many pending works what...   \n",
       "955                                  Wat time � finish   \n",
       "956                     Just glad to be talking to you   \n",
       "\n",
       "                                             msg_lower  \\\n",
       "0                            rofl its true to its name   \n",
       "1    the guy did some bitching but i acted like id ...   \n",
       "2    pity  was in mood for that soany other suggest...   \n",
       "3                  will � b going to esplanade fr home   \n",
       "4    this is the 2nd time we have tried 2 contact u...   \n",
       "..                                                 ...   \n",
       "952  hows my favourite person today r u workin hard...   \n",
       "953                      how much you got for cleaning   \n",
       "954  sorry da i gone mad so many pending works what...   \n",
       "955                                  wat time � finish   \n",
       "956                     just glad to be talking to you   \n",
       "\n",
       "                                          msg_tokenied  \\\n",
       "0                          [rofl its true to its name]   \n",
       "1    [the guy did some bitching but i acted like id...   \n",
       "2    [pity  was in mood for that soany other sugges...   \n",
       "3                [will � b going to esplanade fr home]   \n",
       "4    [this is the 2nd time we have tried 2 contact ...   \n",
       "..                                                 ...   \n",
       "952  [hows my favourite person today r u workin har...   \n",
       "953                    [how much you got for cleaning]   \n",
       "954  [sorry da i gone mad so many pending works wha...   \n",
       "955                                [wat time � finish]   \n",
       "956                   [just glad to be talking to you]   \n",
       "\n",
       "                                          no_stopwords  \\\n",
       "0                          [rofl its true to its name]   \n",
       "1    [the guy did some bitching but i acted like id...   \n",
       "2    [pity  was in mood for that soany other sugges...   \n",
       "3                [will � b going to esplanade fr home]   \n",
       "4    [this is the 2nd time we have tried 2 contact ...   \n",
       "..                                                 ...   \n",
       "952  [hows my favourite person today r u workin har...   \n",
       "953                    [how much you got for cleaning]   \n",
       "954  [sorry da i gone mad so many pending works wha...   \n",
       "955                                [wat time � finish]   \n",
       "956                   [just glad to be talking to you]   \n",
       "\n",
       "                                           msg_stemmed  \\\n",
       "0                           [rofl its true to its nam]   \n",
       "1    [the guy did some bitching but i acted like id...   \n",
       "2     [pity  was in mood for that soany other suggest]   \n",
       "3                 [will � b going to esplanade fr hom]   \n",
       "4    [this is the 2nd time we have tried 2 contact ...   \n",
       "..                                                 ...   \n",
       "952  [hows my favourite person today r u workin har...   \n",
       "953                       [how much you got for clean]   \n",
       "954  [sorry da i gone mad so many pending works wha...   \n",
       "955                                [wat time � finish]   \n",
       "956                     [just glad to be talking to y]   \n",
       "\n",
       "                                        msg_lemmatized  \n",
       "0                           [rofl its true to its nam]  \n",
       "1    [the guy did some bitching but i acted like id...  \n",
       "2     [pity  was in mood for that soany other suggest]  \n",
       "3                 [will � b going to esplanade fr hom]  \n",
       "4    [this is the 2nd time we have tried 2 contact ...  \n",
       "..                                                 ...  \n",
       "952  [hows my favourite person today r u workin har...  \n",
       "953                       [how much you got for clean]  \n",
       "954  [sorry da i gone mad so many pending works wha...  \n",
       "955                                [wat time � finish]  \n",
       "956                     [just glad to be talking to y]  \n",
       "\n",
       "[957 rows x 9 columns]"
      ]
     },
     "execution_count": 42,
     "metadata": {},
     "output_type": "execute_result"
    }
   ],
   "source": [
    "data"
   ]
  },
  {
   "cell_type": "code",
   "execution_count": 43,
   "id": "2757099a",
   "metadata": {},
   "outputs": [],
   "source": [
    "data['msg_lemmatized'] = data['msg_lemmatized'].str[0]"
   ]
  },
  {
   "cell_type": "code",
   "execution_count": 44,
   "id": "72ff302d",
   "metadata": {},
   "outputs": [],
   "source": [
    "from sklearn.feature_extraction.text import TfidfVectorizer\n",
    "vectorizer = TfidfVectorizer()"
   ]
  },
  {
   "cell_type": "code",
   "execution_count": 45,
   "id": "0cee7682",
   "metadata": {},
   "outputs": [],
   "source": [
    "X = vectorizer.fit_transform(data.msg_lemmatized).toarray()"
   ]
  },
  {
   "cell_type": "code",
   "execution_count": 46,
   "id": "d8a91f02",
   "metadata": {},
   "outputs": [
    {
     "name": "stdout",
     "output_type": "stream",
     "text": [
      "['0121', '02070836089', '02073162414', '020903', '060505', '061104', '07099833605', '0776xxxxxxx', '078', '07808247860', '07808726822', '0784987', '0800', '08000839402', '08000930705', '08001950382', '08002986906', '08006344447', '0844', '08448350055', '08452810073', '0870', '08701213186', '08701417012', '08701417012150p', '08702840625comuk', '08708034412', '08712101358', '08712300220', '08712405020', '08712460324', '0871277810710pmin', '08714712412', '08715203652', '08715203656', '08715203685', '08715205273', '08715705022', '08717507382', '08717507711', '08717509990', '08718720201', '08718726270', '08718726270150gbpmtmsg18', '087187272008', '08718729758', '08718738001', '08718738002', '08719180219', '08719899229', '09050000332', '09050090044', '09058094507', '09058094583', '09061213237', '09061221061', '09061221066', '09061702893', '09061743386', '09061790121', '09061790126', '09063458130', '09064015307', '09064017295', '09064019014', '09066361921', '09066364311', '09066380611', '09066649731from', '09077818151', '09094646631', '09095350301', '10', '100', '1000', '10000', '100000', '1030', '10am7pm', '10am9pm', '10p', '10pmin', '1172', '11mths', '12', '1230', '125', '128', '12hrs', '130', '131004', '13404', '140', '150', '150p', '150perweeksub', '150pm', '150pmeg', '150pmin', '150pmsgrcvd', '150pmsgrcvdhgsuite3422landsroww1j6hl', '150pmtmsgrcvd18', '150ppm', '150ptext', '150ptone', '151', '1526', '15541', '16', '169', '177', '18', '180', '18ptxt', '18yr', '1st', '1u', '1winawk', '200', '2000', '2003', '2004', '2025050', '20f', '20pmin', '211104', '220cm2', '25', '250', '255', '25f', '25p', '261004', '261104', '2667', '28', '28days', '29100', '29m', '2b', '2bold', '2geva', '2gthr', '2moro', '2morow', '2morrow', '2morrowxxxx', '2mrw', '2nd', '2nit', '2nite', '2optout', '2p', '2stoptxt', '2u', '2u2', '2watershd', '2when', '2yr', '2yrs', '30', '300', '3030', '30s', '3100', '32000', '3350', '350', '3510i', '36504', '373', '399', '3g', '3gbp', '3hrs', '3mins', '3mobile', '3qxj9', '3ss', '3u', '3wks', '3xx', '400', '402', '40411', '40gb', '42049', '42810', '430', '434', '4403ldnw1a7rw18', '45', '450', '450pw', '45239', '4712', '4882', '48922', '49557', '4eva', '4get', '4info', '4some1', '4thnovbehind', '4u', '4years', '500', '5000', '530', '5i', '5mls', '5p', '5terror', '5we', '6031', '60pmin', '61200', '62468', '62735', '6cruel', '6hl', '6pm', '6tim', '7250', '730', '750', '7634', '7684', '78', '786', '7romantic', '7zs', '800', '8007', '80082', '80182', '8077', '80878', '81010', '82277', '83039', '83118', '83338', '83355', '84128custcare', '84199', '85', '86021', '861', '864233', '86688', '86888', '87066', '87131', '87239', '87575', '8800', '88039', '88888', '89545', '8ball', '8hr', '8lovable', '8wp', '900', '96', '9a', '9decent', '9t', 'aa', 'aah', 'abdomen', 'able', 'about', 'absolutely', 'abt', 'accent', 'access', 'accident', 'accidentally', 'accommodationvouchers', 'account', 'accounts', 'achanammarakheshqatar', 'act', 'acted', 'activ8', 'actually', 'ad', 'add', 'added', 'addie', 'adding', 'address', 'adds', 'admin', 'admission', 'adore', 'adress', 'adrink', 'adsense', 'adult', 'adventur', 'adventure', 'advisors', 'afraid', 'after', 'afternoon', 'afterward', 'aftr', 'ag', 'again', 'against', 'age', 'age16', 'ago', 'ah', 'aha', 'ahhhhjust', 'ahmad', 'aight', 'airport', 'aiya', 'aiyah', 'aiyar', 'aiyo', 'ajith', 'akonlonely', 'alaikkumpride', 'albi', 'album', 'aletter', 'alex', 'alfie', 'alive', 'all', 'allah', 'almost', 'alone', 'along', 'alreadi', 'already', 'alright', 'also', 'always', 'am', 'amazing', 'amount', 'amp', 'amt', 'amused', 'amy', 'an', 'and', 'andre', 'andres', 'angry', 'animation', 'announcement', 'another', 'ans', 'answer', 'answering', 'antibiotic', 'any', 'anybodi', 'anyone', 'anyones', 'anyth', 'anythiing', 'anything', 'anytim', 'anytime', 'anyway', 'apo', 'app', 'apparently', 'applebees', 'appli', 'apply', 'approv', 'appy', 'aproach', 'aquarius', 'ar', 'arcade', 'ard', 'are', 'area', 'arent', 'argh', 'argue', 'argument', 'arm', 'armand', 'arng', 'around', 'arrange', 'arsenal', 'art', 'arun', 'as', 'asap', 'asapok', 'asda', 'ash', 'ashley', 'asian', 'ask', 'askd', 'asked', 'askin', 'asks', 'aslamalaikkuminsha', 'asleep', 'ass', 'assessment', 'assistance', 'assume', 'astrology', 'astronomer', 'at', 'atlanta', 'atlast', 'atm', 'attached', 'attempt', 'attend', 'attent', 'auction', 'audition', 'australia', 'available', 'ave', 'await', 'awaiting', 'awake', 'award', 'awarded', 'away', 'awesome', 'awkward', 'ayn', 'ayo', 'b4', 'babe', 'babes', 'babies', 'baby', 'back', 'bad', 'badass', 'bag', 'bags', 'bailiff', 'bal', 'bank', 'banks', 'barely', 'barmed', 'barrel', 'barring', 'basic', 'basically', 'bath', 'bathe', 'bathing', 'battle', 'bawling', 'bb', 'bbdthts', 'bcoz', 'bcz', 'bday', 'be', 'beatings', 'beautiful', 'beauty', 'because', 'become', 'becoz', 'bed', 'bedrm', 'beeen', 'been', 'beendropping', 'beer', 'befor', 'before', 'bein', 'being', 'believ', 'believe', 'bell', 'belong', 'belt', 'benefits', 'bennys', 'bergkamp', 'best', 'bett', 'better', 'between', 'bf', 'bffs', 'bid', 'big', 'biggest', 'bil', 'bill', 'biolas', 'birds', 'birth', 'birthday', 'bit', 'bitching', 'black', 'blacko', 'bless', 'blessings', 'bloodblood', 'bloody', 'blow', 'blowing', 'bluetooth', 'bluray', 'bmw', 'boatin', 'bold', 'bomb', 'bone', 'bong', 'bonus', 'boob', 'book', 'booked', 'booking', 'boost', 'booti', 'bor', 'bored', 'born', 'bornplease', 'boss', 'boston', 'both', 'bother', 'bottle', 'bottom', 'bought', 'boundaries', 'bout', 'box', 'box177', 'box334sk38ch', 'box39822', 'box95qu', 'boy', 'boyfriend', 'boys', 'boytoy', 'boyy', 'brain', 'brand', 'brb', 'bread', 'break', 'breaks', 'breathing', 'bright', 'bring', 'broad', 'broke', 'brolly', 'broth', 'brotha', 'brother', 'brought', 'bruce', 'bslvyl', 'bt', 'bthere', 'btnational', 'btnationalr', 'btwn', 'bu', 'bucks', 'bud', 'budget', 'bugis', 'building', 'built', 'bulbs', 'buns', 'burns', 'bus', 'busi', 'business', 'busy', 'but', 'buy', 'buying', 'buz', 'bw', 'bx420', 'by', 'cake', 'cal', 'calculation', 'calicut', 'california', 'call', 'call2optout674', 'call2optoutlf56', 'called', 'caller', 'calling', 'calls', 'calls150ppm', 'calm', 'camcorder', 'came', 'camera', 'cameravideo', 'camry', 'can', 'canal', 'canary', 'canc', 'cancel', 'cancelled', 'cancer', 'canname', 'cannt', 'cant', 'canteen', 'capacity', 'capital', 'captain', 'car', 'card', 'care', 'career', 'careinsha', 'cares', 'careswt', 'carly', 'carolin', 'carolina', 'carry', 'cars', 'cartoon', 'cash', 'cashbalance', 'cashbincouk', 'cashin', 'cat', 'cause', 'causing', 'cb', 'cbe', 'cc', 'cd', 'cds', 'ceil', 'celebrate', 'celebration', 'cell', 'centr', 'chance', 'change', 'changed', 'changing', 'channel', 'chapel', 'char', 'characters', 'charge', 'charged150pmsg2', 'charity', 'chase', 'chastity', 'chat', 'chatlines', 'chatting', 'cheap', 'cheaper', 'cheat', 'cheating', 'chechi', 'check', 'checked', 'checking', 'checkmate', 'cheers', 'chennai', 'cherish', 'chess', 'chest', 'chex', 'chic', 'chick', 'chicken', 'chief', 'chikku', 'chil', 'childish', 'childporn', 'children', 'childs', 'chloe', 'choose', 'choosing', 'chosen', 'christ', 'chuck', 'church', 'cinema', 'citizen', 'cla', 'claim', 'claims', 'clarify', 'class', 'clean', 'clear', 'clearly', 'click', 'clos', 'clover', 'club', 'cme', 'cn', 'co', 'coast', 'code', 'code4xx26', 'coincid', 'colani', 'coldheard', 'colin', 'collapsed', 'colleagues', 'collect', 'collection', 'college', 'colour', 'colourful', 'com', 'come', 'comedy', 'comes', 'coming', 'command', 'common', 'comp', 'company', 'compensation', 'competition', 'complac', 'complete', 'completely', 'complimentary', 'compliments', 'computer', 'conditionand', 'conditions', 'confirm', 'confirmdeni', 'confuses', 'congrats', 'congratulations', 'connection', 'consid', 'console', 'constantly', 'contact', 'contains', 'content', 'contented', 'continued', 'contract', 'control', 'convey', 'cooked', 'cool', 'coolmob', 'cops', 'copy', 'correct', 'correctli', 'cos', 'cost', 'costa', 'costs', 'costume', 'couch', 'could', 'coulda', 'couldnt', 'counts', 'couple', 'course', 'court', 'cover', 'craigslist', 'cramps', 'crash', 'crave', 'craziest', 'crazy', 'cream', 'created', 'credit', 'credits', 'creep', 'cribb', 'crisis', 'cross', 'crossing', 'cruise', 'cs', 'cum', 'cumming', 'cup', 'current', 'currently', 'cust', 'custom', 'customer', 'customercare', 'customers', 'customersqueriesnetvisionukcom', 'cut', 'cuz', 'da', 'dad', 'daddy', 'dado', 'dads', 'dai', 'dajst', 'danger', 'darkest', 'darlin', 'darling', 'darlinim', 'darren', 'dat', 'date', 'dating', 'datingi', 'datoday', 'dawhats', 'dawhere', 'day', 'days', 'de', 'dead', 'deal', 'dear', 'dearslp', 'decades', 'december', 'decided', 'declar', 'deep', 'deepest', 'deer', 'def', 'defer', 'definitely', 'del', 'delay', 'deliveredtomorrow', 'delivery', 'demand', 'den', 'denis', 'dental', 'dentists', 'dept', 'derek', 'desert', 'desires', 'desk', 'detail', 'details', 'device', 'devouring', 'dey', 'dhoni', 'dialling', 'diamond', 'diapers', 'did', 'didn', 'didnt', 'die', 'diet', 'diff', 'differ', 'difference', 'different', 'difficult', 'difficulties', 'digital', 'din', 'ding', 'dining', 'dinn', 'dinner', 'dino', 'dint', 'dips', 'direct', 'directly', 'dirty', 'dis', 'disagreeable', 'disappointment', 'disaster', 'discount', 'discuss', 'distance', 'disturbing', 'dload', 'dnt', 'do', 'doc', 'docks', 'docs', 'doctor', 'does', 'doesnt', 'dog', 'doin', 'doing', 'doingwhat', 'dokey', 'dollar', 'dolls', 'don', 'donate', 'done', 'donno', 'dont', 'doors', 'dormitory', 'double', 'doubt', 'dough', 'down', 'download', 'downloaded', 'downloads', 'draw', 'dreading', 'dream', 'dreams', 'dreamsmuah', 'dreamstake', 'dress', 'drink', 'drinking', 'drinks', 'drive', 'drivin', 'driving', 'drmstake', 'drop', 'dropped', 'drug', 'drunken', 'dt', 'du', 'dude', 'dudette', 'due', 'dull', 'dumb', 'dump', 'dun', 'dunno', 'durban', 'dvd', 'dvg', 'dysentry', 'each', 'earlier', 'early', 'earn', 'easi', 'east', 'easy', 'eat', 'eaten', 'eatin', 'ecstacy', 'eerie', 'effect', 'effects', 'efreefone', 'egg', 'eggs', 'eh', 'eight', 'either', 'elaine', 'election', 'eleven', 'els', 'else', 'em', 'email', 'end', 'ending', 'endless', 'ends', 'energy', 'eng', 'england', 'english', 'enjoy', 'enjoyin', 'ennal', 'enough', 'enter', 'entitled', 'entry', 'enufcredeit', 'enuff', 'epsilon', 'er', 'ericsson', 'erotic', 'error', 'escape', 'ese', 'especially', 'esplanade', 'eta', 'etc', 'ethreats', 'ettans', 'eve', 'even', 'evening', 'ever', 'every', 'everybody', 'everyone', 'everything', 'evng', 'evrey', 'evrydy', 'ex', 'exact', 'exactly', 'exam', 'exams', 'excellent', 'except', 'exchanged', 'exciting', 'excuse', 'exe', 'executive', 'exhaust', 'exmpel', 'expects', 'expensive', 'experiencehttpwwwvouch4mecometlpdiningasp', 'expires', 'explicit', 'exposed', 'express', 'extra', 'eye', 'eyeddont', 'eyes', 'fab', 'fac', 'face', 'facebook', 'facilities', 'failed', 'failing', 'failure', 'fall', 'famili', 'family', 'familymay', 'fancy', 'fantasies', 'far', 'farrell', 'farting', 'fassyole', 'fast', 'father', 'fault', 'favor', 'favorite', 'favour', 'favourite', 'fe', 'feb', 'feel', 'feelin', 'feeling', 'feels', 'fees', 'feet', 'fell', 'female', 'fever', 'few', 'fgkslpo', 'fgkslpopw', 'fifteen', 'fight', 'fighting', 'fights', 'figure', 'file', 'fill', 'filling', 'fills', 'film', 'fin', 'final', 'finally', 'finance', 'find', 'fine', 'fineabsolutly', 'fingers', 'finish', 'finishd', 'finished', 'fir', 'firmware', 'first', 'fix', 'fixed', 'fizz', 'flag', 'flaky', 'flash', 'flat', 'flew', 'flies', 'flights', 'flip', 'flirting', 'fn', 'fold', 'foley', 'followed', 'following', 'follows', 'fone', 'foned', 'food', 'fool', 'for', 'foregate', 'forev', 'forever', 'forevr', 'forget', 'forgot', 'forgotten', 'forgt', 'formsdon', 'forward', 'found', 'foward', 'fowler', 'fr', 'frankie', 'franxx', 'fre', 'free', 'freeentry', 'freefone', 'freinds', 'fret', 'fri', 'friday', 'friend', 'friends', 'friendship', 'frm', 'frnd', 'frnds', 'frndship', 'frogaxel', 'from', 'fromm', 'fromwrk', 'front', 'frontierville', 'fuck', 'fuckin', 'fucking', 'fuckinniceselfishdeviousbitchanywayi', 'fucks', 'full', 'fullonsmscom', 'fun', 'fund', 'funeral', 'futur', 'future', 'fuuuuck', 'fyi', 'gailxx', 'gain', 'gal', 'galcan', 'galileo', 'galno', 'galsu', 'game', 'games', 'gap', 'gaps', 'garage', 'garbage', 'garden', 'gas', 'gastroenteritis', 'gave', 'gay', 'gd', 'ge', 'geeee', 'geeeee', 'gek1510', 'generally', 'genes', 'gentle', 'gently', 'genus', 'geoenvironmental', 'germany', 'get', 'get4an18th', 'gets', 'getting', 'gift', 'girl', 'girld', 'girlfrnd', 'girls', 'gist', 'giv', 'give', 'gives', 'giving', 'givits', 'glad', 'gn', 'go', 'go2', 'goal', 'god', 'gods', 'goes', 'goigng', 'goin', 'going', 'gokila', 'goldviking', 'golf', 'gone', 'gonna', 'good', 'goodenvironment', 'goodfriend', 'goodmorning', 'goodnight', 'goodnite', 'gorgeous', 'gossip', 'got', 'gotmarried', 'goto', 'goverment', 'gr8', 'gr8prizes', 'grace', 'grahmbell', 'grand', 'grazed', 'gre', 'great', 'grins', 'groc', 'group', 'grownup', 'gsex', 'gt', 'guai', 'guaranteed', 'gud', 'gudk', 'guess', 'guidance', 'guides', 'gut', 'guy', 'guys', 'gv', 'gving', 'gym', 'gynae', 'gyno', 'had', 'haf', 'haha', 'hahahause', 'hai', 'hair', 'half', 'halloween', 'ham', 'hand', 'handed', 'handle', 'hands', 'handset', 'hanging', 'hannaford', 'happen', 'happened', 'happi', 'happiest', 'happily', 'happiness', 'happy', 'hard', 'has', 'hasnt', 'hassling', 'hat', 'hate', 'haughaighgtujhyguj', 'hav', 'have', 'havent', 'having', 'he', 'head', 'healthy', 'heap', 'hear', 'hearin', 'heart', 'heartheart', 'heaven', 'heavily', 'hehe', 'helens', 'hell', 'hella', 'hello', 'hellohow', 'helloooo', 'help', 'helps', 'henry', 'her', 'here', 'herethanksi', 'hes', 'hey', 'hgsuite3422lands', 'hi', 'hide', 'hides', 'hii', 'hill', 'him', 'his', 'history', 'hit', 'hitechnical', 'hitler', 'hiwhat', 'hl', 'hmm', 'hmmm', 'hmmmbut', 'hmmmm', 'hmmmstill', 'hmph', 'ho', 'hol', 'holbi', 'hold', 'holder', 'holding', 'holiday', 'holidayso', 'holla', 'holy', 'hom', 'home', 'honey', 'hooch', 'hoody', 'hope', 'hopefully', 'hopeing', 'horrible', 'hos', 'hospital', 'hostel', 'hot', 'hotel', 'hour', 'hours', 'hous', 'house', 'housewives', 'how', 'hows', 'hppnss', 'hr', 'hsbc', 'httptms', 'httpwwwgr8prizescom', 'hu', 'huge', 'huh', 'humanities', 'hungri', 'hungry', 'hurry', 'hurt', 'hurts', 'husband', 'hv', 'hw', 'ibhltd', 'ibiza', 'ibored', 'ic', 'ice', 'id', 'idconvey', 'ideas', 'identification', 'identifier', 'idiot', 'idk', 'if', 'ignore', 'ileave', 'ill', 'illness', 'im', 'imagine', 'imat', 'imma', 'impl', 'important', 'impossible', 'improve', 'in', 'in2', 'inc', 'inches', 'inclu', 'include', 'including', 'inclusive', 'inconveni', 'inconvenient', 'increase', 'incredible', 'indeed', 'india', 'indian', 'indianpls', 'indians', 'indicate', 'indyarockscom', 'infect', 'infections', 'influx', 'info', 'inform', 'information', 'infront', 'innocent', 'inshah', 'inside', 'instal', 'instantly', 'instead', 'instructions', 'interest', 'interested', 'internet', 'into', 'intro', 'invaders', 'invited', 'inviting', 'invnted', 'iouri', 'ip4', 'ipod', 'iq', 'iriver', 'irritation', 'irulinae', 'is', 'iscoming', 'island', 'islands', 'islove', 'isnt', 'issues', 'it', 'italian', 'itcould', 'iti', 'itleave', 'its', 'itsnot', 'itu', 'ive', 'iz', 'izzit', 'jacket', 'jackpot', 'jade', 'jam', 'james', 'jamster', 'jane', 'japanese', 'jason', 'java', 'jay', 'jd', 'jeevithathile', 'jerk', 'jess', 'jesus', 'jia', 'jiayin', 'jiu', 'job', 'jog', 'join', 'joinedso', 'joker', 'joking', 'jolly', 'journey', 'joy', 'jst', 'jsut', 'juicy', 'jumpers', 'june', 'jus', 'just', 'juswoke', 'juz', 'k52', 'kafter', 'kaila', 'kane', 'kanoanyway', 'kappa', 'karaoke', 'karnan', 'kate', 'kavalan', 'keep', 'keeping', 'keeps', 'keng', 'kept', 'kerala', 'key', 'keypad', 'keys', 'kick', 'kid', 'kids', 'kidz', 'kill', 'kind', 'king', 'kiosk', 'kiss', 'kisses', 'kits', 'kkcongratulation', 'kkhow', 'kkim', 'kkthis', 'knackered', 'knees', 'knew', 'know', 'knowing', 'knw', 'konw', 'kotees', 'kothi', 'ksry', 'kthen', 'kwish', 'l8er', 'l8r', 'la', 'lab', 'lacsthats', 'lacsthere', 'ladi', 'ladies', 'lamp', 'land', 'landing', 'landlin', 'landline', 'lands', 'lar', 'last', 'lat', 'late', 'latebut', 'lately', 'later', 'latest', 'laugh', 'laughing', 'laundry', 'law', 'lccltd', 'ldn', 'ldnw15h', 'le', 'leading', 'learn', 'least', 'leastwhich', 'leav', 'leave', 'leaving', 'lecturer', 'left', 'leg', 'legitimat', 'legs', 'leh', 'lei', 'lemme', 'lesson', 'lessons', 'let', 'lets', 'lett', 'letters', 'li', 'liao', 'liaoso', 'liaotoo', 'lies', 'lif', 'life', 'lift', 'light', 'lik', 'like', 'liked', 'limit', 'limiting', 'limping', 'line', 'linerental', 'link', 'lionm', 'lionp', 'lions', 'lips', 'list', 'listen', 'listening', 'lists', 'lit', 'little', 'live', 'lived', 'liver', 'liverpool', 'living', 'll', 'lmao', 'loads', 'local', 'lock', 'logging', 'login', 'logo', 'logopic', 'lol', 'londn', 'london', 'loneliness', 'long', 'longer', 'lonlines', 'look', 'looked', 'looking', 'looks', 'loooooool', 'loosing', 'lor', 'lorgoin', 'lorwe', 'loses', 'loss', 'lost', 'lot', 'loti', 'lots', 'lotta', 'lotz', 'lou', 'loud', 'lounge', 'love', 'loved', 'lovely', 'loves', 'loving', 'lovli', 'lowes', 'loyal', 'lst', 'ltd', 'ltdecimalgt', 'ltgt', 'lttimegt', 'lttrs', 'luck', 'lucozade', 'lucozadecoukwrc', 'lunch', 'lush', 'luv', 'luvs', 'luxury', 'lv', 'lyricalladie21f', 'm221bp', 'm227xy', 'm8s', 'maat', 'machan', 'macho', 'mad', 'madam', 'made', 'mah', 'mahfuuzmeaning', 'mail', 'mailed', 'maili', 'maintain', 'maintaining', 'make', 'makes', 'making', 'malaria', 'mall', 'man', 'manag', 'manage', 'managed', 'many', 'marandratha', 'march', 'margaret', 'margin', 'mark', 'market', 'marry', 'marvel', 'massive', 'mast', 'masters', 'match', 'matches', 'mate', 'mates', 'mathemat', 'matt', 'maturity', 'max', 'max10min', 'maximize', 'may', 'mayb', 'maybe', 'mb', 'me', 'meal', 'mean', 'meaning', 'means', 'meant', 'measure', 'med', 'meds', 'meet', 'meeting', 'mega', 'meh', 'meis', 'membership', 'membershiptake', 'memories', 'men', 'mentor', 'meremove', 'mesages', 'messag', 'message', 'messages', 'messagethanks', 'messenger', 'middle', 'midnight', 'might', 'mileage', 'miles', 'min', 'mina', 'mind', 'mine', 'minimum', 'minor', 'mins', 'minstexts', 'minut', 'minute', 'minutes', 'miracle', 'mis', 'miser', 'miserable', 'misfit', 'miss', 'missed', 'missing', 'mistakeu', 'misundrstud', 'mite', 'mitsake', 'miwa', 'mmm', 'mmmmmmm', 'mns', 'mo', 'mob', 'mobil', 'mobile', 'mobiles', 'mobileupd8', 'mode', 'model', 'module', 'modules', 'mojibiola', 'mokka', 'mom', 'moment', 'moments', 'moms', 'mon', 'monday', 'money', 'moneyi', 'mono', 'month', 'months', 'mood', 'moon', 'moons', 'mor', 'moral', 'moralone', 'more', 'morning', 'morphin', 'most', 'mother', 'motherinlaw', 'motor', 'mountain', 'mountains', 'mouse', 'move', 'moving', 'moyep', 'mp3', 'mquiz', 'mr', 'mre', 'mrng', 'mrt', 'msg', 'msgsd', 'msgsometext', 'msgticketkioskvalid', 'msn', 'mth', 'mths', 'mtnl', 'mu', 'much', 'mufti', 'muht', 'mum', 'mumbai', 'mumhas', 'mummy', 'mummys', 'mums', 'music', 'must', 'musta', 'mustprovide', 'muz', 'my', 'myself', 'n8', 'nak', 'nam', 'name', 'nap', 'nat', 'natalie', 'natalja', 'natuit', 'nature', 'naughty', 'navigate', 'near', 'nearly', 'necessari', 'necessarily', 'neck', 'need', 'needs', 'neekunna', 'negative', 'neither', 'nervous', 'network', 'networking', 'neva', 'never', 'new', 'news', 'next', 'nhs', 'ni8', 'ni8swt', 'nic', 'nice', 'nichols', 'nigeria', 'night', 'nights', 'nightswe', 'nightswt', 'nimya', 'nimyapls', 'nit', 'nite', 'nitros', 'nmde', 'no', 'no1', 'no165', 'no440', 'no762', 'no910', 'nobody', 'noe', 'nois', 'nokia', 'nokias', 'noline', 'none', 'nonetheless', 'nope', 'norm150pton', 'normal', 'north', 'northampton', 'not', 'note', 'noth', 'nothing', 'nottel', 'notxtcouk', 'now', 'now1', 'nr31', 'nt', 'ntwk', 'numb', 'number', 'numberpls', 'numberrespectful', 'numbers', 'nuther', 'nvm', 'nw', 'nyc', 'nyt', 'o2', 'o2coukgames', 'o2fwd', 'obviously', 'occupy', 'of', 'ofcourse', 'off', 'offens', 'offer', 'offers', 'offic', 'office', 'officer', 'officestill', 'official', 'oga', 'oh', 'ok', 'okay', 'okday', 'okey', 'oki', 'okie', 'okok', 'okors', 'okthenwhats', 'olayiwolas', 'old', 'omg', 'omw', 'on', 'once', 'one', 'ones', 'oni', 'onli', 'online', 'only', 'onward', 'onwords', 'ooooooh', 'oops', 'open', 'openings', 'operator', 'opportunity', 'opposite', 'opt', 'optout', 'or', 'orange', 'oranges', 'orchard', 'order', 'oredi', 'orh', 'orig', 'original', 'ortxt', 'oso', 'other', 'others', 'otherwise', 'ou', 'our', 'ourbacks', 'out', 'outs', 'outsid', 'outside', 'outsomewhere', 'outta', 'ov', 'over', 'overdid', 'ovulatewhen', 'owed', 'own', 'oyster', 'oz', 'pa', 'packag', 'packs', 'paid', 'pain', 'painful', 'panther', 'pap', 'paperwork', 'paragon', 'parent', 'parentnot', 'parents', 'park', 'parking', 'part', 'parti', 'party', 'pass', 'passed', 'password', 'passwordsatmsms', 'past', 'patients', 'patrick', 'paul', 'pause', 'pay', 'paying', 'pc', 'peach', 'pee', 'pence', 'pend', 'pending', 'peopl', 'people', 'per', 'percent', 'perfume', 'perhaps', 'period', 'persian', 'person', 'personal', 'persons', 'perumbavoor', 'pete', 'petexxx', 'petrol', 'phne', 'phon', 'phone', 'phonebook', 'phones', 'phony', 'photo', 'photoshop', 'phrase', 'pi', 'pic', 'pick', 'picked', 'picking', 'pictures', 'pig', 'pilates', 'pin', 'pink', 'pisces', 'pissed', 'pity', 'pix', 'pizza', 'pl', 'plac', 'place', 'placement', 'plan', 'planettalkinstantcom', 'planned', 'planning', 'play', 'player', 'players', 'playi', 'please', 'pleased', 'pleasure', 'pleasured', 'pls', 'plus', 'plz', 'pm', 'po', 'pobox', 'pobox202', 'pobox334', 'pocay', 'pod', 'point', 'points', 'police', 'polo', 'poly', 'polyph', 'polyphonic', 'polys', 'polytruepixringtonesgames', 'pongaldo', 'poor', 'poorly', 'pop', 'popcornjust', 'port', 'positive', 'possession', 'possible', 'post', 'postcod', 'posted', 'pound', 'pounds', 'pours', 'pouts', 'power', 'powerful', 'ppl', 'pr', 'prabha', 'prabhaim', 'practicing', 'prakasam', 'prakasamanu', 'prasanth', 'pray', 'praying', 'predicte', 'preferably', 'prem', 'premium', 'prepare', 'prepayment', 'preponed', 'prescription', 'present', 'president', 'presnts', 'press', 'pretty', 'previous', 'prey', 'price', 'pride', 'princegn', 'princes', 'princess', 'print', 'priscillas', 'private', 'prize', 'prizes', 'prob', 'probably', 'problem', 'problems', 'profit', 'program', 'project', 'prometazine', 'promise', 'property', 'propsd', 'protect', 'proverb', 'pshewmissing', 'psp', 'pt2', 'pub', 'pubcafe', 'pubs', 'pull', 'punishment', 'punto', 'puppy', 'purchas', 'purs', 'pussi', 'put', 'qatarrakhesh', 'qbank', 'quarter', 'queries', 'quest', 'question', 'quick', 'quite', 'quiz', 'quoting', 'radio', 'raed', 'rael', 'rain', 'raining', 'raise', 'raj', 'rajipls', 'rajitha', 'rally', 'ramen', 'ran', 'randomly', 'rang', 'ranju', 'rate', 'rates', 'rather', 'rats', 'rayman', 'rd', 're', 'reach', 'reached', 'reaching', 'read', 'readi', 'ready', 'real', 'realise', 'realising', 'realize', 'realized', 'really', 'realy', 'reapply', 'rearrange', 'reason', 'reasonable', 'reasons', 'reassurance', 'reassuring', 'reboot', 'receipts', 'receive', 'received', 'recently', 'recorder', 'records', 'recount', 'red', 'redred', 'reduce', 'ree', 'ref9280114', 'reference', 'referin', 'regard', 'regarding', 'regards', 'regret', 'relation', 'relatives', 'relax', 'released', 'rem', 'remain', 'remains', 'remember', 'remet', 'remind', 'reminder', 'removal', 'remove', 'rencontre', 'renewal', 'rental', 'rentl', 'repair', 'repeat', 'repeating', 'replace', 'repli', 'replied', 'reply', 'report', 'representative', 'request', 'require', 'reschedule', 'resent', 'resolved', 'respect', 'respond', 'respons', 'response', 'rest', 'result', 'results', 'resum', 'resuming', 'return', 'returns', 'revealing', 'reverse', 'review', 'reward', 'rewarding', 'rhode', 'rich', 'rid', 'ride', 'right', 'rights', 'ring', 'ringtone', 'ripped', 'rit', 'rite', 'ritten', 'road', 'robinson', 'rocking', 'rofl', 'role', 'room', 'rooms', 'rose', 'round', 'roww1j6hl', 'royal', 'rs', 'rstm', 'ru', 'rub', 'ruin', 'ruining', 'rule', 'rumbl', 'run', 'rush', 'rushing', 'ryans', 's8', 'sac', 'sad', 'sae', 'safe', 'saibaba', 'said', 'sake', 'salari', 'sale', 'salesman', 'sall', 'salmon', 'salt', 'sam', 'same', 'sane', 'santa', 'sar', 'sarasota', 'sashimi', 'sat', 'saturday', 'save', 'saved', 'savings', 'saw', 'say', 'saying', 'says', 'sch', 'school', 'scores', 'scotsman', 'scraped', 'scream', 'screaming', 'sd', 'sday', 'se', 'search', 'second', 'secret', 'secrets', 'secs', 'sections', 'secure', 'sed', 'see', 'seeds', 'seeing', 'seems', 'seen', 'select', 'selected', 'selection', 'self', 'sell', 'selling', 'sem', 'semest', 'sen', 'send', 'sending', 'sense', 'sensitive', 'sent', 'senthil', 'seperatedud', 'seriously', 'servic', 'service', 'services', 'servs', 'set', 'settings', 'seven', 'sex', 'sexy', 'sexychat', 'shah', 'shall', 'shame', 'shanilrakhesh', 'share', 'shd', 'she', 'shelf', 'shes', 'shexy', 'shija', 'shijutta', 'shindig', 'shirts', 'shit', 'shitjustfound', 'shitload', 'shja', 'shld', 'shoes', 'shop', 'shoppin', 'shopping', 'shopthe', 'shopwe', 'shortage', 'shot', 'should', 'shouldnt', 'shouted', 'shoving', 'show', 'shower', 'showr', 'shows', 'shrub', 'shu', 'shud', 'shuhui', 'shut', 'si', 'sib', 'sid', 'side', 'sigh', 'sight', 'sign', 'sim', 'simple', 'simply', 'since', 'sing', 'singapore', 'sipix', 'sir', 'sirs', 'sirsalam', 'sis', 'sister', 'sisters', 'sit', 'site', 'sitll', 'sitting', 'situation', 'situations', 'sivatats', 'six', 'sk3', 'sk38xh', 'skilgme', 'skip', 'skype', 'skyving', 'slack', 'slave', 'sleep', 'sleepin', 'sleepingand', 'sleepsweet', 'slept', 'slide', 'slightly', 'slow', 'slowli', 'slowly', 'small', 'smaller', 'smart', 'smashed', 'smil', 'smile', 'smiles', 'smiling', 'sms', 'smsshsexnetun', 'smth', 'sn', 'sneham', 'snow', 'snuggles', 'so', 'soany', 'social', 'sofa', 'software', 'sol', 'solihull', 'some', 'some1', 'somebody', 'someone', 'someonethat', 'someonone', 'someth', 'somethin', 'something', 'sometime', 'somewhere', 'song', 'sony', 'soon', 'sooner', 'soonxxx', 'sori', 'sorri', 'sorrow', 'sorry', 'sort', 'sorting', 'sorydarealyfrm', 'sound', 'sounds', 'source', 'south', 'soz', 'sp', 'space', 'spacebuck', 'spanish', 'sparkling', 'speak', 'speci', 'special', 'specially', 'specific', 'speeding', 'spend', 'spending', 'spent', 'spice', 'spider', 'spiderman', 'spile', 'spinout', 'spiritual', 'splash', 'splat', 'splleing', 'spoiled', 'spoken', 'spook', 'sport', 'spree', 'squeezed', 'sry', 'st', 'stability', 'stage', 'stand', 'standard', 'starer', 'staring', 'start', 'started', 'startedindia', 'starting', 'statement', 'station', 'stay', 'stayed', 'staying', 'std', 'step', 'sterm', 'steyn', 'sthis', 'sticky', 'still', 'stink', 'stockport', 'stolen', 'stomach', 'stomps', 'stop', 'stops', 'stoptxtstop', 'stor', 'store', 'stori', 'storming', 'story', 'strange', 'street', 'stress', 'stressful', 'stressfull', 'stretch', 'strike', 'stuck', 'student', 'studi', 'studies', 'studying', 'stuff', 'stuffing', 'stuffleaving', 'stuffwhy', 'stupid', 'styl', 'stylish', 'sub', 'subscribe6gbpmnth', 'subscribed', 'subscription', 'subsequent', 'successful', 'sucks', 'sudden', 'suffering', 'sugababes', 'sugar', 'suggest', 'suggestion', 'suite', 'sum1', 'summer', 'sun', 'sunday', 'sunny', 'sunshine', 'sup', 'super', 'support', 'supportproviding', 'suppose', 'supposed', 'sur', 'sure', 'surely', 'surf', 'surly', 'surpris', 'surprise', 'sw7', 'swan', 'swashbuckling', 'swat', 'swayze', 'sweet', 'swim', 'swing', 'switch', 'swoop', 'syrup', 'system', 'table', 'taka', 'take', 'takes', 'takin', 'taking', 'talk', 'talking', 'talks', 'tallahasse', 'tamilnaduthen', 'tampa', 'tantrums', 'tap', 'tasts', 'tat', 'taunton', 'taylor', 'tb', 'tc', 'tcs', 'te', 'tea', 'teach', 'tear', 'tease', 'teeth', 'teethif', 'tel', 'tell', 'telling', 'telphone', 'temales', 'temp', 'temple', 'ten', 'tension', 'terminatedwe', 'terms', 'termsappli', 'terrific', 'tessypls', 'test', 'texas', 'text', 'textcomp', 'texted', 'texting', 'texts', 'th', 'than', 'thangam', 'thank', 'thanks', 'thanksgiving', 'thanx', 'that', 'thatmum', 'thats', 'the', 'theatre', 'their', 'them', 'themobhit', 'then', 'theory', 'theplace', 'ther', 'there', 'therell', 'theres', 'thes', 'these', 'they', 'theyre', 'thing', 'things', 'think', 'thinkin', 'thinking', 'thinkthis', 'this', 'thk', 'thm', 'tho', 'those', 'thoso', 'thou', 'though', 'thought', 'thousands', 'threw', 'through', 'thru', 'tht', 'thursday', 'thy', 'tick', 'ticket', 'tickets', 'tight', 'tihs', 'til', 'till', 'tim', 'time', 'times', 'timing', 'tip', 'tired', 'tirunelvali', 'tirupur', 'tis', 'titleso', 'tix', 'tke', 'tm', 'tmr', 'tnc', 'tncs', 'to', 'toaday', 'tocallshall', 'toclaim', 'today', 'todays', 'todaysundaysunday', 'tog', 'togeth', 'together', 'tohar', 'toilet', 'told', 'tomarrow', 'tomorrow', 'tone', 'tones', 'tonight', 'tonights', 'tonit', 'too', 'took', 'toolets', 'tooo', 'toopray', 'top', 'topic', 'torch', 'torture', 'tot', 'total', 'totally', 'touch', 'tough', 'tour', 'towards', 'town', 'towncud', 'toyota', 'track', 'traffic', 'train', 'trained', 'training', 'trains', 'tranquility', 'transfered', 'transfr', 'travel', 'travelled', 'treacl', 'treadmill', 'treasure', 'treat', 'treatin', 'treats', 'tried', 'trip', 'trouble', 'tru', 'truck', 'true', 'truly', 'trust', 'truth', 'try', 'trying', 'ts', 'tscs08714740323', 'tsunami', 'tt', 'turkey', 'turns', 'tv', 'tvhe', 'twelve', 'two', 'txt', 'txtauct', 'txtin', 'txting', 'txts', 'tyler', 'tylers', 'type', 'uawakefeellikw', 'ugh', 'uk', 'ull', 'ultimate', 'ummmmmaah', 'unable', 'uncle', 'uncles', 'uncut', 'understand', 'understanding', 'understood', 'uni', 'unicefs', 'unintentional', 'unintentionally', 'unique', 'units', 'university', 'unless', 'unlike', 'unlimited', 'unredeemed', 'unsubscribe', 'until', 'up', 'upcharg', 'upd8', 'update', 'uphad', 'upload', 'uploaded', 'upon', 'upto', 'ur', 'ure', 'urgent', 'urgentbut', 'urgentlyits', 'urgnt', 'urself', 'us', 'use', 'used', 'user', 'uses', 'usf', 'using', 'usual', 'usualiam', 'uve', 'uworld', 'valentine', 'valid', 'valuable', 'valued', 'various', 'varma', 'vco', 've', 'velusamy', 'version', 'very', 'via', 'vibrant', 'victoria', 'video', 'videochat', 'videophones', 'videos', 'vidnot', 'vijaykanth', 'vikky', 'village', 'vinobanagar', 'violence', 'virgils', 'visionsmscom', 'visit', 'vivekanand', 'viveki', 'vl', 'vldo', 'voda', 'vodafone', 'voice', 'vomit', 'vomiting', 'vote', 'voucher', 'vouchers', 'vry', 'w111wx', 'w1j', 'w45wq', 'waht', 'wait', 'waitin', 'waiting', 'wake', 'walk', 'walking', 'wallpap', 'wallpaper', 'wallpaperall', 'walmart', 'wan', 'wana', 'wanna', 'want', 'wanted', 'wants', 'wap', 'warn', 'warner', 'warranty', 'was', 'wasn', 'wasnt', 'waste', 'wasted', 'wat', 'watch', 'watched', 'watching', 'water', 'watever', 'wating', 'wats', 'way', 'wc1n', 'we', 'weak', 'weapon', 'wear', 'weathers', 'website', 'wed', 'wedding', 'wedlunch', 'wednesday', 'weed', 'week', 'weekend', 'weekends', 'weekly', 'weeks', 'weird', 'wel', 'welcome', 'welcomes', 'well', 'welli', 'welltake', 'wen', 'wenever', 'went', 'were', 'wewa', 'what', 'whatever', 'whats', 'wheat', 'when', 'whenev', 'whenever', 'whens', 'whenwhere', 'where', 'wheres', 'wherever', 'whether', 'which', 'whil', 'while', 'whispers', 'white', 'who', 'whole', 'whos', 'why', 'wicket', 'wid', 'widelivecomindex', 'wif', 'wifedont', 'wihtuot', 'wil', 'will', 'win', 'window', 'wine', 'winner', 'winning', 'wins', 'wish', 'wishes', 'wishing', 'wit', 'with', 'within', 'without', 'wk', 'wkend', 'wkly', 'wks', 'wktxt', 'wmlid820554ad0a1705572711firsttrue', 'wn', 'wnt', 'woah', 'wocay', 'woke', 'woken', 'woman', 'won', 'wonderful', 'wondering', 'wont', 'woot', 'worc', 'word', 'work', 'workin', 'working', 'works', 'world', 'worlds', 'worms', 'worri', 'worried', 'worry', 'wors', 'worse', 'worst', 'worth', 'wot', 'would', 'woulda', 'wouldnt', 'wounds', 'wow', 'wrc', 'wrenching', 'writ', 'write', 'wrk', 'wrkin', 'wrnog', 'wrong', 'wrote', 'wt', 'wuld', 'www4tcbiz', 'wwwcashbincouk', 'wwwclubmobycom', 'wwwcomuknet', 'wwwdbuknet', 'wwwfullonsmscom', 'wwwgambtv', 'wwwgetzedcouk', 'wwwldewcom1win150ppmx3age16', 'wwwldewcom1win150ppmx3age16subscription', 'wwwringtonescouk', 'wwwsantacallingcom', 'wwwshortbreaksorguk', 'wwwsmsacugoldviking', 'wwwsmsacuhmmross', 'wwwsmsacunat27081980', 'wwwsmsacunatalie2k9', 'wwwtcbiz', 'wwwtelediscountcouk', 'wwwwin82050couk', 'wylie', 'xchat', 'xins', 'xmas', 'xt', 'xuhui', 'xx', 'xxx', 'xxxx', 'xy', 'ya', 'yah', 'yan', 'yar', 'yards', 'yay', 'yeah', 'year', 'years', 'yeh', 'yeovil', 'yep', 'yer', 'yes', 'yes165', 'yes440', 'yes762', 'yes910', 'yest', 'yesterday', 'yet', 'yijue', 'ym', 'yo', 'yoga', 'yor', 'you', 'youd', 'youdoing', 'youll', 'young', 'younger', 'your', 'youre', 'yours', 'yourself', 'youve', 'yoville', 'yr', 'yummy', 'yuo', 'yup', 'zebra', 'zed', 'zeros']\n"
     ]
    }
   ],
   "source": [
    "print(vectorizer.get_feature_names())"
   ]
  },
  {
   "cell_type": "code",
   "execution_count": 47,
   "id": "0a799c0f",
   "metadata": {},
   "outputs": [],
   "source": [
    "from sklearn.preprocessing import LabelEncoder"
   ]
  },
  {
   "cell_type": "code",
   "execution_count": 48,
   "id": "d1dccaaa",
   "metadata": {},
   "outputs": [],
   "source": [
    "Labelencoder = LabelEncoder()"
   ]
  },
  {
   "cell_type": "code",
   "execution_count": 49,
   "id": "cbc7517c",
   "metadata": {},
   "outputs": [
    {
     "data": {
      "text/html": [
       "<div>\n",
       "<style scoped>\n",
       "    .dataframe tbody tr th:only-of-type {\n",
       "        vertical-align: middle;\n",
       "    }\n",
       "\n",
       "    .dataframe tbody tr th {\n",
       "        vertical-align: top;\n",
       "    }\n",
       "\n",
       "    .dataframe thead th {\n",
       "        text-align: right;\n",
       "    }\n",
       "</style>\n",
       "<table border=\"1\" class=\"dataframe\">\n",
       "  <thead>\n",
       "    <tr style=\"text-align: right;\">\n",
       "      <th></th>\n",
       "      <th>S. No.</th>\n",
       "      <th>Message_body</th>\n",
       "      <th>Label</th>\n",
       "      <th>clean_punc</th>\n",
       "      <th>msg_lower</th>\n",
       "      <th>msg_tokenied</th>\n",
       "      <th>no_stopwords</th>\n",
       "      <th>msg_stemmed</th>\n",
       "      <th>msg_lemmatized</th>\n",
       "      <th>y</th>\n",
       "    </tr>\n",
       "  </thead>\n",
       "  <tbody>\n",
       "    <tr>\n",
       "      <th>0</th>\n",
       "      <td>1</td>\n",
       "      <td>Rofl. Its true to its name</td>\n",
       "      <td>Non-Spam</td>\n",
       "      <td>Rofl Its true to its name</td>\n",
       "      <td>rofl its true to its name</td>\n",
       "      <td>[rofl its true to its name]</td>\n",
       "      <td>[rofl its true to its name]</td>\n",
       "      <td>[rofl its true to its nam]</td>\n",
       "      <td>rofl its true to its nam</td>\n",
       "      <td>0</td>\n",
       "    </tr>\n",
       "    <tr>\n",
       "      <th>1</th>\n",
       "      <td>2</td>\n",
       "      <td>The guy did some bitching but I acted like i'd...</td>\n",
       "      <td>Non-Spam</td>\n",
       "      <td>The guy did some bitching but I acted like id ...</td>\n",
       "      <td>the guy did some bitching but i acted like id ...</td>\n",
       "      <td>[the guy did some bitching but i acted like id...</td>\n",
       "      <td>[the guy did some bitching but i acted like id...</td>\n",
       "      <td>[the guy did some bitching but i acted like id...</td>\n",
       "      <td>the guy did some bitching but i acted like id ...</td>\n",
       "      <td>0</td>\n",
       "    </tr>\n",
       "    <tr>\n",
       "      <th>2</th>\n",
       "      <td>3</td>\n",
       "      <td>Pity, * was in mood for that. So...any other s...</td>\n",
       "      <td>Non-Spam</td>\n",
       "      <td>Pity  was in mood for that Soany other suggest...</td>\n",
       "      <td>pity  was in mood for that soany other suggest...</td>\n",
       "      <td>[pity  was in mood for that soany other sugges...</td>\n",
       "      <td>[pity  was in mood for that soany other sugges...</td>\n",
       "      <td>[pity  was in mood for that soany other suggest]</td>\n",
       "      <td>pity  was in mood for that soany other suggest</td>\n",
       "      <td>0</td>\n",
       "    </tr>\n",
       "    <tr>\n",
       "      <th>3</th>\n",
       "      <td>4</td>\n",
       "      <td>Will � b going to esplanade fr home?</td>\n",
       "      <td>Non-Spam</td>\n",
       "      <td>Will � b going to esplanade fr home</td>\n",
       "      <td>will � b going to esplanade fr home</td>\n",
       "      <td>[will � b going to esplanade fr home]</td>\n",
       "      <td>[will � b going to esplanade fr home]</td>\n",
       "      <td>[will � b going to esplanade fr hom]</td>\n",
       "      <td>will � b going to esplanade fr hom</td>\n",
       "      <td>0</td>\n",
       "    </tr>\n",
       "    <tr>\n",
       "      <th>4</th>\n",
       "      <td>5</td>\n",
       "      <td>This is the 2nd time we have tried 2 contact u...</td>\n",
       "      <td>Spam</td>\n",
       "      <td>This is the 2nd time we have tried 2 contact u...</td>\n",
       "      <td>this is the 2nd time we have tried 2 contact u...</td>\n",
       "      <td>[this is the 2nd time we have tried 2 contact ...</td>\n",
       "      <td>[this is the 2nd time we have tried 2 contact ...</td>\n",
       "      <td>[this is the 2nd time we have tried 2 contact ...</td>\n",
       "      <td>this is the 2nd time we have tried 2 contact u...</td>\n",
       "      <td>1</td>\n",
       "    </tr>\n",
       "    <tr>\n",
       "      <th>...</th>\n",
       "      <td>...</td>\n",
       "      <td>...</td>\n",
       "      <td>...</td>\n",
       "      <td>...</td>\n",
       "      <td>...</td>\n",
       "      <td>...</td>\n",
       "      <td>...</td>\n",
       "      <td>...</td>\n",
       "      <td>...</td>\n",
       "      <td>...</td>\n",
       "    </tr>\n",
       "    <tr>\n",
       "      <th>952</th>\n",
       "      <td>953</td>\n",
       "      <td>hows my favourite person today? r u workin har...</td>\n",
       "      <td>Non-Spam</td>\n",
       "      <td>hows my favourite person today r u workin hard...</td>\n",
       "      <td>hows my favourite person today r u workin hard...</td>\n",
       "      <td>[hows my favourite person today r u workin har...</td>\n",
       "      <td>[hows my favourite person today r u workin har...</td>\n",
       "      <td>[hows my favourite person today r u workin har...</td>\n",
       "      <td>hows my favourite person today r u workin hard...</td>\n",
       "      <td>0</td>\n",
       "    </tr>\n",
       "    <tr>\n",
       "      <th>953</th>\n",
       "      <td>954</td>\n",
       "      <td>How much you got for cleaning</td>\n",
       "      <td>Non-Spam</td>\n",
       "      <td>How much you got for cleaning</td>\n",
       "      <td>how much you got for cleaning</td>\n",
       "      <td>[how much you got for cleaning]</td>\n",
       "      <td>[how much you got for cleaning]</td>\n",
       "      <td>[how much you got for clean]</td>\n",
       "      <td>how much you got for clean</td>\n",
       "      <td>0</td>\n",
       "    </tr>\n",
       "    <tr>\n",
       "      <th>954</th>\n",
       "      <td>955</td>\n",
       "      <td>Sorry da. I gone mad so many pending works wha...</td>\n",
       "      <td>Non-Spam</td>\n",
       "      <td>Sorry da I gone mad so many pending works what...</td>\n",
       "      <td>sorry da i gone mad so many pending works what...</td>\n",
       "      <td>[sorry da i gone mad so many pending works wha...</td>\n",
       "      <td>[sorry da i gone mad so many pending works wha...</td>\n",
       "      <td>[sorry da i gone mad so many pending works wha...</td>\n",
       "      <td>sorry da i gone mad so many pending works what...</td>\n",
       "      <td>0</td>\n",
       "    </tr>\n",
       "    <tr>\n",
       "      <th>955</th>\n",
       "      <td>956</td>\n",
       "      <td>Wat time � finish?</td>\n",
       "      <td>Non-Spam</td>\n",
       "      <td>Wat time � finish</td>\n",
       "      <td>wat time � finish</td>\n",
       "      <td>[wat time � finish]</td>\n",
       "      <td>[wat time � finish]</td>\n",
       "      <td>[wat time � finish]</td>\n",
       "      <td>wat time � finish</td>\n",
       "      <td>0</td>\n",
       "    </tr>\n",
       "    <tr>\n",
       "      <th>956</th>\n",
       "      <td>957</td>\n",
       "      <td>Just glad to be talking to you.</td>\n",
       "      <td>Non-Spam</td>\n",
       "      <td>Just glad to be talking to you</td>\n",
       "      <td>just glad to be talking to you</td>\n",
       "      <td>[just glad to be talking to you]</td>\n",
       "      <td>[just glad to be talking to you]</td>\n",
       "      <td>[just glad to be talking to y]</td>\n",
       "      <td>just glad to be talking to y</td>\n",
       "      <td>0</td>\n",
       "    </tr>\n",
       "  </tbody>\n",
       "</table>\n",
       "<p>957 rows × 10 columns</p>\n",
       "</div>"
      ],
      "text/plain": [
       "     S. No.                                       Message_body     Label  \\\n",
       "0         1                         Rofl. Its true to its name  Non-Spam   \n",
       "1         2  The guy did some bitching but I acted like i'd...  Non-Spam   \n",
       "2         3  Pity, * was in mood for that. So...any other s...  Non-Spam   \n",
       "3         4               Will � b going to esplanade fr home?  Non-Spam   \n",
       "4         5  This is the 2nd time we have tried 2 contact u...      Spam   \n",
       "..      ...                                                ...       ...   \n",
       "952     953  hows my favourite person today? r u workin har...  Non-Spam   \n",
       "953     954                      How much you got for cleaning  Non-Spam   \n",
       "954     955  Sorry da. I gone mad so many pending works wha...  Non-Spam   \n",
       "955     956                                 Wat time � finish?  Non-Spam   \n",
       "956     957                    Just glad to be talking to you.  Non-Spam   \n",
       "\n",
       "                                            clean_punc  \\\n",
       "0                            Rofl Its true to its name   \n",
       "1    The guy did some bitching but I acted like id ...   \n",
       "2    Pity  was in mood for that Soany other suggest...   \n",
       "3                  Will � b going to esplanade fr home   \n",
       "4    This is the 2nd time we have tried 2 contact u...   \n",
       "..                                                 ...   \n",
       "952  hows my favourite person today r u workin hard...   \n",
       "953                      How much you got for cleaning   \n",
       "954  Sorry da I gone mad so many pending works what...   \n",
       "955                                  Wat time � finish   \n",
       "956                     Just glad to be talking to you   \n",
       "\n",
       "                                             msg_lower  \\\n",
       "0                            rofl its true to its name   \n",
       "1    the guy did some bitching but i acted like id ...   \n",
       "2    pity  was in mood for that soany other suggest...   \n",
       "3                  will � b going to esplanade fr home   \n",
       "4    this is the 2nd time we have tried 2 contact u...   \n",
       "..                                                 ...   \n",
       "952  hows my favourite person today r u workin hard...   \n",
       "953                      how much you got for cleaning   \n",
       "954  sorry da i gone mad so many pending works what...   \n",
       "955                                  wat time � finish   \n",
       "956                     just glad to be talking to you   \n",
       "\n",
       "                                          msg_tokenied  \\\n",
       "0                          [rofl its true to its name]   \n",
       "1    [the guy did some bitching but i acted like id...   \n",
       "2    [pity  was in mood for that soany other sugges...   \n",
       "3                [will � b going to esplanade fr home]   \n",
       "4    [this is the 2nd time we have tried 2 contact ...   \n",
       "..                                                 ...   \n",
       "952  [hows my favourite person today r u workin har...   \n",
       "953                    [how much you got for cleaning]   \n",
       "954  [sorry da i gone mad so many pending works wha...   \n",
       "955                                [wat time � finish]   \n",
       "956                   [just glad to be talking to you]   \n",
       "\n",
       "                                          no_stopwords  \\\n",
       "0                          [rofl its true to its name]   \n",
       "1    [the guy did some bitching but i acted like id...   \n",
       "2    [pity  was in mood for that soany other sugges...   \n",
       "3                [will � b going to esplanade fr home]   \n",
       "4    [this is the 2nd time we have tried 2 contact ...   \n",
       "..                                                 ...   \n",
       "952  [hows my favourite person today r u workin har...   \n",
       "953                    [how much you got for cleaning]   \n",
       "954  [sorry da i gone mad so many pending works wha...   \n",
       "955                                [wat time � finish]   \n",
       "956                   [just glad to be talking to you]   \n",
       "\n",
       "                                           msg_stemmed  \\\n",
       "0                           [rofl its true to its nam]   \n",
       "1    [the guy did some bitching but i acted like id...   \n",
       "2     [pity  was in mood for that soany other suggest]   \n",
       "3                 [will � b going to esplanade fr hom]   \n",
       "4    [this is the 2nd time we have tried 2 contact ...   \n",
       "..                                                 ...   \n",
       "952  [hows my favourite person today r u workin har...   \n",
       "953                       [how much you got for clean]   \n",
       "954  [sorry da i gone mad so many pending works wha...   \n",
       "955                                [wat time � finish]   \n",
       "956                     [just glad to be talking to y]   \n",
       "\n",
       "                                        msg_lemmatized  y  \n",
       "0                             rofl its true to its nam  0  \n",
       "1    the guy did some bitching but i acted like id ...  0  \n",
       "2       pity  was in mood for that soany other suggest  0  \n",
       "3                   will � b going to esplanade fr hom  0  \n",
       "4    this is the 2nd time we have tried 2 contact u...  1  \n",
       "..                                                 ... ..  \n",
       "952  hows my favourite person today r u workin hard...  0  \n",
       "953                         how much you got for clean  0  \n",
       "954  sorry da i gone mad so many pending works what...  0  \n",
       "955                                  wat time � finish  0  \n",
       "956                       just glad to be talking to y  0  \n",
       "\n",
       "[957 rows x 10 columns]"
      ]
     },
     "execution_count": 49,
     "metadata": {},
     "output_type": "execute_result"
    }
   ],
   "source": [
    "data[\"y\"] = Labelencoder.fit_transform(data[\"Label\"])\n",
    "data"
   ]
  },
  {
   "cell_type": "code",
   "execution_count": 50,
   "id": "793a1829",
   "metadata": {},
   "outputs": [],
   "source": [
    "from sklearn.model_selection import train_test_split\n",
    "X_train, X_test, y_train, y_test = train_test_split(X, data.y, test_size=0.20, random_state=42)"
   ]
  },
  {
   "cell_type": "code",
   "execution_count": 51,
   "id": "129b9a54",
   "metadata": {},
   "outputs": [
    {
     "data": {
      "text/plain": [
       "array([[0., 0., 0., ..., 0., 0., 0.],\n",
       "       [0., 0., 0., ..., 0., 0., 0.],\n",
       "       [0., 0., 0., ..., 0., 0., 0.],\n",
       "       ...,\n",
       "       [0., 0., 0., ..., 0., 0., 0.],\n",
       "       [0., 0., 0., ..., 0., 0., 0.],\n",
       "       [0., 0., 0., ..., 0., 0., 0.]])"
      ]
     },
     "execution_count": 51,
     "metadata": {},
     "output_type": "execute_result"
    }
   ],
   "source": [
    "X_train"
   ]
  },
  {
   "cell_type": "code",
   "execution_count": 52,
   "id": "ad33dc80",
   "metadata": {},
   "outputs": [
    {
     "data": {
      "text/plain": [
       "array([[0.        , 0.        , 0.        , ..., 0.        , 0.        ,\n",
       "        0.        ],\n",
       "       [0.        , 0.        , 0.        , ..., 0.        , 0.        ,\n",
       "        0.        ],\n",
       "       [0.        , 0.        , 0.        , ..., 0.        , 0.        ,\n",
       "        0.        ],\n",
       "       ...,\n",
       "       [0.        , 0.        , 0.27306604, ..., 0.        , 0.        ,\n",
       "        0.        ],\n",
       "       [0.        , 0.        , 0.        , ..., 0.        , 0.        ,\n",
       "        0.        ],\n",
       "       [0.        , 0.        , 0.        , ..., 0.        , 0.        ,\n",
       "        0.        ]])"
      ]
     },
     "execution_count": 52,
     "metadata": {},
     "output_type": "execute_result"
    }
   ],
   "source": [
    "X_test"
   ]
  },
  {
   "cell_type": "code",
   "execution_count": 53,
   "id": "1c4a5932",
   "metadata": {},
   "outputs": [
    {
     "data": {
      "text/plain": [
       "302    0\n",
       "467    0\n",
       "294    0\n",
       "548    0\n",
       "465    0\n",
       "      ..\n",
       "106    0\n",
       "270    0\n",
       "860    0\n",
       "435    0\n",
       "102    1\n",
       "Name: y, Length: 765, dtype: int32"
      ]
     },
     "execution_count": 53,
     "metadata": {},
     "output_type": "execute_result"
    }
   ],
   "source": [
    "y_train"
   ]
  },
  {
   "cell_type": "code",
   "execution_count": 54,
   "id": "3e8b97a9",
   "metadata": {},
   "outputs": [
    {
     "data": {
      "text/plain": [
       "835    0\n",
       "477    0\n",
       "350    0\n",
       "890    0\n",
       "854    0\n",
       "      ..\n",
       "462    0\n",
       "673    0\n",
       "33     1\n",
       "31     0\n",
       "714    0\n",
       "Name: y, Length: 192, dtype: int32"
      ]
     },
     "execution_count": 54,
     "metadata": {},
     "output_type": "execute_result"
    }
   ],
   "source": [
    "y_test"
   ]
  },
  {
   "cell_type": "markdown",
   "id": "87db846e",
   "metadata": {},
   "source": [
    "# Random Forest "
   ]
  },
  {
   "cell_type": "code",
   "execution_count": 55,
   "id": "bc74d885",
   "metadata": {},
   "outputs": [
    {
     "data": {
      "text/plain": [
       "RandomForestClassifier(criterion='entropy', n_estimators=10)"
      ]
     },
     "execution_count": 55,
     "metadata": {},
     "output_type": "execute_result"
    }
   ],
   "source": [
    "from sklearn.ensemble import RandomForestClassifier  \n",
    "classifier= RandomForestClassifier(n_estimators= 10, criterion=\"entropy\")  \n",
    "classifier.fit(X_train, y_train)  "
   ]
  },
  {
   "cell_type": "code",
   "execution_count": 57,
   "id": "de259a27",
   "metadata": {},
   "outputs": [],
   "source": [
    "y_pred= classifier.predict(X_test)  "
   ]
  },
  {
   "cell_type": "code",
   "execution_count": 58,
   "id": "c9fd029d",
   "metadata": {},
   "outputs": [
    {
     "data": {
      "text/plain": [
       "array([0, 0, 0, 0, 0, 0, 0, 0, 0, 0, 1, 0, 0, 0, 1, 0, 0, 0, 0, 0, 0, 0,\n",
       "       0, 0, 0, 0, 0, 0, 0, 0, 0, 0, 0, 0, 0, 0, 0, 0, 0, 0, 0, 0, 0, 1,\n",
       "       0, 0, 0, 0, 0, 0, 0, 0, 0, 0, 0, 0, 0, 0, 0, 0, 0, 0, 0, 0, 0, 0,\n",
       "       0, 0, 0, 0, 0, 0, 0, 0, 0, 0, 1, 0, 0, 0, 0, 0, 0, 0, 0, 0, 0, 0,\n",
       "       0, 0, 0, 0, 0, 1, 0, 0, 0, 0, 0, 1, 0, 0, 0, 0, 0, 0, 0, 0, 0, 0,\n",
       "       0, 0, 0, 0, 0, 0, 0, 0, 0, 0, 0, 0, 0, 0, 0, 0, 0, 0, 0, 1, 0, 0,\n",
       "       0, 0, 0, 0, 1, 0, 0, 0, 0, 0, 0, 0, 0, 0, 0, 0, 0, 0, 0, 0, 0, 0,\n",
       "       0, 0, 0, 0, 0, 0, 0, 0, 0, 0, 0, 0, 0, 0, 0, 0, 0, 0, 0, 1, 0, 0,\n",
       "       0, 1, 0, 0, 0, 0, 0, 0, 0, 0, 0, 0, 0, 0, 0, 0])"
      ]
     },
     "execution_count": 58,
     "metadata": {},
     "output_type": "execute_result"
    }
   ],
   "source": [
    "y_pred"
   ]
  },
  {
   "cell_type": "code",
   "execution_count": 59,
   "id": "8f3b25df",
   "metadata": {},
   "outputs": [],
   "source": [
    "from sklearn.metrics import confusion_matrix  \n",
    "cm= confusion_matrix(y_test, y_pred)  "
   ]
  },
  {
   "cell_type": "code",
   "execution_count": 60,
   "id": "be7c05f8",
   "metadata": {},
   "outputs": [
    {
     "data": {
      "text/plain": [
       "array([[165,   0],\n",
       "       [ 17,  10]], dtype=int64)"
      ]
     },
     "execution_count": 60,
     "metadata": {},
     "output_type": "execute_result"
    }
   ],
   "source": [
    "cm"
   ]
  },
  {
   "cell_type": "code",
   "execution_count": 91,
   "id": "72927f4f",
   "metadata": {},
   "outputs": [
    {
     "data": {
      "text/plain": [
       "<AxesSubplot:>"
      ]
     },
     "execution_count": 91,
     "metadata": {},
     "output_type": "execute_result"
    },
    {
     "data": {
      "image/png": "[encoded data removed]",
      "text/plain": [
       "<Figure size 432x288 with 2 Axes>"
      ]
     },
     "metadata": {},
     "output_type": "display_data"
    }
   ],
   "source": [
    "sns.heatmap(cm, annot=True)"
   ]
  },
  {
   "cell_type": "code",
   "execution_count": 61,
   "id": "aa87e5e6",
   "metadata": {},
   "outputs": [
    {
     "name": "stdout",
     "output_type": "stream",
     "text": [
      "              precision    recall  f1-score   support\n",
      "\n",
      "           0       0.91      1.00      0.95       165\n",
      "           1       1.00      0.37      0.54        27\n",
      "\n",
      "    accuracy                           0.91       192\n",
      "   macro avg       0.95      0.69      0.75       192\n",
      "weighted avg       0.92      0.91      0.89       192\n",
      "\n"
     ]
    }
   ],
   "source": [
    "from sklearn.metrics import classification_report\n",
    "print(classification_report(y_test, y_pred))"
   ]
  },
  {
   "cell_type": "code",
   "execution_count": 67,
   "id": "31c3e5a4",
   "metadata": {},
   "outputs": [
    {
     "data": {
      "text/plain": [
       "0.6851851851851851"
      ]
     },
     "execution_count": 67,
     "metadata": {},
     "output_type": "execute_result"
    }
   ],
   "source": [
    "from sklearn.metrics import roc_curve, auc\n",
    "false_positive_rate, true_positive_rate, thresholds = roc_curve(y_test, y_pred)\n",
    "roc_auc = auc(false_positive_rate, true_positive_rate)\n",
    "roc_auc"
   ]
  },
  {
   "cell_type": "code",
   "execution_count": 68,
   "id": "4e723bfb",
   "metadata": {},
   "outputs": [
    {
     "data": {
      "text/plain": [
       "<sklearn.metrics._plot.roc_curve.RocCurveDisplay at 0x20aa1739a30>"
      ]
     },
     "execution_count": 68,
     "metadata": {},
     "output_type": "execute_result"
    },
    {
     "data": {
      "image/png": "[encoded data removed]",
      "text/plain": [
       "<Figure size 432x288 with 1 Axes>"
      ]
     },
     "metadata": {},
     "output_type": "display_data"
    }
   ],
   "source": [
    "from sklearn import metrics \n",
    "metrics.plot_roc_curve(classifier, X_test, y_test) "
   ]
  },
  {
   "cell_type": "markdown",
   "id": "c9b1eeb0",
   "metadata": {},
   "source": [
    "# Logistic Regression"
   ]
  },
  {
   "cell_type": "code",
   "execution_count": 72,
   "id": "d59299e0",
   "metadata": {},
   "outputs": [
    {
     "data": {
      "text/plain": [
       "LogisticRegression(random_state=42)"
      ]
     },
     "execution_count": 72,
     "metadata": {},
     "output_type": "execute_result"
    }
   ],
   "source": [
    "from sklearn.linear_model import LogisticRegression  \n",
    "classifier= LogisticRegression(random_state=42)  \n",
    "classifier.fit(X_train, y_train)  "
   ]
  },
  {
   "cell_type": "code",
   "execution_count": 73,
   "id": "995f651e",
   "metadata": {},
   "outputs": [],
   "source": [
    "y_pred= classifier.predict(X_test)  "
   ]
  },
  {
   "cell_type": "code",
   "execution_count": 74,
   "id": "26d3bd12",
   "metadata": {},
   "outputs": [
    {
     "data": {
      "text/plain": [
       "array([0, 0, 0, 0, 0, 0, 0, 0, 0, 0, 0, 0, 0, 0, 0, 0, 0, 0, 0, 0, 0, 0,\n",
       "       0, 0, 0, 0, 0, 0, 0, 0, 0, 0, 0, 0, 0, 0, 0, 0, 0, 0, 0, 0, 0, 0,\n",
       "       0, 0, 0, 0, 0, 0, 0, 0, 0, 0, 0, 0, 0, 0, 0, 0, 0, 0, 0, 0, 0, 0,\n",
       "       0, 0, 0, 0, 0, 0, 0, 0, 0, 0, 1, 0, 0, 0, 0, 0, 0, 0, 0, 0, 0, 0,\n",
       "       0, 0, 0, 0, 0, 1, 0, 0, 0, 0, 0, 1, 0, 0, 0, 0, 0, 0, 0, 0, 0, 0,\n",
       "       0, 0, 0, 0, 0, 0, 0, 0, 0, 0, 0, 0, 0, 0, 0, 0, 0, 0, 0, 1, 0, 0,\n",
       "       0, 0, 0, 0, 1, 0, 0, 0, 0, 0, 0, 0, 0, 0, 0, 0, 0, 0, 0, 0, 0, 0,\n",
       "       0, 0, 0, 0, 0, 0, 0, 0, 0, 0, 0, 0, 0, 0, 0, 0, 0, 0, 0, 0, 0, 0,\n",
       "       0, 0, 0, 0, 0, 0, 0, 0, 0, 0, 0, 0, 0, 0, 0, 0])"
      ]
     },
     "execution_count": 74,
     "metadata": {},
     "output_type": "execute_result"
    }
   ],
   "source": [
    "y_pred"
   ]
  },
  {
   "cell_type": "code",
   "execution_count": 78,
   "id": "2e4ef383",
   "metadata": {},
   "outputs": [],
   "source": [
    "from sklearn.metrics import confusion_matrix  \n",
    "cm= confusion_matrix(y_test, y_pred)  "
   ]
  },
  {
   "cell_type": "code",
   "execution_count": 79,
   "id": "ecd98725",
   "metadata": {},
   "outputs": [
    {
     "data": {
      "text/plain": [
       "array([[165,   0],\n",
       "       [ 22,   5]], dtype=int64)"
      ]
     },
     "execution_count": 79,
     "metadata": {},
     "output_type": "execute_result"
    }
   ],
   "source": [
    "cm"
   ]
  },
  {
   "cell_type": "code",
   "execution_count": 92,
   "id": "1b151eb8",
   "metadata": {},
   "outputs": [
    {
     "data": {
      "text/plain": [
       "<AxesSubplot:>"
      ]
     },
     "execution_count": 92,
     "metadata": {},
     "output_type": "execute_result"
    },
    {
     "data": {
      "image/png": "[encoded data removed]",
      "text/plain": [
       "<Figure size 432x288 with 2 Axes>"
      ]
     },
     "metadata": {},
     "output_type": "display_data"
    }
   ],
   "source": [
    "sns.heatmap(cm, annot=True)"
   ]
  },
  {
   "cell_type": "code",
   "execution_count": 80,
   "id": "274d2772",
   "metadata": {},
   "outputs": [
    {
     "name": "stdout",
     "output_type": "stream",
     "text": [
      "              precision    recall  f1-score   support\n",
      "\n",
      "           0       0.88      1.00      0.94       165\n",
      "           1       1.00      0.19      0.31        27\n",
      "\n",
      "    accuracy                           0.89       192\n",
      "   macro avg       0.94      0.59      0.62       192\n",
      "weighted avg       0.90      0.89      0.85       192\n",
      "\n"
     ]
    }
   ],
   "source": [
    "from sklearn.metrics import classification_report\n",
    "print(classification_report(y_test, y_pred))"
   ]
  },
  {
   "cell_type": "code",
   "execution_count": 154,
   "id": "7c11af14",
   "metadata": {},
   "outputs": [
    {
     "data": {
      "text/plain": [
       "0.7872053872053871"
      ]
     },
     "execution_count": 154,
     "metadata": {},
     "output_type": "execute_result"
    }
   ],
   "source": [
    "from sklearn.metrics import roc_curve, auc\n",
    "false_positive_rate, true_positive_rate, thresholds = roc_curve(y_test, y_pred)\n",
    "roc_auc = auc(false_positive_rate, true_positive_rate)\n",
    "roc_auc"
   ]
  },
  {
   "cell_type": "code",
   "execution_count": 81,
   "id": "b4451d39",
   "metadata": {},
   "outputs": [
    {
     "data": {
      "text/plain": [
       "<sklearn.metrics._plot.roc_curve.RocCurveDisplay at 0x20a98d009a0>"
      ]
     },
     "execution_count": 81,
     "metadata": {},
     "output_type": "execute_result"
    },
    {
     "data": {
      "image/png": "[encoded data removed]",
      "text/plain": [
       "<Figure size 432x288 with 1 Axes>"
      ]
     },
     "metadata": {},
     "output_type": "display_data"
    }
   ],
   "source": [
    "from sklearn import metrics \n",
    "metrics.plot_roc_curve(classifier, X_test, y_test) "
   ]
  },
  {
   "cell_type": "markdown",
   "id": "cf235ed5",
   "metadata": {},
   "source": [
    "# Naive Bayes"
   ]
  },
  {
   "cell_type": "code",
   "execution_count": 82,
   "id": "03b2e01c",
   "metadata": {},
   "outputs": [
    {
     "data": {
      "text/plain": [
       "GaussianNB()"
      ]
     },
     "execution_count": 82,
     "metadata": {},
     "output_type": "execute_result"
    }
   ],
   "source": [
    "from sklearn.naive_bayes import GaussianNB  \n",
    "classifier = GaussianNB()  \n",
    "classifier.fit(X_train, y_train)  "
   ]
  },
  {
   "cell_type": "code",
   "execution_count": 83,
   "id": "5ce35c6d",
   "metadata": {},
   "outputs": [],
   "source": [
    "y_pred = classifier.predict(X_test)  "
   ]
  },
  {
   "cell_type": "code",
   "execution_count": 84,
   "id": "b7b286c5",
   "metadata": {},
   "outputs": [
    {
     "data": {
      "text/plain": [
       "array([1, 0, 0, 0, 0, 0, 0, 0, 0, 0, 1, 0, 0, 0, 1, 0, 1, 0, 0, 0, 0, 0,\n",
       "       0, 0, 0, 0, 0, 0, 0, 0, 0, 0, 0, 0, 0, 0, 0, 0, 0, 0, 0, 0, 0, 1,\n",
       "       0, 0, 0, 0, 0, 0, 0, 0, 0, 0, 0, 0, 0, 1, 0, 0, 0, 0, 0, 0, 0, 0,\n",
       "       0, 0, 1, 0, 0, 0, 0, 0, 1, 1, 1, 0, 0, 0, 0, 0, 0, 0, 0, 0, 0, 1,\n",
       "       0, 0, 0, 0, 0, 1, 0, 0, 0, 0, 0, 1, 0, 0, 0, 0, 0, 1, 0, 0, 1, 0,\n",
       "       0, 0, 0, 1, 0, 0, 0, 1, 0, 0, 0, 0, 0, 0, 0, 0, 1, 0, 1, 1, 0, 1,\n",
       "       0, 0, 0, 0, 1, 0, 0, 0, 0, 0, 1, 0, 0, 0, 1, 0, 0, 0, 0, 0, 0, 0,\n",
       "       0, 0, 0, 0, 0, 1, 0, 1, 0, 0, 0, 0, 0, 0, 0, 0, 0, 0, 1, 1, 0, 0,\n",
       "       1, 1, 0, 0, 0, 0, 0, 0, 0, 0, 1, 1, 0, 1, 1, 0])"
      ]
     },
     "execution_count": 84,
     "metadata": {},
     "output_type": "execute_result"
    }
   ],
   "source": [
    "y_pred"
   ]
  },
  {
   "cell_type": "code",
   "execution_count": 85,
   "id": "c36e722b",
   "metadata": {},
   "outputs": [],
   "source": [
    "from sklearn.metrics import confusion_matrix  \n",
    "cm = confusion_matrix(y_test, y_pred)  "
   ]
  },
  {
   "cell_type": "code",
   "execution_count": 86,
   "id": "fea2acd1",
   "metadata": {},
   "outputs": [
    {
     "data": {
      "text/plain": [
       "array([[152,  13],\n",
       "       [  6,  21]], dtype=int64)"
      ]
     },
     "execution_count": 86,
     "metadata": {},
     "output_type": "execute_result"
    }
   ],
   "source": [
    "cm"
   ]
  },
  {
   "cell_type": "code",
   "execution_count": 93,
   "id": "4401ea12",
   "metadata": {},
   "outputs": [
    {
     "data": {
      "text/plain": [
       "<AxesSubplot:>"
      ]
     },
     "execution_count": 93,
     "metadata": {},
     "output_type": "execute_result"
    },
    {
     "data": {
      "image/png": "[encoded data removed]",
      "text/plain": [
       "<Figure size 432x288 with 2 Axes>"
      ]
     },
     "metadata": {},
     "output_type": "display_data"
    }
   ],
   "source": [
    "sns.heatmap(cm, annot=True)"
   ]
  },
  {
   "cell_type": "code",
   "execution_count": 87,
   "id": "12583fac",
   "metadata": {},
   "outputs": [
    {
     "name": "stdout",
     "output_type": "stream",
     "text": [
      "              precision    recall  f1-score   support\n",
      "\n",
      "           0       0.96      0.92      0.94       165\n",
      "           1       0.62      0.78      0.69        27\n",
      "\n",
      "    accuracy                           0.90       192\n",
      "   macro avg       0.79      0.85      0.81       192\n",
      "weighted avg       0.91      0.90      0.91       192\n",
      "\n"
     ]
    }
   ],
   "source": [
    "from sklearn.metrics import classification_report\n",
    "print(classification_report(y_test, y_pred))"
   ]
  },
  {
   "cell_type": "code",
   "execution_count": 155,
   "id": "5628a372",
   "metadata": {},
   "outputs": [
    {
     "data": {
      "text/plain": [
       "0.7872053872053871"
      ]
     },
     "execution_count": 155,
     "metadata": {},
     "output_type": "execute_result"
    }
   ],
   "source": [
    "from sklearn.metrics import roc_curve, auc\n",
    "false_positive_rate, true_positive_rate, thresholds = roc_curve(y_test, y_pred)\n",
    "roc_auc = auc(false_positive_rate, true_positive_rate)\n",
    "roc_auc"
   ]
  },
  {
   "cell_type": "code",
   "execution_count": 88,
   "id": "692e2249",
   "metadata": {},
   "outputs": [
    {
     "data": {
      "text/plain": [
       "<sklearn.metrics._plot.roc_curve.RocCurveDisplay at 0x20aa17cf1c0>"
      ]
     },
     "execution_count": 88,
     "metadata": {},
     "output_type": "execute_result"
    },
    {
     "data": {
      "image/png": "[encoded data removed]",
      "text/plain": [
       "<Figure size 432x288 with 1 Axes>"
      ]
     },
     "metadata": {},
     "output_type": "display_data"
    }
   ],
   "source": [
    "from sklearn import metrics \n",
    "metrics.plot_roc_curve(classifier, X_test, y_test) "
   ]
  },
  {
   "cell_type": "markdown",
   "id": "4b40871b",
   "metadata": {},
   "source": [
    "# KNN neighbors"
   ]
  },
  {
   "cell_type": "code",
   "execution_count": 105,
   "id": "1f581e11",
   "metadata": {},
   "outputs": [
    {
     "data": {
      "text/plain": [
       "KNeighborsClassifier()"
      ]
     },
     "execution_count": 105,
     "metadata": {},
     "output_type": "execute_result"
    }
   ],
   "source": [
    "from sklearn.neighbors import KNeighborsClassifier  \n",
    "classifier= KNeighborsClassifier(n_neighbors=5, metric='minkowski', p=2 )  \n",
    "classifier.fit(X_train, y_train)  "
   ]
  },
  {
   "cell_type": "code",
   "execution_count": 106,
   "id": "ab9f91c0",
   "metadata": {},
   "outputs": [],
   "source": [
    "y_pred= classifier.predict(X_test)  "
   ]
  },
  {
   "cell_type": "code",
   "execution_count": 107,
   "id": "36cdd1e5",
   "metadata": {},
   "outputs": [
    {
     "data": {
      "text/plain": [
       "array([0, 0, 0, 0, 0, 0, 0, 0, 0, 0, 1, 0, 0, 0, 1, 0, 0, 0, 0, 0, 0, 0,\n",
       "       0, 0, 0, 0, 0, 0, 0, 0, 0, 0, 0, 0, 0, 0, 0, 0, 0, 0, 0, 0, 0, 1,\n",
       "       0, 0, 0, 0, 0, 0, 0, 0, 0, 0, 0, 0, 0, 1, 0, 0, 0, 0, 0, 0, 0, 0,\n",
       "       0, 0, 1, 0, 0, 0, 0, 0, 1, 1, 1, 0, 0, 0, 0, 0, 0, 0, 0, 0, 0, 0,\n",
       "       0, 0, 0, 0, 0, 1, 0, 0, 0, 0, 0, 1, 0, 0, 0, 0, 0, 0, 0, 0, 0, 0,\n",
       "       0, 0, 0, 0, 0, 0, 0, 0, 0, 0, 0, 0, 0, 0, 0, 0, 0, 0, 0, 1, 0, 0,\n",
       "       0, 0, 0, 0, 1, 0, 0, 0, 0, 0, 1, 0, 0, 0, 0, 0, 0, 0, 0, 0, 0, 0,\n",
       "       0, 0, 0, 0, 0, 1, 0, 1, 0, 0, 0, 0, 0, 0, 0, 0, 0, 0, 1, 1, 0, 0,\n",
       "       0, 1, 0, 0, 0, 0, 0, 0, 0, 0, 0, 0, 0, 0, 0, 0])"
      ]
     },
     "execution_count": 107,
     "metadata": {},
     "output_type": "execute_result"
    }
   ],
   "source": [
    "y_pred"
   ]
  },
  {
   "cell_type": "code",
   "execution_count": 108,
   "id": "43da7642",
   "metadata": {},
   "outputs": [],
   "source": [
    "from sklearn.metrics import confusion_matrix  \n",
    "cm= confusion_matrix(y_test, y_pred)  "
   ]
  },
  {
   "cell_type": "code",
   "execution_count": 109,
   "id": "d8afba7a",
   "metadata": {},
   "outputs": [
    {
     "data": {
      "text/plain": [
       "array([[164,   1],\n",
       "       [ 10,  17]], dtype=int64)"
      ]
     },
     "execution_count": 109,
     "metadata": {},
     "output_type": "execute_result"
    }
   ],
   "source": [
    "cm"
   ]
  },
  {
   "cell_type": "code",
   "execution_count": 110,
   "id": "9dd500a0",
   "metadata": {},
   "outputs": [
    {
     "data": {
      "text/plain": [
       "<AxesSubplot:>"
      ]
     },
     "execution_count": 110,
     "metadata": {},
     "output_type": "execute_result"
    },
    {
     "data": {
      "image/png": "[encoded data removed]",
      "text/plain": [
       "<Figure size 432x288 with 2 Axes>"
      ]
     },
     "metadata": {},
     "output_type": "display_data"
    }
   ],
   "source": [
    "sns.heatmap(cm, annot=True)"
   ]
  },
  {
   "cell_type": "code",
   "execution_count": 111,
   "id": "a3d7e0f1",
   "metadata": {},
   "outputs": [
    {
     "name": "stdout",
     "output_type": "stream",
     "text": [
      "              precision    recall  f1-score   support\n",
      "\n",
      "           0       0.94      0.99      0.97       165\n",
      "           1       0.94      0.63      0.76        27\n",
      "\n",
      "    accuracy                           0.94       192\n",
      "   macro avg       0.94      0.81      0.86       192\n",
      "weighted avg       0.94      0.94      0.94       192\n",
      "\n"
     ]
    }
   ],
   "source": [
    "from sklearn.metrics import classification_report\n",
    "print(classification_report(y_test, y_pred))"
   ]
  },
  {
   "cell_type": "code",
   "execution_count": 156,
   "id": "60790cd9",
   "metadata": {},
   "outputs": [
    {
     "data": {
      "text/plain": [
       "0.7872053872053871"
      ]
     },
     "execution_count": 156,
     "metadata": {},
     "output_type": "execute_result"
    }
   ],
   "source": [
    "from sklearn.metrics import roc_curve, auc\n",
    "false_positive_rate, true_positive_rate, thresholds = roc_curve(y_test, y_pred)\n",
    "roc_auc = auc(false_positive_rate, true_positive_rate)\n",
    "roc_auc"
   ]
  },
  {
   "cell_type": "code",
   "execution_count": 112,
   "id": "01fb6294",
   "metadata": {},
   "outputs": [
    {
     "data": {
      "text/plain": [
       "<sklearn.metrics._plot.roc_curve.RocCurveDisplay at 0x20aa18f1a60>"
      ]
     },
     "execution_count": 112,
     "metadata": {},
     "output_type": "execute_result"
    },
    {
     "data": {
      "image/png": "[encoded data removed]",
      "text/plain": [
       "<Figure size 432x288 with 1 Axes>"
      ]
     },
     "metadata": {},
     "output_type": "display_data"
    }
   ],
   "source": [
    "from sklearn import metrics \n",
    "metrics.plot_roc_curve(classifier, X_test, y_test)"
   ]
  },
  {
   "cell_type": "markdown",
   "id": "d1f4c1c0",
   "metadata": {},
   "source": [
    "# Support Vectors Classification "
   ]
  },
  {
   "cell_type": "code",
   "execution_count": 113,
   "id": "64070532",
   "metadata": {},
   "outputs": [
    {
     "data": {
      "text/plain": [
       "SVC(kernel='linear', random_state=42)"
      ]
     },
     "execution_count": 113,
     "metadata": {},
     "output_type": "execute_result"
    }
   ],
   "source": [
    "from sklearn.svm import SVC \n",
    "classifier = SVC(kernel='linear', random_state=42)  \n",
    "classifier.fit(X_train, y_train)  "
   ]
  },
  {
   "cell_type": "code",
   "execution_count": 114,
   "id": "0e8e3bf5",
   "metadata": {},
   "outputs": [],
   "source": [
    "y_pred= classifier.predict(X_test)  "
   ]
  },
  {
   "cell_type": "code",
   "execution_count": 116,
   "id": "2938eaa7",
   "metadata": {},
   "outputs": [
    {
     "data": {
      "text/plain": [
       "array([0, 0, 0, 0, 0, 0, 0, 0, 0, 0, 1, 0, 0, 0, 1, 0, 0, 0, 0, 0, 0, 0,\n",
       "       0, 0, 0, 0, 0, 0, 0, 0, 0, 0, 0, 0, 0, 0, 0, 0, 0, 0, 0, 0, 0, 1,\n",
       "       0, 0, 0, 0, 0, 0, 0, 0, 0, 0, 0, 0, 0, 0, 0, 0, 0, 0, 0, 0, 0, 0,\n",
       "       0, 0, 0, 0, 0, 0, 0, 0, 1, 1, 1, 0, 0, 0, 0, 0, 0, 0, 0, 0, 0, 0,\n",
       "       0, 0, 0, 0, 0, 1, 0, 0, 0, 0, 0, 1, 0, 0, 0, 0, 0, 0, 0, 0, 0, 0,\n",
       "       0, 0, 0, 0, 0, 0, 0, 0, 0, 0, 0, 0, 0, 0, 0, 0, 0, 0, 0, 1, 0, 0,\n",
       "       0, 0, 0, 0, 1, 0, 0, 0, 0, 0, 1, 0, 0, 0, 0, 0, 0, 0, 0, 0, 0, 0,\n",
       "       0, 0, 0, 0, 0, 1, 0, 1, 0, 0, 0, 0, 0, 0, 0, 0, 0, 0, 1, 1, 0, 0,\n",
       "       0, 1, 0, 0, 0, 0, 0, 0, 0, 0, 0, 0, 0, 0, 0, 0])"
      ]
     },
     "execution_count": 116,
     "metadata": {},
     "output_type": "execute_result"
    }
   ],
   "source": [
    "y_pred"
   ]
  },
  {
   "cell_type": "code",
   "execution_count": 117,
   "id": "4c758f31",
   "metadata": {},
   "outputs": [],
   "source": [
    "from sklearn.metrics import confusion_matrix  \n",
    "cm= confusion_matrix(y_test, y_pred)  "
   ]
  },
  {
   "cell_type": "code",
   "execution_count": 118,
   "id": "c34bf976",
   "metadata": {},
   "outputs": [
    {
     "data": {
      "text/plain": [
       "array([[165,   0],\n",
       "       [ 11,  16]], dtype=int64)"
      ]
     },
     "execution_count": 118,
     "metadata": {},
     "output_type": "execute_result"
    }
   ],
   "source": [
    "cm\n"
   ]
  },
  {
   "cell_type": "code",
   "execution_count": 119,
   "id": "1439ebe4",
   "metadata": {},
   "outputs": [
    {
     "data": {
      "text/plain": [
       "<AxesSubplot:>"
      ]
     },
     "execution_count": 119,
     "metadata": {},
     "output_type": "execute_result"
    },
    {
     "data": {
      "image/png": "[encoded data removed]",
      "text/plain": [
       "<Figure size 432x288 with 2 Axes>"
      ]
     },
     "metadata": {},
     "output_type": "display_data"
    }
   ],
   "source": [
    "sns.heatmap(cm, annot=True)"
   ]
  },
  {
   "cell_type": "code",
   "execution_count": 120,
   "id": "a4212d36",
   "metadata": {},
   "outputs": [
    {
     "name": "stdout",
     "output_type": "stream",
     "text": [
      "              precision    recall  f1-score   support\n",
      "\n",
      "           0       0.94      1.00      0.97       165\n",
      "           1       1.00      0.59      0.74        27\n",
      "\n",
      "    accuracy                           0.94       192\n",
      "   macro avg       0.97      0.80      0.86       192\n",
      "weighted avg       0.95      0.94      0.94       192\n",
      "\n"
     ]
    }
   ],
   "source": [
    "from sklearn.metrics import classification_report\n",
    "print(classification_report(y_test, y_pred))"
   ]
  },
  {
   "cell_type": "code",
   "execution_count": 157,
   "id": "a594de7c",
   "metadata": {},
   "outputs": [
    {
     "data": {
      "text/plain": [
       "0.7872053872053871"
      ]
     },
     "execution_count": 157,
     "metadata": {},
     "output_type": "execute_result"
    }
   ],
   "source": [
    "from sklearn.metrics import roc_curve, auc\n",
    "false_positive_rate, true_positive_rate, thresholds = roc_curve(y_test, y_pred)\n",
    "roc_auc = auc(false_positive_rate, true_positive_rate)\n",
    "roc_auc"
   ]
  },
  {
   "cell_type": "code",
   "execution_count": 121,
   "id": "1d4a4a6d",
   "metadata": {},
   "outputs": [
    {
     "data": {
      "text/plain": [
       "<sklearn.metrics._plot.roc_curve.RocCurveDisplay at 0x20aa1e74790>"
      ]
     },
     "execution_count": 121,
     "metadata": {},
     "output_type": "execute_result"
    },
    {
     "data": {
      "image/png": "[encoded data removed]",
      "text/plain": [
       "<Figure size 432x288 with 1 Axes>"
      ]
     },
     "metadata": {},
     "output_type": "display_data"
    }
   ],
   "source": [
    "from sklearn import metrics \n",
    "metrics.plot_roc_curve(classifier, X_test, y_test)"
   ]
  },
  {
   "cell_type": "code",
   "execution_count": 124,
   "id": "b94b2701",
   "metadata": {},
   "outputs": [
    {
     "data": {
      "text/plain": [
       "SVC(kernel='sigmoid', random_state=42)"
      ]
     },
     "execution_count": 124,
     "metadata": {},
     "output_type": "execute_result"
    }
   ],
   "source": [
    "from sklearn.svm import SVC \n",
    "classifier = SVC(kernel='sigmoid', random_state=42)  \n",
    "classifier.fit(X_train, y_train)  "
   ]
  },
  {
   "cell_type": "code",
   "execution_count": 125,
   "id": "05c0fefa",
   "metadata": {},
   "outputs": [],
   "source": [
    "y_pred= classifier.predict(X_test)  "
   ]
  },
  {
   "cell_type": "code",
   "execution_count": 126,
   "id": "78fc4ff7",
   "metadata": {},
   "outputs": [
    {
     "data": {
      "text/plain": [
       "array([0, 0, 0, 0, 0, 0, 0, 0, 0, 0, 1, 0, 0, 0, 1, 0, 0, 0, 0, 0, 0, 0,\n",
       "       0, 0, 0, 0, 0, 0, 0, 0, 0, 0, 0, 0, 0, 0, 0, 0, 0, 0, 0, 0, 0, 1,\n",
       "       0, 0, 0, 0, 0, 0, 0, 0, 0, 0, 0, 0, 0, 0, 0, 0, 0, 0, 0, 0, 0, 0,\n",
       "       0, 0, 0, 0, 0, 0, 0, 0, 1, 1, 1, 0, 0, 0, 0, 0, 0, 0, 0, 0, 0, 0,\n",
       "       0, 0, 0, 0, 0, 1, 0, 0, 0, 0, 0, 1, 0, 0, 0, 0, 0, 0, 0, 0, 0, 0,\n",
       "       0, 0, 0, 0, 0, 0, 0, 0, 0, 0, 0, 0, 0, 0, 0, 0, 0, 0, 0, 1, 0, 0,\n",
       "       0, 0, 0, 0, 1, 0, 0, 0, 0, 0, 1, 0, 0, 0, 0, 0, 0, 0, 0, 0, 0, 0,\n",
       "       0, 0, 0, 0, 0, 1, 0, 1, 0, 0, 0, 0, 0, 0, 0, 0, 0, 0, 1, 1, 0, 0,\n",
       "       0, 1, 0, 0, 0, 0, 0, 0, 0, 0, 0, 0, 0, 0, 0, 0])"
      ]
     },
     "execution_count": 126,
     "metadata": {},
     "output_type": "execute_result"
    }
   ],
   "source": [
    "y_pred"
   ]
  },
  {
   "cell_type": "code",
   "execution_count": 127,
   "id": "f6c9b510",
   "metadata": {},
   "outputs": [],
   "source": [
    "from sklearn.metrics import confusion_matrix  \n",
    "cm= confusion_matrix(y_test, y_pred) "
   ]
  },
  {
   "cell_type": "code",
   "execution_count": 128,
   "id": "fbd37f52",
   "metadata": {},
   "outputs": [
    {
     "data": {
      "text/plain": [
       "array([[165,   0],\n",
       "       [ 11,  16]], dtype=int64)"
      ]
     },
     "execution_count": 128,
     "metadata": {},
     "output_type": "execute_result"
    }
   ],
   "source": [
    "cm"
   ]
  },
  {
   "cell_type": "code",
   "execution_count": 129,
   "id": "02a0d764",
   "metadata": {},
   "outputs": [
    {
     "data": {
      "text/plain": [
       "<AxesSubplot:>"
      ]
     },
     "execution_count": 129,
     "metadata": {},
     "output_type": "execute_result"
    },
    {
     "data": {
      "image/png": "[encoded data removed]",
      "text/plain": [
       "<Figure size 432x288 with 2 Axes>"
      ]
     },
     "metadata": {},
     "output_type": "display_data"
    }
   ],
   "source": [
    "sns.heatmap(cm, annot=True)"
   ]
  },
  {
   "cell_type": "code",
   "execution_count": 130,
   "id": "7cd855c4",
   "metadata": {},
   "outputs": [
    {
     "name": "stdout",
     "output_type": "stream",
     "text": [
      "              precision    recall  f1-score   support\n",
      "\n",
      "           0       0.94      1.00      0.97       165\n",
      "           1       1.00      0.59      0.74        27\n",
      "\n",
      "    accuracy                           0.94       192\n",
      "   macro avg       0.97      0.80      0.86       192\n",
      "weighted avg       0.95      0.94      0.94       192\n",
      "\n"
     ]
    }
   ],
   "source": [
    "from sklearn.metrics import classification_report\n",
    "print(classification_report(y_test, y_pred))"
   ]
  },
  {
   "cell_type": "code",
   "execution_count": 158,
   "id": "d1d85c4a",
   "metadata": {},
   "outputs": [
    {
     "data": {
      "text/plain": [
       "0.7872053872053871"
      ]
     },
     "execution_count": 158,
     "metadata": {},
     "output_type": "execute_result"
    }
   ],
   "source": [
    "from sklearn.metrics import roc_curve, auc\n",
    "false_positive_rate, true_positive_rate, thresholds = roc_curve(y_test, y_pred)\n",
    "roc_auc = auc(false_positive_rate, true_positive_rate)\n",
    "roc_auc"
   ]
  },
  {
   "cell_type": "code",
   "execution_count": 131,
   "id": "7aebd9bf",
   "metadata": {},
   "outputs": [
    {
     "data": {
      "text/plain": [
       "<sklearn.metrics._plot.roc_curve.RocCurveDisplay at 0x20aa4497f10>"
      ]
     },
     "execution_count": 131,
     "metadata": {},
     "output_type": "execute_result"
    },
    {
     "data": {
      "image/png": "[encoded data removed]",
      "text/plain": [
       "<Figure size 432x288 with 1 Axes>"
      ]
     },
     "metadata": {},
     "output_type": "display_data"
    }
   ],
   "source": [
    "from sklearn import metrics \n",
    "metrics.plot_roc_curve(classifier, X_test, y_test)"
   ]
  },
  {
   "cell_type": "code",
   "execution_count": 132,
   "id": "7329701f",
   "metadata": {},
   "outputs": [
    {
     "data": {
      "text/plain": [
       "SVC(random_state=42)"
      ]
     },
     "execution_count": 132,
     "metadata": {},
     "output_type": "execute_result"
    }
   ],
   "source": [
    "from sklearn.svm import SVC \n",
    "classifier = SVC(kernel='rbf', random_state=42)  \n",
    "classifier.fit(X_train, y_train)  "
   ]
  },
  {
   "cell_type": "code",
   "execution_count": 133,
   "id": "b025d5f5",
   "metadata": {},
   "outputs": [],
   "source": [
    "y_pred= classifier.predict(X_test)  "
   ]
  },
  {
   "cell_type": "code",
   "execution_count": 134,
   "id": "d6c41362",
   "metadata": {},
   "outputs": [
    {
     "data": {
      "text/plain": [
       "array([0, 0, 0, 0, 0, 0, 0, 0, 0, 0, 1, 0, 0, 0, 1, 0, 0, 0, 0, 0, 0, 0,\n",
       "       0, 0, 0, 0, 0, 0, 0, 0, 0, 0, 0, 0, 0, 0, 0, 0, 0, 0, 0, 0, 0, 1,\n",
       "       0, 0, 0, 0, 0, 0, 0, 0, 0, 0, 0, 0, 0, 0, 0, 0, 0, 0, 0, 0, 0, 0,\n",
       "       0, 0, 0, 0, 0, 0, 0, 0, 0, 0, 1, 0, 0, 0, 0, 0, 0, 0, 0, 0, 0, 0,\n",
       "       0, 0, 0, 0, 0, 1, 0, 0, 0, 0, 0, 1, 0, 0, 0, 0, 0, 0, 0, 0, 0, 0,\n",
       "       0, 0, 0, 0, 0, 0, 0, 0, 0, 0, 0, 0, 0, 0, 0, 0, 0, 0, 0, 1, 0, 0,\n",
       "       0, 0, 0, 0, 1, 0, 0, 0, 0, 0, 0, 0, 0, 0, 0, 0, 0, 0, 0, 0, 0, 0,\n",
       "       0, 0, 0, 0, 0, 0, 0, 0, 0, 0, 0, 0, 0, 0, 0, 0, 0, 0, 0, 1, 0, 0,\n",
       "       0, 1, 0, 0, 0, 0, 0, 0, 0, 0, 0, 0, 0, 0, 0, 0])"
      ]
     },
     "execution_count": 134,
     "metadata": {},
     "output_type": "execute_result"
    }
   ],
   "source": [
    "y_pred"
   ]
  },
  {
   "cell_type": "code",
   "execution_count": 135,
   "id": "1ed9e5c8",
   "metadata": {},
   "outputs": [],
   "source": [
    "from sklearn.metrics import confusion_matrix  \n",
    "cm= confusion_matrix(y_test, y_pred) "
   ]
  },
  {
   "cell_type": "code",
   "execution_count": 136,
   "id": "65f51b4f",
   "metadata": {},
   "outputs": [
    {
     "data": {
      "text/plain": [
       "array([[165,   0],\n",
       "       [ 17,  10]], dtype=int64)"
      ]
     },
     "execution_count": 136,
     "metadata": {},
     "output_type": "execute_result"
    }
   ],
   "source": [
    "cm"
   ]
  },
  {
   "cell_type": "code",
   "execution_count": 137,
   "id": "402b5b19",
   "metadata": {},
   "outputs": [
    {
     "data": {
      "text/plain": [
       "<AxesSubplot:>"
      ]
     },
     "execution_count": 137,
     "metadata": {},
     "output_type": "execute_result"
    },
    {
     "data": {
      "image/png": "[encoded data removed]",
      "text/plain": [
       "<Figure size 432x288 with 2 Axes>"
      ]
     },
     "metadata": {},
     "output_type": "display_data"
    }
   ],
   "source": [
    "sns.heatmap(cm, annot=True)"
   ]
  },
  {
   "cell_type": "code",
   "execution_count": 138,
   "id": "46bee21c",
   "metadata": {},
   "outputs": [
    {
     "name": "stdout",
     "output_type": "stream",
     "text": [
      "              precision    recall  f1-score   support\n",
      "\n",
      "           0       0.91      1.00      0.95       165\n",
      "           1       1.00      0.37      0.54        27\n",
      "\n",
      "    accuracy                           0.91       192\n",
      "   macro avg       0.95      0.69      0.75       192\n",
      "weighted avg       0.92      0.91      0.89       192\n",
      "\n"
     ]
    }
   ],
   "source": [
    "from sklearn.metrics import classification_report\n",
    "print(classification_report(y_test, y_pred))"
   ]
  },
  {
   "cell_type": "code",
   "execution_count": 159,
   "id": "d78fbe60",
   "metadata": {},
   "outputs": [
    {
     "data": {
      "text/plain": [
       "0.7872053872053871"
      ]
     },
     "execution_count": 159,
     "metadata": {},
     "output_type": "execute_result"
    }
   ],
   "source": [
    "from sklearn.metrics import roc_curve, auc\n",
    "false_positive_rate, true_positive_rate, thresholds = roc_curve(y_test, y_pred)\n",
    "roc_auc = auc(false_positive_rate, true_positive_rate)\n",
    "roc_auc"
   ]
  },
  {
   "cell_type": "code",
   "execution_count": 144,
   "id": "91ba9704",
   "metadata": {},
   "outputs": [
    {
     "data": {
      "text/plain": [
       "<sklearn.metrics._plot.roc_curve.RocCurveDisplay at 0x20aa557b3a0>"
      ]
     },
     "execution_count": 144,
     "metadata": {},
     "output_type": "execute_result"
    },
    {
     "data": {
      "image/png": "[encoded data removed]",
      "text/plain": [
       "<Figure size 432x288 with 1 Axes>"
      ]
     },
     "metadata": {},
     "output_type": "display_data"
    }
   ],
   "source": [
    "from sklearn import metrics \n",
    "metrics.plot_roc_curve(classifier, X_test, y_test)"
   ]
  },
  {
   "cell_type": "code",
   "execution_count": 139,
   "id": "4f79ead1",
   "metadata": {},
   "outputs": [
    {
     "data": {
      "text/plain": [
       "SVC(kernel='poly', random_state=42)"
      ]
     },
     "execution_count": 139,
     "metadata": {},
     "output_type": "execute_result"
    }
   ],
   "source": [
    "from sklearn.svm import SVC \n",
    "classifier = SVC(kernel='poly', random_state=42)  \n",
    "classifier.fit(X_train, y_train) "
   ]
  },
  {
   "cell_type": "code",
   "execution_count": 140,
   "id": "6cc11d91",
   "metadata": {},
   "outputs": [
    {
     "data": {
      "text/plain": [
       "array([0, 0, 0, 0, 0, 0, 0, 0, 0, 0, 0, 0, 0, 0, 0, 0, 0, 0, 0, 0, 0, 0,\n",
       "       0, 0, 0, 0, 0, 0, 0, 0, 0, 0, 0, 0, 0, 0, 0, 0, 0, 0, 0, 0, 0, 0,\n",
       "       0, 0, 0, 0, 0, 0, 0, 0, 0, 0, 0, 0, 0, 0, 0, 0, 0, 0, 0, 0, 0, 0,\n",
       "       0, 0, 0, 0, 0, 0, 0, 0, 0, 0, 0, 0, 0, 0, 0, 0, 0, 0, 0, 0, 0, 0,\n",
       "       0, 0, 0, 0, 0, 0, 0, 0, 0, 0, 0, 1, 0, 0, 0, 0, 0, 0, 0, 0, 0, 0,\n",
       "       0, 0, 0, 0, 0, 0, 0, 0, 0, 0, 0, 0, 0, 0, 0, 0, 0, 0, 0, 0, 0, 0,\n",
       "       0, 0, 0, 0, 1, 0, 0, 0, 0, 0, 0, 0, 0, 0, 0, 0, 0, 0, 0, 0, 0, 0,\n",
       "       0, 0, 0, 0, 0, 0, 0, 0, 0, 0, 0, 0, 0, 0, 0, 0, 0, 0, 0, 0, 0, 0,\n",
       "       0, 0, 0, 0, 0, 0, 0, 0, 0, 0, 0, 0, 0, 0, 0, 0])"
      ]
     },
     "execution_count": 140,
     "metadata": {},
     "output_type": "execute_result"
    }
   ],
   "source": [
    "y_pred= classifier.predict(X_test) \n",
    "y_pred"
   ]
  },
  {
   "cell_type": "code",
   "execution_count": 141,
   "id": "e3fade6c",
   "metadata": {},
   "outputs": [
    {
     "data": {
      "text/plain": [
       "array([[165,   0],\n",
       "       [ 25,   2]], dtype=int64)"
      ]
     },
     "execution_count": 141,
     "metadata": {},
     "output_type": "execute_result"
    }
   ],
   "source": [
    "from sklearn.metrics import confusion_matrix  \n",
    "cm= confusion_matrix(y_test, y_pred) \n",
    "cm"
   ]
  },
  {
   "cell_type": "code",
   "execution_count": 142,
   "id": "1b61bd91",
   "metadata": {},
   "outputs": [
    {
     "data": {
      "text/plain": [
       "<AxesSubplot:>"
      ]
     },
     "execution_count": 142,
     "metadata": {},
     "output_type": "execute_result"
    },
    {
     "data": {
      "image/png": "[encoded data removed]",
      "text/plain": [
       "<Figure size 432x288 with 2 Axes>"
      ]
     },
     "metadata": {},
     "output_type": "display_data"
    }
   ],
   "source": [
    "sns.heatmap(cm, annot=True)"
   ]
  },
  {
   "cell_type": "code",
   "execution_count": 143,
   "id": "9306ea43",
   "metadata": {},
   "outputs": [
    {
     "name": "stdout",
     "output_type": "stream",
     "text": [
      "              precision    recall  f1-score   support\n",
      "\n",
      "           0       0.87      1.00      0.93       165\n",
      "           1       1.00      0.07      0.14        27\n",
      "\n",
      "    accuracy                           0.87       192\n",
      "   macro avg       0.93      0.54      0.53       192\n",
      "weighted avg       0.89      0.87      0.82       192\n",
      "\n"
     ]
    }
   ],
   "source": [
    "from sklearn.metrics import classification_report\n",
    "print(classification_report(y_test, y_pred))"
   ]
  },
  {
   "cell_type": "code",
   "execution_count": 160,
   "id": "db38b517",
   "metadata": {},
   "outputs": [
    {
     "data": {
      "text/plain": [
       "0.7872053872053871"
      ]
     },
     "execution_count": 160,
     "metadata": {},
     "output_type": "execute_result"
    }
   ],
   "source": [
    "from sklearn.metrics import roc_curve, auc\n",
    "false_positive_rate, true_positive_rate, thresholds = roc_curve(y_test, y_pred)\n",
    "roc_auc = auc(false_positive_rate, true_positive_rate)\n",
    "roc_auc"
   ]
  },
  {
   "cell_type": "code",
   "execution_count": 145,
   "id": "0650f0c5",
   "metadata": {},
   "outputs": [
    {
     "data": {
      "text/plain": [
       "<sklearn.metrics._plot.roc_curve.RocCurveDisplay at 0x20aa44f6f10>"
      ]
     },
     "execution_count": 145,
     "metadata": {},
     "output_type": "execute_result"
    },
    {
     "data": {
      "image/png": "[encoded data removed]",
      "text/plain": [
       "<Figure size 432x288 with 1 Axes>"
      ]
     },
     "metadata": {},
     "output_type": "display_data"
    }
   ],
   "source": [
    "from sklearn import metrics \n",
    "metrics.plot_roc_curve(classifier, X_test, y_test)"
   ]
  },
  {
   "cell_type": "markdown",
   "id": "cef8b3a6",
   "metadata": {},
   "source": [
    "# Decision Tree "
   ]
  },
  {
   "cell_type": "code",
   "execution_count": 147,
   "id": "1e3dcc7e",
   "metadata": {},
   "outputs": [
    {
     "data": {
      "text/plain": [
       "DecisionTreeClassifier(criterion='entropy', random_state=42)"
      ]
     },
     "execution_count": 147,
     "metadata": {},
     "output_type": "execute_result"
    }
   ],
   "source": [
    "from sklearn.tree import DecisionTreeClassifier  \n",
    "classifier= DecisionTreeClassifier(criterion='entropy', random_state=42)  \n",
    "classifier.fit(X_train, y_train)  "
   ]
  },
  {
   "cell_type": "code",
   "execution_count": 149,
   "id": "61fe4861",
   "metadata": {},
   "outputs": [
    {
     "data": {
      "text/plain": [
       "array([0, 0, 0, 0, 0, 1, 0, 0, 0, 0, 1, 0, 0, 0, 1, 0, 0, 0, 0, 0, 0, 0,\n",
       "       0, 0, 0, 0, 0, 0, 0, 0, 0, 0, 0, 0, 0, 0, 0, 0, 0, 0, 0, 0, 0, 1,\n",
       "       0, 0, 0, 0, 0, 0, 0, 0, 0, 0, 0, 0, 0, 0, 0, 0, 0, 0, 0, 0, 0, 0,\n",
       "       0, 0, 1, 0, 0, 0, 0, 0, 1, 0, 1, 0, 0, 0, 0, 0, 0, 0, 0, 0, 0, 0,\n",
       "       0, 0, 0, 0, 0, 1, 0, 0, 0, 0, 0, 1, 0, 0, 1, 0, 0, 0, 0, 0, 0, 0,\n",
       "       0, 0, 1, 0, 0, 0, 0, 0, 0, 0, 0, 0, 0, 0, 0, 0, 0, 0, 0, 1, 0, 0,\n",
       "       0, 0, 0, 0, 1, 0, 0, 0, 0, 0, 0, 0, 0, 0, 0, 0, 0, 0, 0, 0, 0, 0,\n",
       "       0, 0, 0, 0, 0, 0, 0, 1, 0, 0, 1, 0, 0, 0, 0, 0, 0, 0, 1, 1, 0, 0,\n",
       "       0, 1, 0, 0, 0, 0, 0, 0, 0, 0, 1, 0, 0, 0, 0, 0])"
      ]
     },
     "execution_count": 149,
     "metadata": {},
     "output_type": "execute_result"
    }
   ],
   "source": [
    "y_pred= classifier.predict(X_test)  \n",
    "y_pred"
   ]
  },
  {
   "cell_type": "code",
   "execution_count": 150,
   "id": "c5d3d899",
   "metadata": {},
   "outputs": [
    {
     "data": {
      "text/plain": [
       "array([[162,   3],\n",
       "       [ 11,  16]], dtype=int64)"
      ]
     },
     "execution_count": 150,
     "metadata": {},
     "output_type": "execute_result"
    }
   ],
   "source": [
    "from sklearn.metrics import confusion_matrix  \n",
    "cm= confusion_matrix(y_test, y_pred)  \n",
    "cm"
   ]
  },
  {
   "cell_type": "code",
   "execution_count": 151,
   "id": "c80e47e0",
   "metadata": {},
   "outputs": [
    {
     "data": {
      "text/plain": [
       "<AxesSubplot:>"
      ]
     },
     "execution_count": 151,
     "metadata": {},
     "output_type": "execute_result"
    },
    {
     "data": {
      "image/png": "[encoded data removed]",
      "text/plain": [
       "<Figure size 432x288 with 2 Axes>"
      ]
     },
     "metadata": {},
     "output_type": "display_data"
    }
   ],
   "source": [
    "sns.heatmap(cm, annot=True)"
   ]
  },
  {
   "cell_type": "code",
   "execution_count": 152,
   "id": "740f9ca2",
   "metadata": {},
   "outputs": [
    {
     "name": "stdout",
     "output_type": "stream",
     "text": [
      "              precision    recall  f1-score   support\n",
      "\n",
      "           0       0.94      0.98      0.96       165\n",
      "           1       0.84      0.59      0.70        27\n",
      "\n",
      "    accuracy                           0.93       192\n",
      "   macro avg       0.89      0.79      0.83       192\n",
      "weighted avg       0.92      0.93      0.92       192\n",
      "\n"
     ]
    }
   ],
   "source": [
    "from sklearn.metrics import classification_report\n",
    "print(classification_report(y_test, y_pred))"
   ]
  },
  {
   "cell_type": "code",
   "execution_count": 161,
   "id": "635b1b58",
   "metadata": {},
   "outputs": [
    {
     "data": {
      "text/plain": [
       "0.7872053872053871"
      ]
     },
     "execution_count": 161,
     "metadata": {},
     "output_type": "execute_result"
    }
   ],
   "source": [
    "from sklearn.metrics import roc_curve, auc\n",
    "false_positive_rate, true_positive_rate, thresholds = roc_curve(y_test, y_pred)\n",
    "roc_auc = auc(false_positive_rate, true_positive_rate)\n",
    "roc_auc"
   ]
  },
  {
   "cell_type": "code",
   "execution_count": 153,
   "id": "b7b32b7d",
   "metadata": {},
   "outputs": [
    {
     "data": {
      "text/plain": [
       "<sklearn.metrics._plot.roc_curve.RocCurveDisplay at 0x20aa6a2e940>"
      ]
     },
     "execution_count": 153,
     "metadata": {},
     "output_type": "execute_result"
    },
    {
     "data": {
      "image/png": "[encoded data removed]",
      "text/plain": [
       "<Figure size 432x288 with 1 Axes>"
      ]
     },
     "metadata": {},
     "output_type": "display_data"
    }
   ],
   "source": [
    "from sklearn import metrics \n",
    "metrics.plot_roc_curve(classifier, X_test, y_test)"
   ]
  },
  {
   "cell_type": "code",
   "execution_count": null,
   "id": "283067b2",
   "metadata": {},
   "outputs": [],
   "source": []
  },
  {
   "cell_type": "code",
   "execution_count": null,
   "id": "8c01c544",
   "metadata": {},
   "outputs": [],
   "source": []
  }
 ],
 "metadata": {
  "kernelspec": {
   "display_name": "Python 3 (ipykernel)",
   "language": "python",
   "name": "python3"
  },
  "language_info": {
   "codemirror_mode": {
    "name": "ipython",
    "version": 3
   },
   "file_extension": ".py",
   "mimetype": "text/x-python",
   "name": "python",
   "nbconvert_exporter": "python",
   "pygments_lexer": "ipython3",
   "version": "3.9.12"
  }
 },
 "nbformat": 4,
 "nbformat_minor": 5
}
